{
 "cells": [
  {
   "cell_type": "code",
   "execution_count": 1,
   "id": "33f42c0c-1267-47d0-9aa5-e1eee407e824",
   "metadata": {},
   "outputs": [
    {
     "name": "stdout",
     "output_type": "stream",
     "text": [
      "RangeSet(1,2,5)\n",
      "RangeSet(1,2,5)\n",
      "[(0, '<= 1'), (1, '1]..2]'), (2, '2]..5]'), (3, '> 5')]\n",
      "last level : 3\n",
      "3 --> 2  |  2]..5]\n",
      "12 --> 3  |  > 5\n",
      "1 --> 0  |  <= 1\n",
      "4 --> 2  |  2]..5]\n",
      "1.5 --> 1  |  1]..2]\n",
      "\n",
      "RangeSet(1,(2,4),5,6,7,(7,9),11)\n",
      "RangeSet(1,(2,4),5,6,7,9,11)\n",
      "[(0, '<= 1'), (1, '1]..[2'), (2, '[2..4]'), (3, '4]..5]'), (4, '5]..6]'), (5, '6]..7]'), (6, '7]..9]'), (7, '9]..11]'), (8, '> 11')]\n",
      "last level : 8\n",
      "3 --> 2  |  [2..4]\n",
      "12 --> 8  |  > 11\n",
      "1 --> 0  |  <= 1\n",
      "4 --> 2  |  [2..4]\n",
      "1.5 --> 1  |  1]..[2\n",
      "7 --> 5  |  6]..7]\n",
      "7.5 --> 6  |  7]..9]\n",
      "10 --> 7  |  9]..11]\n",
      "\n",
      "RangeSet((0,1),(2,3),(3,5))\n",
      "RangeSet((0,1),(2,3),5)\n",
      "[(0, '< 0'), (1, '[0..1]'), (2, '1]..[2'), (3, '[2..3]'), (4, '3]..5]'), (5, '> 5')]\n",
      "last level : 5\n",
      "1.5 --> 2  |  1]..[2\n",
      "2 --> 3  |  [2..3]\n",
      "-1 --> 0  |  < 0\n",
      "3 --> 3  |  [2..3]\n",
      "3.5 --> 4  |  3]..5]\n",
      "12 --> 5  |  > 5\n",
      "\n",
      "RangeSet([0,1],[2,3],[3,5])\n",
      "RangeSet((0,1),(2,3),5)\n",
      "[(0, '< 0'), (1, '[0..1]'), (2, '1]..[2'), (3, '[2..3]'), (4, '3]..5]'), (5, '> 5')]\n",
      "RangeSet((0,1),(2,3),5)\n",
      "1.5 --> 2  |  1]..[2\n",
      "15 --> 5  |  > 5\n",
      "\n"
     ]
    },
    {
     "name": "stderr",
     "output_type": "stream",
     "text": [
      "Traceback (most recent call last):\n",
      "  File \"tests.py\", line 57, in <module>\n",
      "    g = RangeSet(6,3,5)\n",
      "  File \"C:\\_python_venvs\\mRA_test_pypi_2\\lib\\site-packages\\kamutils\\analyse.py\", line 80, in __init__\n",
      "    raise Exception(f\"range {arg} : upper bound should be greater than the previous range upper bound\")\n",
      "Exception: range 3 : upper bound should be greater than the previous range upper bound\n"
     ]
    }
   ],
   "source": [
    "!python tests.py"
   ]
  },
  {
   "cell_type": "code",
   "execution_count": null,
   "id": "309cf036-8fd8-428c-8c36-8534fec0f710",
   "metadata": {},
   "outputs": [],
   "source": []
  }
 ],
 "metadata": {
  "kernelspec": {
   "display_name": "mRA_test_pypi_2",
   "language": "python",
   "name": "mra_test_pypi_2"
  },
  "language_info": {
   "codemirror_mode": {
    "name": "ipython",
    "version": 3
   },
   "file_extension": ".py",
   "mimetype": "text/x-python",
   "name": "python",
   "nbconvert_exporter": "python",
   "pygments_lexer": "ipython3",
   "version": "3.8.3"
  }
 },
 "nbformat": 4,
 "nbformat_minor": 5
}
