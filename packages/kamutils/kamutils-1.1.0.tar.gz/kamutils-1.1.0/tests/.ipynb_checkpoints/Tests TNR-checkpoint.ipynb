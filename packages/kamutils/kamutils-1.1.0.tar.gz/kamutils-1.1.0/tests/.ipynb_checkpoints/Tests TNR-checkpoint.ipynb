{
 "cells": [
  {
   "cell_type": "code",
   "execution_count": 1,
   "id": "33f42c0c-1267-47d0-9aa5-e1eee407e824",
   "metadata": {},
   "outputs": [
    {
     "name": "stdout",
     "output_type": "stream",
     "text": [
      "RangeSet(1,2,5)\n",
      "[(0, '<= 1'), (1, '1]..2]'), (2, '2]..5]'), (3, '> 5')]\n",
      "3 --> 2  |  2]..5]\n",
      "12 --> 3  |  > 5\n",
      "1 --> 0  |  <= 1\n",
      "4 --> 2  |  2]..5]\n",
      "1.5 --> 1  |  1]..2]\n",
      "\n",
      "RangeSet(1,(2,4),5,6,7,(7,9),11)\n",
      "[(0, '<= 1'), (1, '1]..[2'), (2, '[2..4]'), (3, '4]..5]'), (4, '5]..6]'), (5, '6]..7]'), (6, '7]..9]'), (7, '9]..11]'), (8, '> 11')]\n",
      "0:{'lower_bound': None, 'ex_lower_bound': False, 'upper_bound': 1, 'ex_upper_bound': False, 'label': '<= 1', 'custom_label': False}\n",
      "1:{'lower_bound': 1, 'ex_lower_bound': True, 'upper_bound': 2, 'ex_upper_bound': True, 'label': '1]..[2', 'custom_label': False}\n",
      "2:{'lower_bound': 2, 'ex_lower_bound': False, 'upper_bound': 4, 'ex_upper_bound': False, 'label': '[2..4]', 'custom_label': False}\n",
      "3:{'lower_bound': 4, 'ex_lower_bound': True, 'upper_bound': 5, 'ex_upper_bound': False, 'label': '4]..5]', 'custom_label': False}\n",
      "4:{'lower_bound': 5, 'ex_lower_bound': True, 'upper_bound': 6, 'ex_upper_bound': False, 'label': '5]..6]', 'custom_label': False}\n",
      "5:{'lower_bound': 6, 'ex_lower_bound': True, 'upper_bound': 7, 'ex_upper_bound': False, 'label': '6]..7]', 'custom_label': False}\n",
      "6:{'lower_bound': 7, 'ex_lower_bound': True, 'upper_bound': 9, 'ex_upper_bound': False, 'label': '7]..9]', 'custom_label': False}\n",
      "7:{'lower_bound': 9, 'ex_lower_bound': True, 'upper_bound': 11, 'ex_upper_bound': False, 'label': '9]..11]', 'custom_label': False}\n",
      "8:{'lower_bound': 11, 'ex_lower_bound': True, 'upper_bound': None, 'ex_upper_bound': False, 'label': '> 11', 'custom_label': False}\n",
      "3 --> 2  |  [2..4]\n",
      "12 --> 8  |  > 11\n",
      "1 --> 0  |  <= 1\n",
      "4 --> 2  |  [2..4]\n",
      "1.5 --> 1  |  1]..[2\n",
      "7 --> 5  |  6]..7]\n",
      "7.5 --> 6  |  7]..9]\n",
      "10 --> 7  |  9]..11]\n",
      "\n",
      "RangeSet((0,1),(2,3),(3,5))\n",
      "[(0, '< 0'), (1, '[0..1]'), (2, '1]..[2'), (3, '[2..3]'), (4, '3]..5]'), (5, '> 5')]\n",
      "1.5 --> 2  |  1]..[2\n",
      "2 --> 3  |  [2..3]\n",
      "-1 --> 0  |  < 0\n",
      "3 --> 3  |  [2..3]\n",
      "3.5 --> 4  |  3]..5]\n",
      "12 --> 5  |  > 5\n",
      "\n",
      "RangeSet([0,1],[2,3],[3,5])\n",
      "[(0, '< 0'), (1, '[0..1]'), (2, '1]..[2'), (3, '[2..3]'), (4, '3]..5]'), (5, '> 5')]\n",
      "0:{'lower_bound': None, 'ex_lower_bound': False, 'upper_bound': 0, 'ex_upper_bound': True, 'label': '< 0', 'custom_label': False}\n",
      "1:{'lower_bound': 0, 'ex_lower_bound': False, 'upper_bound': 1, 'ex_upper_bound': False, 'label': '[0..1]', 'custom_label': False}\n",
      "2:{'lower_bound': 1, 'ex_lower_bound': True, 'upper_bound': 2, 'ex_upper_bound': True, 'label': '1]..[2', 'custom_label': False}\n",
      "3:{'lower_bound': 2, 'ex_lower_bound': False, 'upper_bound': 3, 'ex_upper_bound': False, 'label': '[2..3]', 'custom_label': False}\n",
      "4:{'lower_bound': 3, 'ex_lower_bound': True, 'upper_bound': 5, 'ex_upper_bound': False, 'label': '3]..5]', 'custom_label': False}\n",
      "5:{'lower_bound': 5, 'ex_lower_bound': True, 'upper_bound': None, 'ex_upper_bound': False, 'label': '> 5', 'custom_label': False}\n",
      "1.5 --> 2  |  1]..[2\n",
      "15 --> 5  |  > 5\n",
      "\n"
     ]
    },
    {
     "name": "stderr",
     "output_type": "stream",
     "text": [
      "Traceback (most recent call last):\n",
      "  File \"tests.py\", line 53, in <module>\n",
      "    g = RangeSet(6,3,5)\n",
      "  File \"C:\\_python_venvs\\mRA_test_pypi_2\\lib\\site-packages\\kamutils\\analyse.py\", line 70, in __init__\n",
      "    raise Exception(f\"{arg} : upper bound should be greater than the previous range upper bound\")\n",
      "Exception: 3 : upper bound should be greater than the previous range upper bound\n"
     ]
    }
   ],
   "source": [
    "!python tests.py"
   ]
  },
  {
   "cell_type": "code",
   "execution_count": null,
   "id": "309cf036-8fd8-428c-8c36-8534fec0f710",
   "metadata": {},
   "outputs": [],
   "source": []
  }
 ],
 "metadata": {
  "kernelspec": {
   "display_name": "mRA_test_pypi_2",
   "language": "python",
   "name": "mra_test_pypi_2"
  },
  "language_info": {
   "codemirror_mode": {
    "name": "ipython",
    "version": 3
   },
   "file_extension": ".py",
   "mimetype": "text/x-python",
   "name": "python",
   "nbconvert_exporter": "python",
   "pygments_lexer": "ipython3",
   "version": "3.8.3"
  }
 },
 "nbformat": 4,
 "nbformat_minor": 5
}
