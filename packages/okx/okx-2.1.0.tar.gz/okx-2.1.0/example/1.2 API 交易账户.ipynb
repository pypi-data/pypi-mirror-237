{
 "cells": [
  {
   "cell_type": "code",
   "execution_count": 1,
   "id": "18d6d273",
   "metadata": {},
   "outputs": [],
   "source": [
    "from okx.api import Account"
   ]
  },
  {
   "cell_type": "code",
   "execution_count": 2,
   "id": "fe1c8398",
   "metadata": {},
   "outputs": [],
   "source": [
    "# 实例化account\n",
    "account = Account(\n",
    "    # 交易账户需要秘钥\n",
    "    key=\"xxx\",\n",
    "    secret=\"xxx\",\n",
    "    passphrase=\"xxx\",\n",
    "    # 实盘：0，虚拟盘：1\n",
    "    flag='0',\n",
    "    # 使用http和https代理，proxies={'http':'xxxxx','https:':'xxxxx'}，通requests中的proxies参数规则相同\n",
    "    proxies={},\n",
    "    # 转发：需搭建转发服务器，可参考：https://github.com/pyted/okx_resender\n",
    "    proxy_host=None, \n",
    ")"
   ]
  },
  {
   "cell_type": "markdown",
   "id": "8f9b2ccd",
   "metadata": {},
   "source": [
    "### 1. 账户相关"
   ]
  },
  {
   "cell_type": "markdown",
   "id": "3caac4e9",
   "metadata": {},
   "source": [
    "#### 1.1 查看账户配置\n",
    "\n",
    "查看当前账户的配置信息。"
   ]
  },
  {
   "cell_type": "code",
   "execution_count": 3,
   "id": "afb86655",
   "metadata": {},
   "outputs": [
    {
     "data": {
      "text/plain": [
       "{'code': '0',\n",
       " 'data': [{'acctLv': '2',\n",
       "   'autoLoan': False,\n",
       "   'ctIsoMode': 'automatic',\n",
       "   'greeksType': 'BS',\n",
       "   'ip': '101.32.44.77',\n",
       "   'kycLv': '2',\n",
       "   'label': 'test_okx2',\n",
       "   'level': 'Lv1',\n",
       "   'levelTmp': '',\n",
       "   'liquidationGear': '-1',\n",
       "   'mainUid': '247660523095732224',\n",
       "   'mgnIsoMode': 'automatic',\n",
       "   'opAuth': '0',\n",
       "   'perm': 'read_only,trade',\n",
       "   'posMode': 'long_short_mode',\n",
       "   'roleType': '0',\n",
       "   'spotOffsetType': '',\n",
       "   'traderInsts': [],\n",
       "   'uid': '247660523095732224'}],\n",
       " 'msg': ''}"
      ]
     },
     "execution_count": 3,
     "metadata": {},
     "output_type": "execute_result"
    }
   ],
   "source": [
    "config_result = account.get_config()\n",
    "config_result"
   ]
  },
  {
   "cell_type": "markdown",
   "id": "a9b8eb42",
   "metadata": {},
   "source": [
    "#### 1.2 设置账户模式\n",
    "\n",
    "账户模式的首次设置，需要在网页或手机app上进行。\n",
    "\n",
    "**设置账户模式，不能有挂单、持仓或交易机器人**"
   ]
  },
  {
   "cell_type": "code",
   "execution_count": 4,
   "id": "ab655337",
   "metadata": {},
   "outputs": [
    {
     "data": {
      "text/plain": [
       "{'code': '0', 'data': [{'acctLv': '2'}], 'msg': ''}"
      ]
     },
     "execution_count": 4,
     "metadata": {},
     "output_type": "execute_result"
    }
   ],
   "source": [
    "# 账户模式acctLv\n",
    "# 1: 简单交易模式\n",
    "# 2: 单币种保证金模式\n",
    "# 3: 跨币种保证金模式\n",
    "# 4: 组合保证金模式\n",
    "set_account_level_result = account.set_account_level(acctLv='2')\n",
    "set_account_level_result"
   ]
  },
  {
   "cell_type": "markdown",
   "id": "89475b44",
   "metadata": {},
   "source": [
    "### 2. 资金相关"
   ]
  },
  {
   "cell_type": "markdown",
   "id": "7cc2002a",
   "metadata": {},
   "source": [
    "#### 2.1 查看账户余额\n",
    "\n",
    "获取交易账户中资金余额信息。"
   ]
  },
  {
   "cell_type": "code",
   "execution_count": 5,
   "id": "84faf999",
   "metadata": {},
   "outputs": [
    {
     "data": {
      "text/plain": [
       "{'code': '0',\n",
       " 'data': [{'adjEq': '',\n",
       "   'borrowFroz': '',\n",
       "   'details': [{'availBal': '99.99478134225234',\n",
       "     'availEq': '99.99478134225234',\n",
       "     'borrowFroz': '',\n",
       "     'cashBal': '99.99478134225234',\n",
       "     'ccy': 'USDT',\n",
       "     'crossLiab': '',\n",
       "     'disEq': '100.01678019414764',\n",
       "     'eq': '99.99478134225234',\n",
       "     'eqUsd': '100.01678019414764',\n",
       "     'fixedBal': '0',\n",
       "     'frozenBal': '0',\n",
       "     'interest': '',\n",
       "     'isoEq': '0',\n",
       "     'isoLiab': '',\n",
       "     'isoUpl': '0',\n",
       "     'liab': '',\n",
       "     'maxLoan': '',\n",
       "     'mgnRatio': '',\n",
       "     'notionalLever': '0',\n",
       "     'ordFrozen': '0',\n",
       "     'spotInUseAmt': '',\n",
       "     'stgyEq': '0',\n",
       "     'twap': '0',\n",
       "     'uTime': '1698148381378',\n",
       "     'upl': '0',\n",
       "     'uplLiab': ''}],\n",
       "   'imr': '',\n",
       "   'isoEq': '0',\n",
       "   'mgnRatio': '',\n",
       "   'mmr': '',\n",
       "   'notionalUsd': '',\n",
       "   'ordFroz': '',\n",
       "   'totalEq': '100.15904237983196',\n",
       "   'uTime': '1698148404608'}],\n",
       " 'msg': ''}"
      ]
     },
     "execution_count": 5,
     "metadata": {},
     "output_type": "execute_result"
    }
   ],
   "source": [
    "# 查看USDT余额\n",
    "balance_result = account.get_balance(ccy='USDT')\n",
    "balance_result"
   ]
  },
  {
   "cell_type": "code",
   "execution_count": 6,
   "id": "8ae3d435",
   "metadata": {},
   "outputs": [
    {
     "data": {
      "text/plain": [
       "{'code': '0',\n",
       " 'data': [{'adl': '1',\n",
       "   'availPos': '1',\n",
       "   'avgPx': '0.3435',\n",
       "   'baseBal': '',\n",
       "   'baseBorrowed': '',\n",
       "   'baseInterest': '',\n",
       "   'bePx': '0.343843671835918',\n",
       "   'bizRefId': '',\n",
       "   'bizRefType': '',\n",
       "   'cTime': '1698148416252',\n",
       "   'ccy': 'USDT',\n",
       "   'closeOrderAlgo': [],\n",
       "   'deltaBS': '',\n",
       "   'deltaPA': '',\n",
       "   'fee': '-0.0017175',\n",
       "   'fundingFee': '0',\n",
       "   'gammaBS': '',\n",
       "   'gammaPA': '',\n",
       "   'idxPx': '0.3433',\n",
       "   'imr': '',\n",
       "   'instId': 'MANA-USDT-SWAP',\n",
       "   'instType': 'SWAP',\n",
       "   'interest': '',\n",
       "   'last': '0.3434',\n",
       "   'lever': '1',\n",
       "   'liab': '',\n",
       "   'liabCcy': '',\n",
       "   'liqPenalty': '0',\n",
       "   'liqPx': '0',\n",
       "   'margin': '3.435',\n",
       "   'markPx': '0.3434',\n",
       "   'mgnMode': 'isolated',\n",
       "   'mgnRatio': '142.85714285714286',\n",
       "   'mmr': '0.022321',\n",
       "   'notionalUsd': '3.4347898199999998',\n",
       "   'optVal': '',\n",
       "   'pendingCloseOrdLiabVal': '',\n",
       "   'pnl': '0',\n",
       "   'pos': '1',\n",
       "   'posCcy': '',\n",
       "   'posId': '636986441012506630',\n",
       "   'posSide': 'long',\n",
       "   'quoteBal': '',\n",
       "   'quoteBorrowed': '',\n",
       "   'quoteInterest': '',\n",
       "   'realizedPnl': '-0.0017175',\n",
       "   'spotInUseAmt': '',\n",
       "   'spotInUseCcy': '',\n",
       "   'thetaBS': '',\n",
       "   'thetaPA': '',\n",
       "   'tradeId': '78421147',\n",
       "   'uTime': '1698148416252',\n",
       "   'upl': '-0.0010000000000004',\n",
       "   'uplLastPx': '-0.0010000000000004',\n",
       "   'uplRatio': '-0.0002911208151384',\n",
       "   'uplRatioLastPx': '-0.0002911208151384',\n",
       "   'usdPx': '',\n",
       "   'vegaBS': '',\n",
       "   'vegaPA': ''}],\n",
       " 'msg': ''}"
      ]
     },
     "execution_count": 6,
     "metadata": {},
     "output_type": "execute_result"
    }
   ],
   "source": [
    "positions_result = account.get_positions(instType='SWAP')\n",
    "positions_result"
   ]
  },
  {
   "cell_type": "markdown",
   "id": "53f7eb4c",
   "metadata": {},
   "source": [
    "#### 2.2 获取最大可买卖/开仓数量"
   ]
  },
  {
   "cell_type": "code",
   "execution_count": 7,
   "id": "ed0a0441",
   "metadata": {},
   "outputs": [
    {
     "data": {
      "text/plain": [
       "{'code': '0',\n",
       " 'data': [{'ccy': '',\n",
       "   'instId': 'BTC-USDT',\n",
       "   'maxBuy': '0.0027941599220494',\n",
       "   'maxSell': '0'}],\n",
       " 'msg': ''}"
      ]
     },
     "execution_count": 7,
     "metadata": {},
     "output_type": "execute_result"
    }
   ],
   "source": [
    "# 现货 BTC-USDT\n",
    "max_size_result = account.get_max_size(instId='BTC-USDT', tdMode='cash')\n",
    "max_size_result"
   ]
  },
  {
   "cell_type": "markdown",
   "id": "edca018c",
   "metadata": {},
   "source": [
    "#### 2.3 获取最大可用数量"
   ]
  },
  {
   "cell_type": "code",
   "execution_count": 8,
   "id": "d284f1b9",
   "metadata": {},
   "outputs": [
    {
     "data": {
      "text/plain": [
       "{'code': '0',\n",
       " 'data': [{'availBuy': '96.5580638422523419',\n",
       "   'availSell': '96.5580638422523419',\n",
       "   'instId': 'BTC-USDT-SWAP'}],\n",
       " 'msg': ''}"
      ]
     },
     "execution_count": 8,
     "metadata": {},
     "output_type": "execute_result"
    }
   ],
   "source": [
    "# 永续合约 逐仓 BTC-USDT-SWAP\n",
    "max_avail_size_result = account.get_max_avail_size(instId='BTC-USDT-SWAP', tdMode='isolated')\n",
    "max_avail_size_result"
   ]
  },
  {
   "cell_type": "markdown",
   "id": "fb23dbc7",
   "metadata": {},
   "source": [
    "### 3. 持仓相关"
   ]
  },
  {
   "cell_type": "markdown",
   "id": "95154bc6",
   "metadata": {},
   "source": [
    "#### 3.1 设置持仓模式\n",
    "\n",
    "单币种账户和跨币种账户模式：交割和永续合约支持开平仓模式和买卖模式。买卖模式只会有一个方向的仓位；开平仓模式可以分别持有多、空2个方向的仓位。\n",
    "\n",
    "组合保证金模式：交割和永续仅支持买卖模式\n",
    "\n",
    "**设置持仓模式，不能有挂单、持仓以及交易机器人**"
   ]
  },
  {
   "cell_type": "code",
   "execution_count": 9,
   "id": "07ef1c14",
   "metadata": {},
   "outputs": [
    {
     "data": {
      "text/plain": [
       "{'code': '0', 'data': [{'posMode': 'long_short_mode'}], 'msg': ''}"
      ]
     },
     "execution_count": 9,
     "metadata": {},
     "output_type": "execute_result"
    }
   ],
   "source": [
    "# 持仓方式: long_short_mode：开平仓模式 net_mode：买卖模式(适用交割/永续)\n",
    "set_position_mode_result = account.set_position_mode(posMode='long_short_mode')\n",
    "set_position_mode_result"
   ]
  },
  {
   "cell_type": "markdown",
   "id": "f03b7b0d",
   "metadata": {},
   "source": [
    "#### 3.2 查看持仓信息\n",
    "\n",
    "获取该账户下拥有实际持仓的信息。账户为买卖模式会显示净持仓（net），账户为开平仓模式下会分别返回开多（long）或开空（short）的仓位。按照仓位创建时间倒序排列。"
   ]
  },
  {
   "cell_type": "code",
   "execution_count": 10,
   "id": "00ff10ff",
   "metadata": {},
   "outputs": [
    {
     "data": {
      "text/plain": [
       "{'code': '0',\n",
       " 'data': [{'adl': '1',\n",
       "   'availPos': '1',\n",
       "   'avgPx': '0.3438',\n",
       "   'baseBal': '',\n",
       "   'baseBorrowed': '',\n",
       "   'baseInterest': '',\n",
       "   'bePx': '0.3441439719859929',\n",
       "   'bizRefId': '',\n",
       "   'bizRefType': '',\n",
       "   'cTime': '1698148497791',\n",
       "   'ccy': 'USDT',\n",
       "   'closeOrderAlgo': [],\n",
       "   'deltaBS': '',\n",
       "   'deltaPA': '',\n",
       "   'fee': '-0.001719',\n",
       "   'fundingFee': '0',\n",
       "   'gammaBS': '',\n",
       "   'gammaPA': '',\n",
       "   'idxPx': '0.3438',\n",
       "   'imr': '',\n",
       "   'instId': 'MANA-USDT-SWAP',\n",
       "   'instType': 'SWAP',\n",
       "   'interest': '',\n",
       "   'last': '0.3439',\n",
       "   'lever': '1',\n",
       "   'liab': '',\n",
       "   'liabCcy': '',\n",
       "   'liqPenalty': '0',\n",
       "   'liqPx': '0',\n",
       "   'margin': '3.438',\n",
       "   'markPx': '0.3439',\n",
       "   'mgnMode': 'isolated',\n",
       "   'mgnRatio': '142.8571428571429',\n",
       "   'mmr': '0.0223535',\n",
       "   'notionalUsd': '3.4396190200000003',\n",
       "   'optVal': '',\n",
       "   'pendingCloseOrdLiabVal': '',\n",
       "   'pnl': '0',\n",
       "   'pos': '1',\n",
       "   'posCcy': '',\n",
       "   'posId': '636986441012506630',\n",
       "   'posSide': 'long',\n",
       "   'quoteBal': '',\n",
       "   'quoteBorrowed': '',\n",
       "   'quoteInterest': '',\n",
       "   'realizedPnl': '-0.001719',\n",
       "   'spotInUseAmt': '',\n",
       "   'spotInUseCcy': '',\n",
       "   'thetaBS': '',\n",
       "   'thetaPA': '',\n",
       "   'tradeId': '78421184',\n",
       "   'uTime': '1698148497791',\n",
       "   'upl': '0.0009999999999999',\n",
       "   'uplLastPx': '0.0009999999999999',\n",
       "   'uplRatio': '0.0002908667830133',\n",
       "   'uplRatioLastPx': '0.0002908667830133',\n",
       "   'usdPx': '',\n",
       "   'vegaBS': '',\n",
       "   'vegaPA': ''}],\n",
       " 'msg': ''}"
      ]
     },
     "execution_count": 10,
     "metadata": {},
     "output_type": "execute_result"
    }
   ],
   "source": [
    "# 永续合约持仓\n",
    "positions_result = account.get_positions(instType='SWAP')\n",
    "positions_result"
   ]
  },
  {
   "cell_type": "markdown",
   "id": "74f475e6",
   "metadata": {},
   "source": [
    "#### 3.3 查看历史持仓信息\n",
    "\n",
    "获取最近3个月有更新的仓位信息，按照仓位更新时间倒序排列。"
   ]
  },
  {
   "cell_type": "code",
   "execution_count": 11,
   "id": "55acaeab",
   "metadata": {},
   "outputs": [
    {
     "data": {
      "text/plain": [
       "{'code': '0',\n",
       " 'data': [{'cTime': '1692807956698',\n",
       "   'ccy': 'USDT',\n",
       "   'closeAvgPx': '26360',\n",
       "   'closeTotalPos': '1',\n",
       "   'direction': 'long',\n",
       "   'fee': '',\n",
       "   'fundingFee': '',\n",
       "   'instId': 'BTC-USDT-SWAP',\n",
       "   'instType': 'SWAP',\n",
       "   'lever': '5.0',\n",
       "   'liqPenalty': '',\n",
       "   'mgnMode': 'isolated',\n",
       "   'openAvgPx': '26405.3',\n",
       "   'openMaxPos': '1',\n",
       "   'pnl': '-0.453',\n",
       "   'pnlRatio': '-0.008577823391516',\n",
       "   'posId': '614616349322936325',\n",
       "   'realizedPnl': '',\n",
       "   'triggerPx': '',\n",
       "   'type': '2',\n",
       "   'uTime': '1692808106873',\n",
       "   'uly': 'BTC-USDT'},\n",
       "  {'cTime': '1692376888133',\n",
       "   'ccy': 'USDT',\n",
       "   'closeAvgPx': '26060',\n",
       "   'closeTotalPos': '32',\n",
       "   'direction': 'short',\n",
       "   'fee': '',\n",
       "   'fundingFee': '',\n",
       "   'instId': 'BTC-USDT-SWAP',\n",
       "   'instType': 'SWAP',\n",
       "   'lever': '10.0',\n",
       "   'liqPenalty': '',\n",
       "   'mgnMode': 'isolated',\n",
       "   'openAvgPx': '26003',\n",
       "   'openMaxPos': '32',\n",
       "   'pnl': '-18.24',\n",
       "   'pnlRatio': '-0.02192054762912',\n",
       "   'posId': '612804235436392450',\n",
       "   'realizedPnl': '',\n",
       "   'triggerPx': '',\n",
       "   'type': '2',\n",
       "   'uTime': '1692377329832',\n",
       "   'uly': 'BTC-USDT'},\n",
       "  {'cTime': '1692376638849',\n",
       "   'ccy': 'USDT',\n",
       "   'closeAvgPx': '26001',\n",
       "   'closeTotalPos': '32',\n",
       "   'direction': 'short',\n",
       "   'fee': '',\n",
       "   'fundingFee': '',\n",
       "   'instId': 'BTC-USDT-SWAP',\n",
       "   'instType': 'SWAP',\n",
       "   'lever': '10.0',\n",
       "   'liqPenalty': '',\n",
       "   'mgnMode': 'isolated',\n",
       "   'openAvgPx': '26006.2',\n",
       "   'openMaxPos': '32',\n",
       "   'pnl': '1.664',\n",
       "   'pnlRatio': '0.001999523190624',\n",
       "   'posId': '612804235436392450',\n",
       "   'realizedPnl': '',\n",
       "   'triggerPx': '',\n",
       "   'type': '2',\n",
       "   'uTime': '1692376804481',\n",
       "   'uly': 'BTC-USDT'},\n",
       "  {'cTime': '1692375915080',\n",
       "   'ccy': 'USDT',\n",
       "   'closeAvgPx': '26030',\n",
       "   'closeTotalPos': '13',\n",
       "   'direction': 'short',\n",
       "   'fee': '',\n",
       "   'fundingFee': '',\n",
       "   'instId': 'BTC-USDT-SWAP',\n",
       "   'instType': 'SWAP',\n",
       "   'lever': '4.0',\n",
       "   'liqPenalty': '',\n",
       "   'mgnMode': 'isolated',\n",
       "   'openAvgPx': '26004.9307692307692308',\n",
       "   'openMaxPos': '13',\n",
       "   'pnl': '-3.259',\n",
       "   'pnlRatio': '-0.0038560734487928',\n",
       "   'posId': '612804235436392450',\n",
       "   'realizedPnl': '',\n",
       "   'triggerPx': '',\n",
       "   'type': '2',\n",
       "   'uTime': '1692376562098',\n",
       "   'uly': 'BTC-USDT'}],\n",
       " 'msg': ''}"
      ]
     },
     "execution_count": 11,
     "metadata": {},
     "output_type": "execute_result"
    }
   ],
   "source": [
    "# 永续合约 BTC-USDT-SWAP历史持仓\n",
    "positions_history_result = account.get_positions_history(instId='BTC-USDT-SWAP')\n",
    "positions_history_result"
   ]
  },
  {
   "cell_type": "markdown",
   "id": "c9a69547",
   "metadata": {},
   "source": [
    "#### 3.4 设置杠杆倍数\n",
    "\n",
    "一个产品可以有如下10种杠杆倍数的设置场景：\n",
    "\n",
    "1. 在逐仓交易模式下，设置币币杠杆的杠杆倍数（币对层面）；\n",
    "2. 单币种保证金账户在全仓交易模式下，设置币币杠杆的杠杆倍数（币对层面）；\n",
    "3. 跨币种保证金账户在全仓交易模式下，设置币币杠杆的杠杆倍数（币种层面）；\n",
    "4. 组合保证金账户在全仓交易模式下，设置币币杠杆的杠杆倍数（币种层面）；\n",
    "5. 在全仓交易模式下，设置交割的杠杆倍数（指数层面）；\n",
    "6. 在逐仓交易模式、买卖持仓模式下，设置交割的杠杆倍数（合约层面）；\n",
    "7. 在逐仓交易模式、开平仓持仓模式下，设置交割的杠杆倍数（合约与持仓方向层面）；\n",
    "8. 在全仓交易模式下，设置永续的杠杆倍数（合约层面）；\n",
    "9. 在逐仓交易模式、买卖持仓模式下，设置永续的杠杆倍数（合约层面）；\n",
    "10. 在逐仓交易模式、开平仓持仓模式下，设置永续的杠杆倍数（合约与持仓方向层面）；\n",
    "\n",
    "**修改杠杆倍数，不能有这个产品的挂单**"
   ]
  },
  {
   "cell_type": "code",
   "execution_count": 12,
   "id": "9baa5f11",
   "metadata": {},
   "outputs": [
    {
     "data": {
      "text/plain": [
       "{'code': '0',\n",
       " 'data': [{'instId': 'BTC-USDT-SWAP',\n",
       "   'lever': '2',\n",
       "   'mgnMode': 'isolated',\n",
       "   'posSide': 'long'}],\n",
       " 'msg': ''}"
      ]
     },
     "execution_count": 12,
     "metadata": {},
     "output_type": "execute_result"
    }
   ],
   "source": [
    "# 永续合约 BTC-USDT-SWAP 逐仓 多仓 杠杆为2\n",
    "set_leverage_result = account.set_leverage(\n",
    "    instId='BTC-USDT-SWAP', \n",
    "    mgnMode='isolated', \n",
    "    lever='2', \n",
    "    posSide='long'\n",
    ")\n",
    "set_leverage_result"
   ]
  },
  {
   "cell_type": "markdown",
   "id": "cca88f1a",
   "metadata": {},
   "source": [
    "#### 3.5 获取杠杆倍数"
   ]
  },
  {
   "cell_type": "code",
   "execution_count": 13,
   "id": "074644c1",
   "metadata": {},
   "outputs": [
    {
     "data": {
      "text/plain": [
       "{'code': '0',\n",
       " 'data': [{'instId': 'BTC-USDT-SWAP',\n",
       "   'lever': '2',\n",
       "   'mgnMode': 'cross',\n",
       "   'posSide': 'long'},\n",
       "  {'instId': 'BTC-USDT-SWAP',\n",
       "   'lever': '2',\n",
       "   'mgnMode': 'cross',\n",
       "   'posSide': 'short'}],\n",
       " 'msg': ''}"
      ]
     },
     "execution_count": 13,
     "metadata": {},
     "output_type": "execute_result"
    }
   ],
   "source": [
    "# 永续合约 BTC-USDT-SWAP 全仓\n",
    "leverage_info_result = account.get_leverage_info(instId='BTC-USDT-SWAP', mgnMode='cross')\n",
    "leverage_info_result"
   ]
  }
 ],
 "metadata": {
  "kernelspec": {
   "display_name": "Python 3 (ipykernel)",
   "language": "python",
   "name": "python3"
  },
  "language_info": {
   "codemirror_mode": {
    "name": "ipython",
    "version": 3
   },
   "file_extension": ".py",
   "mimetype": "text/x-python",
   "name": "python",
   "nbconvert_exporter": "python",
   "pygments_lexer": "ipython3",
   "version": "3.8.4"
  }
 },
 "nbformat": 4,
 "nbformat_minor": 5
}
