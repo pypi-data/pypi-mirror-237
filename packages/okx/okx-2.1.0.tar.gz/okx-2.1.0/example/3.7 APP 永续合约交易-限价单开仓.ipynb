{
 "cells": [
  {
   "cell_type": "code",
   "execution_count": 1,
   "id": "365b33c2",
   "metadata": {},
   "outputs": [],
   "source": [
    "from okx.app import OkxSWAP"
   ]
  },
  {
   "cell_type": "markdown",
   "id": "360f9c89",
   "metadata": {},
   "source": [
    "## 1 实例化OkxSWAP"
   ]
  },
  {
   "cell_type": "code",
   "execution_count": 2,
   "id": "d3efc8db",
   "metadata": {},
   "outputs": [
    {
     "name": "stdout",
     "output_type": "stream",
     "text": [
      "[FAILURE] 设置持仓方式为双向持仓失败，请手动设置：posMode=\"long_short_mode\"\n"
     ]
    }
   ],
   "source": [
    "okxSWAP= OkxSWAP(\n",
    "    key=\"xxx\",\n",
    "    secret=\"xxx\",\n",
    "    passphrase=\"xxx\",\n",
    "    # 使用http和https代理，proxies={'http':'xxxxx','https:':'xxxxx'}，通requests中的proxies参数规则相同\n",
    "    proxies={},\n",
    "    # 转发：需搭建转发服务器，可参考：https://github.com/pyted/okx_resender\n",
    "    proxy_host=None, \n",
    ")"
   ]
  },
  {
   "cell_type": "markdown",
   "id": "bc33d9c7",
   "metadata": {},
   "source": [
    "## 2. 同步 非堵塞 限价开仓"
   ]
  },
  {
   "cell_type": "code",
   "execution_count": 3,
   "id": "bc466214",
   "metadata": {},
   "outputs": [
    {
     "data": {
      "text/plain": [
       "{'instType': 'SWAP',\n",
       " 'instId': 'MANA-USDT-SWAP',\n",
       " 'state': None,\n",
       " 'ordId': '637371057716232199',\n",
       " 'meta': {},\n",
       " 'request_param': {'instId': 'MANA-USDT-SWAP',\n",
       "  'tdMode': 'isolated',\n",
       "  'posSide': 'long',\n",
       "  'side': 'buy',\n",
       "  'ordType': 'limit',\n",
       "  'sz': '2',\n",
       "  'clOrdId': '',\n",
       "  'tag': '',\n",
       "  'px': '0.1000'},\n",
       " 'func_param': {'instId': 'MANA-USDT-SWAP',\n",
       "  'tdMode': 'isolated',\n",
       "  'posSide': 'long',\n",
       "  'lever': 1,\n",
       "  'openPrice': 0.1,\n",
       "  'openMoney': 2,\n",
       "  'quantityCT': None,\n",
       "  'meta': {},\n",
       "  'block': False,\n",
       "  'timeout': 60,\n",
       "  'delay': 0.2,\n",
       "  'cancel': True,\n",
       "  'clOrdId': '',\n",
       "  'tag': '',\n",
       "  'newThread': False,\n",
       "  'callback': None,\n",
       "  'errorback': None},\n",
       " 'get_order_result': None,\n",
       " 'set_order_result': {'code': '0',\n",
       "  'data': {'clOrdId': '',\n",
       "   'ordId': '637371057716232199',\n",
       "   'sCode': '0',\n",
       "   'sMsg': 'Order placed',\n",
       "   'tag': ''},\n",
       "  'inTime': '1698233101941016',\n",
       "  'msg': '',\n",
       "  'outTime': '1698233101943376'},\n",
       " 'error_result': None,\n",
       " 'cancel_result': None}"
      ]
     },
     "execution_count": 3,
     "metadata": {},
     "output_type": "execute_result"
    }
   ],
   "source": [
    "open_limit2 = okxSWAP.trade.open_limit(\n",
    "    instId='MANA-USDT-SWAP',  # 产品\n",
    "    tdMode='isolated',  # 持仓方式 isolated：逐仓 cross：全仓\n",
    "    posSide='long',  # 持仓方向 long：多单 short：空单\n",
    "    lever=1,  # 杠杆倍数\n",
    "    openPrice=0.1,  # 开仓价格\n",
    "    openMoney=2,  # 开仓金额 开仓金额openMoney和开仓数量quantityCT必须输入其中一个 优先级：quantityCT > openMoney\n",
    "    # quantityCT=1,  # 开仓数量 注意：quantityCT是合约的张数，不是货币数量\n",
    "    tag='',  # 订单标签\n",
    "    clOrdId='',  # 客户自定义订单ID\n",
    ")\n",
    "\n",
    "open_limit2"
   ]
  },
  {
   "cell_type": "markdown",
   "id": "0018a1f3",
   "metadata": {},
   "source": [
    "## 3. 同步 堵塞 限价开仓\n",
    "\n",
    "超时，可选择是否取消订单"
   ]
  },
  {
   "cell_type": "code",
   "execution_count": 4,
   "id": "21879b1a",
   "metadata": {},
   "outputs": [
    {
     "data": {
      "text/plain": [
       "{'instType': 'SWAP',\n",
       " 'instId': 'MANA-USDT-SWAP',\n",
       " 'state': 'canceled',\n",
       " 'ordId': '637371060614496261',\n",
       " 'meta': {},\n",
       " 'request_param': {'instId': 'MANA-USDT-SWAP',\n",
       "  'tdMode': 'isolated',\n",
       "  'posSide': 'long',\n",
       "  'side': 'buy',\n",
       "  'ordType': 'limit',\n",
       "  'sz': '1',\n",
       "  'clOrdId': '',\n",
       "  'tag': '',\n",
       "  'px': '0.1000'},\n",
       " 'func_param': {'instId': 'MANA-USDT-SWAP',\n",
       "  'tdMode': 'isolated',\n",
       "  'posSide': 'long',\n",
       "  'lever': 1,\n",
       "  'openPrice': 0.1,\n",
       "  'openMoney': 1,\n",
       "  'quantityCT': None,\n",
       "  'meta': {},\n",
       "  'block': True,\n",
       "  'timeout': 5,\n",
       "  'delay': 0.2,\n",
       "  'cancel': True,\n",
       "  'clOrdId': '',\n",
       "  'tag': '',\n",
       "  'newThread': False,\n",
       "  'callback': None,\n",
       "  'errorback': None},\n",
       " 'get_order_result': {'code': '0',\n",
       "  'data': {'accFillSz': '0',\n",
       "   'algoClOrdId': '',\n",
       "   'algoId': '',\n",
       "   'attachAlgoClOrdId': '',\n",
       "   'avgPx': '',\n",
       "   'cTime': '1698233102632',\n",
       "   'cancelSource': '1',\n",
       "   'cancelSourceReason': 'Order was canceled by user',\n",
       "   'category': 'normal',\n",
       "   'ccy': '',\n",
       "   'clOrdId': '',\n",
       "   'fee': '0',\n",
       "   'feeCcy': 'USDT',\n",
       "   'fillPx': '',\n",
       "   'fillSz': '0',\n",
       "   'fillTime': '',\n",
       "   'instId': 'MANA-USDT-SWAP',\n",
       "   'instType': 'SWAP',\n",
       "   'lever': '1',\n",
       "   'ordId': '637371060614496261',\n",
       "   'ordType': 'limit',\n",
       "   'pnl': '0',\n",
       "   'posSide': 'long',\n",
       "   'px': '0.1',\n",
       "   'pxType': '',\n",
       "   'pxUsd': '',\n",
       "   'pxVol': '',\n",
       "   'quickMgnType': '',\n",
       "   'rebate': '0',\n",
       "   'rebateCcy': 'USDT',\n",
       "   'reduceOnly': 'false',\n",
       "   'side': 'buy',\n",
       "   'slOrdPx': '',\n",
       "   'slTriggerPx': '',\n",
       "   'slTriggerPxType': '',\n",
       "   'source': '',\n",
       "   'state': 'canceled',\n",
       "   'stpId': '',\n",
       "   'stpMode': '',\n",
       "   'sz': '1',\n",
       "   'tag': '',\n",
       "   'tdMode': 'isolated',\n",
       "   'tgtCcy': '',\n",
       "   'tpOrdPx': '',\n",
       "   'tpTriggerPx': '',\n",
       "   'tpTriggerPxType': '',\n",
       "   'tradeId': '',\n",
       "   'uTime': '1698233108257'},\n",
       "  'msg': ''},\n",
       " 'set_order_result': {'code': '0',\n",
       "  'data': {'clOrdId': '',\n",
       "   'ordId': '637371060614496261',\n",
       "   'sCode': '0',\n",
       "   'sMsg': 'Order placed',\n",
       "   'tag': ''},\n",
       "  'inTime': '1698233102631976',\n",
       "  'msg': '',\n",
       "  'outTime': '1698233102634138'},\n",
       " 'error_result': None,\n",
       " 'cancel_result': {'code': '0',\n",
       "  'data': {'clOrdId': '',\n",
       "   'ordId': '637371060614496261',\n",
       "   'sCode': '0',\n",
       "   'sMsg': ''},\n",
       "  'inTime': '1698233108253795',\n",
       "  'msg': '',\n",
       "  'outTime': '1698233108256012'}}"
      ]
     },
     "execution_count": 4,
     "metadata": {},
     "output_type": "execute_result"
    }
   ],
   "source": [
    "# 设置block、timeout、delay与cancel\n",
    "open_limit3 = okxSWAP.trade.open_limit(\n",
    "    instId='MANA-USDT-SWAP',  # 产品\n",
    "    tdMode='isolated',  # 持仓方式 isolated：逐仓 cross：全仓\n",
    "    posSide='long',  # 持仓方向 long：多单 short：空单\n",
    "    lever=1,  # 杠杆倍数\n",
    "    openPrice=0.1,  # 开仓价格\n",
    "    openMoney=1,  # 开仓金额 开仓金额openMoney和开仓数量quantityCT必须输入其中一个 优先级：quantityCT > openMoney\n",
    "    # quantityCT=1,  # 开仓数量 注意：quantityCT是合约的张数，不是货币数量\n",
    "    block=True,  # 是否以堵塞的模式\n",
    "    timeout=5,  # 等待订单成功的超时时间（秒）\n",
    "    delay=0.2,  # 检测订单状态的间隔 (秒)\n",
    "    cancel=True,  # 订单超时后是否取消\n",
    "    tag='',  # 订单标签\n",
    "    clOrdId='',  # 客户自定义订单ID\n",
    ")\n",
    "\n",
    "open_limit3"
   ]
  },
  {
   "cell_type": "markdown",
   "id": "f043c20d",
   "metadata": {},
   "source": [
    "## 4. 同步 堵塞 限价开仓 回调函数\n"
   ]
  },
  {
   "cell_type": "code",
   "execution_count": 5,
   "id": "2a6f5003",
   "metadata": {},
   "outputs": [],
   "source": [
    "# 执行成功回调\n",
    "def callback4(information):\n",
    "    print('callback')\n",
    "    print(information)\n",
    "    \n",
    "# 执行错误回调\n",
    "def errorback4(information):\n",
    "    print('errorback')\n",
    "    print(information)"
   ]
  },
  {
   "cell_type": "code",
   "execution_count": 6,
   "id": "f88b13ac",
   "metadata": {},
   "outputs": [
    {
     "name": "stdout",
     "output_type": "stream",
     "text": [
      "callback\n",
      "{'instType': 'SWAP', 'instId': 'MANA-USDT-SWAP', 'state': 'canceled', 'ordId': '637371088749887488', 'meta': {}, 'request_param': {'instId': 'MANA-USDT-SWAP', 'tdMode': 'isolated', 'posSide': 'long', 'side': 'buy', 'ordType': 'limit', 'sz': '1', 'clOrdId': '', 'tag': '', 'px': '0.1000'}, 'func_param': {'instId': 'MANA-USDT-SWAP', 'tdMode': 'isolated', 'posSide': 'long', 'lever': 1, 'openPrice': 0.1, 'openMoney': None, 'quantityCT': 1, 'meta': {}, 'block': True, 'timeout': 5, 'delay': 0.2, 'cancel': True, 'clOrdId': '', 'tag': '', 'newThread': False, 'callback': <function callback4 at 0x7fb008a89040>, 'errorback': <function errorback4 at 0x7fb008a89790>}, 'get_order_result': {'code': '0', 'data': {'accFillSz': '0', 'algoClOrdId': '', 'algoId': '', 'attachAlgoClOrdId': '', 'avgPx': '', 'cTime': '1698233109340', 'cancelSource': '1', 'cancelSourceReason': 'Order was canceled by user', 'category': 'normal', 'ccy': '', 'clOrdId': '', 'fee': '0', 'feeCcy': 'USDT', 'fillPx': '', 'fillSz': '0', 'fillTime': '', 'instId': 'MANA-USDT-SWAP', 'instType': 'SWAP', 'lever': '1', 'ordId': '637371088749887488', 'ordType': 'limit', 'pnl': '0', 'posSide': 'long', 'px': '0.1', 'pxType': '', 'pxUsd': '', 'pxVol': '', 'quickMgnType': '', 'rebate': '0', 'rebateCcy': 'USDT', 'reduceOnly': 'false', 'side': 'buy', 'slOrdPx': '', 'slTriggerPx': '', 'slTriggerPxType': '', 'source': '', 'state': 'canceled', 'stpId': '', 'stpMode': '', 'sz': '1', 'tag': '', 'tdMode': 'isolated', 'tgtCcy': '', 'tpOrdPx': '', 'tpTriggerPx': '', 'tpTriggerPxType': '', 'tradeId': '', 'uTime': '1698233114862'}, 'msg': ''}, 'set_order_result': {'code': '0', 'data': {'clOrdId': '', 'ordId': '637371088749887488', 'sCode': '0', 'sMsg': 'Order placed', 'tag': ''}, 'inTime': '1698233109339553', 'msg': '', 'outTime': '1698233109340901'}, 'error_result': None, 'cancel_result': {'code': '0', 'data': {'clOrdId': '', 'ordId': '637371088749887488', 'sCode': '0', 'sMsg': ''}, 'inTime': '1698233114858801', 'msg': '', 'outTime': '1698233114860018'}}\n"
     ]
    }
   ],
   "source": [
    "# 设置callback和errorback\n",
    "open_limit4 = okxSWAP.trade.open_limit(\n",
    "    instId='MANA-USDT-SWAP',  # 产品\n",
    "    tdMode='isolated',  # 持仓方式 isolated：逐仓 cross：全仓\n",
    "    posSide='long',  # 持仓方向 long：多单 short：空单\n",
    "    lever=1,  # 杠杆倍数\n",
    "    openPrice=0.1,  # 开仓价格\n",
    "    # openMoney=1,  # 开仓金额 开仓金额openMoney和开仓数量quantityCT必须输入其中一个 优先级：quantityCT > openMoney\n",
    "    quantityCT=1,  # 开仓数量 注意：quantityCT是合约的张数，不是货币数量\n",
    "    block=True,  # 是否以堵塞的模式\n",
    "    timeout=5,  # 等待订单成功的超时时间（秒）\n",
    "    delay=0.2,  # 检测订单状态的间隔 (秒)\n",
    "    cancel=True,  # 订单超时后是否取消\n",
    "    callback=callback4,  # 开仓成功触发的回调函数\n",
    "    errorback=errorback4,  # 开仓失败触发的回调函数\n",
    "    tag='',  # 订单标签\n",
    "    clOrdId='',  # 客户自定义订单ID\n",
    ")"
   ]
  },
  {
   "cell_type": "markdown",
   "id": "99505045",
   "metadata": {},
   "source": [
    "## 5. 异步 堵塞 限价开仓（购买）回调函数\n"
   ]
  },
  {
   "cell_type": "code",
   "execution_count": 7,
   "id": "428cb977",
   "metadata": {},
   "outputs": [],
   "source": [
    "# 执行成功回调\n",
    "def callback5(information):\n",
    "    print('thread callback')\n",
    "    print(information)\n",
    "    \n",
    "# 执行错误回调\n",
    "def errorback5(information):\n",
    "    print('thread errorback')\n",
    "    print(information)"
   ]
  },
  {
   "cell_type": "code",
   "execution_count": 8,
   "id": "8d746cbd",
   "metadata": {},
   "outputs": [
    {
     "data": {
      "text/plain": [
       "<Thread(Thread-5, started 123145454616576)>"
      ]
     },
     "execution_count": 8,
     "metadata": {},
     "output_type": "execute_result"
    },
    {
     "name": "stdout",
     "output_type": "stream",
     "text": [
      "thread callback\n",
      "{'instType': 'SWAP', 'instId': 'MANA-USDT-SWAP', 'state': 'canceled', 'ordId': '637371116281298946', 'meta': {}, 'request_param': {'instId': 'MANA-USDT-SWAP', 'tdMode': 'isolated', 'posSide': 'long', 'side': 'buy', 'ordType': 'limit', 'sz': '1', 'clOrdId': '', 'tag': '', 'px': '0.1000'}, 'func_param': {'instId': 'MANA-USDT-SWAP', 'tdMode': 'isolated', 'posSide': 'long', 'lever': 1, 'openPrice': 0.1, 'openMoney': 1, 'quantityCT': None, 'meta': {}, 'block': True, 'timeout': 5, 'delay': 0.2, 'cancel': True, 'clOrdId': '', 'tag': '', 'newThread': True, 'callback': <function callback5 at 0x7faff960a310>, 'errorback': <function errorback5 at 0x7faff960a430>}, 'get_order_result': {'code': '0', 'data': {'accFillSz': '0', 'algoClOrdId': '', 'algoId': '', 'attachAlgoClOrdId': '', 'avgPx': '', 'cTime': '1698233115904', 'cancelSource': '1', 'cancelSourceReason': 'Order was canceled by user', 'category': 'normal', 'ccy': '', 'clOrdId': '', 'fee': '0', 'feeCcy': 'USDT', 'fillPx': '', 'fillSz': '0', 'fillTime': '', 'instId': 'MANA-USDT-SWAP', 'instType': 'SWAP', 'lever': '1', 'ordId': '637371116281298946', 'ordType': 'limit', 'pnl': '0', 'posSide': 'long', 'px': '0.1', 'pxType': '', 'pxUsd': '', 'pxVol': '', 'quickMgnType': '', 'rebate': '0', 'rebateCcy': 'USDT', 'reduceOnly': 'false', 'side': 'buy', 'slOrdPx': '', 'slTriggerPx': '', 'slTriggerPxType': '', 'source': '', 'state': 'canceled', 'stpId': '', 'stpMode': '', 'sz': '1', 'tag': '', 'tdMode': 'isolated', 'tgtCcy': '', 'tpOrdPx': '', 'tpTriggerPx': '', 'tpTriggerPxType': '', 'tradeId': '', 'uTime': '1698233121523'}, 'msg': ''}, 'set_order_result': {'code': '0', 'data': {'clOrdId': '', 'ordId': '637371116281298946', 'sCode': '0', 'sMsg': 'Order placed', 'tag': ''}, 'inTime': '1698233115903300', 'msg': '', 'outTime': '1698233115905904'}, 'error_result': None, 'cancel_result': {'code': '0', 'data': {'clOrdId': '', 'ordId': '637371116281298946', 'sCode': '0', 'sMsg': ''}, 'inTime': '1698233121520105', 'msg': '', 'outTime': '1698233121522215'}}\n"
     ]
    }
   ],
   "source": [
    "# 设置newThread=True\n",
    "open_limit5 = okxSWAP.trade.open_limit(\n",
    "    instId='MANA-USDT-SWAP',  # 产品\n",
    "    tdMode='isolated',  # 持仓方式 isolated：逐仓 cross：全仓\n",
    "    posSide='long',  # 持仓方向 long：多单 short：空单\n",
    "    lever=1,  # 杠杆倍数\n",
    "    openPrice=0.1,  # 开仓价格\n",
    "    openMoney=1,  # 开仓金额 开仓金额openMoney和开仓数量quantityCT必须输入其中一个 优先级：quantityCT > openMoney\n",
    "    # quantityCT=1,  # 开仓数量 注意：quantityCT是合约的张数，不是货币数量\n",
    "    block=True,  # 是否以堵塞的模式\n",
    "    timeout=5,  # 等待订单成功的超时时间（秒）\n",
    "    delay=0.2,  # 检测订单状态的间隔 (秒)\n",
    "    cancel=True,  # 订单超时后是否取消\n",
    "    newThread=True,  # 是否开启一个新的线程维护这个订单\n",
    "    callback=callback5,  # 开仓成功触发的回调函数\n",
    "    errorback=errorback5,  # 开仓失败触发的回调函数\n",
    "    tag='',  # 订单标签\n",
    "    clOrdId='',  # 客户自定义订单ID\n",
    ")\n",
    "\n",
    "open_limit5"
   ]
  }
 ],
 "metadata": {
  "kernelspec": {
   "display_name": "Python 3 (ipykernel)",
   "language": "python",
   "name": "python3"
  },
  "language_info": {
   "codemirror_mode": {
    "name": "ipython",
    "version": 3
   },
   "file_extension": ".py",
   "mimetype": "text/x-python",
   "name": "python",
   "nbconvert_exporter": "python",
   "pygments_lexer": "ipython3",
   "version": "3.8.4"
  }
 },
 "nbformat": 4,
 "nbformat_minor": 5
}
