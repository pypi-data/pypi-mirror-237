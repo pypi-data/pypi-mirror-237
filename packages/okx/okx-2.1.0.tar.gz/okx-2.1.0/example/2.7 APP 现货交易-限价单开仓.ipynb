{
 "cells": [
  {
   "cell_type": "code",
   "execution_count": 1,
   "id": "9c834149",
   "metadata": {},
   "outputs": [],
   "source": [
    "from okx.app import OkxSPOT"
   ]
  },
  {
   "cell_type": "markdown",
   "id": "51099562",
   "metadata": {},
   "source": [
    "## 1. 实例化OkxSPOT"
   ]
  },
  {
   "cell_type": "code",
   "execution_count": 2,
   "id": "a7c040d7",
   "metadata": {},
   "outputs": [],
   "source": [
    "okxSPOT = OkxSPOT(\n",
    "    key=\"xxx\",\n",
    "    secret=\"xxx\",\n",
    "    passphrase=\"xxx\",\n",
    "    # 使用http和https代理，proxies={'http':'xxxxx','https:':'xxxxx'}，通requests中的proxies参数规则相同\n",
    "    proxies={},\n",
    "    # 转发：需搭建转发服务器，可参考：https://github.com/pyted/okx_resender\n",
    "    proxy_host=None, \n",
    ")"
   ]
  },
  {
   "cell_type": "markdown",
   "id": "15a6704a",
   "metadata": {},
   "source": [
    "## 2. 同步 非堵塞 限价开仓（购买）"
   ]
  },
  {
   "cell_type": "code",
   "execution_count": 3,
   "id": "52397697",
   "metadata": {},
   "outputs": [
    {
     "data": {
      "text/plain": [
       "{'instType': 'SPOT',\n",
       " 'instId': 'MANA-USDT',\n",
       " 'state': None,\n",
       " 'ordId': '637283394183131153',\n",
       " 'meta': {},\n",
       " 'request_param': {'instId': 'MANA-USDT',\n",
       "  'tdMode': 'cash',\n",
       "  'side': 'buy',\n",
       "  'ordType': 'limit',\n",
       "  'sz': '20.000000',\n",
       "  'clOrdId': '',\n",
       "  'tag': '',\n",
       "  'px': '0.1000'},\n",
       " 'func_param': {'instId': 'MANA-USDT',\n",
       "  'openPrice': 0.1,\n",
       "  'openMoney': 2,\n",
       "  'quantity': None,\n",
       "  'meta': {},\n",
       "  'block': False,\n",
       "  'timeout': 60,\n",
       "  'delay': 0.2,\n",
       "  'cancel': True,\n",
       "  'clOrdId': '',\n",
       "  'tag': '',\n",
       "  'newThread': False,\n",
       "  'callback': None,\n",
       "  'errorback': None},\n",
       " 'get_order_result': None,\n",
       " 'set_order_result': {'code': '0',\n",
       "  'data': {'clOrdId': '',\n",
       "   'ordId': '637283394183131153',\n",
       "   'sCode': '0',\n",
       "   'sMsg': 'Order placed',\n",
       "   'tag': ''},\n",
       "  'inTime': '1698212201326386',\n",
       "  'msg': '',\n",
       "  'outTime': '1698212201327632'},\n",
       " 'error_result': None,\n",
       " 'cancel_result': None}"
      ]
     },
     "execution_count": 3,
     "metadata": {},
     "output_type": "execute_result"
    }
   ],
   "source": [
    "open_limit2 = okxSPOT.trade.open_limit(\n",
    "    instId='MANA-USDT',  # 产品\n",
    "    openPrice=0.1,  # 开仓价格\n",
    "    openMoney=2,  # 开仓金额 开仓金额openMoney和开仓数量quantity必须输入其中一个 优先级：quantity > openMoney\n",
    "    # quantity=10,  # 开仓数量\n",
    "    block=False,  # 是否以堵塞的模式\n",
    "    tag='',  # 订单标签\n",
    "    clOrdId='',  # 客户自定义订单ID\n",
    ")\n",
    "open_limit2"
   ]
  },
  {
   "cell_type": "markdown",
   "id": "131a3fcd",
   "metadata": {},
   "source": [
    "## 3. 同步 堵塞 限价开仓（购买）\n",
    "\n",
    "超时，可选择是否取消订单"
   ]
  },
  {
   "cell_type": "code",
   "execution_count": 4,
   "id": "f644a7ae",
   "metadata": {},
   "outputs": [
    {
     "data": {
      "text/plain": [
       "{'instType': 'SPOT',\n",
       " 'instId': 'MANA-USDT',\n",
       " 'state': 'canceled',\n",
       " 'ordId': '637283397140115457',\n",
       " 'meta': {},\n",
       " 'request_param': {'instId': 'MANA-USDT',\n",
       "  'tdMode': 'cash',\n",
       "  'side': 'buy',\n",
       "  'ordType': 'limit',\n",
       "  'sz': '20.000000',\n",
       "  'clOrdId': '',\n",
       "  'tag': '',\n",
       "  'px': '0.1000'},\n",
       " 'func_param': {'instId': 'MANA-USDT',\n",
       "  'openPrice': 0.1,\n",
       "  'openMoney': 2,\n",
       "  'quantity': None,\n",
       "  'meta': {},\n",
       "  'block': True,\n",
       "  'timeout': 5,\n",
       "  'delay': 0.2,\n",
       "  'cancel': True,\n",
       "  'clOrdId': '',\n",
       "  'tag': '',\n",
       "  'newThread': False,\n",
       "  'callback': None,\n",
       "  'errorback': None},\n",
       " 'get_order_result': {'code': '0',\n",
       "  'data': {'accFillSz': '0',\n",
       "   'algoClOrdId': '',\n",
       "   'algoId': '',\n",
       "   'attachAlgoClOrdId': '',\n",
       "   'avgPx': '',\n",
       "   'cTime': '1698212202031',\n",
       "   'cancelSource': '1',\n",
       "   'cancelSourceReason': 'Order was canceled by user',\n",
       "   'category': 'normal',\n",
       "   'ccy': '',\n",
       "   'clOrdId': '',\n",
       "   'fee': '0',\n",
       "   'feeCcy': 'MANA',\n",
       "   'fillPx': '',\n",
       "   'fillSz': '0',\n",
       "   'fillTime': '',\n",
       "   'instId': 'MANA-USDT',\n",
       "   'instType': 'SPOT',\n",
       "   'lever': '',\n",
       "   'ordId': '637283397140115457',\n",
       "   'ordType': 'limit',\n",
       "   'pnl': '0',\n",
       "   'posSide': 'net',\n",
       "   'px': '0.1',\n",
       "   'pxType': '',\n",
       "   'pxUsd': '',\n",
       "   'pxVol': '',\n",
       "   'quickMgnType': '',\n",
       "   'rebate': '0',\n",
       "   'rebateCcy': 'USDT',\n",
       "   'reduceOnly': 'false',\n",
       "   'side': 'buy',\n",
       "   'slOrdPx': '',\n",
       "   'slTriggerPx': '',\n",
       "   'slTriggerPxType': '',\n",
       "   'source': '',\n",
       "   'state': 'canceled',\n",
       "   'stpId': '',\n",
       "   'stpMode': '',\n",
       "   'sz': '20',\n",
       "   'tag': '',\n",
       "   'tdMode': 'cash',\n",
       "   'tgtCcy': '',\n",
       "   'tpOrdPx': '',\n",
       "   'tpTriggerPx': '',\n",
       "   'tpTriggerPxType': '',\n",
       "   'tradeId': '',\n",
       "   'uTime': '1698212207470'},\n",
       "  'msg': ''},\n",
       " 'set_order_result': {'code': '0',\n",
       "  'data': {'clOrdId': '',\n",
       "   'ordId': '637283397140115457',\n",
       "   'sCode': '0',\n",
       "   'sMsg': 'Order placed',\n",
       "   'tag': ''},\n",
       "  'inTime': '1698212202031335',\n",
       "  'msg': '',\n",
       "  'outTime': '1698212202032550'},\n",
       " 'error_result': None,\n",
       " 'cancel_result': {'code': '0',\n",
       "  'data': {'clOrdId': '',\n",
       "   'ordId': '637283397140115457',\n",
       "   'sCode': '0',\n",
       "   'sMsg': ''},\n",
       "  'inTime': '1698212207468678',\n",
       "  'msg': '',\n",
       "  'outTime': '1698212207470677'}}"
      ]
     },
     "execution_count": 4,
     "metadata": {},
     "output_type": "execute_result"
    }
   ],
   "source": [
    "# 设置block、timeout、delay与cancel\n",
    "open_limit3 = okxSPOT.trade.open_limit(\n",
    "    instId='MANA-USDT',  # 产品\n",
    "    openPrice=0.1,  # 开仓价格\n",
    "    openMoney=2,  # 开仓金额 开仓金额openMoney和开仓数量quantity必须输入其中一个 优先级：quantity > openMoney\n",
    "    # quantity=10,  # 开仓数量\n",
    "    block=True,  # 是否以堵塞的模式\n",
    "    timeout=5,  # 等待订单成功的超时时间（秒）\n",
    "    delay=0.2,  # 检测订单状态的间隔 (秒)\n",
    "    cancel=True,  # 订单超时后是否取消\n",
    ")\n",
    "\n",
    "open_limit3"
   ]
  },
  {
   "cell_type": "markdown",
   "id": "39ca7f89",
   "metadata": {},
   "source": [
    "## 4. 同步 堵塞 限价开仓（购买） 回调函数\n"
   ]
  },
  {
   "cell_type": "code",
   "execution_count": 5,
   "id": "b7f270cc",
   "metadata": {},
   "outputs": [],
   "source": [
    "# 执行成功回调\n",
    "def callback4(information):\n",
    "    print('callback')\n",
    "    print(information)\n",
    "    \n",
    "# 执行错误回调\n",
    "def errorback4(information):\n",
    "    print('errorback')\n",
    "    print(information)"
   ]
  },
  {
   "cell_type": "code",
   "execution_count": 6,
   "id": "16f5b321",
   "metadata": {},
   "outputs": [
    {
     "name": "stdout",
     "output_type": "stream",
     "text": [
      "callback\n",
      "{'instType': 'SPOT', 'instId': 'MANA-USDT', 'state': 'canceled', 'ordId': '637283422737952770', 'meta': {}, 'request_param': {'instId': 'MANA-USDT', 'tdMode': 'cash', 'side': 'buy', 'ordType': 'limit', 'sz': '20.000000', 'clOrdId': '', 'tag': '', 'px': '0.1000'}, 'func_param': {'instId': 'MANA-USDT', 'openPrice': 0.1, 'openMoney': 2, 'quantity': None, 'meta': {}, 'block': True, 'timeout': 5, 'delay': 0.2, 'cancel': True, 'clOrdId': '', 'tag': '', 'newThread': False, 'callback': <function callback4 at 0x7fae897eb940>, 'errorback': <function errorback4 at 0x7fae897eb9d0>}, 'get_order_result': {'code': '0', 'data': {'accFillSz': '0', 'algoClOrdId': '', 'algoId': '', 'attachAlgoClOrdId': '', 'avgPx': '', 'cTime': '1698212208134', 'cancelSource': '1', 'cancelSourceReason': 'Order was canceled by user', 'category': 'normal', 'ccy': '', 'clOrdId': '', 'fee': '0', 'feeCcy': 'MANA', 'fillPx': '', 'fillSz': '0', 'fillTime': '', 'instId': 'MANA-USDT', 'instType': 'SPOT', 'lever': '', 'ordId': '637283422737952770', 'ordType': 'limit', 'pnl': '0', 'posSide': 'net', 'px': '0.1', 'pxType': '', 'pxUsd': '', 'pxVol': '', 'quickMgnType': '', 'rebate': '0', 'rebateCcy': 'USDT', 'reduceOnly': 'false', 'side': 'buy', 'slOrdPx': '', 'slTriggerPx': '', 'slTriggerPxType': '', 'source': '', 'state': 'canceled', 'stpId': '', 'stpMode': '', 'sz': '20', 'tag': '', 'tdMode': 'cash', 'tgtCcy': '', 'tpOrdPx': '', 'tpTriggerPx': '', 'tpTriggerPxType': '', 'tradeId': '', 'uTime': '1698212213706'}, 'msg': ''}, 'set_order_result': {'code': '0', 'data': {'clOrdId': '', 'ordId': '637283422737952770', 'sCode': '0', 'sMsg': 'Order placed', 'tag': ''}, 'inTime': '1698212208134054', 'msg': '', 'outTime': '1698212208135191'}, 'error_result': None, 'cancel_result': {'code': '0', 'data': {'clOrdId': '', 'ordId': '637283422737952770', 'sCode': '0', 'sMsg': ''}, 'inTime': '1698212213704751', 'msg': '', 'outTime': '1698212213706349'}}\n"
     ]
    }
   ],
   "source": [
    "# 设置callback与errorback\n",
    "open_limit4 = okxSPOT.trade.open_limit(\n",
    "    instId='MANA-USDT',  # 产品\n",
    "    openPrice=0.1,  # 开仓价格\n",
    "    openMoney=2,  # 开仓金额 开仓金额openMoney和开仓数量quantity必须输入其中一个 优先级：quantity > openMoney\n",
    "    # quantity=10,  # 开仓数量\n",
    "    block=True,  # 是否以堵塞的模式\n",
    "    timeout=5,  # 等待订单成功的超时时间（秒）\n",
    "    delay=0.2,  # 检测订单状态的间隔 (秒)\n",
    "    cancel=True,  # 订单超时后是否取消\n",
    "    callback=callback4,  # 开仓成功触发的回调函数\n",
    "    errorback=errorback4,  # 开仓失败触发的回调函数\n",
    "    tag='',  # 订单标签\n",
    "    clOrdId='',  # 客户自定义订单ID\n",
    ")"
   ]
  },
  {
   "cell_type": "markdown",
   "id": "d46d85ca",
   "metadata": {},
   "source": [
    "## 5. 异步 堵塞 限价开仓（购买）回调函数\n"
   ]
  },
  {
   "cell_type": "code",
   "execution_count": 7,
   "id": "6eb73d42",
   "metadata": {},
   "outputs": [],
   "source": [
    "# 执行成功回调\n",
    "def callback5(information):\n",
    "    print('thread callback')\n",
    "    print(information)\n",
    "    \n",
    "# 执行错误回调\n",
    "def errorback5(information):\n",
    "    print('thread errorback')\n",
    "    print(information)"
   ]
  },
  {
   "cell_type": "code",
   "execution_count": 8,
   "id": "92b0fcd8",
   "metadata": {},
   "outputs": [
    {
     "name": "stdout",
     "output_type": "stream",
     "text": [
      "------\n",
      "thread callback\n",
      "{'instType': 'SPOT', 'instId': 'MANA-USDT', 'state': 'canceled', 'ordId': '637283449006878727', 'meta': {}, 'request_param': {'instId': 'MANA-USDT', 'tdMode': 'cash', 'side': 'buy', 'ordType': 'limit', 'sz': '20.000000', 'clOrdId': '', 'tag': '', 'px': '0.1000'}, 'func_param': {'instId': 'MANA-USDT', 'openPrice': 0.1, 'openMoney': 2, 'quantity': None, 'meta': {}, 'block': True, 'timeout': 5, 'delay': 0.2, 'cancel': True, 'clOrdId': '', 'tag': '', 'newThread': True, 'callback': <function callback5 at 0x7fae48139310>, 'errorback': <function errorback5 at 0x7fae48139280>}, 'get_order_result': {'code': '0', 'data': {'accFillSz': '0', 'algoClOrdId': '', 'algoId': '', 'attachAlgoClOrdId': '', 'avgPx': '', 'cTime': '1698212214397', 'cancelSource': '1', 'cancelSourceReason': 'Order was canceled by user', 'category': 'normal', 'ccy': '', 'clOrdId': '', 'fee': '0', 'feeCcy': 'MANA', 'fillPx': '', 'fillSz': '0', 'fillTime': '', 'instId': 'MANA-USDT', 'instType': 'SPOT', 'lever': '', 'ordId': '637283449006878727', 'ordType': 'limit', 'pnl': '0', 'posSide': 'net', 'px': '0.1', 'pxType': '', 'pxUsd': '', 'pxVol': '', 'quickMgnType': '', 'rebate': '0', 'rebateCcy': 'USDT', 'reduceOnly': 'false', 'side': 'buy', 'slOrdPx': '', 'slTriggerPx': '', 'slTriggerPxType': '', 'source': '', 'state': 'canceled', 'stpId': '', 'stpMode': '', 'sz': '20', 'tag': '', 'tdMode': 'cash', 'tgtCcy': '', 'tpOrdPx': '', 'tpTriggerPx': '', 'tpTriggerPxType': '', 'tradeId': '', 'uTime': '1698212219885'}, 'msg': ''}, 'set_order_result': {'code': '0', 'data': {'clOrdId': '', 'ordId': '637283449006878727', 'sCode': '0', 'sMsg': 'Order placed', 'tag': ''}, 'inTime': '1698212214396316', 'msg': '', 'outTime': '1698212214398108'}, 'error_result': None, 'cancel_result': {'code': '0', 'data': {'clOrdId': '', 'ordId': '637283449006878727', 'sCode': '0', 'sMsg': ''}, 'inTime': '1698212219883975', 'msg': '', 'outTime': '1698212219885561'}}\n"
     ]
    }
   ],
   "source": [
    "# 设置newThread=True\n",
    "open_limit5 = okxSPOT.trade.open_limit(\n",
    "    instId='MANA-USDT',  # 产品\n",
    "    openPrice=0.1,  # 开仓价格\n",
    "    openMoney=2,  # 开仓金额 开仓金额openMoney和开仓数量quantity必须输入其中一个 优先级：quantity > openMoney\n",
    "    # quantity=10,  # 开仓数量\n",
    "    block=True,  # 是否以堵塞的模式\n",
    "    timeout=5,  # 等待订单成功的超时时间（秒）\n",
    "    delay=0.2,  # 检测订单状态的间隔 (秒)\n",
    "    cancel=True,  # 订单超时后是否取消\n",
    "    newThread=True,  # 是否开启一个新的线程维护这个订单\n",
    "    callback=callback5,  # 开仓成功触发的回调函数\n",
    "    errorback=errorback5,  # 开仓失败触发的回调函数\n",
    "    tag='',  # 订单标签\n",
    "    clOrdId='',  # 客户自定义订单ID\n",
    ")\n",
    "print('------')"
   ]
  }
 ],
 "metadata": {
  "kernelspec": {
   "display_name": "Python 3 (ipykernel)",
   "language": "python",
   "name": "python3"
  },
  "language_info": {
   "codemirror_mode": {
    "name": "ipython",
    "version": 3
   },
   "file_extension": ".py",
   "mimetype": "text/x-python",
   "name": "python",
   "nbconvert_exporter": "python",
   "pygments_lexer": "ipython3",
   "version": "3.8.4"
  }
 },
 "nbformat": 4,
 "nbformat_minor": 5
}
