{
 "cells": [
  {
   "cell_type": "code",
   "execution_count": 1,
   "id": "0e58fafc",
   "metadata": {},
   "outputs": [],
   "source": [
    "from okx.app import OkxSWAP\n",
    "from okx.app import MarketSWAP\n",
    "from okx.app import Market"
   ]
  },
  {
   "cell_type": "markdown",
   "id": "8f026010",
   "metadata": {},
   "source": [
    "## 1. 实例化OkxSWAP"
   ]
  },
  {
   "cell_type": "code",
   "execution_count": 2,
   "id": "7f8ca09b",
   "metadata": {},
   "outputs": [
    {
     "name": "stdout",
     "output_type": "stream",
     "text": [
      "[FAILURE] 设置持仓方式为双向持仓失败，请手动设置：posMode=\"long_short_mode\"\n"
     ]
    }
   ],
   "source": [
    "# 对于下述代码 okxSWAP.market 等同于 marketSWAP 等同于 market\n",
    "# # 单纯使用okxSWAP.market不需要秘钥\n",
    "okxSWAP = OkxSWAP(\n",
    "    key=\"xxx\",\n",
    "    secret=\"xxx\",\n",
    "    passphrase=\"xxx\",\n",
    "    # 使用http和https代理，proxies={'http':'xxxxx','https:':'xxxxx'}，通requests中的proxies参数规则相同\n",
    "    proxies={},\n",
    "    # 转发：需搭建转发服务器，可参考：https://github.com/pyted/okx_resender\n",
    "    proxy_host=None, \n",
    ")\n",
    "\n",
    "# marketSWAP = MarketSWAP(\n",
    "#     proxies={},\n",
    "#     proxy_host='http://101.32.44.77:99',\n",
    "# )\n",
    "\n",
    "# market = Market(\n",
    "#     instType='SWAP',\n",
    "#     proxies={},\n",
    "#     proxy_host='http://101.32.44.77:99',\n",
    "# )"
   ]
  },
  {
   "cell_type": "markdown",
   "id": "a4772ec9",
   "metadata": {},
   "source": [
    "## 2 通过起始时间获取历史K线\n",
    "\n",
    "可以接收更长跨度的时间段，会调用多次官方底层接口，合并数据，并严格验证，返回安全的K线数据\n",
    "\n",
    "起始字段支持多种数据类型：如时间格式的字符串、日期时间对象以及毫秒级时间戳"
   ]
  },
  {
   "cell_type": "code",
   "execution_count": 3,
   "id": "8cf996fc",
   "metadata": {},
   "outputs": [
    {
     "data": {
      "text/plain": [
       "{'code': '0',\n",
       " 'data': array([[1.67250240e+12, 1.65916000e+04, 1.65938000e+04, ...,\n",
       "         2.34900000e+01, 3.89764926e+05, 1.00000000e+00],\n",
       "        [1.67250246e+12, 1.65938000e+04, 1.65960000e+04, ...,\n",
       "         2.68500000e+01, 4.45583077e+05, 1.00000000e+00],\n",
       "        [1.67250252e+12, 1.65944000e+04, 1.65972000e+04, ...,\n",
       "         1.12100000e+01, 1.86041658e+05, 1.00000000e+00],\n",
       "        ...,\n",
       "        [1.67258868e+12, 1.65587000e+04, 1.65600000e+04, ...,\n",
       "         3.31900000e+01, 5.49620009e+05, 1.00000000e+00],\n",
       "        [1.67258874e+12, 1.65591000e+04, 1.65592000e+04, ...,\n",
       "         4.29000000e+00, 7.10387860e+04, 1.00000000e+00],\n",
       "        [1.67258880e+12, 1.65592000e+04, 1.65600000e+04, ...,\n",
       "         2.59900000e+01, 4.30378595e+05, 1.00000000e+00]]),\n",
       " 'msg': ''}"
      ]
     },
     "execution_count": 3,
     "metadata": {},
     "output_type": "execute_result"
    }
   ],
   "source": [
    "get_history_candle = okxSWAP.market.get_history_candle(\n",
    "    instId = 'BTC-USDT-SWAP',\n",
    "    start = '2023-01-01 00:00:00',\n",
    "    end = '2023-01-02 00:00:00',\n",
    "    bar = '1m',\n",
    ")\n",
    "\n",
    "get_history_candle"
   ]
  },
  {
   "cell_type": "markdown",
   "id": "00e1446d",
   "metadata": {},
   "source": [
    "## 3. 按照日期下载历史K线"
   ]
  },
  {
   "cell_type": "code",
   "execution_count": 4,
   "id": "c3a44006",
   "metadata": {},
   "outputs": [
    {
     "data": {
      "text/plain": [
       "{'code': '0',\n",
       " 'data': array([[1.67250240e+12, 1.65916000e+04, 1.65938000e+04, ...,\n",
       "         2.34900000e+01, 3.89764926e+05, 1.00000000e+00],\n",
       "        [1.67250246e+12, 1.65938000e+04, 1.65960000e+04, ...,\n",
       "         2.68500000e+01, 4.45583077e+05, 1.00000000e+00],\n",
       "        [1.67250252e+12, 1.65944000e+04, 1.65972000e+04, ...,\n",
       "         1.12100000e+01, 1.86041658e+05, 1.00000000e+00],\n",
       "        ...,\n",
       "        [1.67258862e+12, 1.65563000e+04, 1.65585000e+04, ...,\n",
       "         1.94000000e+01, 3.21223074e+05, 1.00000000e+00],\n",
       "        [1.67258868e+12, 1.65587000e+04, 1.65600000e+04, ...,\n",
       "         3.31900000e+01, 5.49620009e+05, 1.00000000e+00],\n",
       "        [1.67258874e+12, 1.65591000e+04, 1.65592000e+04, ...,\n",
       "         4.29000000e+00, 7.10387860e+04, 1.00000000e+00]]),\n",
       " 'msg': ''}"
      ]
     },
     "execution_count": 4,
     "metadata": {},
     "output_type": "execute_result"
    }
   ],
   "source": [
    "get_history_candle_by_date = okxSWAP.market.get_history_candle_by_date(\n",
    "    instId = 'BTC-USDT-SWAP',\n",
    "    date = '2023-01-01',\n",
    "    bar = '1m'\n",
    ")\n",
    "\n",
    "get_history_candle_by_date"
   ]
  },
  {
   "cell_type": "markdown",
   "id": "f5414596",
   "metadata": {},
   "source": [
    "## 4. 获取产品指定数量的最新历史K线数据"
   ]
  },
  {
   "cell_type": "code",
   "execution_count": 5,
   "id": "32bb80ca",
   "metadata": {},
   "outputs": [
    {
     "data": {
      "text/plain": [
       "{'code': '0',\n",
       " 'data': array([[1.69780020e+12, 2.99222000e+04, 2.99653000e+04, ...,\n",
       "         6.94920000e+02, 2.08064686e+07, 1.00000000e+00],\n",
       "        [1.69780050e+12, 2.99581000e+04, 2.99971000e+04, ...,\n",
       "         1.02511000e+03, 3.07291918e+07, 1.00000000e+00],\n",
       "        [1.69780080e+12, 2.99892000e+04, 2.99950000e+04, ...,\n",
       "         5.37680000e+02, 1.61129577e+07, 1.00000000e+00],\n",
       "        ...,\n",
       "        [1.69823130e+12, 3.42094000e+04, 3.42550000e+04, ...,\n",
       "         3.55160000e+02, 1.21597597e+07, 1.00000000e+00],\n",
       "        [1.69823160e+12, 3.42532000e+04, 3.42689000e+04, ...,\n",
       "         3.94600000e+02, 1.35032486e+07, 1.00000000e+00],\n",
       "        [1.69823190e+12, 3.42199000e+04, 3.43350000e+04, ...,\n",
       "         9.45240000e+02, 3.24194771e+07, 1.00000000e+00]]),\n",
       " 'msg': ''}"
      ]
     },
     "execution_count": 5,
     "metadata": {},
     "output_type": "execute_result"
    }
   ],
   "source": [
    "get_history_candle_latest = okxSWAP.market.get_history_candle_latest(\n",
    "    instId = 'BTC-USDT-SWAP',\n",
    "    length = 1440,\n",
    "    bar = '5m'\n",
    ")\n",
    "get_history_candle_latest"
   ]
  },
  {
   "cell_type": "markdown",
   "id": "1a5487e0",
   "metadata": {},
   "source": [
    "## 5. 获取历史K线数据中最新的毫秒时间戳（用于实时K线的时间验证）"
   ]
  },
  {
   "cell_type": "code",
   "execution_count": 6,
   "id": "3a824dc9",
   "metadata": {},
   "outputs": [
    {
     "data": {
      "text/plain": [
       "{'code': '0', 'data': 1698232260000.0, 'msg': ''}"
      ]
     },
     "execution_count": 6,
     "metadata": {},
     "output_type": "execute_result"
    }
   ],
   "source": [
    "get_history_candle_latest_ts = okxSWAP.market.get_history_candle_latest_ts()\n",
    "\n",
    "get_history_candle_latest_ts"
   ]
  },
  {
   "cell_type": "markdown",
   "id": "41e85e4b",
   "metadata": {},
   "source": [
    "## 6. 更新产品历史K线数据到指定时间"
   ]
  },
  {
   "cell_type": "code",
   "execution_count": 7,
   "id": "5280cc2a",
   "metadata": {},
   "outputs": [
    {
     "data": {
      "text/plain": [
       "{'code': '0',\n",
       " 'data': array([[1.69780020e+12, 2.99222000e+04, 2.99653000e+04, ...,\n",
       "         6.94920000e+02, 2.08064686e+07, 1.00000000e+00],\n",
       "        [1.69780050e+12, 2.99581000e+04, 2.99971000e+04, ...,\n",
       "         1.02511000e+03, 3.07291918e+07, 1.00000000e+00],\n",
       "        [1.69780080e+12, 2.99892000e+04, 2.99950000e+04, ...,\n",
       "         5.37680000e+02, 1.61129577e+07, 1.00000000e+00],\n",
       "        ...,\n",
       "        [1.69823130e+12, 3.42094000e+04, 3.42550000e+04, ...,\n",
       "         3.55160000e+02, 1.21597597e+07, 1.00000000e+00],\n",
       "        [1.69823160e+12, 3.42532000e+04, 3.42689000e+04, ...,\n",
       "         3.94600000e+02, 1.35032486e+07, 1.00000000e+00],\n",
       "        [1.69823190e+12, 3.42199000e+04, 3.43350000e+04, ...,\n",
       "         9.45240000e+02, 3.24194771e+07, 1.00000000e+00]]),\n",
       " 'msg': ''}"
      ]
     },
     "execution_count": 7,
     "metadata": {},
     "output_type": "execute_result"
    }
   ],
   "source": [
    "update_history_candle = okxSWAP.market.update_history_candle(\n",
    "    instId = 'BTC-USDT-SWAP',\n",
    "    candle = get_history_candle_latest['data'],\n",
    "    length = 1440,\n",
    "    bar = '5m',\n",
    ")\n",
    "update_history_candle"
   ]
  },
  {
   "cell_type": "markdown",
   "id": "b12c7f3c",
   "metadata": {},
   "source": [
    "## 7. 将Okx的历史K线数据从array转换成DataFrame类型"
   ]
  },
  {
   "cell_type": "code",
   "execution_count": 8,
   "id": "6fd3896d",
   "metadata": {},
   "outputs": [
    {
     "data": {
      "text/html": [
       "<div>\n",
       "<style scoped>\n",
       "    .dataframe tbody tr th:only-of-type {\n",
       "        vertical-align: middle;\n",
       "    }\n",
       "\n",
       "    .dataframe tbody tr th {\n",
       "        vertical-align: top;\n",
       "    }\n",
       "\n",
       "    .dataframe thead th {\n",
       "        text-align: right;\n",
       "    }\n",
       "</style>\n",
       "<table border=\"1\" class=\"dataframe\">\n",
       "  <thead>\n",
       "    <tr style=\"text-align: right;\">\n",
       "      <th></th>\n",
       "      <th>ts</th>\n",
       "      <th>o</th>\n",
       "      <th>h</th>\n",
       "      <th>l</th>\n",
       "      <th>c</th>\n",
       "      <th>vol</th>\n",
       "      <th>volCcy</th>\n",
       "      <th>volCcyQuote</th>\n",
       "      <th>confirm</th>\n",
       "    </tr>\n",
       "  </thead>\n",
       "  <tbody>\n",
       "    <tr>\n",
       "      <th>0</th>\n",
       "      <td>2023-10-20 19:10:00</td>\n",
       "      <td>29922.2</td>\n",
       "      <td>29965.3</td>\n",
       "      <td>29916.7</td>\n",
       "      <td>29958.0</td>\n",
       "      <td>69492.0</td>\n",
       "      <td>694.92</td>\n",
       "      <td>2.080647e+07</td>\n",
       "      <td>1</td>\n",
       "    </tr>\n",
       "    <tr>\n",
       "      <th>1</th>\n",
       "      <td>2023-10-20 19:15:00</td>\n",
       "      <td>29958.1</td>\n",
       "      <td>29997.1</td>\n",
       "      <td>29945.5</td>\n",
       "      <td>29989.3</td>\n",
       "      <td>102511.0</td>\n",
       "      <td>1025.11</td>\n",
       "      <td>3.072919e+07</td>\n",
       "      <td>1</td>\n",
       "    </tr>\n",
       "    <tr>\n",
       "      <th>2</th>\n",
       "      <td>2023-10-20 19:20:00</td>\n",
       "      <td>29989.2</td>\n",
       "      <td>29995.0</td>\n",
       "      <td>29929.0</td>\n",
       "      <td>29932.5</td>\n",
       "      <td>53768.0</td>\n",
       "      <td>537.68</td>\n",
       "      <td>1.611296e+07</td>\n",
       "      <td>1</td>\n",
       "    </tr>\n",
       "    <tr>\n",
       "      <th>3</th>\n",
       "      <td>2023-10-20 19:25:00</td>\n",
       "      <td>29932.5</td>\n",
       "      <td>29969.7</td>\n",
       "      <td>29930.3</td>\n",
       "      <td>29957.3</td>\n",
       "      <td>27609.0</td>\n",
       "      <td>276.09</td>\n",
       "      <td>8.269820e+06</td>\n",
       "      <td>1</td>\n",
       "    </tr>\n",
       "    <tr>\n",
       "      <th>4</th>\n",
       "      <td>2023-10-20 19:30:00</td>\n",
       "      <td>29957.3</td>\n",
       "      <td>30047.2</td>\n",
       "      <td>29956.5</td>\n",
       "      <td>30015.7</td>\n",
       "      <td>140320.0</td>\n",
       "      <td>1403.20</td>\n",
       "      <td>4.211704e+07</td>\n",
       "      <td>1</td>\n",
       "    </tr>\n",
       "    <tr>\n",
       "      <th>5</th>\n",
       "      <td>2023-10-20 19:35:00</td>\n",
       "      <td>30015.7</td>\n",
       "      <td>30022.0</td>\n",
       "      <td>29922.4</td>\n",
       "      <td>29930.3</td>\n",
       "      <td>63367.0</td>\n",
       "      <td>633.67</td>\n",
       "      <td>1.899383e+07</td>\n",
       "      <td>1</td>\n",
       "    </tr>\n",
       "    <tr>\n",
       "      <th>6</th>\n",
       "      <td>2023-10-20 19:40:00</td>\n",
       "      <td>29930.3</td>\n",
       "      <td>29950.0</td>\n",
       "      <td>29874.8</td>\n",
       "      <td>29907.5</td>\n",
       "      <td>88273.0</td>\n",
       "      <td>882.73</td>\n",
       "      <td>2.639886e+07</td>\n",
       "      <td>1</td>\n",
       "    </tr>\n",
       "    <tr>\n",
       "      <th>7</th>\n",
       "      <td>2023-10-20 19:45:00</td>\n",
       "      <td>29907.5</td>\n",
       "      <td>29944.7</td>\n",
       "      <td>29888.4</td>\n",
       "      <td>29925.7</td>\n",
       "      <td>41361.0</td>\n",
       "      <td>413.61</td>\n",
       "      <td>1.237566e+07</td>\n",
       "      <td>1</td>\n",
       "    </tr>\n",
       "    <tr>\n",
       "      <th>8</th>\n",
       "      <td>2023-10-20 19:50:00</td>\n",
       "      <td>29925.7</td>\n",
       "      <td>29930.3</td>\n",
       "      <td>29872.6</td>\n",
       "      <td>29905.3</td>\n",
       "      <td>48337.0</td>\n",
       "      <td>483.37</td>\n",
       "      <td>1.445058e+07</td>\n",
       "      <td>1</td>\n",
       "    </tr>\n",
       "    <tr>\n",
       "      <th>9</th>\n",
       "      <td>2023-10-20 19:55:00</td>\n",
       "      <td>29905.3</td>\n",
       "      <td>29905.3</td>\n",
       "      <td>29830.0</td>\n",
       "      <td>29848.0</td>\n",
       "      <td>67014.0</td>\n",
       "      <td>670.14</td>\n",
       "      <td>2.000470e+07</td>\n",
       "      <td>1</td>\n",
       "    </tr>\n",
       "  </tbody>\n",
       "</table>\n",
       "</div>"
      ],
      "text/plain": [
       "                    ts        o        h        l        c       vol   volCcy  \\\n",
       "0  2023-10-20 19:10:00  29922.2  29965.3  29916.7  29958.0   69492.0   694.92   \n",
       "1  2023-10-20 19:15:00  29958.1  29997.1  29945.5  29989.3  102511.0  1025.11   \n",
       "2  2023-10-20 19:20:00  29989.2  29995.0  29929.0  29932.5   53768.0   537.68   \n",
       "3  2023-10-20 19:25:00  29932.5  29969.7  29930.3  29957.3   27609.0   276.09   \n",
       "4  2023-10-20 19:30:00  29957.3  30047.2  29956.5  30015.7  140320.0  1403.20   \n",
       "5  2023-10-20 19:35:00  30015.7  30022.0  29922.4  29930.3   63367.0   633.67   \n",
       "6  2023-10-20 19:40:00  29930.3  29950.0  29874.8  29907.5   88273.0   882.73   \n",
       "7  2023-10-20 19:45:00  29907.5  29944.7  29888.4  29925.7   41361.0   413.61   \n",
       "8  2023-10-20 19:50:00  29925.7  29930.3  29872.6  29905.3   48337.0   483.37   \n",
       "9  2023-10-20 19:55:00  29905.3  29905.3  29830.0  29848.0   67014.0   670.14   \n",
       "\n",
       "    volCcyQuote  confirm  \n",
       "0  2.080647e+07        1  \n",
       "1  3.072919e+07        1  \n",
       "2  1.611296e+07        1  \n",
       "3  8.269820e+06        1  \n",
       "4  4.211704e+07        1  \n",
       "5  1.899383e+07        1  \n",
       "6  2.639886e+07        1  \n",
       "7  1.237566e+07        1  \n",
       "8  1.445058e+07        1  \n",
       "9  2.000470e+07        1  "
      ]
     },
     "execution_count": 8,
     "metadata": {},
     "output_type": "execute_result"
    }
   ],
   "source": [
    "df = okxSWAP.market.candle_to_df(update_history_candle['data'])\n",
    "\n",
    "df.head(10)"
   ]
  },
  {
   "cell_type": "markdown",
   "id": "b4f87aca",
   "metadata": {},
   "source": [
    "## 8. 将Okx的历史K线数据从array转换成DataFrame类型"
   ]
  },
  {
   "cell_type": "code",
   "execution_count": 9,
   "id": "4d6c5ee7",
   "metadata": {},
   "outputs": [
    {
     "data": {
      "text/plain": [
       "array([[1.69780020e+12, 2.99222000e+04, 2.99653000e+04, ...,\n",
       "        6.94920000e+02, 2.08064686e+07, 1.00000000e+00],\n",
       "       [1.69780050e+12, 2.99581000e+04, 2.99971000e+04, ...,\n",
       "        1.02511000e+03, 3.07291918e+07, 1.00000000e+00],\n",
       "       [1.69780080e+12, 2.99892000e+04, 2.99950000e+04, ...,\n",
       "        5.37680000e+02, 1.61129577e+07, 1.00000000e+00],\n",
       "       ...,\n",
       "       [1.69823130e+12, 3.42094000e+04, 3.42550000e+04, ...,\n",
       "        3.55160000e+02, 1.21597597e+07, 1.00000000e+00],\n",
       "       [1.69823160e+12, 3.42532000e+04, 3.42689000e+04, ...,\n",
       "        3.94600000e+02, 1.35032486e+07, 1.00000000e+00],\n",
       "       [1.69823190e+12, 3.42199000e+04, 3.43350000e+04, ...,\n",
       "        9.45240000e+02, 3.24194771e+07, 1.00000000e+00]])"
      ]
     },
     "execution_count": 9,
     "metadata": {},
     "output_type": "execute_result"
    }
   ],
   "source": [
    "candle = okxSWAP.market.df_to_candle(df)\n",
    "\n",
    "candle"
   ]
  }
 ],
 "metadata": {
  "kernelspec": {
   "display_name": "Python 3 (ipykernel)",
   "language": "python",
   "name": "python3"
  },
  "language_info": {
   "codemirror_mode": {
    "name": "ipython",
    "version": 3
   },
   "file_extension": ".py",
   "mimetype": "text/x-python",
   "name": "python",
   "nbconvert_exporter": "python",
   "pygments_lexer": "ipython3",
   "version": "3.8.4"
  }
 },
 "nbformat": 4,
 "nbformat_minor": 5
}
