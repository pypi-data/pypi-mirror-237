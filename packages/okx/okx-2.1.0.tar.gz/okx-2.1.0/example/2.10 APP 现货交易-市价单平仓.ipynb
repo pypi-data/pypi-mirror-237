{
 "cells": [
  {
   "cell_type": "code",
   "execution_count": 1,
   "id": "3dad0d00",
   "metadata": {},
   "outputs": [],
   "source": [
    "from okx.app import OkxSPOT"
   ]
  },
  {
   "cell_type": "markdown",
   "id": "b481358d",
   "metadata": {},
   "source": [
    "## 1. 实例化OkxSPOT"
   ]
  },
  {
   "cell_type": "code",
   "execution_count": 2,
   "id": "4018c830",
   "metadata": {},
   "outputs": [],
   "source": [
    "okxSPOT = OkxSPOT(\n",
    "    key=\"xxx\",\n",
    "    secret=\"xxx\",\n",
    "    passphrase=\"xxx\",\n",
    "    # 使用http和https代理，proxies={'http':'xxxxx','https:':'xxxxx'}，通requests中的proxies参数规则相同\n",
    "    proxies={},\n",
    "    # 转发：需搭建转发服务器，可参考：https://github.com/pyted/okx_resender\n",
    "    proxy_host=None, \n",
    ")"
   ]
  },
  {
   "cell_type": "markdown",
   "id": "4e9927e3",
   "metadata": {},
   "source": [
    "## 2. 同步 市价平仓（卖出）"
   ]
  },
  {
   "cell_type": "code",
   "execution_count": 3,
   "id": "67c929fa",
   "metadata": {},
   "outputs": [
    {
     "data": {
      "text/plain": [
       "{'instType': 'SPOT',\n",
       " 'instId': 'MANA-USDT',\n",
       " 'state': 'filled',\n",
       " 'ordId': '637362709310636032',\n",
       " 'meta': {},\n",
       " 'request_param': {'instId': 'MANA-USDT',\n",
       "  'tdMode': 'cash',\n",
       "  'side': 'sell',\n",
       "  'ordType': 'market',\n",
       "  'sz': '1',\n",
       "  'clOrdId': '',\n",
       "  'tag': ''},\n",
       " 'func_param': {'instId': 'MANA-USDT',\n",
       "  'quantity': '1',\n",
       "  'meta': {},\n",
       "  'timeout': 60,\n",
       "  'delay': 0.2,\n",
       "  'cancel': True,\n",
       "  'clOrdId': '',\n",
       "  'tag': '',\n",
       "  'newThread': False,\n",
       "  'callback': None,\n",
       "  'errorback': None},\n",
       " 'get_order_result': {'code': '0',\n",
       "  'data': {'accFillSz': '1',\n",
       "   'algoClOrdId': '',\n",
       "   'algoId': '',\n",
       "   'attachAlgoClOrdId': '',\n",
       "   'avgPx': '0.3452',\n",
       "   'cTime': '1698231111526',\n",
       "   'cancelSource': '',\n",
       "   'cancelSourceReason': '',\n",
       "   'category': 'normal',\n",
       "   'ccy': '',\n",
       "   'clOrdId': '',\n",
       "   'fee': '-0.0003452',\n",
       "   'feeCcy': 'USDT',\n",
       "   'fillPx': '0.3452',\n",
       "   'fillSz': '1',\n",
       "   'fillTime': '1698231111527',\n",
       "   'instId': 'MANA-USDT',\n",
       "   'instType': 'SPOT',\n",
       "   'lever': '',\n",
       "   'ordId': '637362709310636032',\n",
       "   'ordType': 'market',\n",
       "   'pnl': '0',\n",
       "   'posSide': 'net',\n",
       "   'px': '',\n",
       "   'pxType': '',\n",
       "   'pxUsd': '',\n",
       "   'pxVol': '',\n",
       "   'quickMgnType': '',\n",
       "   'rebate': '0',\n",
       "   'rebateCcy': 'MANA',\n",
       "   'reduceOnly': 'false',\n",
       "   'side': 'sell',\n",
       "   'slOrdPx': '',\n",
       "   'slTriggerPx': '',\n",
       "   'slTriggerPxType': '',\n",
       "   'source': '',\n",
       "   'state': 'filled',\n",
       "   'stpId': '',\n",
       "   'stpMode': '',\n",
       "   'sz': '1',\n",
       "   'tag': '',\n",
       "   'tdMode': 'cash',\n",
       "   'tgtCcy': 'base_ccy',\n",
       "   'tpOrdPx': '',\n",
       "   'tpTriggerPx': '',\n",
       "   'tpTriggerPxType': '',\n",
       "   'tradeId': '35525405',\n",
       "   'uTime': '1698231111528'},\n",
       "  'msg': ''},\n",
       " 'set_order_result': {'code': '0',\n",
       "  'data': {'clOrdId': '',\n",
       "   'ordId': '637362709310636032',\n",
       "   'sCode': '0',\n",
       "   'sMsg': 'Order placed',\n",
       "   'tag': ''},\n",
       "  'inTime': '1698231111525668',\n",
       "  'msg': '',\n",
       "  'outTime': '1698231111527003'},\n",
       " 'error_result': None,\n",
       " 'cancel_result': None}"
      ]
     },
     "execution_count": 3,
     "metadata": {},
     "output_type": "execute_result"
    }
   ],
   "source": [
    "close_market2 = okxSPOT.trade.close_market(\n",
    "    instId='MANA-USDT',  # 产品\n",
    "    quantity='1',  # 平仓数量 (交易货币)\n",
    "    tag='',  # 订单标签\n",
    "    clOrdId='',  # 客户自定义订单ID\n",
    "    meta={},  # 向回调函数中传递的参数字典\n",
    ")\n",
    "\n",
    "close_market2"
   ]
  },
  {
   "cell_type": "markdown",
   "id": "6ac26488",
   "metadata": {},
   "source": [
    "## 3. 同步 市价平仓（卖出） 回调函数"
   ]
  },
  {
   "cell_type": "code",
   "execution_count": 4,
   "id": "b27916c2",
   "metadata": {},
   "outputs": [],
   "source": [
    "# 执行成功回调\n",
    "def callback3(information):\n",
    "    print('callback')\n",
    "    print(information)\n",
    "    \n",
    "# 执行错误回调\n",
    "def errorback3(information):\n",
    "    print('errorback')\n",
    "    print(information)"
   ]
  },
  {
   "cell_type": "code",
   "execution_count": 5,
   "id": "3bebe7fa",
   "metadata": {},
   "outputs": [
    {
     "name": "stdout",
     "output_type": "stream",
     "text": [
      "callback\n",
      "{'instType': 'SPOT', 'instId': 'MANA-USDT', 'state': 'filled', 'ordId': '637362715543371779', 'meta': {}, 'request_param': {'instId': 'MANA-USDT', 'tdMode': 'cash', 'side': 'sell', 'ordType': 'market', 'sz': '1', 'clOrdId': '', 'tag': ''}, 'func_param': {'instId': 'MANA-USDT', 'quantity': '1', 'meta': {}, 'timeout': 60, 'delay': 0.2, 'cancel': True, 'clOrdId': '', 'tag': '', 'newThread': False, 'callback': <function callback3 at 0x7fcb7119e040>, 'errorback': <function errorback3 at 0x7fcb7119e0d0>}, 'get_order_result': {'code': '0', 'data': {'accFillSz': '1', 'algoClOrdId': '', 'algoId': '', 'attachAlgoClOrdId': '', 'avgPx': '0.3452', 'cTime': '1698231113012', 'cancelSource': '', 'cancelSourceReason': '', 'category': 'normal', 'ccy': '', 'clOrdId': '', 'fee': '-0.0003452', 'feeCcy': 'USDT', 'fillPx': '0.3452', 'fillSz': '1', 'fillTime': '1698231113014', 'instId': 'MANA-USDT', 'instType': 'SPOT', 'lever': '', 'ordId': '637362715543371779', 'ordType': 'market', 'pnl': '0', 'posSide': 'net', 'px': '', 'pxType': '', 'pxUsd': '', 'pxVol': '', 'quickMgnType': '', 'rebate': '0', 'rebateCcy': 'MANA', 'reduceOnly': 'false', 'side': 'sell', 'slOrdPx': '', 'slTriggerPx': '', 'slTriggerPxType': '', 'source': '', 'state': 'filled', 'stpId': '', 'stpMode': '', 'sz': '1', 'tag': '', 'tdMode': 'cash', 'tgtCcy': 'base_ccy', 'tpOrdPx': '', 'tpTriggerPx': '', 'tpTriggerPxType': '', 'tradeId': '35525406', 'uTime': '1698231113015'}, 'msg': ''}, 'set_order_result': {'code': '0', 'data': {'clOrdId': '', 'ordId': '637362715543371779', 'sCode': '0', 'sMsg': 'Order placed', 'tag': ''}, 'inTime': '1698231113011535', 'msg': '', 'outTime': '1698231113013638'}, 'error_result': None, 'cancel_result': None}\n"
     ]
    }
   ],
   "source": [
    "# 设置callback和errorback\n",
    "close_market3 = okxSPOT.trade.close_market(\n",
    "    instId='MANA-USDT',  # 产品\n",
    "    quantity='1',  # 平仓数量 (交易货币) 'all' 表示全部可用数量\n",
    "    callback=callback3,  # 开仓成功触发的回调函数\n",
    "    errorback=errorback3,  # 开仓失败触发的回调函数\n",
    "    tag='',  # 订单标签\n",
    "    clOrdId='',  # 客户自定义订单ID\n",
    "    meta={},  # 向回调函数中传递的参数字典\n",
    ")"
   ]
  },
  {
   "cell_type": "markdown",
   "id": "e1e9eb66",
   "metadata": {},
   "source": [
    "## 4. 异步 市价平仓（卖出）回调函数"
   ]
  },
  {
   "cell_type": "code",
   "execution_count": 6,
   "id": "b339ab32",
   "metadata": {},
   "outputs": [],
   "source": [
    "# 执行成功回调\n",
    "def callback4(information):\n",
    "    print('thread callback')\n",
    "    print(information)\n",
    "    \n",
    "# 执行错误回调\n",
    "def errorback4(information):\n",
    "    print('thread errorback')\n",
    "    print(information)"
   ]
  },
  {
   "cell_type": "code",
   "execution_count": 7,
   "id": "13bdce47",
   "metadata": {},
   "outputs": [
    {
     "name": "stdout",
     "output_type": "stream",
     "text": [
      "---\n",
      "thread callback\n",
      "{'instType': 'SPOT', 'instId': 'MANA-USDT', 'state': 'filled', 'ordId': '637362782236999680', 'meta': {}, 'request_param': {'instId': 'MANA-USDT', 'tdMode': 'cash', 'side': 'sell', 'ordType': 'market', 'sz': '5.550800954', 'clOrdId': '', 'tag': ''}, 'func_param': {'instId': 'MANA-USDT', 'quantity': 'all', 'meta': {}, 'timeout': 60, 'delay': 0.2, 'cancel': True, 'clOrdId': '', 'tag': '', 'newThread': True, 'callback': <function callback4 at 0x7fcb7119e550>, 'errorback': <function errorback4 at 0x7fcb7119e8b0>}, 'get_order_result': {'code': '0', 'data': {'accFillSz': '5.5508', 'algoClOrdId': '', 'algoId': '', 'attachAlgoClOrdId': '', 'avgPx': '0.3453', 'cTime': '1698231128913', 'cancelSource': '', 'cancelSourceReason': '', 'category': 'normal', 'ccy': '', 'clOrdId': '', 'fee': '-0.00191669124', 'feeCcy': 'USDT', 'fillPx': '0.3453', 'fillSz': '5.5508', 'fillTime': '1698231128914', 'instId': 'MANA-USDT', 'instType': 'SPOT', 'lever': '', 'ordId': '637362782236999680', 'ordType': 'market', 'pnl': '0', 'posSide': 'net', 'px': '', 'pxType': '', 'pxUsd': '', 'pxVol': '', 'quickMgnType': '', 'rebate': '0', 'rebateCcy': 'MANA', 'reduceOnly': 'false', 'side': 'sell', 'slOrdPx': '', 'slTriggerPx': '', 'slTriggerPxType': '', 'source': '', 'state': 'filled', 'stpId': '', 'stpMode': '', 'sz': '5.5508', 'tag': '', 'tdMode': 'cash', 'tgtCcy': 'base_ccy', 'tpOrdPx': '', 'tpTriggerPx': '', 'tpTriggerPxType': '', 'tradeId': '35525407', 'uTime': '1698231128915'}, 'msg': ''}, 'set_order_result': {'code': '0', 'data': {'clOrdId': '', 'ordId': '637362782236999680', 'sCode': '0', 'sMsg': 'Order placed', 'tag': ''}, 'inTime': '1698231128912522', 'msg': '', 'outTime': '1698231128914842'}, 'error_result': None, 'cancel_result': None}\n"
     ]
    }
   ],
   "source": [
    "# newThread=True\n",
    "close_market4 = okxSPOT.trade.close_market(\n",
    "    instId='MANA-USDT',  # 产品\n",
    "    quantity='all',  # 平仓数量 (交易货币) 'all' 表示全部可用数量\n",
    "    callback=callback4,  # 开仓成功触发的回调函数\n",
    "    errorback=errorback4,  # 开仓失败触发的回调函数\n",
    "    newThread=True,  # 是否开启一个新的线程维护这个订单\n",
    "    tag='',  # 订单标签\n",
    "    clOrdId='',  # 客户自定义订单ID\n",
    "    meta={},  # 向回调函数中传递的参数字典\n",
    ")\n",
    "\n",
    "print('---')"
   ]
  }
 ],
 "metadata": {
  "kernelspec": {
   "display_name": "Python 3 (ipykernel)",
   "language": "python",
   "name": "python3"
  },
  "language_info": {
   "codemirror_mode": {
    "name": "ipython",
    "version": 3
   },
   "file_extension": ".py",
   "mimetype": "text/x-python",
   "name": "python",
   "nbconvert_exporter": "python",
   "pygments_lexer": "ipython3",
   "version": "3.8.4"
  }
 },
 "nbformat": 4,
 "nbformat_minor": 5
}
