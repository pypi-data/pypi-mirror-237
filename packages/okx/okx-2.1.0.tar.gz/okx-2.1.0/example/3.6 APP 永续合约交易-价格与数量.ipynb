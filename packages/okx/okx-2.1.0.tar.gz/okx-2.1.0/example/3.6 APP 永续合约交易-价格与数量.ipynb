{
 "cells": [
  {
   "cell_type": "code",
   "execution_count": 1,
   "id": "9d52b9bf",
   "metadata": {},
   "outputs": [],
   "source": [
    "from okx.app import OkxSWAP"
   ]
  },
  {
   "cell_type": "markdown",
   "id": "20a78b99",
   "metadata": {},
   "source": [
    "## 1. 实例化OkxSWAP"
   ]
  },
  {
   "cell_type": "code",
   "execution_count": 2,
   "id": "0082e06f",
   "metadata": {},
   "outputs": [
    {
     "name": "stdout",
     "output_type": "stream",
     "text": [
      "[SUCCESS] 设置持仓方式为双向持仓成功，posMode=\"long_short_mode\"\n"
     ]
    }
   ],
   "source": [
    "okxSWAP = OkxSWAP(\n",
    "    key=\"xxx\",\n",
    "    secret=\"xxx\",\n",
    "    passphrase=\"xxx\",\n",
    "    # 使用http和https代理，proxies={'http':'xxxxx','https:':'xxxxx'}，通requests中的proxies参数规则相同\n",
    "    proxies={},\n",
    "    # 转发：需搭建转发服务器，可参考：https://github.com/pyted/okx_resender\n",
    "    proxy_host=None, \n",
    ")"
   ]
  },
  {
   "cell_type": "markdown",
   "id": "460562da",
   "metadata": {},
   "source": [
    "## 2. 圆整下单数量（合约张数)"
   ]
  },
  {
   "cell_type": "code",
   "execution_count": 3,
   "id": "ea18f993",
   "metadata": {},
   "outputs": [
    {
     "data": {
      "text/plain": [
       "{'code': '0', 'data': 2, 'msg': ''}"
      ]
     },
     "execution_count": 3,
     "metadata": {},
     "output_type": "execute_result"
    }
   ],
   "source": [
    "round_quantity_result = okxSWAP.trade.round_quantity(\n",
    "    quantity=2.12323234234234,\n",
    "    instId='MANA-USDT-SWAP',\n",
    "    ordType='market',  # market | limit\n",
    ")\n",
    "round_quantity_result"
   ]
  },
  {
   "cell_type": "markdown",
   "id": "4092f918",
   "metadata": {},
   "source": [
    "## 3. 圆整下单价格\n",
    "\n",
    "FLOOR:向下圆整 CEIL:向上圆整"
   ]
  },
  {
   "cell_type": "code",
   "execution_count": 4,
   "id": "87a2a211",
   "metadata": {},
   "outputs": [
    {
     "data": {
      "text/plain": [
       "{'code': '0', 'data': 0.1231, 'msg': ''}"
      ]
     },
     "execution_count": 4,
     "metadata": {},
     "output_type": "execute_result"
    }
   ],
   "source": [
    "round_price_result = okxSWAP.trade.round_price(\n",
    "    price=0.123123123,\n",
    "    instId='MANA-USDT-SWAP',\n",
    "    type='FLOOR',  # FLOOR:向下圆整 CEIL:向上圆整\n",
    ")\n",
    "round_price_result"
   ]
  },
  {
   "cell_type": "markdown",
   "id": "3c403ad2",
   "metadata": {},
   "source": [
    "## 4. 根据开仓金额、开仓价格与杠杆计算最大可开仓数量（合约张数）"
   ]
  },
  {
   "cell_type": "code",
   "execution_count": 5,
   "id": "b0df7789",
   "metadata": {},
   "outputs": [
    {
     "data": {
      "text/plain": [
       "{'code': '0', 'data': 3, 'msg': ''}"
      ]
     },
     "execution_count": 5,
     "metadata": {},
     "output_type": "execute_result"
    }
   ],
   "source": [
    "get_quantity_result = okxSWAP.trade.get_quantity(\n",
    "    openPrice=0.14,\n",
    "    openMoney=1,\n",
    "    instId='MANA-USDT-SWAP',\n",
    "    ordType='limit',\n",
    "    leverage=5,\n",
    ")\n",
    "get_quantity_result"
   ]
  },
  {
   "cell_type": "markdown",
   "id": "41084077",
   "metadata": {},
   "source": [
    "## 5. 将下单数量转化为字符串\n",
    "\n",
    "避免向官方发送科学计数法规则的数字，字符串传输更安全"
   ]
  },
  {
   "cell_type": "code",
   "execution_count": 6,
   "id": "103ac72b",
   "metadata": {},
   "outputs": [
    {
     "data": {
      "text/plain": [
       "{'code': '0', 'data': '3', 'msg': ''}"
      ]
     },
     "execution_count": 6,
     "metadata": {},
     "output_type": "execute_result"
    }
   ],
   "source": [
    "quantity_to_f_result = okxSWAP.trade.quantity_to_f(\n",
    "    quantity=get_quantity_result['data'],\n",
    "    instId='MANA-USDT-SWAP',\n",
    ")\n",
    "quantity_to_f_result"
   ]
  },
  {
   "cell_type": "markdown",
   "id": "0f76803c",
   "metadata": {},
   "source": [
    "## 6. 将下单价格转化为字符串"
   ]
  },
  {
   "cell_type": "code",
   "execution_count": 7,
   "id": "bf173b4d",
   "metadata": {},
   "outputs": [
    {
     "data": {
      "text/plain": [
       "{'code': '0', 'data': '0.1231', 'msg': ''}"
      ]
     },
     "execution_count": 7,
     "metadata": {},
     "output_type": "execute_result"
    }
   ],
   "source": [
    "price_to_f_result = okxSWAP.trade.price_to_f(\n",
    "    price=round_price_result['data'],\n",
    "    instId='MANA-USDT-SWAP',\n",
    ")\n",
    "price_to_f_result"
   ]
  }
 ],
 "metadata": {
  "kernelspec": {
   "display_name": "Python 3 (ipykernel)",
   "language": "python",
   "name": "python3"
  },
  "language_info": {
   "codemirror_mode": {
    "name": "ipython",
    "version": 3
   },
   "file_extension": ".py",
   "mimetype": "text/x-python",
   "name": "python",
   "nbconvert_exporter": "python",
   "pygments_lexer": "ipython3",
   "version": "3.8.4"
  }
 },
 "nbformat": 4,
 "nbformat_minor": 5
}
