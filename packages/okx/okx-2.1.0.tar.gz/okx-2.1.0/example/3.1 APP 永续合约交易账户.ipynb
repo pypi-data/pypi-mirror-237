{
 "cells": [
  {
   "cell_type": "code",
   "execution_count": 1,
   "id": "67737d7b",
   "metadata": {},
   "outputs": [],
   "source": [
    "from okx.app import OkxSWAP\n",
    "from okx.app import AccountSWAP"
   ]
  },
  {
   "cell_type": "markdown",
   "id": "a7f06f28",
   "metadata": {},
   "source": [
    "## 1. 实例化OkxSWAP"
   ]
  },
  {
   "cell_type": "code",
   "execution_count": 2,
   "id": "07d9b5d2",
   "metadata": {},
   "outputs": [
    {
     "name": "stdout",
     "output_type": "stream",
     "text": [
      "[SUCCESS] 设置持仓方式为双向持仓成功，posMode=\"long_short_mode\"\n"
     ]
    }
   ],
   "source": [
    "# okxSWAP.account 等同于 accountSWAP\n",
    "# 实例化okxSWAP会设置持仓模式为双向持仓\n",
    "okxSWAP = OkxSWAP(\n",
    "    key=\"xxx\",\n",
    "    secret=\"xxx\",\n",
    "    passphrase=\"xxx\",\n",
    "    # 使用http和https代理，proxies={'http':'xxxxx','https:':'xxxxx'}，通requests中的proxies参数规则相同\n",
    "    proxies={},\n",
    "    # 转发：需搭建转发服务器，可参考：https://github.com/pyted/okx_resender\n",
    "    proxy_host=None, \n",
    ")\n",
    "# accountSWAP = AccountSWAP(\n",
    "#     key=\"xxx\",\n",
    "#     secret=\"xxx\",\n",
    "#     passphrase=\"xxx\",\n",
    "#     # 使用http和https代理，proxies={'http':'xxxxx','https:':'xxxxx'}，通requests中的proxies参数规则相同\n",
    "#     proxies={},\n",
    "#     # 转发：需搭建转发服务器，可参考：https://github.com/pyted/okx_resender\n",
    "#     proxy_host=None, \n",
    "# )\n",
    "\n",
    "# 如果有挂单，会提示“设置持仓方式为双向持仓失败”，如果你的持仓模式已经是双向持仓，可以忽略这个警告"
   ]
  },
  {
   "cell_type": "markdown",
   "id": "b3e914f4",
   "metadata": {},
   "source": [
    "## 2. 获取币种的余额"
   ]
  },
  {
   "cell_type": "code",
   "execution_count": 3,
   "id": "8186f1a3",
   "metadata": {},
   "outputs": [
    {
     "data": {
      "text/plain": [
       "{'code': '0',\n",
       " 'data': {'adjEq': '',\n",
       "  'borrowFroz': '',\n",
       "  'details': {'availBal': '99.86963523687034',\n",
       "   'availEq': '99.86963523687034',\n",
       "   'borrowFroz': '',\n",
       "   'cashBal': '99.86963523687034',\n",
       "   'ccy': 'USDT',\n",
       "   'crossLiab': '',\n",
       "   'disEq': '99.8995961274414',\n",
       "   'eq': '99.86963523687034',\n",
       "   'eqUsd': '99.8995961274414',\n",
       "   'fixedBal': '0',\n",
       "   'frozenBal': '0',\n",
       "   'interest': '',\n",
       "   'isoEq': '0',\n",
       "   'isoLiab': '',\n",
       "   'isoUpl': '0',\n",
       "   'liab': '',\n",
       "   'maxLoan': '',\n",
       "   'mgnRatio': '',\n",
       "   'notionalLever': '0',\n",
       "   'ordFrozen': '0',\n",
       "   'spotInUseAmt': '',\n",
       "   'spotIsoBal': '0',\n",
       "   'stgyEq': '0',\n",
       "   'twap': '0',\n",
       "   'uTime': '1698231128915',\n",
       "   'upl': '0',\n",
       "   'uplLiab': ''},\n",
       "  'imr': '',\n",
       "  'isoEq': '0',\n",
       "  'mgnRatio': '',\n",
       "  'mmr': '',\n",
       "  'notionalUsd': '',\n",
       "  'ordFroz': '',\n",
       "  'totalEq': '100.03705109002438',\n",
       "  'uTime': '1698231734055'},\n",
       " 'msg': ''}"
      ]
     },
     "execution_count": 3,
     "metadata": {},
     "output_type": "execute_result"
    }
   ],
   "source": [
    "get_balance = okxSWAP.account.get_balance(instId='USDT')\n",
    "\n",
    "get_balance"
   ]
  },
  {
   "cell_type": "markdown",
   "id": "74aab4c9",
   "metadata": {},
   "source": [
    "## 3. 设置持仓模式"
   ]
  },
  {
   "cell_type": "code",
   "execution_count": 4,
   "id": "c140c281",
   "metadata": {},
   "outputs": [
    {
     "data": {
      "text/plain": [
       "{'code': '0', 'data': {'posMode': 'long_short_mode'}, 'msg': ''}"
      ]
     },
     "execution_count": 4,
     "metadata": {},
     "output_type": "execute_result"
    }
   ],
   "source": [
    "set_position_mode = okxSWAP.account.set_position_mode(\n",
    "    posMode='long_short_mode',\n",
    ")\n",
    "\n",
    "set_position_mode"
   ]
  },
  {
   "cell_type": "markdown",
   "id": "8410cc93",
   "metadata": {},
   "source": [
    "## 4. 设置逐仓杠杆（多仓）"
   ]
  },
  {
   "cell_type": "code",
   "execution_count": 5,
   "id": "d05d7e0d",
   "metadata": {},
   "outputs": [
    {
     "data": {
      "text/plain": [
       "{'code': '0',\n",
       " 'data': [{'instId': 'MANA-USDT-SWAP',\n",
       "   'lever': '1',\n",
       "   'mgnMode': 'isolated',\n",
       "   'posSide': 'long'}],\n",
       " 'msg': ''}"
      ]
     },
     "execution_count": 5,
     "metadata": {},
     "output_type": "execute_result"
    }
   ],
   "source": [
    "set_leverage_isolated_long = okxSWAP.account.set_leverage(\n",
    "    lever=1,\n",
    "    instId='MANA-USDT-SWAP',\n",
    "    mgnMode='isolated',\n",
    "    posSide='long',\n",
    ")\n",
    "\n",
    "set_leverage_isolated_long"
   ]
  },
  {
   "cell_type": "markdown",
   "id": "6449fa74",
   "metadata": {},
   "source": [
    "## 5. 设置逐仓杠杆（空仓）"
   ]
  },
  {
   "cell_type": "code",
   "execution_count": 6,
   "id": "55825fb2",
   "metadata": {},
   "outputs": [
    {
     "data": {
      "text/plain": [
       "{'code': '0',\n",
       " 'data': [{'instId': 'MANA-USDT-SWAP',\n",
       "   'lever': '1',\n",
       "   'mgnMode': 'isolated',\n",
       "   'posSide': 'short'}],\n",
       " 'msg': ''}"
      ]
     },
     "execution_count": 6,
     "metadata": {},
     "output_type": "execute_result"
    }
   ],
   "source": [
    "set_leverage_isolated_short = okxSWAP.account.set_leverage(\n",
    "    lever=1,\n",
    "    instId='MANA-USDT-SWAP',\n",
    "    mgnMode='isolated',\n",
    "    posSide='short',\n",
    ")\n",
    "\n",
    "set_leverage_isolated_short"
   ]
  },
  {
   "cell_type": "markdown",
   "id": "c1ce97b5",
   "metadata": {},
   "source": [
    "## 6. 获取逐仓杠杆"
   ]
  },
  {
   "cell_type": "code",
   "execution_count": 7,
   "id": "53f7839a",
   "metadata": {},
   "outputs": [
    {
     "data": {
      "text/plain": [
       "{'code': '0',\n",
       " 'data': {'long': {'instId': 'MANA-USDT-SWAP',\n",
       "   'lever': '1',\n",
       "   'mgnMode': 'isolated',\n",
       "   'posSide': 'long'},\n",
       "  'short': {'instId': 'MANA-USDT-SWAP',\n",
       "   'lever': '1',\n",
       "   'mgnMode': 'isolated',\n",
       "   'posSide': 'short'}},\n",
       " 'msg': ''}"
      ]
     },
     "execution_count": 7,
     "metadata": {},
     "output_type": "execute_result"
    }
   ],
   "source": [
    "get_leverage_isolated = okxSWAP.account.get_leverage(\n",
    "    instId='MANA-USDT-SWAP',\n",
    "    mgnMode='isolated',\n",
    ")\n",
    "\n",
    "get_leverage_isolated"
   ]
  },
  {
   "cell_type": "markdown",
   "id": "41e3744d",
   "metadata": {},
   "source": [
    "## 7. 设置全仓杠杆\n",
    "\n",
    "全仓开多与开空的杠杆倍数需一起设置"
   ]
  },
  {
   "cell_type": "code",
   "execution_count": 8,
   "id": "98f6728b",
   "metadata": {},
   "outputs": [
    {
     "data": {
      "text/plain": [
       "{'code': '0',\n",
       " 'data': [{'instId': 'MANA-USDT-SWAP',\n",
       "   'lever': '4',\n",
       "   'mgnMode': 'cross',\n",
       "   'posSide': ''}],\n",
       " 'msg': ''}"
      ]
     },
     "execution_count": 8,
     "metadata": {},
     "output_type": "execute_result"
    }
   ],
   "source": [
    "set_leverage_cross = okxSWAP.account.set_leverage(\n",
    "    lever=4,\n",
    "    instId='MANA-USDT-SWAP',\n",
    "    mgnMode='cross',\n",
    "    posSide='',\n",
    ")\n",
    "\n",
    "set_leverage_cross"
   ]
  },
  {
   "cell_type": "markdown",
   "id": "2b2f1a69",
   "metadata": {},
   "source": [
    "## 8. 获取全仓杠杆"
   ]
  },
  {
   "cell_type": "code",
   "execution_count": 9,
   "id": "82d87333",
   "metadata": {},
   "outputs": [
    {
     "data": {
      "text/plain": [
       "{'code': '0',\n",
       " 'data': {'long': {'instId': 'MANA-USDT-SWAP',\n",
       "   'lever': '4',\n",
       "   'mgnMode': 'cross',\n",
       "   'posSide': 'long'},\n",
       "  'short': {'instId': 'MANA-USDT-SWAP',\n",
       "   'lever': '4',\n",
       "   'mgnMode': 'cross',\n",
       "   'posSide': 'short'}},\n",
       " 'msg': ''}"
      ]
     },
     "execution_count": 9,
     "metadata": {},
     "output_type": "execute_result"
    }
   ],
   "source": [
    "get_leverage_cross = okxSWAP.account.get_leverage(\n",
    "    instId='MANA-USDT-SWAP',\n",
    "    mgnMode='cross',\n",
    ")\n",
    "\n",
    "get_leverage_cross"
   ]
  }
 ],
 "metadata": {
  "kernelspec": {
   "display_name": "Python 3 (ipykernel)",
   "language": "python",
   "name": "python3"
  },
  "language_info": {
   "codemirror_mode": {
    "name": "ipython",
    "version": 3
   },
   "file_extension": ".py",
   "mimetype": "text/x-python",
   "name": "python",
   "nbconvert_exporter": "python",
   "pygments_lexer": "ipython3",
   "version": "3.8.4"
  }
 },
 "nbformat": 4,
 "nbformat_minor": 5
}
