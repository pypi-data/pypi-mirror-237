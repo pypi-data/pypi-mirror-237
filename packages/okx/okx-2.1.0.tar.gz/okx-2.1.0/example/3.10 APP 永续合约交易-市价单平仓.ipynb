{
 "cells": [
  {
   "cell_type": "code",
   "execution_count": 1,
   "id": "fb3e9b31",
   "metadata": {},
   "outputs": [],
   "source": [
    "from okx.app import OkxSWAP"
   ]
  },
  {
   "cell_type": "markdown",
   "id": "1b132314",
   "metadata": {},
   "source": [
    "## 1. 实例化OkxSWAP"
   ]
  },
  {
   "cell_type": "code",
   "execution_count": 2,
   "id": "2e260995",
   "metadata": {},
   "outputs": [
    {
     "name": "stdout",
     "output_type": "stream",
     "text": [
      "[FAILURE] 设置持仓方式为双向持仓失败，请手动设置：posMode=\"long_short_mode\"\n"
     ]
    }
   ],
   "source": [
    "okxSWAP= OkxSWAP(\n",
    "    key=\"xxx\",\n",
    "    secret=\"xxx\",\n",
    "    passphrase=\"xxx\",\n",
    "    # 使用http和https代理，proxies={'http':'xxxxx','https:':'xxxxx'}，通requests中的proxies参数规则相同\n",
    "    proxies={},\n",
    "    # 转发：需搭建转发服务器，可参考：https://github.com/pyted/okx_resender\n",
    "    proxy_host=None, \n",
    ")"
   ]
  },
  {
   "cell_type": "markdown",
   "id": "259d00eb",
   "metadata": {},
   "source": [
    "## 2. 同步 市价平仓"
   ]
  },
  {
   "cell_type": "code",
   "execution_count": 3,
   "id": "88048596",
   "metadata": {},
   "outputs": [
    {
     "data": {
      "text/plain": [
       "{'instType': 'SWAP',\n",
       " 'instId': 'MANA-USDT-SWAP',\n",
       " 'state': 'filled',\n",
       " 'ordId': '637387652035411968',\n",
       " 'meta': {},\n",
       " 'request_param': {'instId': 'MANA-USDT-SWAP',\n",
       "  'tdMode': 'isolated',\n",
       "  'posSide': 'long',\n",
       "  'side': 'sell',\n",
       "  'ordType': 'market',\n",
       "  'sz': '1',\n",
       "  'clOrdId': '',\n",
       "  'tag': ''},\n",
       " 'func_param': {'instId': 'MANA-USDT-SWAP',\n",
       "  'tdMode': 'isolated',\n",
       "  'posSide': 'long',\n",
       "  'quantityCT': '1',\n",
       "  'meta': {},\n",
       "  'timeout': 60,\n",
       "  'delay': 0.2,\n",
       "  'cancel': True,\n",
       "  'clOrdId': '',\n",
       "  'tag': '',\n",
       "  'newThread': False,\n",
       "  'callback': None,\n",
       "  'errorback': None},\n",
       " 'get_order_result': {'code': '0',\n",
       "  'data': {'accFillSz': '1',\n",
       "   'algoClOrdId': '',\n",
       "   'algoId': '',\n",
       "   'attachAlgoClOrdId': '',\n",
       "   'avgPx': '0.3448',\n",
       "   'cTime': '1698237058335',\n",
       "   'cancelSource': '',\n",
       "   'cancelSourceReason': '',\n",
       "   'category': 'normal',\n",
       "   'ccy': '',\n",
       "   'clOrdId': '',\n",
       "   'fee': '-0.001724',\n",
       "   'feeCcy': 'USDT',\n",
       "   'fillPx': '0.3448',\n",
       "   'fillSz': '1',\n",
       "   'fillTime': '1698237058336',\n",
       "   'instId': 'MANA-USDT-SWAP',\n",
       "   'instType': 'SWAP',\n",
       "   'lever': '1',\n",
       "   'ordId': '637387652035411968',\n",
       "   'ordType': 'market',\n",
       "   'pnl': '-0.001200000000001',\n",
       "   'posSide': 'long',\n",
       "   'px': '',\n",
       "   'pxType': '',\n",
       "   'pxUsd': '',\n",
       "   'pxVol': '',\n",
       "   'quickMgnType': '',\n",
       "   'rebate': '0',\n",
       "   'rebateCcy': 'USDT',\n",
       "   'reduceOnly': 'true',\n",
       "   'side': 'sell',\n",
       "   'slOrdPx': '',\n",
       "   'slTriggerPx': '',\n",
       "   'slTriggerPxType': '',\n",
       "   'source': '',\n",
       "   'state': 'filled',\n",
       "   'stpId': '',\n",
       "   'stpMode': '',\n",
       "   'sz': '1',\n",
       "   'tag': '',\n",
       "   'tdMode': 'isolated',\n",
       "   'tgtCcy': '',\n",
       "   'tpOrdPx': '',\n",
       "   'tpTriggerPx': '',\n",
       "   'tpTriggerPxType': '',\n",
       "   'tradeId': '78498827',\n",
       "   'uTime': '1698237058338'},\n",
       "  'msg': ''},\n",
       " 'set_order_result': {'code': '0',\n",
       "  'data': {'clOrdId': '',\n",
       "   'ordId': '637387652035411968',\n",
       "   'sCode': '0',\n",
       "   'sMsg': 'Order placed',\n",
       "   'tag': ''},\n",
       "  'inTime': '1698237058334435',\n",
       "  'msg': '',\n",
       "  'outTime': '1698237058336544'},\n",
       " 'error_result': None,\n",
       " 'cancel_result': None}"
      ]
     },
     "execution_count": 3,
     "metadata": {},
     "output_type": "execute_result"
    }
   ],
   "source": [
    "close_market2 = okxSWAP.trade.close_market(\n",
    "    instId='MANA-USDT-SWAP',  # 产品\n",
    "    tdMode='isolated',  # 持仓方式 isolated：逐仓 cross：全仓\n",
    "    posSide='long',  # 持仓方向 long：多单 short：空单\n",
    "    quantityCT='1',  # 平仓数量，注意：quantityCT是合约的张数，不是货币数量\n",
    "    tag='',  # 订单标签\n",
    "    clOrdId='',  # 客户自定义订单ID\n",
    "    meta={},  # 向回调函数中传递的参数字典\n",
    ")\n",
    "\n",
    "close_market2"
   ]
  },
  {
   "cell_type": "markdown",
   "id": "301df2f2",
   "metadata": {},
   "source": [
    "## 3. 同步 市价平仓 回调函数"
   ]
  },
  {
   "cell_type": "code",
   "execution_count": 4,
   "id": "95e7cc8e",
   "metadata": {},
   "outputs": [],
   "source": [
    "# 执行成功回调\n",
    "def callback3(information):\n",
    "    print('callback')\n",
    "    print(information)\n",
    "    \n",
    "# 执行错误回调\n",
    "def errorback3(information):\n",
    "    print('errorback')\n",
    "    print(information)"
   ]
  },
  {
   "cell_type": "code",
   "execution_count": 5,
   "id": "fae0c5fd",
   "metadata": {},
   "outputs": [
    {
     "name": "stdout",
     "output_type": "stream",
     "text": [
      "callback\n",
      "{'instType': 'SWAP', 'instId': 'MANA-USDT-SWAP', 'state': 'filled', 'ordId': '637387822852636688', 'meta': {}, 'request_param': {'instId': 'MANA-USDT-SWAP', 'tdMode': 'isolated', 'posSide': 'long', 'side': 'sell', 'ordType': 'market', 'sz': '1', 'clOrdId': '', 'tag': ''}, 'func_param': {'instId': 'MANA-USDT-SWAP', 'tdMode': 'isolated', 'posSide': 'long', 'quantityCT': '1', 'meta': {}, 'timeout': 60, 'delay': 0.2, 'cancel': True, 'clOrdId': '', 'tag': '', 'newThread': False, 'callback': <function callback3 at 0x7fe800f67430>, 'errorback': <function errorback3 at 0x7fe800f67310>}, 'get_order_result': {'code': '0', 'data': {'accFillSz': '1', 'algoClOrdId': '', 'algoId': '', 'attachAlgoClOrdId': '', 'avgPx': '0.3449', 'cTime': '1698237099061', 'cancelSource': '', 'cancelSourceReason': '', 'category': 'normal', 'ccy': '', 'clOrdId': '', 'fee': '-0.0017245', 'feeCcy': 'USDT', 'fillPx': '0.3449', 'fillSz': '1', 'fillTime': '1698237099062', 'instId': 'MANA-USDT-SWAP', 'instType': 'SWAP', 'lever': '1', 'ordId': '637387822852636688', 'ordType': 'market', 'pnl': '-0.000200000000001', 'posSide': 'long', 'px': '', 'pxType': '', 'pxUsd': '', 'pxVol': '', 'quickMgnType': '', 'rebate': '0', 'rebateCcy': 'USDT', 'reduceOnly': 'true', 'side': 'sell', 'slOrdPx': '', 'slTriggerPx': '', 'slTriggerPxType': '', 'source': '', 'state': 'filled', 'stpId': '', 'stpMode': '', 'sz': '1', 'tag': '', 'tdMode': 'isolated', 'tgtCcy': '', 'tpOrdPx': '', 'tpTriggerPx': '', 'tpTriggerPxType': '', 'tradeId': '78498856', 'uTime': '1698237099064'}, 'msg': ''}, 'set_order_result': {'code': '0', 'data': {'clOrdId': '', 'ordId': '637387822852636688', 'sCode': '0', 'sMsg': 'Order placed', 'tag': ''}, 'inTime': '1698237099060657', 'msg': '', 'outTime': '1698237099062864'}, 'error_result': None, 'cancel_result': None}\n"
     ]
    }
   ],
   "source": [
    "# 设置callback和errorback\n",
    "close_market3 = okxSWAP.trade.close_market(\n",
    "    instId='MANA-USDT-SWAP',  # 产品\n",
    "    tdMode='isolated',  # 持仓方式 isolated：逐仓 cross：全仓\n",
    "    posSide='long',  # 持仓方向 long：多单 short：空单\n",
    "    quantityCT='1',  # 平仓数量，注意：quantityCT是合约的张数，不是货币数量\n",
    "    callback=callback3,  # 开仓成功触发的回调函数\n",
    "    errorback=errorback3,  # 开仓失败触发的回调函数\n",
    "    tag='',  # 订单标签\n",
    "    clOrdId='',  # 客户自定义订单ID\n",
    "    meta={},  # 向回调函数中传递的参数字典\n",
    ")"
   ]
  },
  {
   "cell_type": "markdown",
   "id": "3adf1198",
   "metadata": {},
   "source": [
    "## 4. 异步 市价平仓 回调函数"
   ]
  },
  {
   "cell_type": "code",
   "execution_count": 6,
   "id": "dbbd3377",
   "metadata": {},
   "outputs": [],
   "source": [
    "# 执行成功回调\n",
    "def callback4(information):\n",
    "    print('thread callback')\n",
    "    print(information)\n",
    "    \n",
    "# 执行错误回调\n",
    "def errorback4(information):\n",
    "    print('thread errorback')\n",
    "    print(information)"
   ]
  },
  {
   "cell_type": "code",
   "execution_count": 7,
   "id": "d844a5ff",
   "metadata": {},
   "outputs": [
    {
     "data": {
      "text/plain": [
       "<Thread(Thread-5, started 123145513701376)>"
      ]
     },
     "execution_count": 7,
     "metadata": {},
     "output_type": "execute_result"
    },
    {
     "name": "stdout",
     "output_type": "stream",
     "text": [
      "thread callback\n",
      "{'instType': 'SWAP', 'instId': 'MANA-USDT-SWAP', 'state': 'filled', 'ordId': '637388135340867590', 'meta': {}, 'request_param': {'instId': 'MANA-USDT-SWAP', 'tdMode': 'isolated', 'posSide': 'long', 'side': 'sell', 'ordType': 'market', 'sz': '3', 'clOrdId': '', 'tag': ''}, 'func_param': {'instId': 'MANA-USDT-SWAP', 'tdMode': 'isolated', 'posSide': 'long', 'quantityCT': 'all', 'meta': {}, 'timeout': 60, 'delay': 0.2, 'cancel': True, 'clOrdId': '', 'tag': '', 'newThread': True, 'callback': <function callback4 at 0x7fe800f670d0>, 'errorback': <function errorback4 at 0x7fe800f674c0>}, 'get_order_result': {'code': '0', 'data': {'accFillSz': '3', 'algoClOrdId': '', 'algoId': '', 'attachAlgoClOrdId': '', 'avgPx': '0.3448', 'cTime': '1698237173564', 'cancelSource': '', 'cancelSourceReason': '', 'category': 'normal', 'ccy': '', 'clOrdId': '', 'fee': '-0.005172', 'feeCcy': 'USDT', 'fillPx': '0.3448', 'fillSz': '3', 'fillTime': '1698237173565', 'instId': 'MANA-USDT-SWAP', 'instType': 'SWAP', 'lever': '1', 'ordId': '637388135340867590', 'ordType': 'market', 'pnl': '-0.003600000000003', 'posSide': 'long', 'px': '', 'pxType': '', 'pxUsd': '', 'pxVol': '', 'quickMgnType': '', 'rebate': '0', 'rebateCcy': 'USDT', 'reduceOnly': 'true', 'side': 'sell', 'slOrdPx': '', 'slTriggerPx': '', 'slTriggerPxType': '', 'source': '', 'state': 'filled', 'stpId': '', 'stpMode': '', 'sz': '3', 'tag': '', 'tdMode': 'isolated', 'tgtCcy': '', 'tpOrdPx': '', 'tpTriggerPx': '', 'tpTriggerPxType': '', 'tradeId': '78498885', 'uTime': '1698237173567'}, 'msg': ''}, 'set_order_result': {'code': '0', 'data': {'clOrdId': '', 'ordId': '637388135340867590', 'sCode': '0', 'sMsg': 'Order placed', 'tag': ''}, 'inTime': '1698237173562848', 'msg': '', 'outTime': '1698237173565439'}, 'error_result': None, 'cancel_result': None}\n"
     ]
    }
   ],
   "source": [
    "# newThread=True\n",
    "# quantityCT = 'all' 使用全部可用张数\n",
    "close_market4 = okxSWAP.trade.close_market(\n",
    "    instId='MANA-USDT-SWAP',  # 产品\n",
    "    tdMode='isolated',  # 持仓方式 isolated：逐仓 cross：全仓\n",
    "    posSide='long',  # 持仓方向 long：多单 short：空单\n",
    "    quantityCT='all',  # 平仓数量，注意：quantityCT是合约的张数，不是货币数量\n",
    "    callback=callback4,  # 开仓成功触发的回调函数\n",
    "    errorback=errorback4,  # 开仓失败触发的回调函数\n",
    "    newThread=True,  # 是否开启一个新的线程维护这个订单\n",
    "    tag='',  # 订单标签\n",
    "    clOrdId='',  # 客户自定义订单ID\n",
    "    meta={},  # 向回调函数中传递的参数字典\n",
    ")\n",
    "\n",
    "close_market4"
   ]
  }
 ],
 "metadata": {
  "kernelspec": {
   "display_name": "Python 3 (ipykernel)",
   "language": "python",
   "name": "python3"
  },
  "language_info": {
   "codemirror_mode": {
    "name": "ipython",
    "version": 3
   },
   "file_extension": ".py",
   "mimetype": "text/x-python",
   "name": "python",
   "nbconvert_exporter": "python",
   "pygments_lexer": "ipython3",
   "version": "3.8.4"
  }
 },
 "nbformat": 4,
 "nbformat_minor": 5
}
