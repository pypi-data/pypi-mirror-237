{
 "cells": [
  {
   "cell_type": "code",
   "execution_count": 1,
   "id": "a17c1910",
   "metadata": {},
   "outputs": [],
   "source": [
    "from okx.app import OkxSPOT"
   ]
  },
  {
   "cell_type": "markdown",
   "id": "0255631e",
   "metadata": {},
   "source": [
    "## 1. 实例化OkxSPOT"
   ]
  },
  {
   "cell_type": "code",
   "execution_count": 2,
   "id": "7de04591",
   "metadata": {},
   "outputs": [],
   "source": [
    "okxSPOT = OkxSPOT(\n",
    "    key=\"xxx\",\n",
    "    secret=\"xxx\",\n",
    "    passphrase=\"xxx\",\n",
    "    # 使用http和https代理，proxies={'http':'xxxxx','https:':'xxxxx'}，通requests中的proxies参数规则相同\n",
    "    proxies={},\n",
    "    # 转发：需搭建转发服务器，可参考：https://github.com/pyted/okx_resender\n",
    "    proxy_host=None, \n",
    ")"
   ]
  },
  {
   "cell_type": "markdown",
   "id": "54a9a063",
   "metadata": {},
   "source": [
    "## 2. 同步 非堵塞 固定价格平仓（卖出）"
   ]
  },
  {
   "cell_type": "code",
   "execution_count": 3,
   "id": "404b491f",
   "metadata": {},
   "outputs": [
    {
     "data": {
      "text/plain": [
       "{'instType': 'SPOT',\n",
       " 'instId': 'MANA-USDT',\n",
       " 'state': None,\n",
       " 'ordId': '637286444754956288',\n",
       " 'meta': {},\n",
       " 'request_param': {'instId': 'MANA-USDT',\n",
       "  'tdMode': 'cash',\n",
       "  'side': 'sell',\n",
       "  'ordType': 'limit',\n",
       "  'sz': '1',\n",
       "  'clOrdId': '',\n",
       "  'tag': '',\n",
       "  'px': '10.0000'},\n",
       " 'func_param': {'instId': 'MANA-USDT',\n",
       "  'closePrice': 10,\n",
       "  'tpRate': None,\n",
       "  'quantity': '1',\n",
       "  'meta': {},\n",
       "  'block': False,\n",
       "  'timeout': 60,\n",
       "  'delay': 0.2,\n",
       "  'cancel': True,\n",
       "  'clOrdId': '',\n",
       "  'tag': '',\n",
       "  'newThread': False,\n",
       "  'callback': None,\n",
       "  'errorback': None},\n",
       " 'get_order_result': None,\n",
       " 'set_order_result': {'code': '0',\n",
       "  'data': {'clOrdId': '',\n",
       "   'ordId': '637286444754956288',\n",
       "   'sCode': '0',\n",
       "   'sMsg': 'Order placed',\n",
       "   'tag': ''},\n",
       "  'inTime': '1698212928637947',\n",
       "  'msg': '',\n",
       "  'outTime': '1698212928640087'},\n",
       " 'error_result': None,\n",
       " 'cancel_result': None}"
      ]
     },
     "execution_count": 3,
     "metadata": {},
     "output_type": "execute_result"
    }
   ],
   "source": [
    "# block = False\n",
    "close_limit2 = okxSPOT.trade.close_limit(\n",
    "    instId='MANA-USDT',  # 产品\n",
    "    closePrice=10,  # 平仓价格 closePrice 和 tpRate必须填写其中一个\n",
    "    # tpRate=0.1,  # 挂单止盈率\n",
    "    quantity='1',  # 平仓数量（交易货币） \n",
    "    block=False,  # 是否以堵塞的模式\n",
    "    tag='',  # 订单标签\n",
    "    clOrdId='',  # 客户自定义订单ID\n",
    "    meta={},  # 向回调函数中传递的参数字典\n",
    ")\n",
    "\n",
    "close_limit2"
   ]
  },
  {
   "cell_type": "markdown",
   "id": "9b020872",
   "metadata": {},
   "source": [
    "## 3. 同步 非堵塞 止盈价格平仓（卖出）\n",
    "\n",
    "以当前价格作为基准，按照止盈率挂单卖出"
   ]
  },
  {
   "cell_type": "code",
   "execution_count": 4,
   "id": "1f808d9c",
   "metadata": {},
   "outputs": [
    {
     "data": {
      "text/plain": [
       "{'instType': 'SPOT',\n",
       " 'instId': 'MANA-USDT',\n",
       " 'state': None,\n",
       " 'ordId': '637286447615471616',\n",
       " 'meta': {},\n",
       " 'request_param': {'instId': 'MANA-USDT',\n",
       "  'tdMode': 'cash',\n",
       "  'side': 'sell',\n",
       "  'ordType': 'limit',\n",
       "  'sz': '1',\n",
       "  'clOrdId': '',\n",
       "  'tag': '',\n",
       "  'px': '0.3788'},\n",
       " 'func_param': {'instId': 'MANA-USDT',\n",
       "  'closePrice': None,\n",
       "  'tpRate': 0.1,\n",
       "  'quantity': '1',\n",
       "  'meta': {},\n",
       "  'block': False,\n",
       "  'timeout': 60,\n",
       "  'delay': 0.2,\n",
       "  'cancel': True,\n",
       "  'clOrdId': '',\n",
       "  'tag': '',\n",
       "  'newThread': False,\n",
       "  'callback': None,\n",
       "  'errorback': None},\n",
       " 'get_order_result': None,\n",
       " 'set_order_result': {'code': '0',\n",
       "  'data': {'clOrdId': '',\n",
       "   'ordId': '637286447615471616',\n",
       "   'sCode': '0',\n",
       "   'sMsg': 'Order placed',\n",
       "   'tag': ''},\n",
       "  'inTime': '1698212929320438',\n",
       "  'msg': '',\n",
       "  'outTime': '1698212929322557'},\n",
       " 'error_result': None,\n",
       " 'cancel_result': None}"
      ]
     },
     "execution_count": 4,
     "metadata": {},
     "output_type": "execute_result"
    }
   ],
   "source": [
    "# 设置tpRate = 0.1，止盈率为10%\n",
    "close_limit3 = okxSPOT.trade.close_limit(\n",
    "    instId='MANA-USDT',  # 产品\n",
    "    # closePrice=10,  # 平仓价格 closePrice 和 tpRate必须填写其中一个\n",
    "    tpRate=0.1,  # 挂单止盈率\n",
    "    quantity='1',  # 平仓数量（交易货币） \n",
    "    block=False,  # 是否以堵塞的模式\n",
    "    tag='',  # 订单标签\n",
    "    clOrdId='',  # 客户自定义订单ID\n",
    "    meta={},  # 向回调函数中传递的参数字典\n",
    ")\n",
    "\n",
    "close_limit3"
   ]
  },
  {
   "cell_type": "markdown",
   "id": "3968eea3",
   "metadata": {},
   "source": [
    "## 4. 同步 堵塞 止盈价格平仓（卖出） 超时取消"
   ]
  },
  {
   "cell_type": "code",
   "execution_count": 5,
   "id": "80c3638a",
   "metadata": {},
   "outputs": [
    {
     "data": {
      "text/plain": [
       "{'instType': 'SPOT',\n",
       " 'instId': 'MANA-USDT',\n",
       " 'state': 'canceled',\n",
       " 'ordId': '637286451876884485',\n",
       " 'meta': {},\n",
       " 'request_param': {'instId': 'MANA-USDT',\n",
       "  'tdMode': 'cash',\n",
       "  'side': 'sell',\n",
       "  'ordType': 'limit',\n",
       "  'sz': '7.550800954',\n",
       "  'clOrdId': '',\n",
       "  'tag': '',\n",
       "  'px': '0.3788'},\n",
       " 'func_param': {'instId': 'MANA-USDT',\n",
       "  'closePrice': None,\n",
       "  'tpRate': 0.1,\n",
       "  'quantity': 'all',\n",
       "  'meta': {},\n",
       "  'block': True,\n",
       "  'timeout': 5,\n",
       "  'delay': 0.2,\n",
       "  'cancel': True,\n",
       "  'clOrdId': '',\n",
       "  'tag': '',\n",
       "  'newThread': False,\n",
       "  'callback': None,\n",
       "  'errorback': None},\n",
       " 'get_order_result': {'code': '0',\n",
       "  'data': {'accFillSz': '0',\n",
       "   'algoClOrdId': '',\n",
       "   'algoId': '',\n",
       "   'attachAlgoClOrdId': '',\n",
       "   'avgPx': '',\n",
       "   'cTime': '1698212930337',\n",
       "   'cancelSource': '1',\n",
       "   'cancelSourceReason': 'Order was canceled by user',\n",
       "   'category': 'normal',\n",
       "   'ccy': '',\n",
       "   'clOrdId': '',\n",
       "   'fee': '0',\n",
       "   'feeCcy': 'USDT',\n",
       "   'fillPx': '',\n",
       "   'fillSz': '0',\n",
       "   'fillTime': '',\n",
       "   'instId': 'MANA-USDT',\n",
       "   'instType': 'SPOT',\n",
       "   'lever': '',\n",
       "   'ordId': '637286451876884485',\n",
       "   'ordType': 'limit',\n",
       "   'pnl': '0',\n",
       "   'posSide': 'net',\n",
       "   'px': '0.3788',\n",
       "   'pxType': '',\n",
       "   'pxUsd': '',\n",
       "   'pxVol': '',\n",
       "   'quickMgnType': '',\n",
       "   'rebate': '0',\n",
       "   'rebateCcy': 'MANA',\n",
       "   'reduceOnly': 'false',\n",
       "   'side': 'sell',\n",
       "   'slOrdPx': '',\n",
       "   'slTriggerPx': '',\n",
       "   'slTriggerPxType': '',\n",
       "   'source': '',\n",
       "   'state': 'canceled',\n",
       "   'stpId': '',\n",
       "   'stpMode': '',\n",
       "   'sz': '7.5508',\n",
       "   'tag': '',\n",
       "   'tdMode': 'cash',\n",
       "   'tgtCcy': '',\n",
       "   'tpOrdPx': '',\n",
       "   'tpTriggerPx': '',\n",
       "   'tpTriggerPxType': '',\n",
       "   'tradeId': '',\n",
       "   'uTime': '1698212935796'},\n",
       "  'msg': ''},\n",
       " 'set_order_result': {'code': '0',\n",
       "  'data': {'clOrdId': '',\n",
       "   'ordId': '637286451876884485',\n",
       "   'sCode': '0',\n",
       "   'sMsg': 'Order placed',\n",
       "   'tag': ''},\n",
       "  'inTime': '1698212930336875',\n",
       "  'msg': '',\n",
       "  'outTime': '1698212930339037'},\n",
       " 'error_result': None,\n",
       " 'cancel_result': {'code': '0',\n",
       "  'data': {'clOrdId': '',\n",
       "   'ordId': '637286451876884485',\n",
       "   'sCode': '0',\n",
       "   'sMsg': ''},\n",
       "  'inTime': '1698212935794105',\n",
       "  'msg': '',\n",
       "  'outTime': '1698212935795179'}}"
      ]
     },
     "execution_count": 5,
     "metadata": {},
     "output_type": "execute_result"
    }
   ],
   "source": [
    "# quantity = 'all' 表示全部可交易货币\n",
    "# 设置block、timeout、cancel\n",
    "close_limit4 = okxSPOT.trade.close_limit(\n",
    "    instId='MANA-USDT',  # 产品\n",
    "    # closePrice=10,  # 平仓价格 closePrice 和 tpRate必须填写其中一个\n",
    "    tpRate=0.1,  # 挂单止盈率\n",
    "    quantity='all',  # 平仓数量\n",
    "    block=True,  # 是否堵塞\n",
    "    timeout=5,  # 等待订单成功的超时时间\n",
    "    delay=0.2,  # 检测订单状态的间隔 (秒)\n",
    "    cancel=True,  # 未完全成交是否取消订单\n",
    "    tag='',  # 订单标签\n",
    "    clOrdId='',  # 客户自定义订单ID\n",
    "    meta={},  # 向回调函数中传递的参数字典\n",
    ")\n",
    "\n",
    "close_limit4"
   ]
  },
  {
   "cell_type": "markdown",
   "id": "baee5468",
   "metadata": {},
   "source": [
    "## 5. 同步 堵塞 止盈价格平仓（卖出） 回调函数"
   ]
  },
  {
   "cell_type": "code",
   "execution_count": 6,
   "id": "395b59a8",
   "metadata": {},
   "outputs": [],
   "source": [
    "# 执行成功回调\n",
    "def callback5(information):\n",
    "    print('callback')\n",
    "    print(information)\n",
    "    \n",
    "# 执行错误回调\n",
    "def errorback5(information):\n",
    "    print('errorback')\n",
    "    print(information)"
   ]
  },
  {
   "cell_type": "code",
   "execution_count": 7,
   "id": "79172388",
   "metadata": {},
   "outputs": [
    {
     "name": "stdout",
     "output_type": "stream",
     "text": [
      "callback\n",
      "{'instType': 'SPOT', 'instId': 'MANA-USDT', 'state': 'canceled', 'ordId': '637286480343625732', 'meta': {}, 'request_param': {'instId': 'MANA-USDT', 'tdMode': 'cash', 'side': 'sell', 'ordType': 'limit', 'sz': '7.550800954', 'clOrdId': '', 'tag': '', 'px': '0.3787'}, 'func_param': {'instId': 'MANA-USDT', 'closePrice': None, 'tpRate': 0.1, 'quantity': 'all', 'meta': {}, 'block': True, 'timeout': 5, 'delay': 0.2, 'cancel': True, 'clOrdId': '', 'tag': '', 'newThread': False, 'callback': <function callback5 at 0x7fc840b23790>, 'errorback': <function errorback5 at 0x7fc840b23700>}, 'get_order_result': {'code': '0', 'data': {'accFillSz': '0', 'algoClOrdId': '', 'algoId': '', 'attachAlgoClOrdId': '', 'avgPx': '', 'cTime': '1698212937124', 'cancelSource': '1', 'cancelSourceReason': 'Order was canceled by user', 'category': 'normal', 'ccy': '', 'clOrdId': '', 'fee': '0', 'feeCcy': 'USDT', 'fillPx': '', 'fillSz': '0', 'fillTime': '', 'instId': 'MANA-USDT', 'instType': 'SPOT', 'lever': '', 'ordId': '637286480343625732', 'ordType': 'limit', 'pnl': '0', 'posSide': 'net', 'px': '0.3787', 'pxType': '', 'pxUsd': '', 'pxVol': '', 'quickMgnType': '', 'rebate': '0', 'rebateCcy': 'MANA', 'reduceOnly': 'false', 'side': 'sell', 'slOrdPx': '', 'slTriggerPx': '', 'slTriggerPxType': '', 'source': '', 'state': 'canceled', 'stpId': '', 'stpMode': '', 'sz': '7.5508', 'tag': '', 'tdMode': 'cash', 'tgtCcy': '', 'tpOrdPx': '', 'tpTriggerPx': '', 'tpTriggerPxType': '', 'tradeId': '', 'uTime': '1698212942560'}, 'msg': ''}, 'set_order_result': {'code': '0', 'data': {'clOrdId': '', 'ordId': '637286480343625732', 'sCode': '0', 'sMsg': 'Order placed', 'tag': ''}, 'inTime': '1698212937124402', 'msg': '', 'outTime': '1698212937125613'}, 'error_result': None, 'cancel_result': {'code': '0', 'data': {'clOrdId': '', 'ordId': '637286480343625732', 'sCode': '0', 'sMsg': ''}, 'inTime': '1698212942558363', 'msg': '', 'outTime': '1698212942559979'}}\n"
     ]
    }
   ],
   "source": [
    "# 设置callback与errorback\n",
    "close_limit5 = okxSPOT.trade.close_limit(\n",
    "    instId='MANA-USDT',  # 产品\n",
    "    # closePrice=1000,  # 平仓价格 closePrice 和 tpRate必须填写其中一个\n",
    "    tpRate=0.1,  # 挂单止盈率\n",
    "    quantity='all',  # 平仓数量\n",
    "    block=True,  # 是否堵塞\n",
    "    timeout=5,  # 等待订单成功的超时时间\n",
    "    delay=0.2,  # 检测订单状态的间隔 (秒)\n",
    "    cancel=True,  # 未完全成交是否取消订单\n",
    "    callback=callback5,  # 开仓成功触发的回调函数\n",
    "    errorback=errorback5,  # 开仓失败触发的回调函数\n",
    "    tag='',  # 订单标签\n",
    "    clOrdId='',  # 客户自定义订单ID\n",
    "    meta={},  # 向回调函数中传递的参数字典\n",
    ")"
   ]
  },
  {
   "cell_type": "markdown",
   "id": "6efe88a2",
   "metadata": {},
   "source": [
    "## 6. 异步 堵塞 止盈价格平仓（卖出） 回调函数"
   ]
  },
  {
   "cell_type": "code",
   "execution_count": 8,
   "id": "746e5c65",
   "metadata": {},
   "outputs": [],
   "source": [
    "# 执行成功回调\n",
    "def callback6(information):\n",
    "    print('thread callback')\n",
    "    print(information)\n",
    "    \n",
    "# 执行错误回调\n",
    "def errorback6(information):\n",
    "    print('thread errorback')\n",
    "    print(information)"
   ]
  },
  {
   "cell_type": "code",
   "execution_count": 9,
   "id": "41542062",
   "metadata": {},
   "outputs": [
    {
     "name": "stdout",
     "output_type": "stream",
     "text": [
      "----\n",
      "thread callback\n",
      "{'instType': 'SPOT', 'instId': 'MANA-USDT', 'state': 'canceled', 'ordId': '637286508713897997', 'meta': {}, 'request_param': {'instId': 'MANA-USDT', 'tdMode': 'cash', 'side': 'sell', 'ordType': 'limit', 'sz': '7.550800954', 'clOrdId': '', 'tag': '', 'px': '0.3787'}, 'func_param': {'instId': 'MANA-USDT', 'closePrice': None, 'tpRate': 0.1, 'quantity': 'all', 'meta': {}, 'block': True, 'timeout': 5, 'delay': 0.2, 'cancel': True, 'clOrdId': '', 'tag': '', 'newThread': True, 'callback': <function callback6 at 0x7fc840c695e0>, 'errorback': <function errorback6 at 0x7fc840c69670>}, 'get_order_result': {'code': '0', 'data': {'accFillSz': '0', 'algoClOrdId': '', 'algoId': '', 'attachAlgoClOrdId': '', 'avgPx': '', 'cTime': '1698212943888', 'cancelSource': '1', 'cancelSourceReason': 'Order was canceled by user', 'category': 'normal', 'ccy': '', 'clOrdId': '', 'fee': '0', 'feeCcy': 'USDT', 'fillPx': '', 'fillSz': '0', 'fillTime': '', 'instId': 'MANA-USDT', 'instType': 'SPOT', 'lever': '', 'ordId': '637286508713897997', 'ordType': 'limit', 'pnl': '0', 'posSide': 'net', 'px': '0.3787', 'pxType': '', 'pxUsd': '', 'pxVol': '', 'quickMgnType': '', 'rebate': '0', 'rebateCcy': 'MANA', 'reduceOnly': 'false', 'side': 'sell', 'slOrdPx': '', 'slTriggerPx': '', 'slTriggerPxType': '', 'source': '', 'state': 'canceled', 'stpId': '', 'stpMode': '', 'sz': '7.5508', 'tag': '', 'tdMode': 'cash', 'tgtCcy': '', 'tpOrdPx': '', 'tpTriggerPx': '', 'tpTriggerPxType': '', 'tradeId': '', 'uTime': '1698212949347'}, 'msg': ''}, 'set_order_result': {'code': '0', 'data': {'clOrdId': '', 'ordId': '637286508713897997', 'sCode': '0', 'sMsg': 'Order placed', 'tag': ''}, 'inTime': '1698212943887931', 'msg': '', 'outTime': '1698212943889152'}, 'error_result': None, 'cancel_result': {'code': '0', 'data': {'clOrdId': '', 'ordId': '637286508713897997', 'sCode': '0', 'sMsg': ''}, 'inTime': '1698212949345590', 'msg': '', 'outTime': '1698212949346603'}}\n"
     ]
    }
   ],
   "source": [
    "# 设置newThread=True\n",
    "close_limit6 = okxSPOT.trade.close_limit(\n",
    "    instId='MANA-USDT',  # 产品\n",
    "    # closePrice=1000,  # 平仓价格 closePrice 和 tpRate必须填写其中一个\n",
    "    tpRate=0.1,  # 挂单止盈率\n",
    "    quantity='all',  # 平仓数量\n",
    "    block=True,  # 是否堵塞\n",
    "    timeout=5,  # 等待订单成功的超时时间\n",
    "    delay=0.2,  # 检测订单状态的间隔 (秒)\n",
    "    cancel=True,  # 未完全成交是否取消订单\n",
    "    callback=callback6,  # 开仓成功触发的回调函数\n",
    "    errorback=errorback6,  # 开仓失败触发的回调函数\n",
    "    newThread=True,  # 是否开启一个新的线程维护这个订单\n",
    "    tag='',  # 订单标签\n",
    "    clOrdId='',  # 客户自定义订单ID\n",
    "    meta={},  # 向回调函数中传递的参数字典\n",
    ")\n",
    "print('----')"
   ]
  }
 ],
 "metadata": {
  "kernelspec": {
   "display_name": "Python 3 (ipykernel)",
   "language": "python",
   "name": "python3"
  },
  "language_info": {
   "codemirror_mode": {
    "name": "ipython",
    "version": 3
   },
   "file_extension": ".py",
   "mimetype": "text/x-python",
   "name": "python",
   "nbconvert_exporter": "python",
   "pygments_lexer": "ipython3",
   "version": "3.8.4"
  }
 },
 "nbformat": 4,
 "nbformat_minor": 5
}
