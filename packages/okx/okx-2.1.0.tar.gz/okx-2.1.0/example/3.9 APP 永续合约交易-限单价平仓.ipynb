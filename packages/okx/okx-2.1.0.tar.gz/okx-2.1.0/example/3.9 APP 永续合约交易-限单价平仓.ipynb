{
 "cells": [
  {
   "cell_type": "code",
   "execution_count": 1,
   "id": "5bb01606",
   "metadata": {},
   "outputs": [],
   "source": [
    "from okx.app import OkxSWAP"
   ]
  },
  {
   "cell_type": "markdown",
   "id": "9f0ec485",
   "metadata": {},
   "source": [
    "## 1. 实例化 OkxSWAP"
   ]
  },
  {
   "cell_type": "code",
   "execution_count": 2,
   "id": "50f48b90",
   "metadata": {},
   "outputs": [
    {
     "name": "stdout",
     "output_type": "stream",
     "text": [
      "[FAILURE] 设置持仓方式为双向持仓失败，请手动设置：posMode=\"long_short_mode\"\n"
     ]
    }
   ],
   "source": [
    "okxSWAP= OkxSWAP(\n",
    "    key=\"xxx\",\n",
    "    secret=\"xxx\",\n",
    "    passphrase=\"xxx\",\n",
    "    # 使用http和https代理，proxies={'http':'xxxxx','https:':'xxxxx'}，通requests中的proxies参数规则相同\n",
    "    proxies={},\n",
    "    # 转发：需搭建转发服务器，可参考：https://github.com/pyted/okx_resender\n",
    "    proxy_host=None, \n",
    ")\n",
    "\n",
    "# 如果有挂单，会提示“设置持仓方式为双向持仓失败”，如果你的持仓模式已经是双向持仓，可以忽略这个警告"
   ]
  },
  {
   "cell_type": "markdown",
   "id": "6e13e41e",
   "metadata": {},
   "source": [
    "## 2. 同步 非堵塞 固定价格平仓"
   ]
  },
  {
   "cell_type": "code",
   "execution_count": 3,
   "id": "b1e9d0b3",
   "metadata": {},
   "outputs": [
    {
     "data": {
      "text/plain": [
       "{'instType': 'SWAP',\n",
       " 'instId': 'MANA-USDT-SWAP',\n",
       " 'state': None,\n",
       " 'ordId': '637386598392692737',\n",
       " 'meta': {},\n",
       " 'request_param': {'instId': 'MANA-USDT-SWAP',\n",
       "  'tdMode': 'isolated',\n",
       "  'posSide': 'long',\n",
       "  'side': 'sell',\n",
       "  'ordType': 'limit',\n",
       "  'sz': '1',\n",
       "  'clOrdId': '',\n",
       "  'tag': '',\n",
       "  'px': '100.0000'},\n",
       " 'func_param': {'instId': 'MANA-USDT-SWAP',\n",
       "  'tdMode': 'isolated',\n",
       "  'posSide': 'long',\n",
       "  'closePrice': 100,\n",
       "  'tpRate': None,\n",
       "  'quantityCT': '1',\n",
       "  'meta': {},\n",
       "  'block': False,\n",
       "  'timeout': 60,\n",
       "  'delay': 0.2,\n",
       "  'cancel': True,\n",
       "  'clOrdId': '',\n",
       "  'tag': '',\n",
       "  'newThread': False,\n",
       "  'callback': None,\n",
       "  'errorback': None},\n",
       " 'get_order_result': None,\n",
       " 'set_order_result': {'code': '0',\n",
       "  'data': {'clOrdId': '',\n",
       "   'ordId': '637386598392692737',\n",
       "   'sCode': '0',\n",
       "   'sMsg': 'Order placed',\n",
       "   'tag': ''},\n",
       "  'inTime': '1698236807126452',\n",
       "  'msg': '',\n",
       "  'outTime': '1698236807128850'},\n",
       " 'error_result': None,\n",
       " 'cancel_result': None}"
      ]
     },
     "execution_count": 3,
     "metadata": {},
     "output_type": "execute_result"
    }
   ],
   "source": [
    "# block = False\n",
    "close_limit2 = okxSWAP.trade.close_limit(\n",
    "    instId='MANA-USDT-SWAP',  # 产品\n",
    "    tdMode='isolated',  # 持仓方式 isolated：逐仓 cross：全仓\n",
    "    posSide='long',  # 持仓方向 long：多单 short：空单\n",
    "    closePrice=100,  # 平仓价格 closePrice 和 tpRate必须填写其中一个\n",
    "    # tpRate=0.1,  # 挂单止盈率\n",
    "    quantityCT='1',  # 平仓数量，注意：quantityCT是合约的张数，不是货币数量\n",
    "    block=False,  # 是否堵塞\n",
    "    tag='',  # 订单标签\n",
    "    clOrdId='',  # 客户自定义订单ID\n",
    "    meta={},  # 向回调函数中传递的参数字典\n",
    ")\n",
    "\n",
    "close_limit2"
   ]
  },
  {
   "cell_type": "markdown",
   "id": "e6e5a43e",
   "metadata": {},
   "source": [
    "## 3. 同步 非堵塞 止盈价格平仓\n",
    "\n",
    "以当前价格作为基准，按照止盈率挂单卖出"
   ]
  },
  {
   "cell_type": "code",
   "execution_count": 4,
   "id": "89adeaa0",
   "metadata": {},
   "outputs": [
    {
     "data": {
      "text/plain": [
       "{'instType': 'SWAP',\n",
       " 'instId': 'MANA-USDT-SWAP',\n",
       " 'state': None,\n",
       " 'ordId': '637386601207070720',\n",
       " 'meta': {},\n",
       " 'request_param': {'instId': 'MANA-USDT-SWAP',\n",
       "  'tdMode': 'isolated',\n",
       "  'posSide': 'long',\n",
       "  'side': 'sell',\n",
       "  'ordType': 'limit',\n",
       "  'sz': '1',\n",
       "  'clOrdId': '',\n",
       "  'tag': '',\n",
       "  'px': '0.3803'},\n",
       " 'func_param': {'instId': 'MANA-USDT-SWAP',\n",
       "  'tdMode': 'isolated',\n",
       "  'posSide': 'long',\n",
       "  'closePrice': None,\n",
       "  'tpRate': 0.1,\n",
       "  'quantityCT': '1',\n",
       "  'meta': {},\n",
       "  'block': False,\n",
       "  'timeout': 60,\n",
       "  'delay': 0.2,\n",
       "  'cancel': True,\n",
       "  'clOrdId': '',\n",
       "  'tag': '',\n",
       "  'newThread': False,\n",
       "  'callback': None,\n",
       "  'errorback': None},\n",
       " 'get_order_result': None,\n",
       " 'set_order_result': {'code': '0',\n",
       "  'data': {'clOrdId': '',\n",
       "   'ordId': '637386601207070720',\n",
       "   'sCode': '0',\n",
       "   'sMsg': 'Order placed',\n",
       "   'tag': ''},\n",
       "  'inTime': '1698236807797286',\n",
       "  'msg': '',\n",
       "  'outTime': '1698236807798759'},\n",
       " 'error_result': None,\n",
       " 'cancel_result': None}"
      ]
     },
     "execution_count": 4,
     "metadata": {},
     "output_type": "execute_result"
    }
   ],
   "source": [
    "# 设置tpRate = 0.1，止盈率为10%\n",
    "close_limit3 = okxSWAP.trade.close_limit(\n",
    "    instId='MANA-USDT-SWAP',  # 产品\n",
    "    tdMode='isolated',  # 持仓方式 isolated：逐仓 cross：全仓\n",
    "    posSide='long',  # 持仓方向 long：多单 short：空单\n",
    "    # closePrice=100,  # 平仓价格 closePrice 和 tpRate必须填写其中一个\n",
    "    tpRate=0.1,  # 挂单止盈率\n",
    "    quantityCT='1',  # 平仓数量，注意：quantityCT是合约的张数，不是货币数量\n",
    "    block=False,  # 是否堵塞\n",
    "    tag='',  # 订单标签\n",
    "    clOrdId='',  # 客户自定义订单ID\n",
    "    meta={},  # 向回调函数中传递的参数字典\n",
    ")\n",
    "\n",
    "close_limit3"
   ]
  },
  {
   "cell_type": "markdown",
   "id": "f35643d6",
   "metadata": {},
   "source": [
    "## 4. 同步 堵塞 止盈价格平仓 超时取消"
   ]
  },
  {
   "cell_type": "code",
   "execution_count": 5,
   "id": "8448ae98",
   "metadata": {},
   "outputs": [
    {
     "data": {
      "text/plain": [
       "{'instType': 'SWAP',\n",
       " 'instId': 'MANA-USDT-SWAP',\n",
       " 'state': 'canceled',\n",
       " 'ordId': '637386605531398151',\n",
       " 'meta': {},\n",
       " 'request_param': {'instId': 'MANA-USDT-SWAP',\n",
       "  'tdMode': 'isolated',\n",
       "  'posSide': 'long',\n",
       "  'side': 'sell',\n",
       "  'ordType': 'limit',\n",
       "  'sz': '5',\n",
       "  'clOrdId': '',\n",
       "  'tag': '',\n",
       "  'px': '0.3803'},\n",
       " 'func_param': {'instId': 'MANA-USDT-SWAP',\n",
       "  'tdMode': 'isolated',\n",
       "  'posSide': 'long',\n",
       "  'closePrice': None,\n",
       "  'tpRate': 0.1,\n",
       "  'quantityCT': 'all',\n",
       "  'meta': {},\n",
       "  'block': True,\n",
       "  'timeout': 5,\n",
       "  'delay': 0.2,\n",
       "  'cancel': True,\n",
       "  'clOrdId': '',\n",
       "  'tag': '',\n",
       "  'newThread': False,\n",
       "  'callback': None,\n",
       "  'errorback': None},\n",
       " 'get_order_result': {'code': '0',\n",
       "  'data': {'accFillSz': '0',\n",
       "   'algoClOrdId': '',\n",
       "   'algoId': '',\n",
       "   'attachAlgoClOrdId': '',\n",
       "   'avgPx': '',\n",
       "   'cTime': '1698236808829',\n",
       "   'cancelSource': '1',\n",
       "   'cancelSourceReason': 'Order was canceled by user',\n",
       "   'category': 'normal',\n",
       "   'ccy': '',\n",
       "   'clOrdId': '',\n",
       "   'fee': '0',\n",
       "   'feeCcy': 'USDT',\n",
       "   'fillPx': '',\n",
       "   'fillSz': '0',\n",
       "   'fillTime': '',\n",
       "   'instId': 'MANA-USDT-SWAP',\n",
       "   'instType': 'SWAP',\n",
       "   'lever': '1',\n",
       "   'ordId': '637386605531398151',\n",
       "   'ordType': 'limit',\n",
       "   'pnl': '0',\n",
       "   'posSide': 'long',\n",
       "   'px': '0.3803',\n",
       "   'pxType': '',\n",
       "   'pxUsd': '',\n",
       "   'pxVol': '',\n",
       "   'quickMgnType': '',\n",
       "   'rebate': '0',\n",
       "   'rebateCcy': 'USDT',\n",
       "   'reduceOnly': 'true',\n",
       "   'side': 'sell',\n",
       "   'slOrdPx': '',\n",
       "   'slTriggerPx': '',\n",
       "   'slTriggerPxType': '',\n",
       "   'source': '',\n",
       "   'state': 'canceled',\n",
       "   'stpId': '',\n",
       "   'stpMode': '',\n",
       "   'sz': '4',\n",
       "   'tag': '',\n",
       "   'tdMode': 'isolated',\n",
       "   'tgtCcy': '',\n",
       "   'tpOrdPx': '',\n",
       "   'tpTriggerPx': '',\n",
       "   'tpTriggerPxType': '',\n",
       "   'tradeId': '',\n",
       "   'uTime': '1698236814345'},\n",
       "  'msg': ''},\n",
       " 'set_order_result': {'code': '0',\n",
       "  'data': {'clOrdId': '',\n",
       "   'ordId': '637386605531398151',\n",
       "   'sCode': '0',\n",
       "   'sMsg': 'Order placed',\n",
       "   'tag': ''},\n",
       "  'inTime': '1698236808827877',\n",
       "  'msg': '',\n",
       "  'outTime': '1698236808830398'},\n",
       " 'error_result': None,\n",
       " 'cancel_result': {'code': '0',\n",
       "  'data': {'clOrdId': '',\n",
       "   'ordId': '637386605531398151',\n",
       "   'sCode': '0',\n",
       "   'sMsg': ''},\n",
       "  'inTime': '1698236814341413',\n",
       "  'msg': '',\n",
       "  'outTime': '1698236814343595'}}"
      ]
     },
     "execution_count": 5,
     "metadata": {},
     "output_type": "execute_result"
    }
   ],
   "source": [
    "# quantity = 'all' 表示全部可交易货币\n",
    "# 设置block、timeout、cancel\n",
    "close_limit4 = okxSWAP.trade.close_limit(\n",
    "    instId='MANA-USDT-SWAP',  # 产品\n",
    "    tdMode='isolated',  # 持仓方式 isolated：逐仓 cross：全仓\n",
    "    posSide='long',  # 持仓方向 long：多单 short：空单\n",
    "    # closePrice=1000,  # 平仓价格 closePrice 和 tpRate必须填写其中一个\n",
    "    tpRate=0.1,  # 挂单止盈率\n",
    "    quantityCT='all',  # 平仓数量，注意：quantityCT是合约的张数，不是货币数量\n",
    "    block=True,  # 是否堵塞\n",
    "    timeout=5,  # 等待订单成功的超时时间\n",
    "    delay=0.2,  # 检测订单状态的间隔 (秒)\n",
    "    cancel=True,  # 未完全成交是否取消订单\n",
    "    tag='',  # 订单标签\n",
    "    clOrdId='',  # 客户自定义订单ID\n",
    "    meta={},  # 向回调函数中传递的参数字典\n",
    ")\n",
    "\n",
    "\n",
    "close_limit4"
   ]
  },
  {
   "cell_type": "markdown",
   "id": "bfea74c7",
   "metadata": {},
   "source": [
    "## 5. 同步 堵塞 止盈价格平仓 回调函数"
   ]
  },
  {
   "cell_type": "code",
   "execution_count": 6,
   "id": "f5b4408c",
   "metadata": {},
   "outputs": [],
   "source": [
    "# 执行成功回调\n",
    "def callback5(information):\n",
    "    print('callback')\n",
    "    print(information)\n",
    "    \n",
    "# 执行错误回调\n",
    "def errorback5(information):\n",
    "    print('errorback')\n",
    "    print(information)"
   ]
  },
  {
   "cell_type": "code",
   "execution_count": 7,
   "id": "44d124a3",
   "metadata": {},
   "outputs": [
    {
     "name": "stdout",
     "output_type": "stream",
     "text": [
      "callback\n",
      "{'instType': 'SWAP', 'instId': 'MANA-USDT-SWAP', 'state': 'canceled', 'ordId': '637386634417569792', 'meta': {}, 'request_param': {'instId': 'MANA-USDT-SWAP', 'tdMode': 'isolated', 'posSide': 'long', 'side': 'sell', 'ordType': 'limit', 'sz': '5', 'clOrdId': '', 'tag': '', 'px': '0.3803'}, 'func_param': {'instId': 'MANA-USDT-SWAP', 'tdMode': 'isolated', 'posSide': 'long', 'closePrice': None, 'tpRate': 0.1, 'quantityCT': 'all', 'meta': {}, 'block': True, 'timeout': 5, 'delay': 0.2, 'cancel': True, 'clOrdId': '', 'tag': '', 'newThread': False, 'callback': <function callback5 at 0x7ff150ece9d0>, 'errorback': <function errorback5 at 0x7ff150eceaf0>}, 'get_order_result': {'code': '0', 'data': {'accFillSz': '0', 'algoClOrdId': '', 'algoId': '', 'attachAlgoClOrdId': '', 'avgPx': '', 'cTime': '1698236815716', 'cancelSource': '1', 'cancelSourceReason': 'Order was canceled by user', 'category': 'normal', 'ccy': '', 'clOrdId': '', 'fee': '0', 'feeCcy': 'USDT', 'fillPx': '', 'fillSz': '0', 'fillTime': '', 'instId': 'MANA-USDT-SWAP', 'instType': 'SWAP', 'lever': '1', 'ordId': '637386634417569792', 'ordType': 'limit', 'pnl': '0', 'posSide': 'long', 'px': '0.3803', 'pxType': '', 'pxUsd': '', 'pxVol': '', 'quickMgnType': '', 'rebate': '0', 'rebateCcy': 'USDT', 'reduceOnly': 'true', 'side': 'sell', 'slOrdPx': '', 'slTriggerPx': '', 'slTriggerPxType': '', 'source': '', 'state': 'canceled', 'stpId': '', 'stpMode': '', 'sz': '4', 'tag': '', 'tdMode': 'isolated', 'tgtCcy': '', 'tpOrdPx': '', 'tpTriggerPx': '', 'tpTriggerPxType': '', 'tradeId': '', 'uTime': '1698236821305'}, 'msg': ''}, 'set_order_result': {'code': '0', 'data': {'clOrdId': '', 'ordId': '637386634417569792', 'sCode': '0', 'sMsg': 'Order placed', 'tag': ''}, 'inTime': '1698236815714762', 'msg': '', 'outTime': '1698236815717384'}, 'error_result': None, 'cancel_result': {'code': '0', 'data': {'clOrdId': '', 'ordId': '637386634417569792', 'sCode': '0', 'sMsg': ''}, 'inTime': '1698236821301616', 'msg': '', 'outTime': '1698236821302803'}}\n"
     ]
    }
   ],
   "source": [
    "# 设置callback与errorback\n",
    "close_limit5 = okxSWAP.trade.close_limit(\n",
    "    instId='MANA-USDT-SWAP',  # 产品\n",
    "    tdMode='isolated',  # 持仓方式 isolated：逐仓 cross：全仓\n",
    "    posSide='long',  # 持仓方向 long：多单 short：空单\n",
    "    # closePrice=1000,  # 平仓价格 closePrice 和 tpRate必须填写其中一个\n",
    "    tpRate=0.1,  # 挂单止盈率\n",
    "    quantityCT='all',  # 平仓数量，注意：quantityCT是合约的张数，不是货币数量\n",
    "    block=True,  # 是否堵塞\n",
    "    timeout=5,  # 等待订单成功的超时时间\n",
    "    delay=0.2,  # 检测订单状态的间隔 (秒)\n",
    "    cancel=True,  # 未完全成交是否取消订单\n",
    "    callback=callback5,  # 开仓成功触发的回调函数\n",
    "    errorback=errorback5,  # 开仓失败触发的回调函数\n",
    "    tag='',  # 订单标签\n",
    "    clOrdId='',  # 客户自定义订单ID\n",
    "    meta={},  # 向回调函数中传递的参数字典\n",
    ")"
   ]
  },
  {
   "cell_type": "markdown",
   "id": "aba35efa",
   "metadata": {},
   "source": [
    "## 6. 异步 堵塞 止盈价格平仓（卖出） 回调函数"
   ]
  },
  {
   "cell_type": "code",
   "execution_count": 8,
   "id": "9fb51823",
   "metadata": {},
   "outputs": [],
   "source": [
    "# 执行成功回调\n",
    "def callback6(information):\n",
    "    print('thread callback')\n",
    "    print(information)\n",
    "    \n",
    "# 执行错误回调\n",
    "def errorback6(information):\n",
    "    print('thread errorback')\n",
    "    print(information)"
   ]
  },
  {
   "cell_type": "code",
   "execution_count": 9,
   "id": "9d1cde31",
   "metadata": {},
   "outputs": [
    {
     "data": {
      "text/plain": [
       "<Thread(Thread-5, started 123145565601792)>"
      ]
     },
     "execution_count": 9,
     "metadata": {},
     "output_type": "execute_result"
    },
    {
     "name": "stdout",
     "output_type": "stream",
     "text": [
      "thread callback\n",
      "{'instType': 'SWAP', 'instId': 'MANA-USDT-SWAP', 'state': 'canceled', 'ordId': '637386663739949062', 'meta': {}, 'request_param': {'instId': 'MANA-USDT-SWAP', 'tdMode': 'isolated', 'posSide': 'long', 'side': 'sell', 'ordType': 'limit', 'sz': '5', 'clOrdId': '', 'tag': '', 'px': '0.3803'}, 'func_param': {'instId': 'MANA-USDT-SWAP', 'tdMode': 'isolated', 'posSide': 'long', 'closePrice': None, 'tpRate': 0.1, 'quantityCT': 'all', 'meta': {}, 'block': True, 'timeout': 5, 'delay': 0.2, 'cancel': True, 'clOrdId': '', 'tag': '', 'newThread': True, 'callback': <function callback6 at 0x7ff150f26040>, 'errorback': <function errorback6 at 0x7ff150f268b0>}, 'get_order_result': {'code': '0', 'data': {'accFillSz': '0', 'algoClOrdId': '', 'algoId': '', 'attachAlgoClOrdId': '', 'avgPx': '', 'cTime': '1698236822707', 'cancelSource': '1', 'cancelSourceReason': 'Order was canceled by user', 'category': 'normal', 'ccy': '', 'clOrdId': '', 'fee': '0', 'feeCcy': 'USDT', 'fillPx': '', 'fillSz': '0', 'fillTime': '', 'instId': 'MANA-USDT-SWAP', 'instType': 'SWAP', 'lever': '1', 'ordId': '637386663739949062', 'ordType': 'limit', 'pnl': '0', 'posSide': 'long', 'px': '0.3803', 'pxType': '', 'pxUsd': '', 'pxVol': '', 'quickMgnType': '', 'rebate': '0', 'rebateCcy': 'USDT', 'reduceOnly': 'true', 'side': 'sell', 'slOrdPx': '', 'slTriggerPx': '', 'slTriggerPxType': '', 'source': '', 'state': 'canceled', 'stpId': '', 'stpMode': '', 'sz': '4', 'tag': '', 'tdMode': 'isolated', 'tgtCcy': '', 'tpOrdPx': '', 'tpTriggerPx': '', 'tpTriggerPxType': '', 'tradeId': '', 'uTime': '1698236829039'}, 'msg': ''}, 'set_order_result': {'code': '0', 'data': {'clOrdId': '', 'ordId': '637386663739949062', 'sCode': '0', 'sMsg': 'Order placed', 'tag': ''}, 'inTime': '1698236822706702', 'msg': '', 'outTime': '1698236822708090'}, 'error_result': None, 'cancel_result': {'code': '0', 'data': {'clOrdId': '', 'ordId': '637386663739949062', 'sCode': '0', 'sMsg': ''}, 'inTime': '1698236829035628', 'msg': '', 'outTime': '1698236829036827'}}\n"
     ]
    }
   ],
   "source": [
    "# 设置newThread=True\n",
    "close_limit6 = okxSWAP.trade.close_limit(\n",
    "    instId='MANA-USDT-SWAP',  # 产品\n",
    "    tdMode='isolated',  # 持仓方式 isolated：逐仓 cross：全仓\n",
    "    posSide='long',  # 持仓方向 long：多单 short：空单\n",
    "    # closePrice=1000,  # 平仓价格 closePrice 和 tpRate必须填写其中一个\n",
    "    tpRate=0.1,  # 挂单止盈率\n",
    "    quantityCT='all',  # 平仓数量，注意：quantityCT是合约的张数，不是货币数量\n",
    "    block=True,  # 是否堵塞\n",
    "    timeout=5,  # 等待订单成功的超时时间\n",
    "    delay=0.2,  # 检测订单状态的间隔 (秒)\n",
    "    cancel=True,  # 未完全成交是否取消订单\n",
    "    callback=callback6,  # 开仓成功触发的回调函数\n",
    "    errorback=errorback6,  # 开仓失败触发的回调函数\n",
    "    newThread=True,  # 是否开启一个新的线程维护这个订单\n",
    "    tag='',  # 订单标签\n",
    "    clOrdId='',  # 客户自定义订单ID\n",
    "    meta={},  # 向回调函数中传递的参数字典\n",
    ")\n",
    "\n",
    "close_limit6"
   ]
  }
 ],
 "metadata": {
  "kernelspec": {
   "display_name": "Python 3 (ipykernel)",
   "language": "python",
   "name": "python3"
  },
  "language_info": {
   "codemirror_mode": {
    "name": "ipython",
    "version": 3
   },
   "file_extension": ".py",
   "mimetype": "text/x-python",
   "name": "python",
   "nbconvert_exporter": "python",
   "pygments_lexer": "ipython3",
   "version": "3.8.4"
  }
 },
 "nbformat": 4,
 "nbformat_minor": 5
}
