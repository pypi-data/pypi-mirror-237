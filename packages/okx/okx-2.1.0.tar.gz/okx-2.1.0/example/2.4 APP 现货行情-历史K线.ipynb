{
 "cells": [
  {
   "cell_type": "code",
   "execution_count": 1,
   "id": "d4654d50",
   "metadata": {},
   "outputs": [],
   "source": [
    "from okx.app import OkxSPOT\n",
    "from okx.app import MarketSPOT\n",
    "from okx.app import Market"
   ]
  },
  {
   "cell_type": "markdown",
   "id": "8d585394",
   "metadata": {},
   "source": [
    "## 1. 实例化OkxSPOT"
   ]
  },
  {
   "cell_type": "code",
   "execution_count": 2,
   "id": "0397f3e7",
   "metadata": {},
   "outputs": [],
   "source": [
    "# 对于下述代码 okxSPOT.market 等同于 marketSPOT 等同于 market\n",
    "# 单纯使用okxSPOT.market不需要秘钥\n",
    "okxSPOT = OkxSPOT(\n",
    "    key=\"\",\n",
    "    secret=\"\",\n",
    "    passphrase=\"\",\n",
    "    # 使用http和https代理，proxies={'http':'xxxxx','https:':'xxxxx'}，通requests中的proxies参数规则相同\n",
    "    proxies={},\n",
    "    # 转发：需搭建转发服务器，可参考：https://github.com/pyted/okx_resender\n",
    "    proxy_host=None, \n",
    ")\n",
    "\n",
    "# marketSPOT = MarketSPOT(\n",
    "#     proxies={},\n",
    "#     proxy_host='http://101.32.44.77:99',\n",
    "# )\n",
    "\n",
    "# market = Market(\n",
    "#     instType='SPOT',\n",
    "#     proxies={},\n",
    "#     proxy_host='http://101.32.44.77:99',\n",
    "# )"
   ]
  },
  {
   "cell_type": "markdown",
   "id": "c0c21eb4",
   "metadata": {},
   "source": [
    "## 2 通过起始时间获取历史K线\n",
    "\n",
    "可以接收更长跨度的时间段，会调用多次官方底层接口，合并数据，并严格验证，返回安全的K线数据\n",
    "\n",
    "起始字段支持多种数据类型：如时间格式的字符串、日期时间对象以及毫秒级时间戳"
   ]
  },
  {
   "cell_type": "code",
   "execution_count": 3,
   "id": "051dc74e",
   "metadata": {},
   "outputs": [
    {
     "data": {
      "text/plain": [
       "{'code': '0',\n",
       " 'data': array([[1.67250240e+12, 1.65950000e+04, 1.65985000e+04, ...,\n",
       "         4.05874953e+04, 4.05874953e+04, 1.00000000e+00],\n",
       "        [1.67250246e+12, 1.65985000e+04, 1.65987000e+04, ...,\n",
       "         1.38026957e+04, 1.38026957e+04, 1.00000000e+00],\n",
       "        [1.67250252e+12, 1.65986000e+04, 1.65987000e+04, ...,\n",
       "         8.78820485e+02, 8.78820485e+02, 1.00000000e+00],\n",
       "        ...,\n",
       "        [1.67258868e+12, 1.65575000e+04, 1.65598000e+04, ...,\n",
       "         5.30212057e+03, 5.30212057e+03, 1.00000000e+00],\n",
       "        [1.67258874e+12, 1.65598000e+04, 1.65602000e+04, ...,\n",
       "         7.56278421e+03, 7.56278421e+03, 1.00000000e+00],\n",
       "        [1.67258880e+12, 1.65600000e+04, 1.65600000e+04, ...,\n",
       "         6.48275742e+03, 6.48275742e+03, 1.00000000e+00]]),\n",
       " 'msg': ''}"
      ]
     },
     "execution_count": 3,
     "metadata": {},
     "output_type": "execute_result"
    }
   ],
   "source": [
    "get_history_candle = okxSPOT.market.get_history_candle(\n",
    "    instId = 'BTC-USDT',\n",
    "    start = '2023-01-01 00:00:00',\n",
    "    end = '2023-01-02 00:00:00',\n",
    "    bar = '1m',\n",
    ")\n",
    "\n",
    "get_history_candle"
   ]
  },
  {
   "cell_type": "markdown",
   "id": "ee884db9",
   "metadata": {},
   "source": [
    "## 3. 按照日期下载历史K线"
   ]
  },
  {
   "cell_type": "code",
   "execution_count": 4,
   "id": "698f9bd7",
   "metadata": {},
   "outputs": [
    {
     "data": {
      "text/plain": [
       "{'code': '0',\n",
       " 'data': array([[1.67250240e+12, 1.65950000e+04, 1.65985000e+04, ...,\n",
       "         4.05874953e+04, 4.05874953e+04, 1.00000000e+00],\n",
       "        [1.67250246e+12, 1.65985000e+04, 1.65987000e+04, ...,\n",
       "         1.38026957e+04, 1.38026957e+04, 1.00000000e+00],\n",
       "        [1.67250252e+12, 1.65986000e+04, 1.65987000e+04, ...,\n",
       "         8.78820485e+02, 8.78820485e+02, 1.00000000e+00],\n",
       "        ...,\n",
       "        [1.67258862e+12, 1.65557000e+04, 1.65575000e+04, ...,\n",
       "         5.36458542e+02, 5.36458542e+02, 1.00000000e+00],\n",
       "        [1.67258868e+12, 1.65575000e+04, 1.65598000e+04, ...,\n",
       "         5.30212057e+03, 5.30212057e+03, 1.00000000e+00],\n",
       "        [1.67258874e+12, 1.65598000e+04, 1.65602000e+04, ...,\n",
       "         7.56278421e+03, 7.56278421e+03, 1.00000000e+00]]),\n",
       " 'msg': ''}"
      ]
     },
     "execution_count": 4,
     "metadata": {},
     "output_type": "execute_result"
    }
   ],
   "source": [
    "get_history_candle_by_date = okxSPOT.market.get_history_candle_by_date(\n",
    "    instId = 'BTC-USDT',\n",
    "    date = '2023-01-01',\n",
    "    bar = '1m'\n",
    ")\n",
    "\n",
    "get_history_candle_by_date"
   ]
  },
  {
   "cell_type": "markdown",
   "id": "fc58a9ce",
   "metadata": {},
   "source": [
    "## 4. 获取产品指定数量的最新历史K线数据"
   ]
  },
  {
   "cell_type": "code",
   "execution_count": 5,
   "id": "baa207fc",
   "metadata": {},
   "outputs": [
    {
     "data": {
      "text/plain": [
       "{'code': '0',\n",
       " 'data': array([[1.69786050e+12, 2.96094000e+04, 2.96099000e+04, ...,\n",
       "         3.70735633e+05, 3.70735633e+05, 1.00000000e+00],\n",
       "        [1.69786080e+12, 2.96043000e+04, 2.96060000e+04, ...,\n",
       "         2.72987340e+04, 2.72987340e+04, 1.00000000e+00],\n",
       "        [1.69786110e+12, 2.96059000e+04, 2.96172000e+04, ...,\n",
       "         1.24577489e+05, 1.24577489e+05, 1.00000000e+00],\n",
       "        ...,\n",
       "        [1.69829160e+12, 3.48000000e+04, 3.48280000e+04, ...,\n",
       "         1.20925279e+06, 1.20925279e+06, 1.00000000e+00],\n",
       "        [1.69829190e+12, 3.47646000e+04, 3.47861000e+04, ...,\n",
       "         4.92201988e+05, 4.92201988e+05, 1.00000000e+00],\n",
       "        [1.69829220e+12, 3.47860000e+04, 3.48010000e+04, ...,\n",
       "         8.47210967e+05, 8.47210967e+05, 1.00000000e+00]]),\n",
       " 'msg': ''}"
      ]
     },
     "execution_count": 5,
     "metadata": {},
     "output_type": "execute_result"
    }
   ],
   "source": [
    "get_history_candle_latest = okxSPOT.market.get_history_candle_latest(\n",
    "    instId = 'BTC-USDT',\n",
    "    length = 1440,\n",
    "    bar = '5m'\n",
    ")\n",
    "get_history_candle_latest"
   ]
  },
  {
   "cell_type": "markdown",
   "id": "b764e8de",
   "metadata": {},
   "source": [
    "## 5. 获取历史K线数据中最新的毫秒时间戳（用于实时K线的时间验证）"
   ]
  },
  {
   "cell_type": "code",
   "execution_count": 6,
   "id": "3607ef65",
   "metadata": {},
   "outputs": [
    {
     "data": {
      "text/plain": [
       "{'code': '0', 'data': 1698292440000.0, 'msg': ''}"
      ]
     },
     "execution_count": 6,
     "metadata": {},
     "output_type": "execute_result"
    }
   ],
   "source": [
    "get_history_candle_latest_ts = okxSPOT.market.get_history_candle_latest_ts()\n",
    "\n",
    "get_history_candle_latest_ts"
   ]
  },
  {
   "cell_type": "markdown",
   "id": "aa42fbd8",
   "metadata": {},
   "source": [
    "## 6. 更新产品历史K线数据到指定时间"
   ]
  },
  {
   "cell_type": "code",
   "execution_count": 7,
   "id": "85b5024a",
   "metadata": {},
   "outputs": [
    {
     "data": {
      "text/plain": [
       "{'code': '0',\n",
       " 'data': array([[1.69786050e+12, 2.96094000e+04, 2.96099000e+04, ...,\n",
       "         3.70735633e+05, 3.70735633e+05, 1.00000000e+00],\n",
       "        [1.69786080e+12, 2.96043000e+04, 2.96060000e+04, ...,\n",
       "         2.72987340e+04, 2.72987340e+04, 1.00000000e+00],\n",
       "        [1.69786110e+12, 2.96059000e+04, 2.96172000e+04, ...,\n",
       "         1.24577489e+05, 1.24577489e+05, 1.00000000e+00],\n",
       "        ...,\n",
       "        [1.69829160e+12, 3.48000000e+04, 3.48280000e+04, ...,\n",
       "         1.20925279e+06, 1.20925279e+06, 1.00000000e+00],\n",
       "        [1.69829190e+12, 3.47646000e+04, 3.47861000e+04, ...,\n",
       "         4.92201988e+05, 4.92201988e+05, 1.00000000e+00],\n",
       "        [1.69829220e+12, 3.47860000e+04, 3.48010000e+04, ...,\n",
       "         8.47210967e+05, 8.47210967e+05, 1.00000000e+00]]),\n",
       " 'msg': ''}"
      ]
     },
     "execution_count": 7,
     "metadata": {},
     "output_type": "execute_result"
    }
   ],
   "source": [
    "update_history_candle = okxSPOT.market.update_history_candle(\n",
    "    instId = 'BTC-USDT',\n",
    "    candle = get_history_candle_latest['data'],\n",
    "    length = 1440,\n",
    "    bar = '5m',\n",
    ")\n",
    "update_history_candle"
   ]
  },
  {
   "cell_type": "markdown",
   "id": "17844fb9",
   "metadata": {},
   "source": [
    "## 7. 将Okx的历史K线数据从array转换成DataFrame类型"
   ]
  },
  {
   "cell_type": "code",
   "execution_count": 8,
   "id": "5db47ad2",
   "metadata": {},
   "outputs": [
    {
     "data": {
      "text/html": [
       "<div>\n",
       "<style scoped>\n",
       "    .dataframe tbody tr th:only-of-type {\n",
       "        vertical-align: middle;\n",
       "    }\n",
       "\n",
       "    .dataframe tbody tr th {\n",
       "        vertical-align: top;\n",
       "    }\n",
       "\n",
       "    .dataframe thead th {\n",
       "        text-align: right;\n",
       "    }\n",
       "</style>\n",
       "<table border=\"1\" class=\"dataframe\">\n",
       "  <thead>\n",
       "    <tr style=\"text-align: right;\">\n",
       "      <th></th>\n",
       "      <th>ts</th>\n",
       "      <th>o</th>\n",
       "      <th>h</th>\n",
       "      <th>l</th>\n",
       "      <th>c</th>\n",
       "      <th>vol</th>\n",
       "      <th>volCcy</th>\n",
       "      <th>volCcyQuote</th>\n",
       "      <th>confirm</th>\n",
       "    </tr>\n",
       "  </thead>\n",
       "  <tbody>\n",
       "    <tr>\n",
       "      <th>0</th>\n",
       "      <td>2023-10-21 11:55:00</td>\n",
       "      <td>29609.4</td>\n",
       "      <td>29609.9</td>\n",
       "      <td>29601.4</td>\n",
       "      <td>29604.2</td>\n",
       "      <td>12.522756</td>\n",
       "      <td>370735.633142</td>\n",
       "      <td>370735.633142</td>\n",
       "      <td>1</td>\n",
       "    </tr>\n",
       "    <tr>\n",
       "      <th>1</th>\n",
       "      <td>2023-10-21 12:00:00</td>\n",
       "      <td>29604.3</td>\n",
       "      <td>29606.0</td>\n",
       "      <td>29604.2</td>\n",
       "      <td>29605.9</td>\n",
       "      <td>0.922119</td>\n",
       "      <td>27298.733954</td>\n",
       "      <td>27298.733954</td>\n",
       "      <td>1</td>\n",
       "    </tr>\n",
       "    <tr>\n",
       "      <th>2</th>\n",
       "      <td>2023-10-21 12:05:00</td>\n",
       "      <td>29605.9</td>\n",
       "      <td>29617.2</td>\n",
       "      <td>29605.9</td>\n",
       "      <td>29612.9</td>\n",
       "      <td>4.207004</td>\n",
       "      <td>124577.489112</td>\n",
       "      <td>124577.489112</td>\n",
       "      <td>1</td>\n",
       "    </tr>\n",
       "    <tr>\n",
       "      <th>3</th>\n",
       "      <td>2023-10-21 12:10:00</td>\n",
       "      <td>29613.0</td>\n",
       "      <td>29624.0</td>\n",
       "      <td>29612.9</td>\n",
       "      <td>29620.6</td>\n",
       "      <td>15.872101</td>\n",
       "      <td>470164.964449</td>\n",
       "      <td>470164.964449</td>\n",
       "      <td>1</td>\n",
       "    </tr>\n",
       "    <tr>\n",
       "      <th>4</th>\n",
       "      <td>2023-10-21 12:15:00</td>\n",
       "      <td>29620.7</td>\n",
       "      <td>29622.0</td>\n",
       "      <td>29598.4</td>\n",
       "      <td>29602.3</td>\n",
       "      <td>12.313412</td>\n",
       "      <td>364645.279572</td>\n",
       "      <td>364645.279572</td>\n",
       "      <td>1</td>\n",
       "    </tr>\n",
       "    <tr>\n",
       "      <th>5</th>\n",
       "      <td>2023-10-21 12:20:00</td>\n",
       "      <td>29602.4</td>\n",
       "      <td>29605.5</td>\n",
       "      <td>29584.0</td>\n",
       "      <td>29584.1</td>\n",
       "      <td>4.168354</td>\n",
       "      <td>123344.910180</td>\n",
       "      <td>123344.910180</td>\n",
       "      <td>1</td>\n",
       "    </tr>\n",
       "    <tr>\n",
       "      <th>6</th>\n",
       "      <td>2023-10-21 12:25:00</td>\n",
       "      <td>29584.1</td>\n",
       "      <td>29600.2</td>\n",
       "      <td>29582.4</td>\n",
       "      <td>29588.4</td>\n",
       "      <td>7.734739</td>\n",
       "      <td>228883.966210</td>\n",
       "      <td>228883.966210</td>\n",
       "      <td>1</td>\n",
       "    </tr>\n",
       "    <tr>\n",
       "      <th>7</th>\n",
       "      <td>2023-10-21 12:30:00</td>\n",
       "      <td>29588.3</td>\n",
       "      <td>29589.9</td>\n",
       "      <td>29586.3</td>\n",
       "      <td>29589.2</td>\n",
       "      <td>1.354029</td>\n",
       "      <td>40062.793533</td>\n",
       "      <td>40062.793533</td>\n",
       "      <td>1</td>\n",
       "    </tr>\n",
       "    <tr>\n",
       "      <th>8</th>\n",
       "      <td>2023-10-21 12:35:00</td>\n",
       "      <td>29589.3</td>\n",
       "      <td>29593.7</td>\n",
       "      <td>29584.2</td>\n",
       "      <td>29584.2</td>\n",
       "      <td>1.960543</td>\n",
       "      <td>58014.727597</td>\n",
       "      <td>58014.727597</td>\n",
       "      <td>1</td>\n",
       "    </tr>\n",
       "    <tr>\n",
       "      <th>9</th>\n",
       "      <td>2023-10-21 12:40:00</td>\n",
       "      <td>29584.2</td>\n",
       "      <td>29584.3</td>\n",
       "      <td>29572.0</td>\n",
       "      <td>29573.9</td>\n",
       "      <td>4.007690</td>\n",
       "      <td>118542.528014</td>\n",
       "      <td>118542.528014</td>\n",
       "      <td>1</td>\n",
       "    </tr>\n",
       "  </tbody>\n",
       "</table>\n",
       "</div>"
      ],
      "text/plain": [
       "                    ts        o        h        l        c        vol  \\\n",
       "0  2023-10-21 11:55:00  29609.4  29609.9  29601.4  29604.2  12.522756   \n",
       "1  2023-10-21 12:00:00  29604.3  29606.0  29604.2  29605.9   0.922119   \n",
       "2  2023-10-21 12:05:00  29605.9  29617.2  29605.9  29612.9   4.207004   \n",
       "3  2023-10-21 12:10:00  29613.0  29624.0  29612.9  29620.6  15.872101   \n",
       "4  2023-10-21 12:15:00  29620.7  29622.0  29598.4  29602.3  12.313412   \n",
       "5  2023-10-21 12:20:00  29602.4  29605.5  29584.0  29584.1   4.168354   \n",
       "6  2023-10-21 12:25:00  29584.1  29600.2  29582.4  29588.4   7.734739   \n",
       "7  2023-10-21 12:30:00  29588.3  29589.9  29586.3  29589.2   1.354029   \n",
       "8  2023-10-21 12:35:00  29589.3  29593.7  29584.2  29584.2   1.960543   \n",
       "9  2023-10-21 12:40:00  29584.2  29584.3  29572.0  29573.9   4.007690   \n",
       "\n",
       "          volCcy    volCcyQuote  confirm  \n",
       "0  370735.633142  370735.633142        1  \n",
       "1   27298.733954   27298.733954        1  \n",
       "2  124577.489112  124577.489112        1  \n",
       "3  470164.964449  470164.964449        1  \n",
       "4  364645.279572  364645.279572        1  \n",
       "5  123344.910180  123344.910180        1  \n",
       "6  228883.966210  228883.966210        1  \n",
       "7   40062.793533   40062.793533        1  \n",
       "8   58014.727597   58014.727597        1  \n",
       "9  118542.528014  118542.528014        1  "
      ]
     },
     "execution_count": 8,
     "metadata": {},
     "output_type": "execute_result"
    }
   ],
   "source": [
    "df = okxSPOT.market.candle_to_df(update_history_candle['data'])\n",
    "\n",
    "df.head(10)"
   ]
  },
  {
   "cell_type": "markdown",
   "id": "10c2a8dd",
   "metadata": {},
   "source": [
    "## 8. 将Okx的历史K线数据从array转换成DataFrame类型"
   ]
  },
  {
   "cell_type": "code",
   "execution_count": 9,
   "id": "99fa29c7",
   "metadata": {},
   "outputs": [
    {
     "data": {
      "text/plain": [
       "array([[1.69786050e+12, 2.96094000e+04, 2.96099000e+04, ...,\n",
       "        3.70735633e+05, 3.70735633e+05, 1.00000000e+00],\n",
       "       [1.69786080e+12, 2.96043000e+04, 2.96060000e+04, ...,\n",
       "        2.72987340e+04, 2.72987340e+04, 1.00000000e+00],\n",
       "       [1.69786110e+12, 2.96059000e+04, 2.96172000e+04, ...,\n",
       "        1.24577489e+05, 1.24577489e+05, 1.00000000e+00],\n",
       "       ...,\n",
       "       [1.69829160e+12, 3.48000000e+04, 3.48280000e+04, ...,\n",
       "        1.20925279e+06, 1.20925279e+06, 1.00000000e+00],\n",
       "       [1.69829190e+12, 3.47646000e+04, 3.47861000e+04, ...,\n",
       "        4.92201988e+05, 4.92201988e+05, 1.00000000e+00],\n",
       "       [1.69829220e+12, 3.47860000e+04, 3.48010000e+04, ...,\n",
       "        8.47210967e+05, 8.47210967e+05, 1.00000000e+00]])"
      ]
     },
     "execution_count": 9,
     "metadata": {},
     "output_type": "execute_result"
    }
   ],
   "source": [
    "candle = okxSPOT.market.df_to_candle(df)\n",
    "\n",
    "candle"
   ]
  }
 ],
 "metadata": {
  "kernelspec": {
   "display_name": "Python 3 (ipykernel)",
   "language": "python",
   "name": "python3"
  },
  "language_info": {
   "codemirror_mode": {
    "name": "ipython",
    "version": 3
   },
   "file_extension": ".py",
   "mimetype": "text/x-python",
   "name": "python",
   "nbconvert_exporter": "python",
   "pygments_lexer": "ipython3",
   "version": "3.8.4"
  }
 },
 "nbformat": 4,
 "nbformat_minor": 5
}
