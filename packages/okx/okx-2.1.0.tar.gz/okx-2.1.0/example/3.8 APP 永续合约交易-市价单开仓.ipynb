{
 "cells": [
  {
   "cell_type": "code",
   "execution_count": 1,
   "id": "d4cf6299",
   "metadata": {},
   "outputs": [],
   "source": [
    "from okx.app import OkxSWAP"
   ]
  },
  {
   "cell_type": "markdown",
   "id": "669474ff",
   "metadata": {},
   "source": [
    "## 1. 实例化OkxSWAP"
   ]
  },
  {
   "cell_type": "code",
   "execution_count": 2,
   "id": "3fc88990",
   "metadata": {},
   "outputs": [
    {
     "name": "stdout",
     "output_type": "stream",
     "text": [
      "[FAILURE] 设置持仓方式为双向持仓失败，请手动设置：posMode=\"long_short_mode\"\n"
     ]
    }
   ],
   "source": [
    "okxSWAP = OkxSWAP(\n",
    "    key=\"xxx\",\n",
    "    secret=\"xxx\",\n",
    "    passphrase=\"xxx\",\n",
    "    # 使用http和https代理，proxies={'http':'xxxxx','https:':'xxxxx'}，通requests中的proxies参数规则相同\n",
    "    proxies={},\n",
    "    # 转发：需搭建转发服务器，可参考：https://github.com/pyted/okx_resender\n",
    "    proxy_host=None, \n",
    ")\n",
    "\n",
    "# 如果有挂单，会提示“设置持仓方式为双向持仓失败”，如果你的持仓模式已经是双向持仓，可以忽略这个警告"
   ]
  },
  {
   "cell_type": "markdown",
   "id": "ab2bd30c",
   "metadata": {},
   "source": [
    "## 2. 同步 市价开仓"
   ]
  },
  {
   "cell_type": "code",
   "execution_count": 3,
   "id": "3da383d1",
   "metadata": {},
   "outputs": [
    {
     "data": {
      "text/plain": [
       "{'instType': 'SWAP',\n",
       " 'instId': 'MANA-USDT-SWAP',\n",
       " 'state': 'filled',\n",
       " 'ordId': '637372044602408964',\n",
       " 'meta': {},\n",
       " 'request_param': {'instId': 'MANA-USDT-SWAP',\n",
       "  'tdMode': 'isolated',\n",
       "  'posSide': 'long',\n",
       "  'side': 'buy',\n",
       "  'ordType': 'market',\n",
       "  'sz': '1',\n",
       "  'clOrdId': '',\n",
       "  'tag': ''},\n",
       " 'func_param': {'instId': 'MANA-USDT-SWAP',\n",
       "  'tdMode': 'isolated',\n",
       "  'posSide': 'long',\n",
       "  'lever': 1,\n",
       "  'openMoney': None,\n",
       "  'quantityCT': 1,\n",
       "  'meta': {},\n",
       "  'timeout': 60,\n",
       "  'delay': 0.2,\n",
       "  'cancel': True,\n",
       "  'clOrdId': '',\n",
       "  'tag': '',\n",
       "  'newThread': False,\n",
       "  'callback': None,\n",
       "  'errorback': None},\n",
       " 'get_order_result': {'code': '0',\n",
       "  'data': {'accFillSz': '1',\n",
       "   'algoClOrdId': '',\n",
       "   'algoId': '',\n",
       "   'attachAlgoClOrdId': '',\n",
       "   'avgPx': '0.3449',\n",
       "   'cTime': '1698233337233',\n",
       "   'cancelSource': '',\n",
       "   'cancelSourceReason': '',\n",
       "   'category': 'normal',\n",
       "   'ccy': '',\n",
       "   'clOrdId': '',\n",
       "   'fee': '-0.0017245',\n",
       "   'feeCcy': 'USDT',\n",
       "   'fillPx': '0.3449',\n",
       "   'fillSz': '1',\n",
       "   'fillTime': '1698233337235',\n",
       "   'instId': 'MANA-USDT-SWAP',\n",
       "   'instType': 'SWAP',\n",
       "   'lever': '1',\n",
       "   'ordId': '637372044602408964',\n",
       "   'ordType': 'market',\n",
       "   'pnl': '0',\n",
       "   'posSide': 'long',\n",
       "   'px': '',\n",
       "   'pxType': '',\n",
       "   'pxUsd': '',\n",
       "   'pxVol': '',\n",
       "   'quickMgnType': '',\n",
       "   'rebate': '0',\n",
       "   'rebateCcy': 'USDT',\n",
       "   'reduceOnly': 'false',\n",
       "   'side': 'buy',\n",
       "   'slOrdPx': '',\n",
       "   'slTriggerPx': '',\n",
       "   'slTriggerPxType': '',\n",
       "   'source': '',\n",
       "   'state': 'filled',\n",
       "   'stpId': '',\n",
       "   'stpMode': '',\n",
       "   'sz': '1',\n",
       "   'tag': '',\n",
       "   'tdMode': 'isolated',\n",
       "   'tgtCcy': '',\n",
       "   'tpOrdPx': '',\n",
       "   'tpTriggerPx': '',\n",
       "   'tpTriggerPxType': '',\n",
       "   'tradeId': '78497756',\n",
       "   'uTime': '1698233337236'},\n",
       "  'msg': ''},\n",
       " 'set_order_result': {'code': '0',\n",
       "  'data': {'clOrdId': '',\n",
       "   'ordId': '637372044602408964',\n",
       "   'sCode': '0',\n",
       "   'sMsg': 'Order placed',\n",
       "   'tag': ''},\n",
       "  'inTime': '1698233337232388',\n",
       "  'msg': '',\n",
       "  'outTime': '1698233337234830'},\n",
       " 'error_result': None,\n",
       " 'cancel_result': None}"
      ]
     },
     "execution_count": 3,
     "metadata": {},
     "output_type": "execute_result"
    }
   ],
   "source": [
    "open_market2 = okxSWAP.trade.open_market(\n",
    "    instId='MANA-USDT-SWAP',  # 产品\n",
    "    tdMode='isolated',  # 持仓方式 isolated：逐仓 cross：全仓\n",
    "    posSide='long',  # 持仓方向 long：多单 short：空单\n",
    "    lever=1,  # 杠杆倍数\n",
    "    # openMoney=2,  # 开仓金额 开仓金额openMoney和开仓数量quantityCT必须输入其中一个 优先级：quantityCT > openMoney\n",
    "    quantityCT=1,  # 开仓数量 注意：quantityCT是合约的张数，不是货币数量\n",
    "    tag='',  # 订单标签\n",
    "    clOrdId='',  # 客户自定义订单ID\n",
    "    meta={},  # 向回调函数中传递的参数字典\n",
    ")\n",
    "\n",
    "open_market2"
   ]
  },
  {
   "cell_type": "markdown",
   "id": "248f8304",
   "metadata": {},
   "source": [
    "## 3. 同步 市价开仓 回调函数"
   ]
  },
  {
   "cell_type": "code",
   "execution_count": 4,
   "id": "89ba85f7",
   "metadata": {},
   "outputs": [],
   "source": [
    "# 执行成功回调\n",
    "def callback3(information):\n",
    "    print('callback')\n",
    "    print(information)\n",
    "    \n",
    "# 执行错误回调\n",
    "def errorback3(information):\n",
    "    print('errorback')\n",
    "    print(information)"
   ]
  },
  {
   "cell_type": "code",
   "execution_count": 5,
   "id": "7da5a201",
   "metadata": {},
   "outputs": [
    {
     "name": "stdout",
     "output_type": "stream",
     "text": [
      "callback\n",
      "{'instType': 'SWAP', 'instId': 'MANA-USDT-SWAP', 'state': 'filled', 'ordId': '637373977929089028', 'meta': {}, 'request_param': {'instId': 'MANA-USDT-SWAP', 'tdMode': 'isolated', 'posSide': 'long', 'side': 'buy', 'ordType': 'market', 'sz': '1', 'clOrdId': '', 'tag': ''}, 'func_param': {'instId': 'MANA-USDT-SWAP', 'tdMode': 'isolated', 'posSide': 'long', 'lever': 1, 'openMoney': 4, 'quantityCT': None, 'meta': {}, 'timeout': 60, 'delay': 0.2, 'cancel': True, 'clOrdId': '', 'tag': '', 'newThread': False, 'callback': <function callback3 at 0x7f8848b08dc0>, 'errorback': <function errorback3 at 0x7f8850d3f040>}, 'get_order_result': {'code': '0', 'data': {'accFillSz': '1', 'algoClOrdId': '', 'algoId': '', 'attachAlgoClOrdId': '', 'avgPx': '0.3451', 'cTime': '1698233798174', 'cancelSource': '', 'cancelSourceReason': '', 'category': 'normal', 'ccy': '', 'clOrdId': '', 'fee': '-0.0017255', 'feeCcy': 'USDT', 'fillPx': '0.3451', 'fillSz': '1', 'fillTime': '1698233798176', 'instId': 'MANA-USDT-SWAP', 'instType': 'SWAP', 'lever': '1', 'ordId': '637373977929089028', 'ordType': 'market', 'pnl': '0', 'posSide': 'long', 'px': '', 'pxType': '', 'pxUsd': '', 'pxVol': '', 'quickMgnType': '', 'rebate': '0', 'rebateCcy': 'USDT', 'reduceOnly': 'false', 'side': 'buy', 'slOrdPx': '', 'slTriggerPx': '', 'slTriggerPxType': '', 'source': '', 'state': 'filled', 'stpId': '', 'stpMode': '', 'sz': '1', 'tag': '', 'tdMode': 'isolated', 'tgtCcy': '', 'tpOrdPx': '', 'tpTriggerPx': '', 'tpTriggerPxType': '', 'tradeId': '78497929', 'uTime': '1698233798177'}, 'msg': ''}, 'set_order_result': {'code': '0', 'data': {'clOrdId': '', 'ordId': '637373977929089028', 'sCode': '0', 'sMsg': 'Order placed', 'tag': ''}, 'inTime': '1698233798173194', 'msg': '', 'outTime': '1698233798175703'}, 'error_result': None, 'cancel_result': None}\n"
     ]
    }
   ],
   "source": [
    "# 设置callback和errorback\n",
    "open_market3 = okxSWAP.trade.open_market(\n",
    "    instId='MANA-USDT-SWAP',  # 产品\n",
    "    tdMode='isolated',  # 持仓方式 isolated：逐仓 cross：全仓\n",
    "    posSide='long',  # 持仓方向 long：多单 short：空单\n",
    "    lever=1,  # 杠杆倍数\n",
    "    openMoney=4,  # 开仓金额 开仓金额openMoney和开仓数量quantityCT必须输入其中一个 优先级：quantityCT > openMoney\n",
    "    # quantityCT=1,  # 开仓数量 注意：quantityCT是合约的张数，不是货币数量\n",
    "    callback=callback3,  # 开仓成功触发的回调函数\n",
    "    errorback=errorback3,  # 开仓失败触发的回调函数\n",
    "    tag='',  # 订单标签\n",
    "    clOrdId='',  # 客户自定义订单ID\n",
    "    meta={},  # 向回调函数中传递的参数字典\n",
    ")"
   ]
  },
  {
   "cell_type": "markdown",
   "id": "9df37bf7",
   "metadata": {},
   "source": [
    "## 4. 异步 市价开仓（购买）回调函数"
   ]
  },
  {
   "cell_type": "code",
   "execution_count": 6,
   "id": "b1ebc294",
   "metadata": {},
   "outputs": [],
   "source": [
    "# 执行成功回调\n",
    "def callback4(information):\n",
    "    print('thread callback')\n",
    "    print(information)\n",
    "    \n",
    "# 执行错误回调\n",
    "def errorback4(information):\n",
    "    print('thread errorback')\n",
    "    print(information)"
   ]
  },
  {
   "cell_type": "code",
   "execution_count": 7,
   "id": "ae9b32ea",
   "metadata": {},
   "outputs": [
    {
     "data": {
      "text/plain": [
       "<Thread(Thread-5, started 123145447895040)>"
      ]
     },
     "execution_count": 7,
     "metadata": {},
     "output_type": "execute_result"
    },
    {
     "name": "stdout",
     "output_type": "stream",
     "text": [
      "thread callback\n",
      "{'instType': 'SWAP', 'instId': 'MANA-USDT-SWAP', 'state': 'filled', 'ordId': '637374365285646338', 'meta': {}, 'request_param': {'instId': 'MANA-USDT-SWAP', 'tdMode': 'isolated', 'posSide': 'long', 'side': 'buy', 'ordType': 'market', 'sz': '1', 'clOrdId': '', 'tag': ''}, 'func_param': {'instId': 'MANA-USDT-SWAP', 'tdMode': 'isolated', 'posSide': 'long', 'lever': 1, 'openMoney': None, 'quantityCT': 1, 'meta': {}, 'timeout': 60, 'delay': 0.2, 'cancel': True, 'clOrdId': '', 'tag': '', 'newThread': True, 'callback': <function callback4 at 0x7fd558b75b80>, 'errorback': <function errorback4 at 0x7fd558b75d30>}, 'get_order_result': {'code': '0', 'data': {'accFillSz': '1', 'algoClOrdId': '', 'algoId': '', 'attachAlgoClOrdId': '', 'avgPx': '0.3452', 'cTime': '1698233890527', 'cancelSource': '', 'cancelSourceReason': '', 'category': 'normal', 'ccy': '', 'clOrdId': '', 'fee': '-0.001726', 'feeCcy': 'USDT', 'fillPx': '0.3452', 'fillSz': '1', 'fillTime': '1698233890528', 'instId': 'MANA-USDT-SWAP', 'instType': 'SWAP', 'lever': '1', 'ordId': '637374365285646338', 'ordType': 'market', 'pnl': '0', 'posSide': 'long', 'px': '', 'pxType': '', 'pxUsd': '', 'pxVol': '', 'quickMgnType': '', 'rebate': '0', 'rebateCcy': 'USDT', 'reduceOnly': 'false', 'side': 'buy', 'slOrdPx': '', 'slTriggerPx': '', 'slTriggerPxType': '', 'source': '', 'state': 'filled', 'stpId': '', 'stpMode': '', 'sz': '1', 'tag': '', 'tdMode': 'isolated', 'tgtCcy': '', 'tpOrdPx': '', 'tpTriggerPx': '', 'tpTriggerPxType': '', 'tradeId': '78497946', 'uTime': '1698233890530'}, 'msg': ''}, 'set_order_result': {'code': '0', 'data': {'clOrdId': '', 'ordId': '637374365285646338', 'sCode': '0', 'sMsg': 'Order placed', 'tag': ''}, 'inTime': '1698233890526452', 'msg': '', 'outTime': '1698233890528717'}, 'error_result': None, 'cancel_result': None}\n"
     ]
    }
   ],
   "source": [
    "# 设置newThread=True\n",
    "open_market4 = okxSWAP.trade.open_market(\n",
    "    instId='MANA-USDT-SWAP',  # 产品\n",
    "    tdMode='isolated',  # 持仓方式 isolated：逐仓 cross：全仓\n",
    "    posSide='long',  # 持仓方向 long：多单 short：空单\n",
    "    lever=1,  # 杠杆倍数\n",
    "    # openMoney=4,  # 开仓金额 开仓金额openMoney和开仓数量quantityCT必须输入其中一个 优先级：quantityCT > openMoney\n",
    "    quantityCT=1,  # 开仓数量 注意：quantityCT是合约的张数，不是货币数量\n",
    "    cancel=True,  # 订单超时后是否取消\n",
    "    callback=callback4,  # 开仓成功触发的回调函数\n",
    "    errorback=errorback4,  # 开仓失败触发的回调函数\n",
    "    newThread=True,  # 是否开启一个新的线程维护这个订单\n",
    "    tag='',  # 订单标签\n",
    "    clOrdId='',  # 客户自定义订单ID\n",
    "    meta={},  # 向回调函数中传递的参数字典\n",
    ")\n",
    "\n",
    "open_market4"
   ]
  }
 ],
 "metadata": {
  "kernelspec": {
   "display_name": "Python 3 (ipykernel)",
   "language": "python",
   "name": "python3"
  },
  "language_info": {
   "codemirror_mode": {
    "name": "ipython",
    "version": 3
   },
   "file_extension": ".py",
   "mimetype": "text/x-python",
   "name": "python",
   "nbconvert_exporter": "python",
   "pygments_lexer": "ipython3",
   "version": "3.8.4"
  }
 },
 "nbformat": 4,
 "nbformat_minor": 5
}
