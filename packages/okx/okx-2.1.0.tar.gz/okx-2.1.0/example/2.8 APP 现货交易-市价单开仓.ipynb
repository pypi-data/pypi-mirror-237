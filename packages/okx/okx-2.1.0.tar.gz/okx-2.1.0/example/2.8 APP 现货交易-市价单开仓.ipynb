{
 "cells": [
  {
   "cell_type": "code",
   "execution_count": 1,
   "id": "e7fb294e",
   "metadata": {},
   "outputs": [],
   "source": [
    "from okx.app import OkxSPOT"
   ]
  },
  {
   "cell_type": "markdown",
   "id": "797c94d6",
   "metadata": {},
   "source": [
    "## 1. 实例化OkxSPOT"
   ]
  },
  {
   "cell_type": "code",
   "execution_count": 2,
   "id": "60f4995f",
   "metadata": {},
   "outputs": [],
   "source": [
    "okxSPOT = OkxSPOT(\n",
    "    key=\"xxx\",\n",
    "    secret=\"xxx\",\n",
    "    passphrase=\"xxx\",\n",
    "    # 使用http和https代理，proxies={'http':'xxxxx','https:':'xxxxx'}，通requests中的proxies参数规则相同\n",
    "    proxies={},\n",
    "    # 转发：需搭建转发服务器，可参考：https://github.com/pyted/okx_resender\n",
    "    proxy_host=None, \n",
    ")"
   ]
  },
  {
   "cell_type": "markdown",
   "id": "85a9ad97",
   "metadata": {},
   "source": [
    "## 2. 同步 市价开仓（购买）"
   ]
  },
  {
   "cell_type": "code",
   "execution_count": 3,
   "id": "bc421c42",
   "metadata": {},
   "outputs": [
    {
     "data": {
      "text/plain": [
       "{'instType': 'SPOT',\n",
       " 'instId': 'MANA-USDT',\n",
       " 'state': 'filled',\n",
       " 'ordId': '637281891502419968',\n",
       " 'meta': {},\n",
       " 'request_param': {'instId': 'MANA-USDT',\n",
       "  'tdMode': 'cash',\n",
       "  'side': 'buy',\n",
       "  'ordType': 'market',\n",
       "  'sz': '2.000000',\n",
       "  'clOrdId': '',\n",
       "  'tag': ''},\n",
       " 'func_param': {'instId': 'MANA-USDT',\n",
       "  'openMoney': 2,\n",
       "  'quantity': None,\n",
       "  'meta': {},\n",
       "  'timeout': 60,\n",
       "  'delay': 0.2,\n",
       "  'cancel': True,\n",
       "  'clOrdId': '',\n",
       "  'tag': '',\n",
       "  'newThread': False,\n",
       "  'callback': None,\n",
       "  'errorback': None},\n",
       " 'get_order_result': {'code': '0',\n",
       "  'data': {'accFillSz': '5.788712',\n",
       "   'algoClOrdId': '',\n",
       "   'algoId': '',\n",
       "   'attachAlgoClOrdId': '',\n",
       "   'avgPx': '0.3455',\n",
       "   'cTime': '1698211843059',\n",
       "   'cancelSource': '',\n",
       "   'cancelSourceReason': '',\n",
       "   'category': 'normal',\n",
       "   'ccy': '',\n",
       "   'clOrdId': '',\n",
       "   'fee': '-0.005788712',\n",
       "   'feeCcy': 'MANA',\n",
       "   'fillPx': '0.3455',\n",
       "   'fillSz': '5.788712',\n",
       "   'fillTime': '1698211843060',\n",
       "   'instId': 'MANA-USDT',\n",
       "   'instType': 'SPOT',\n",
       "   'lever': '',\n",
       "   'ordId': '637281891502419968',\n",
       "   'ordType': 'market',\n",
       "   'pnl': '0',\n",
       "   'posSide': 'net',\n",
       "   'px': '',\n",
       "   'pxType': '',\n",
       "   'pxUsd': '',\n",
       "   'pxVol': '',\n",
       "   'quickMgnType': '',\n",
       "   'rebate': '0',\n",
       "   'rebateCcy': 'USDT',\n",
       "   'reduceOnly': 'false',\n",
       "   'side': 'buy',\n",
       "   'slOrdPx': '',\n",
       "   'slTriggerPx': '',\n",
       "   'slTriggerPxType': '',\n",
       "   'source': '',\n",
       "   'state': 'filled',\n",
       "   'stpId': '',\n",
       "   'stpMode': '',\n",
       "   'sz': '2',\n",
       "   'tag': '',\n",
       "   'tdMode': 'cash',\n",
       "   'tgtCcy': 'quote_ccy',\n",
       "   'tpOrdPx': '',\n",
       "   'tpTriggerPx': '',\n",
       "   'tpTriggerPxType': '',\n",
       "   'tradeId': '35523774',\n",
       "   'uTime': '1698211843062'},\n",
       "  'msg': ''},\n",
       " 'set_order_result': {'code': '0',\n",
       "  'data': {'clOrdId': '',\n",
       "   'ordId': '637281891502419968',\n",
       "   'sCode': '0',\n",
       "   'sMsg': 'Order placed',\n",
       "   'tag': ''},\n",
       "  'inTime': '1698211843058963',\n",
       "  'msg': '',\n",
       "  'outTime': '1698211843060249'},\n",
       " 'error_result': None,\n",
       " 'cancel_result': None}"
      ]
     },
     "execution_count": 3,
     "metadata": {},
     "output_type": "execute_result"
    }
   ],
   "source": [
    "open_market1 = okxSPOT.trade.open_market(\n",
    "    instId='MANA-USDT',  # 产品\n",
    "    openMoney=2, # 开仓金额 开仓金额openMoney和开仓数量quantity必须输入其中一个 优先级：quantity > openMoney\n",
    "    # quantity=3,  # 开仓数量\n",
    "    tag='',  # 订单标签\n",
    "    clOrdId='',  # 客户自定义订单ID\n",
    "    meta={},  # 向回调函数中传递的参数字典\n",
    ")\n",
    "\n",
    "open_market1"
   ]
  },
  {
   "cell_type": "markdown",
   "id": "deb380d1",
   "metadata": {},
   "source": [
    "## 3. 同步 市价开仓（购买） 回调函数"
   ]
  },
  {
   "cell_type": "code",
   "execution_count": 4,
   "id": "f4630a21",
   "metadata": {},
   "outputs": [],
   "source": [
    "# 执行成功回调\n",
    "def callback3(information):\n",
    "    print('callback')\n",
    "    print(information)\n",
    "    \n",
    "# 执行错误回调\n",
    "def errorback3(information):\n",
    "    print('errorback')\n",
    "    print(information)"
   ]
  },
  {
   "cell_type": "code",
   "execution_count": 5,
   "id": "907092d2",
   "metadata": {},
   "outputs": [
    {
     "name": "stdout",
     "output_type": "stream",
     "text": [
      "callback\n",
      "{'instType': 'SPOT', 'instId': 'MANA-USDT', 'state': 'filled', 'ordId': '637281895780610051', 'meta': {}, 'request_param': {'instId': 'MANA-USDT', 'tdMode': 'cash', 'side': 'buy', 'ordType': 'market', 'sz': '2.000000', 'clOrdId': '', 'tag': ''}, 'func_param': {'instId': 'MANA-USDT', 'openMoney': 2, 'quantity': None, 'meta': {}, 'timeout': 60, 'delay': 0.2, 'cancel': True, 'clOrdId': '', 'tag': '', 'newThread': False, 'callback': <function callback3 at 0x7fcf98f7e4c0>, 'errorback': <function errorback3 at 0x7fcf98f7e550>}, 'get_order_result': {'code': '0', 'data': {'accFillSz': '5.788712', 'algoClOrdId': '', 'algoId': '', 'attachAlgoClOrdId': '', 'avgPx': '0.3455', 'cTime': '1698211844079', 'cancelSource': '', 'cancelSourceReason': '', 'category': 'normal', 'ccy': '', 'clOrdId': '', 'fee': '-0.005788712', 'feeCcy': 'MANA', 'fillPx': '0.3455', 'fillSz': '5.788712', 'fillTime': '1698211844080', 'instId': 'MANA-USDT', 'instType': 'SPOT', 'lever': '', 'ordId': '637281895780610051', 'ordType': 'market', 'pnl': '0', 'posSide': 'net', 'px': '', 'pxType': '', 'pxUsd': '', 'pxVol': '', 'quickMgnType': '', 'rebate': '0', 'rebateCcy': 'USDT', 'reduceOnly': 'false', 'side': 'buy', 'slOrdPx': '', 'slTriggerPx': '', 'slTriggerPxType': '', 'source': '', 'state': 'filled', 'stpId': '', 'stpMode': '', 'sz': '2', 'tag': '', 'tdMode': 'cash', 'tgtCcy': 'quote_ccy', 'tpOrdPx': '', 'tpTriggerPx': '', 'tpTriggerPxType': '', 'tradeId': '35523775', 'uTime': '1698211844082'}, 'msg': ''}, 'set_order_result': {'code': '0', 'data': {'clOrdId': '', 'ordId': '637281895780610051', 'sCode': '0', 'sMsg': 'Order placed', 'tag': ''}, 'inTime': '1698211844079495', 'msg': '', 'outTime': '1698211844081349'}, 'error_result': None, 'cancel_result': None}\n"
     ]
    }
   ],
   "source": [
    "open_market3 = okxSPOT.trade.open_market(\n",
    "    instId='MANA-USDT',  # 产品\n",
    "    openMoney=2, # 开仓金额 开仓金额openMoney和开仓数量quantity必须输入其中一个 优先级：quantity > openMoney\n",
    "    # quantity=3,  # 开仓数量\n",
    "    callback=callback3,  # 开仓成功触发的回调函数\n",
    "    errorback=errorback3,  # 开仓失败触发的回调函数\n",
    "    tag='',  # 订单标签\n",
    "    clOrdId='',  # 客户自定义订单ID\n",
    "    meta={},  # 向回调函数中传递的参数字典\n",
    ")"
   ]
  },
  {
   "cell_type": "markdown",
   "id": "a9285e1b",
   "metadata": {},
   "source": [
    "## 4. 异步 市价开仓（购买）回调函数"
   ]
  },
  {
   "cell_type": "code",
   "execution_count": 6,
   "id": "790a25ca",
   "metadata": {},
   "outputs": [],
   "source": [
    "# 执行成功回调\n",
    "def callback4(information):\n",
    "    print('thread callback')\n",
    "    print(information)\n",
    "    \n",
    "# 执行错误回调\n",
    "def errorback4(information):\n",
    "    print('thread errorback')\n",
    "    print(information)"
   ]
  },
  {
   "cell_type": "code",
   "execution_count": 7,
   "id": "d87888c9",
   "metadata": {},
   "outputs": [
    {
     "name": "stdout",
     "output_type": "stream",
     "text": [
      "----\n",
      "thread callback\n",
      "{'instType': 'SPOT', 'instId': 'MANA-USDT', 'state': 'filled', 'ordId': '637281899983302656', 'meta': {}, 'request_param': {'instId': 'MANA-USDT', 'tdMode': 'cash', 'side': 'buy', 'ordType': 'market', 'sz': '2.000000', 'clOrdId': '', 'tag': ''}, 'func_param': {'instId': 'MANA-USDT', 'openMoney': 2, 'quantity': None, 'meta': {}, 'timeout': 60, 'delay': 0.2, 'cancel': True, 'clOrdId': '', 'tag': '', 'newThread': True, 'callback': <function callback4 at 0x7fcf98f7e790>, 'errorback': <function errorback4 at 0x7fcf98f7e820>}, 'get_order_result': {'code': '0', 'data': {'accFillSz': '5.788712', 'algoClOrdId': '', 'algoId': '', 'attachAlgoClOrdId': '', 'avgPx': '0.3455', 'cTime': '1698211845081', 'cancelSource': '', 'cancelSourceReason': '', 'category': 'normal', 'ccy': '', 'clOrdId': '', 'fee': '-0.005788712', 'feeCcy': 'MANA', 'fillPx': '0.3455', 'fillSz': '5.788712', 'fillTime': '1698211845082', 'instId': 'MANA-USDT', 'instType': 'SPOT', 'lever': '', 'ordId': '637281899983302656', 'ordType': 'market', 'pnl': '0', 'posSide': 'net', 'px': '', 'pxType': '', 'pxUsd': '', 'pxVol': '', 'quickMgnType': '', 'rebate': '0', 'rebateCcy': 'USDT', 'reduceOnly': 'false', 'side': 'buy', 'slOrdPx': '', 'slTriggerPx': '', 'slTriggerPxType': '', 'source': '', 'state': 'filled', 'stpId': '', 'stpMode': '', 'sz': '2', 'tag': '', 'tdMode': 'cash', 'tgtCcy': 'quote_ccy', 'tpOrdPx': '', 'tpTriggerPx': '', 'tpTriggerPxType': '', 'tradeId': '35523776', 'uTime': '1698211845084'}, 'msg': ''}, 'set_order_result': {'code': '0', 'data': {'clOrdId': '', 'ordId': '637281899983302656', 'sCode': '0', 'sMsg': 'Order placed', 'tag': ''}, 'inTime': '1698211845080705', 'msg': '', 'outTime': '1698211845082990'}, 'error_result': None, 'cancel_result': None}\n"
     ]
    }
   ],
   "source": [
    "# 设置newThread=True\n",
    "open_market4 = okxSPOT.trade.open_market(\n",
    "    instId='MANA-USDT',  # 产品\n",
    "    openMoney=2, # 开仓金额 开仓金额openMoney和开仓数量quantity必须输入其中一个 优先级：quantity > openMoney\n",
    "    # quantity=3,  # 开仓数量\n",
    "    callback=callback4,  # 开仓成功触发的回调函数\n",
    "    errorback=errorback4,  # 开仓失败触发的回调函数\n",
    "    newThread=True,  # 是否开启一个新的线程维护这个订单\n",
    "    tag='',  # 订单标签\n",
    "    clOrdId='',  # 客户自定义订单ID\n",
    "    meta={},  # 向回调函数中传递的参数字典\n",
    ")\n",
    "\n",
    "print('----')"
   ]
  }
 ],
 "metadata": {
  "kernelspec": {
   "display_name": "Python 3 (ipykernel)",
   "language": "python",
   "name": "python3"
  },
  "language_info": {
   "codemirror_mode": {
    "name": "ipython",
    "version": 3
   },
   "file_extension": ".py",
   "mimetype": "text/x-python",
   "name": "python",
   "nbconvert_exporter": "python",
   "pygments_lexer": "ipython3",
   "version": "3.8.4"
  }
 },
 "nbformat": 4,
 "nbformat_minor": 5
}
