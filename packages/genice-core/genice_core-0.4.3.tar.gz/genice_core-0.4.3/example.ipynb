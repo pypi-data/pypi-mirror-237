{
 "cells": [
  {
   "cell_type": "markdown",
   "metadata": {},
   "source": [
    "## 1. Make an arbitrary graph directed."
   ]
  },
  {
   "cell_type": "code",
   "execution_count": null,
   "metadata": {},
   "outputs": [],
   "source": [
    "import networkx as nx\n",
    "import matplotlib\n",
    "import genice_core\n",
    "\n",
    "g = nx.dodecahedral_graph()  # dodecahedral 20mer\n",
    "pos = nx.spring_layout(g)\n",
    "\n",
    "# set orientations of the hydrogen bonds.\n",
    "dg = genice_core.ice_graph(g)\n",
    "\n",
    "nx.draw_networkx(dg, pos)"
   ]
  },
  {
   "cell_type": "markdown",
   "metadata": {},
   "source": [
    "## 2. And depolarized."
   ]
  },
  {
   "cell_type": "code",
   "execution_count": null,
   "metadata": {},
   "outputs": [],
   "source": [
    "import networkx as nx\n",
    "import matplotlib\n",
    "import genice_core\n",
    "from logging import getLogger, DEBUG, basicConfig\n",
    "\n",
    "basicConfig(level=DEBUG)\n",
    "logger = getLogger\n",
    "\n",
    "g = nx.dodecahedral_graph()  # dodecahedral 20mer\n",
    "pos = nx.spring_layout(g)\n",
    "\n",
    "# set orientations of the hydrogen bonds.\n",
    "# Minimize the net dipole moment.\n",
    "dg = genice_core.ice_graph(g, pos, dipoleOptimizationCycles=100)\n",
    "\n",
    "nx.draw_networkx(dg, pos)"
   ]
  },
  {
   "cell_type": "markdown",
   "metadata": {},
   "source": [
    "## 3. Under the periodic boundary condition."
   ]
  },
  {
   "cell_type": "code",
   "execution_count": null,
   "metadata": {},
   "outputs": [],
   "source": [
    "from logging import DEBUG, INFO, basicConfig, getLogger\n",
    "\n",
    "import networkx as nx\n",
    "import numpy as np\n",
    "\n",
    "# import py3Dmol\n",
    "import pairlist\n",
    "from genice_core import ice_graph\n",
    "\n",
    "logger = getLogger()\n",
    "basicConfig(level=INFO)\n",
    "\n",
    "# a sample structure of ice 1h.\n",
    "# The first line specifies the cell dimension, and atomic positions (absolute) follows.\n",
    "pos = np.loadtxt(\"ice1h.txt\").reshape(-1, 3)\n",
    "cell, coords = pos[0], pos[1:]\n",
    "\n",
    "# prepare the cell matrix\n",
    "cellmat = np.diag(cell)\n",
    "\n",
    "# make the fractional coordinates\n",
    "fracCoords = coords / cell\n",
    "\n",
    "# make a graph from the proximity\n",
    "g = nx.Graph([(i,j) for i,j,_ in pairlist.pairs_iter(fracCoords, 0.3, cellmat)])\n",
    "\n",
    "# set orientations of the hydrogen bonds.\n",
    "dg = ice_graph(\n",
    "    g, vertexPositions=fracCoords, isPeriodicBoundary=True, dipoleOptimizationCycles=100\n",
    ")\n",
    "dg"
   ]
  },
  {
   "cell_type": "code",
   "execution_count": null,
   "metadata": {},
   "outputs": [],
   "source": []
  }
 ],
 "metadata": {
  "kernelspec": {
   "display_name": "GenIce-core-RY0sKM3p",
   "language": "python",
   "name": "python3"
  },
  "language_info": {
   "codemirror_mode": {
    "name": "ipython",
    "version": 3
   },
   "file_extension": ".py",
   "mimetype": "text/x-python",
   "name": "python",
   "nbconvert_exporter": "python",
   "pygments_lexer": "ipython3",
   "version": "3.11.4"
  }
 },
 "nbformat": 4,
 "nbformat_minor": 2
}
