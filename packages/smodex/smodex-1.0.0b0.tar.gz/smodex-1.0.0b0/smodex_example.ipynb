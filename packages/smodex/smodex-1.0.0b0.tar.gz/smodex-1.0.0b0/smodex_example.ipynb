{
 "cells": [
  {
   "cell_type": "markdown",
   "metadata": {},
   "source": [
    "### SMODEX Package \n",
    "Soil Moisture Anomalies package -- usage example"
   ]
  },
  {
   "cell_type": "code",
   "execution_count": 2,
   "metadata": {},
   "outputs": [],
   "source": [
    "import numpy as np\n",
    "# import smodex"
   ]
  },
  {
   "cell_type": "code",
   "execution_count": 3,
   "metadata": {},
   "outputs": [
    {
     "data": {
      "text/plain": [
       "4"
      ]
     },
     "execution_count": 3,
     "metadata": {},
     "output_type": "execute_result"
    }
   ],
   "source": [
    "np.abs(-4)"
   ]
  },
  {
   "cell_type": "code",
   "execution_count": 1,
   "metadata": {},
   "outputs": [],
   "source": [
    "import pyproj"
   ]
  },
  {
   "cell_type": "code",
   "execution_count": 2,
   "metadata": {},
   "outputs": [
    {
     "name": "stdout",
     "output_type": "stream",
     "text": [
      "EPSG:4326 (Lon, Lat): 17.162008999999994, 50.56455999704073\n",
      "EPSG:3035 (X, Y): 4827541.72549869, 3075097.893816742\n"
     ]
    },
    {
     "name": "stderr",
     "output_type": "stream",
     "text": [
      "/home/rbalogun/.conda/envs/ado_test/lib/python3.8/site-packages/pyproj/crs/crs.py:141: FutureWarning: '+init=<authority>:<code>' syntax is deprecated. '<authority>:<code>' is the preferred initialization method. When making the change, be mindful of axis order changes: https://pyproj4.github.io/pyproj/stable/gotchas.html#axis-order-changes-in-proj-6\n",
      "  in_crs_string = _prepare_from_proj_string(in_crs_string)\n",
      "/home/rbalogun/.conda/envs/ado_test/lib/python3.8/site-packages/pyproj/crs/crs.py:141: FutureWarning: '+init=<authority>:<code>' syntax is deprecated. '<authority>:<code>' is the preferred initialization method. When making the change, be mindful of axis order changes: https://pyproj4.github.io/pyproj/stable/gotchas.html#axis-order-changes-in-proj-6\n",
      "  in_crs_string = _prepare_from_proj_string(in_crs_string)\n",
      "/tmp/ipykernel_1625262/2364224129.py:10: DeprecationWarning: This function is deprecated. See: https://pyproj4.github.io/pyproj/stable/gotchas.html#upgrading-to-pyproj-2-from-pyproj-1\n",
      "  x, y = pyproj.transform(source_proj, target_proj, lon, lat)\n"
     ]
    }
   ],
   "source": [
    "import pyproj\n",
    "\n",
    "source_proj = pyproj.Proj(init='epsg:4326')  # WGS 84\n",
    "target_proj = pyproj.Proj(init='epsg:3035')  # ETRS89 / ETRS-LAEA\n",
    "\n",
    "lon = 17.1620089999999941  # Longitude in EPSG:4326\n",
    "lat = 50.5645599970407318 # Latitude in EPSG:4326\n",
    "\n",
    "# Perform the transformation\n",
    "x, y = pyproj.transform(source_proj, target_proj, lon, lat)\n",
    "\n",
    "# Print the transformed coordinates\n",
    "print(f'EPSG:4326 (Lon, Lat): {lon}, {lat}')\n",
    "print(f'EPSG:3035 (X, Y): {x}, {y}')"
   ]
  },
  {
   "cell_type": "code",
   "execution_count": 3,
   "metadata": {},
   "outputs": [],
   "source": [
    "# def get_extent(area: list = [3.6846960000000046, \n",
    "#                              42.9910929945153200, \n",
    "#                              17.1620089999999941, \n",
    "#                              50.5645599970407318],\n",
    "#                 proj: str='WGS84'\n",
    "#                 ):\n",
    "#         \"\"\" returns the bounding box for the ADO extent: minlon, minlat, maxlon, maxlat\n",
    "        \n",
    "#         Args:\n",
    "#         area (): order: minlon, minlat, maxlon, maxlat\n",
    "#         proj (str, optional): projection type. Defaults to 'WGS84' or LAEA, \n",
    "#                             Otherwise specify the epsg code\n",
    "#         https://epsg.io/transform\n",
    "#         \"\"\"\n",
    "#         minlon = area[0] \n",
    "#         minlat = area[1]\n",
    "#         maxlon = area[2]\n",
    "#         maxlat = area[3]\n",
    "\n",
    "#         if proj == 'WGS84':\n",
    "#             return minlon, minlat, maxlon, maxlat\n",
    "        \n",
    "#         # european package\n",
    "#         elif proj == 'LAEA':\n",
    "#             source_proj = pyproj.Proj(init='epsg:4326')\n",
    "#             target_proj = pyproj.Proj(init='epsg:3035')\n",
    "#             minlon, minlat = pyproj.transform(source_proj, target_proj, minlon, minlat)\n",
    "#             maxlon, maxlat = pyproj.transform(source_proj, target_proj, maxlon, maxlat)\n",
    "#             return minlon, minlat, maxlat, maxlon\n",
    "#         else:\n",
    "#             try:\n",
    "#                  source_proj = pyproj.Proj(init='epsg:4326')\n",
    "#                  target_proj = pyproj.Proj(init=f'epsg:{proj}')\n",
    "#                  minlon, minlat = pyproj.transform(source_proj, target_proj, minlon, minlat)\n",
    "#                  maxlon, maxlat = pyproj.transform(source_proj, target_proj, maxlon, maxlat)\n",
    "#                  return minlon, minlat, maxlat, maxlon\n",
    "#             except pyproj.exceptions.CRSError as e:\n",
    "#                  print(f'EPSG:{proj} does not exist or is not supported: {e}')\n",
    "#         return None\n",
    "\n",
    "def get_extent(\n",
    "    area=None,\n",
    "    proj=\"WGS84\",\n",
    "):\n",
    "    \"\"\"returns the bounding box for the ADO extent: minlon, minlat, maxlon, maxlat\n",
    "\n",
    "    Args:\n",
    "    area (list): order: minlon, minlat, maxlon, maxlat\n",
    "    proj (str, optional): projection type. Defaults to 'WGS84' or LAEA,\n",
    "                        Otherwise specify the epsg code https://epsg.io/transform\n",
    "    \"\"\"\n",
    "\n",
    "    if area is None:\n",
    "        area = [3.6846960000000046, 42.99109299451532, 17.162008999999994, 50.56455999704073]\n",
    "    minlon = area[0]\n",
    "    minlat = area[1]\n",
    "    maxlon = area[2]\n",
    "    maxlat = area[3]\n",
    "\n",
    "    if proj == \"WGS84\":\n",
    "        print(minlon, minlat, maxlat, maxlon)\n",
    "        return minlon, minlat, maxlon, maxlat\n",
    "    elif proj == \"LAEA\":  # european grid\n",
    "        source_proj = pyproj.Proj(init=\"epsg:4326\")\n",
    "        target_proj = pyproj.Proj(init=\"epsg:3035\")\n",
    "        minlon, minlat = pyproj.transform(source_proj, target_proj, minlon, minlat)\n",
    "        maxlon, maxlat = pyproj.transform(source_proj, target_proj, maxlon, maxlat)\n",
    "        print(minlon, minlat, maxlat, maxlon)\n",
    "        return minlon, minlat, maxlat, maxlon\n",
    "    else:\n",
    "        try:\n",
    "            source_proj = pyproj.Proj(init=\"epsg:4326\")\n",
    "            target_proj = pyproj.Proj(init=f\"epsg:{proj}\")\n",
    "            minlon, minlat = pyproj.transform(source_proj, target_proj, minlon, minlat)\n",
    "            maxlon, maxlat = pyproj.transform(source_proj, target_proj, maxlon, maxlat)\n",
    "            print(minlon, minlat, maxlat, maxlon)\n",
    "            return minlon, minlat, maxlat, maxlon\n",
    "        except pyproj.exceptions.CRSError as e:\n",
    "            print(f\"EPSG:{proj} does not exist or is not supported: {e}\")\n",
    "    return None"
   ]
  },
  {
   "cell_type": "code",
   "execution_count": 4,
   "metadata": {},
   "outputs": [
    {
     "name": "stdout",
     "output_type": "stream",
     "text": [
      "3805151.6504797647 2231008.1846029656 3075097.893816742 4827541.72549869\n"
     ]
    },
    {
     "name": "stderr",
     "output_type": "stream",
     "text": [
      "/home/rbalogun/.conda/envs/ado_test/lib/python3.8/site-packages/pyproj/crs/crs.py:141: FutureWarning: '+init=<authority>:<code>' syntax is deprecated. '<authority>:<code>' is the preferred initialization method. When making the change, be mindful of axis order changes: https://pyproj4.github.io/pyproj/stable/gotchas.html#axis-order-changes-in-proj-6\n",
      "  in_crs_string = _prepare_from_proj_string(in_crs_string)\n",
      "/home/rbalogun/.conda/envs/ado_test/lib/python3.8/site-packages/pyproj/crs/crs.py:141: FutureWarning: '+init=<authority>:<code>' syntax is deprecated. '<authority>:<code>' is the preferred initialization method. When making the change, be mindful of axis order changes: https://pyproj4.github.io/pyproj/stable/gotchas.html#axis-order-changes-in-proj-6\n",
      "  in_crs_string = _prepare_from_proj_string(in_crs_string)\n",
      "/tmp/ipykernel_1625262/2206253312.py:74: DeprecationWarning: This function is deprecated. See: https://pyproj4.github.io/pyproj/stable/gotchas.html#upgrading-to-pyproj-2-from-pyproj-1\n",
      "  minlon, minlat = pyproj.transform(source_proj, target_proj, minlon, minlat)\n",
      "/tmp/ipykernel_1625262/2206253312.py:75: DeprecationWarning: This function is deprecated. See: https://pyproj4.github.io/pyproj/stable/gotchas.html#upgrading-to-pyproj-2-from-pyproj-1\n",
      "  maxlon, maxlat = pyproj.transform(source_proj, target_proj, maxlon, maxlat)\n"
     ]
    }
   ],
   "source": [
    "minlon, minlat, maxlat, maxlon = get_extent(proj = \"3035\")"
   ]
  },
  {
   "cell_type": "code",
   "execution_count": 5,
   "metadata": {},
   "outputs": [
    {
     "data": {
      "text/plain": [
       "3805151.6504797647"
      ]
     },
     "execution_count": 5,
     "metadata": {},
     "output_type": "execute_result"
    }
   ],
   "source": [
    "minlon"
   ]
  },
  {
   "cell_type": "code",
   "execution_count": null,
   "metadata": {},
   "outputs": [],
   "source": []
  }
 ],
 "metadata": {
  "kernelspec": {
   "display_name": "ado_test",
   "language": "python",
   "name": "python3"
  },
  "language_info": {
   "codemirror_mode": {
    "name": "ipython",
    "version": 3
   },
   "file_extension": ".py",
   "mimetype": "text/x-python",
   "name": "python",
   "nbconvert_exporter": "python",
   "pygments_lexer": "ipython3",
   "version": "3.8.13"
  },
  "orig_nbformat": 4
 },
 "nbformat": 4,
 "nbformat_minor": 2
}
