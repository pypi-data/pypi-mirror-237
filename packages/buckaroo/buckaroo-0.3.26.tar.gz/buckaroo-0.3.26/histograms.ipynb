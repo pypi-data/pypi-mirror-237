{
 "cells": [
  {
   "cell_type": "code",
   "execution_count": 1,
   "id": "a79f9dd8-0b2e-4171-9f9a-9d1dec2553bb",
   "metadata": {
    "tags": []
   },
   "outputs": [
    {
     "name": "stdout",
     "output_type": "stream",
     "text": [
      "Intel MKL WARNING: Support of Intel(R) Streaming SIMD Extensions 4.2 (Intel(R) SSE4.2) enabled only processors has been deprecated. Intel oneAPI Math Kernel Library 2025.0 will require Intel(R) Advanced Vector Extensions (Intel(R) AVX) instructions.\n",
      "Intel MKL WARNING: Support of Intel(R) Streaming SIMD Extensions 4.2 (Intel(R) SSE4.2) enabled only processors has been deprecated. Intel oneAPI Math Kernel Library 2025.0 will require Intel(R) Advanced Vector Extensions (Intel(R) AVX) instructions.\n"
     ]
    }
   ],
   "source": [
    "import pandas as pd\n",
    "import numpy as np\n",
    "from buckaroo.buckaroo_widget import BuckarooWidget\n",
    "from buckaroo.pluggable_analysis_framework import ColAnalysis"
   ]
  },
  {
   "cell_type": "code",
   "execution_count": 2,
   "id": "910db6db-d1bb-42f0-a14b-badbb016576b",
   "metadata": {},
   "outputs": [],
   "source": [
    "df = pd.read_csv('/Users/paddy/code/citibike-play/2014-01 - Citi Bike trip data.csv')"
   ]
  },
  {
   "cell_type": "code",
   "execution_count": 3,
   "id": "d78b00a2-8c84-4493-aa3b-f34a6ad8e9ee",
   "metadata": {
    "tags": []
   },
   "outputs": [
    {
     "name": "stderr",
     "output_type": "stream",
     "text": [
      "/Users/paddy/buckaroo/buckaroo/analysis.py:10: UserWarning: Could not infer format, so each element will be parsed individually, falling back to `dateutil`. To ensure parsing is consistent and as-expected, please specify a format.\n",
      "  dt_ser = pd.to_datetime(s_ser)\n",
      "/Users/paddy/buckaroo/buckaroo/analysis.py:10: UserWarning: Could not infer format, so each element will be parsed individually, falling back to `dateutil`. To ensure parsing is consistent and as-expected, please specify a format.\n",
      "  dt_ser = pd.to_datetime(s_ser)\n",
      "/Users/paddy/buckaroo/buckaroo/analysis.py:10: UserWarning: Could not infer format, so each element will be parsed individually, falling back to `dateutil`. To ensure parsing is consistent and as-expected, please specify a format.\n",
      "  dt_ser = pd.to_datetime(s_ser)\n"
     ]
    },
    {
     "data": {
      "application/vnd.jupyter.widget-view+json": {
       "model_id": "4b8aa70870b24483a9cb1f83d390069c",
       "version_major": 2,
       "version_minor": 0
      },
      "text/plain": [
       "BuckarooWidget(commandConfig={'argspecs': {'dropcol': [None], 'to_datetime': [None], 'safeint': [None], 'filln…"
      ]
     },
     "execution_count": 3,
     "metadata": {},
     "output_type": "execute_result"
    }
   ],
   "source": [
    "#w = BuckarooWidget(df[:10_000][df.columns[:5]], showCommands=False)\n",
    "w = BuckarooWidget(df[:10_000], showCommands=False)\n",
    "w"
   ]
  },
  {
   "cell_type": "code",
   "execution_count": null,
   "id": "3de6bb54-b4b6-4673-bbde-e3acce888821",
   "metadata": {},
   "outputs": [],
   "source": [
    "w.stats.table_hints"
   ]
  },
  {
   "cell_type": "code",
   "execution_count": null,
   "id": "8ac71198-8d62-47ec-ab57-f81dbc5576f9",
   "metadata": {},
   "outputs": [],
   "source": [
    "h = w.stats.table_hints['gender']['histogram']\n",
    "h"
   ]
  },
  {
   "cell_type": "code",
   "execution_count": null,
   "id": "90b2bb8b-4bd5-45e7-ad10-082aecabbb08",
   "metadata": {},
   "outputs": [],
   "source": [
    "len(h)"
   ]
  },
  {
   "cell_type": "code",
   "execution_count": null,
   "id": "326e008f-c8d7-4b74-9109-4eb70708e8c7",
   "metadata": {},
   "outputs": [],
   "source": [
    "df['gender'].min()"
   ]
  },
  {
   "cell_type": "code",
   "execution_count": null,
   "id": "e9b28e2d-836c-4e9c-b6a1-c803f5c81489",
   "metadata": {},
   "outputs": [],
   "source": [
    "np.isnan"
   ]
  },
  {
   "cell_type": "code",
   "execution_count": null,
   "id": "0aa94820-ef44-41df-bdce-09dcf23076c3",
   "metadata": {},
   "outputs": [],
   "source": [
    "np.floor(np.log10(0)+1)"
   ]
  },
  {
   "cell_type": "code",
   "execution_count": null,
   "id": "ad67ffdb-81a6-4208-868c-28e664a3c342",
   "metadata": {},
   "outputs": [],
   "source": [
    "w.stats.sdf['gender']"
   ]
  },
  {
   "cell_type": "code",
   "execution_count": null,
   "id": "9e7facb9-1347-4573-a019-766aa94629ba",
   "metadata": {},
   "outputs": [],
   "source": [
    "w.stats.table_hints"
   ]
  },
  {
   "cell_type": "code",
   "execution_count": null,
   "id": "7fd4731d-2022-493f-8ff8-7cfd0eb3c545",
   "metadata": {
    "tags": []
   },
   "outputs": [],
   "source": [
    "arr = np.random.standard_normal(5000) * 100\n",
    "arr = arr.astype(int)\n",
    "ser = pd.Series(arr)\n",
    "ser.hist()"
   ]
  },
  {
   "cell_type": "code",
   "execution_count": null,
   "id": "b1e278d7-f510-47d6-9727-defec5c6bd70",
   "metadata": {
    "tags": []
   },
   "outputs": [],
   "source": [
    "populations, endpoints = np.histogram(arr, 10)\n",
    "print(populations)\n",
    "print(endpoints)"
   ]
  },
  {
   "cell_type": "code",
   "execution_count": null,
   "id": "79f64e3e-62db-4e27-a2d0-f81da0fa32b4",
   "metadata": {
    "tags": []
   },
   "outputs": [],
   "source": [
    "def histogram_labels(endpoints):\n",
    "    left = endpoints[0]\n",
    "    labels = []\n",
    "    for edge in endpoints[1:]:\n",
    "        labels.append(\"%d   %d\" % (left, edge))\n",
    "        left = edge\n",
    "    return labels\n",
    "histogram_labels(endpoints)"
   ]
  },
  {
   "cell_type": "code",
   "execution_count": null,
   "id": "841eca14-d64d-45f3-93c2-d48b36041109",
   "metadata": {},
   "outputs": [],
   "source": [
    "a = [2,3,4,5]\n",
    "len(a)"
   ]
  },
  {
   "cell_type": "code",
   "execution_count": null,
   "id": "39fa04b7-95ee-48c8-aff5-49f67a486954",
   "metadata": {},
   "outputs": [],
   "source": [
    "a[4:]"
   ]
  },
  {
   "cell_type": "code",
   "execution_count": null,
   "id": "23d341e2-5abe-4500-8f51-987d6ae0133d",
   "metadata": {},
   "outputs": [],
   "source": [
    "ab = pd.Series(a[:4])"
   ]
  },
  {
   "cell_type": "code",
   "execution_count": null,
   "id": "58d9ea0a-70d4-4046-b41b-71a218dd2390",
   "metadata": {},
   "outputs": [],
   "source": [
    "vc = ab.value_counts()\n",
    "vc"
   ]
  },
  {
   "cell_type": "code",
   "execution_count": null,
   "id": "5f566142-acfa-497f-99a0-64d8faaf4d11",
   "metadata": {},
   "outputs": [],
   "source": [
    "vc.iloc[:4]"
   ]
  },
  {
   "cell_type": "code",
   "execution_count": null,
   "id": "482d9bba-695a-4f50-9e67-1790280a8a0a",
   "metadata": {
    "tags": []
   },
   "outputs": [],
   "source": [
    "def histogram_formatted_dict(arr):\n",
    "    populations, endpoints = np.histogram(arr, 10)\n",
    "    labels = histogram_labels(endpoints)\n",
    "    normalized_pop = populations / populations.sum()\n",
    "    ret_histo = []\n",
    "    for label, pop in zip(labels, normalized_pop):\n",
    "        ret_histo.append({'name': label, 'population':pop})\n",
    "    return ret_histo\n",
    "histogram_formatted_dict(arr)"
   ]
  },
  {
   "cell_type": "code",
   "execution_count": null,
   "id": "b0ab83a0-22bf-449c-8074-f0a32fa01771",
   "metadata": {
    "tags": []
   },
   "outputs": [],
   "source": [
    "stat = df['start station name'].copy()"
   ]
  },
  {
   "cell_type": "code",
   "execution_count": null,
   "id": "ef98193b-5673-454f-8cb7-9da441f828b8",
   "metadata": {
    "tags": []
   },
   "outputs": [],
   "source": [
    "stat.value_counts()"
   ]
  },
  {
   "cell_type": "code",
   "execution_count": null,
   "id": "377256d8-e7f0-4756-a8dd-2e03b403482d",
   "metadata": {
    "tags": []
   },
   "outputs": [],
   "source": [
    "nan_stat = pd.concat([stat, pd.Series([np.nan]*40, index=np.arange(40)+300441)])"
   ]
  },
  {
   "cell_type": "code",
   "execution_count": null,
   "id": "e2338a15-0315-4bc8-8629-7c2944ae16df",
   "metadata": {
    "tags": []
   },
   "outputs": [],
   "source": [
    "nan_stat.value_counts()"
   ]
  },
  {
   "cell_type": "code",
   "execution_count": null,
   "id": "49a1f5ad-e0ae-4871-83f8-a660f5d718d9",
   "metadata": {
    "tags": []
   },
   "outputs": [],
   "source": [
    "val_counts = stat.value_counts()\n",
    "top_vals = val_counts[:7]\n",
    "top_vals.to_dict()"
   ]
  },
  {
   "cell_type": "code",
   "execution_count": null,
   "id": "7b4e3de2-3efd-4705-9ae0-af94afc9e109",
   "metadata": {
    "tags": []
   },
   "outputs": [],
   "source": [
    "rest_vals = val_counts[7:]\n",
    "full_long_tail = rest_vals.sum()\n",
    "full_long_tail"
   ]
  },
  {
   "cell_type": "code",
   "execution_count": null,
   "id": "01dad1c8-46ca-46c1-a241-e5fa91001c55",
   "metadata": {
    "tags": []
   },
   "outputs": [],
   "source": [
    "unique_count = sum(val_counts == 1)\n",
    "unique_count"
   ]
  },
  {
   "cell_type": "code",
   "execution_count": null,
   "id": "a5482e4f-75a4-43e8-afac-27f0ee0f0098",
   "metadata": {
    "tags": []
   },
   "outputs": [],
   "source": [
    "def categorical_dict(ser, top_n_positions=7):\n",
    "    val_counts = stat.value_counts()\n",
    "    top_vals = val_counts[:top_n_positions]\n",
    "    rest_vals = val_counts[top_n_positions:]\n",
    "    histogram = top_vals.to_dict()\n",
    "\n",
    "\n",
    "    full_long_tail = rest_vals.sum()\n",
    "    unique_count = sum(val_counts == 1)\n",
    "    long_tail = full_long_tail - unique_count\n",
    "    na_count = ser.isna().sum()\n",
    "\n",
    "    histogram['unique'] = unique_count\n",
    "    histogram['long_tail'] = long_tail\n",
    "    histogram['NA'] = na_count\n",
    "    return histogram    "
   ]
  },
  {
   "cell_type": "code",
   "execution_count": null,
   "id": "17b7828e-cfcf-4af0-96f4-055985838d53",
   "metadata": {
    "tags": []
   },
   "outputs": [],
   "source": [
    "def categorical_histogram(ser, top_n_positions=7):\n",
    "    print(\"categorical_histogram\")\n",
    "    cd = categorical_dict(ser, top_n_positions)\n",
    "    l = len(ser)\n",
    "    histogram = []\n",
    "    for k,v in cd.items():\n",
    "        histogram.append({'name':k, 'cat_pop': v/l})\n",
    "    return histogram\n"
   ]
  },
  {
   "cell_type": "code",
   "execution_count": null,
   "id": "1aaf48c3-ae9b-4289-91ae-23d7470b7886",
   "metadata": {
    "tags": []
   },
   "outputs": [],
   "source": [
    "categorical_histogram(stat)"
   ]
  },
  {
   "cell_type": "code",
   "execution_count": null,
   "id": "2f16662c-cd49-47c4-991c-ad3714c22fa4",
   "metadata": {},
   "outputs": [],
   "source": [
    "w = BuckarooWidget(df[:20_000])\n",
    "w"
   ]
  },
  {
   "cell_type": "code",
   "execution_count": null,
   "id": "0c18da9e-a4a2-4adf-b54d-0cc39f566855",
   "metadata": {},
   "outputs": [],
   "source": [
    "@w.add_analysis\n",
    "class ColDisplayHints(ColAnalysis):\n",
    "    requires_summary = ['min', 'max'] # What summary stats does this analysis provide\n",
    "    provided_summary = []\n",
    "    \n",
    "    provides_hints = [\n",
    "        'is_numeric', 'is_integer', 'min_digits', 'max_digits', 'histogram']\n",
    "\n",
    "    @staticmethod\n",
    "    def col_hints(sampled_ser, summary_ser, ser):\n",
    "        is_numeric = pd.api.types.is_numeric_dtype(ser.dtype)\n",
    "        if not is_numeric:\n",
    "            return dict(is_numeric=False)\n",
    "        if len(ser) == 0:\n",
    "            return dict(is_numeric=False)\n",
    "        print(\"hello\")\n",
    "        return dict(\n",
    "            is_numeric=True,\n",
    "            is_integer=pd.api.types.is_integer_dtype(ser),\n",
    "            #min_digits=int_digits(summary_ser.loc['min']),\n",
    "            #max_digits=int_digits(summary_ser.loc['max']),\n",
    "            histogram=categorical_histogram(ser))\n"
   ]
  },
  {
   "cell_type": "code",
   "execution_count": null,
   "id": "d6aeb527-d2c7-4831-bd7a-f01cf0caf76f",
   "metadata": {},
   "outputs": [],
   "source": [
    "#Write a one-line Python generator or iterator expression that returns the infinite sequence of increasing \n",
    "#integers generated by repeatedly adding the ascii values of each letter in the word “Close” to itself.\n",
    "#67, 175, 286, 401, 502, 569, 677, 788, 903 is the beginning of this sequence. \n",
    "#Assume any needed Python standard library modules are already imported."
   ]
  },
  {
   "cell_type": "code",
   "execution_count": null,
   "id": "977c5b6c-3688-4b1d-aa9a-6ca71ba1909c",
   "metadata": {},
   "outputs": [],
   "source": [
    "ord(\"C\"), ord(\"l\"), ord(\"C\") + ord(\"l\")"
   ]
  },
  {
   "cell_type": "code",
   "execution_count": null,
   "id": "55bd1c83-ab4d-4a5b-969c-f3c7132a3450",
   "metadata": {},
   "outputs": [],
   "source": [
    " ord(\"C\") + ord(\"l\") + ord(\"o\") + ord(\"s\") + ord(\"e\")"
   ]
  },
  {
   "cell_type": "code",
   "execution_count": null,
   "id": "91c6f621-d6fb-4eef-a8d2-3e708ccc3207",
   "metadata": {},
   "outputs": [],
   "source": [
    " ord(\"C\") + ord(\"l\") + ord(\"o\") + ord(\"s\") + ord(\"e\") + ord(\"C\")"
   ]
  },
  {
   "cell_type": "code",
   "execution_count": null,
   "id": "325ec420-8333-433e-a4ee-22172026bb05",
   "metadata": {},
   "outputs": [],
   "source": [
    "from itertools import count, cycle, repeat, accumulate"
   ]
  },
  {
   "cell_type": "code",
   "execution_count": null,
   "id": "83c09582-29f9-4695-9c7b-7894e087f494",
   "metadata": {},
   "outputs": [],
   "source": [
    "c = count(0)\n",
    "#for i in range(10): "
   ]
  },
  {
   "cell_type": "code",
   "execution_count": null,
   "id": "d810e08a-83e3-4121-baed-da6db4b74c61",
   "metadata": {},
   "outputs": [],
   "source": [
    "next(c)"
   ]
  },
  {
   "cell_type": "code",
   "execution_count": null,
   "id": "e12a7eee-25d2-49a9-ae80-1b1219b2de1c",
   "metadata": {},
   "outputs": [],
   "source": [
    "cy = cycle(\"Close\""
   ]
  },
  {
   "cell_type": "code",
   "execution_count": null,
   "id": "086a1020-b5ea-458d-aabc-680241344e58",
   "metadata": {},
   "outputs": [],
   "source": [
    "def limited_cycle(word, limit):\n",
    "    cy = cycle(word)\n",
    "    for i in range(limit):\n",
    "        yield next(cy)\n",
    "[d for d in accumulate([c for c in limited_cycle(\"Close\", 10)])]"
   ]
  },
  {
   "cell_type": "code",
   "execution_count": null,
   "id": "91fb1731-5bb8-4237-aa1c-17e33cb90237",
   "metadata": {},
   "outputs": [],
   "source": [
    "[d for d in accumulate([ord(c) for c in limited_cycle(\"Close\", 10)])]"
   ]
  },
  {
   "cell_type": "code",
   "execution_count": null,
   "id": "ea58bb82-4968-4b3f-add3-4ec90755a927",
   "metadata": {},
   "outputs": [],
   "source": [
    "ab = (d for d in accumulate((ord(c) for c in limited_cycle(\"Close\", 10))))\n",
    "next(ab), next(ab)"
   ]
  },
  {
   "cell_type": "code",
   "execution_count": null,
   "id": "11f551f2-720e-4f3c-98af-efc024ea72cd",
   "metadata": {},
   "outputs": [],
   "source": [
    "ab = (d for d in accumulate((ord(c) for c in cycle(\"Close\"))))\n",
    "next(ab), next(ab)"
   ]
  },
  {
   "cell_type": "code",
   "execution_count": null,
   "id": "df548948-be69-420b-93d7-3dca184226e0",
   "metadata": {},
   "outputs": [],
   "source": [
    "[d for d in accumulate([ord(c) for c in cycle(\"Close\")])]"
   ]
  },
  {
   "cell_type": "code",
   "execution_count": null,
   "id": "46ec7a7b-c965-4372-b31e-130edf75b6d9",
   "metadata": {},
   "outputs": [],
   "source": [
    "accumulate([c for c in cycle(\"Close\")][:10])"
   ]
  },
  {
   "cell_type": "code",
   "execution_count": null,
   "id": "4ba7a1c2-46d0-4e89-b3a1-5e39635cc233",
   "metadata": {},
   "outputs": [],
   "source": [
    "next(cy)"
   ]
  },
  {
   "cell_type": "code",
   "execution_count": null,
   "id": "cfc71a60-515d-4986-962c-eaa3b5c5c70e",
   "metadata": {},
   "outputs": [],
   "source": [
    "lambda "
   ]
  }
 ],
 "metadata": {
  "kernelspec": {
   "display_name": "Python 3 (ipykernel)",
   "language": "python",
   "name": "python3"
  },
  "language_info": {
   "codemirror_mode": {
    "name": "ipython",
    "version": 3
   },
   "file_extension": ".py",
   "mimetype": "text/x-python",
   "name": "python",
   "nbconvert_exporter": "python",
   "pygments_lexer": "ipython3",
   "version": "3.11.4"
  }
 },
 "nbformat": 4,
 "nbformat_minor": 5
}
