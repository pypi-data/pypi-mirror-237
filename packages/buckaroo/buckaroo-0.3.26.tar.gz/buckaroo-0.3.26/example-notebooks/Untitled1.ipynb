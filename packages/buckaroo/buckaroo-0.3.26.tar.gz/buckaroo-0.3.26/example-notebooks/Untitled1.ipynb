{
 "cells": [
  {
   "cell_type": "code",
   "execution_count": 1,
   "id": "514d45ee-c1ed-4ff4-a636-9b40a8e9ec97",
   "metadata": {
    "tags": []
   },
   "outputs": [],
   "source": [
    "import pandas as pd\n",
    "import numpy as np\n",
    "#import buckaroo"
   ]
  },
  {
   "cell_type": "code",
   "execution_count": 6,
   "id": "739becd2-d083-41a8-a702-d6554a18d38c",
   "metadata": {
    "tags": []
   },
   "outputs": [
    {
     "data": {
      "text/html": [
       "<div>\n",
       "<style scoped>\n",
       "    .dataframe tbody tr th:only-of-type {\n",
       "        vertical-align: middle;\n",
       "    }\n",
       "\n",
       "    .dataframe tbody tr th {\n",
       "        vertical-align: top;\n",
       "    }\n",
       "\n",
       "    .dataframe thead th {\n",
       "        text-align: right;\n",
       "    }\n",
       "</style>\n",
       "<table border=\"1\" class=\"dataframe\">\n",
       "  <thead>\n",
       "    <tr style=\"text-align: right;\">\n",
       "      <th></th>\n",
       "      <th>a</th>\n",
       "      <th>b</th>\n",
       "    </tr>\n",
       "  </thead>\n",
       "  <tbody>\n",
       "    <tr>\n",
       "      <th>0</th>\n",
       "      <td>1</td>\n",
       "      <td>1</td>\n",
       "    </tr>\n",
       "    <tr>\n",
       "      <th>1</th>\n",
       "      <td>2</td>\n",
       "      <td>2</td>\n",
       "    </tr>\n",
       "    <tr>\n",
       "      <th>2</th>\n",
       "      <td>536870912</td>\n",
       "      <td>29</td>\n",
       "    </tr>\n",
       "    <tr>\n",
       "      <th>3</th>\n",
       "      <td>2147483648</td>\n",
       "      <td>31</td>\n",
       "    </tr>\n",
       "    <tr>\n",
       "      <th>4</th>\n",
       "      <td>8589934592</td>\n",
       "      <td>33</td>\n",
       "    </tr>\n",
       "    <tr>\n",
       "      <th>5</th>\n",
       "      <td>1152921504606846976</td>\n",
       "      <td>60</td>\n",
       "    </tr>\n",
       "    <tr>\n",
       "      <th>6</th>\n",
       "      <td>9223372036854775808</td>\n",
       "      <td>63</td>\n",
       "    </tr>\n",
       "    <tr>\n",
       "      <th>7</th>\n",
       "      <td>36893488147419103232</td>\n",
       "      <td>65</td>\n",
       "    </tr>\n",
       "  </tbody>\n",
       "</table>\n",
       "</div>"
      ],
      "text/plain": [
       "                      a   b\n",
       "0                     1   1\n",
       "1                     2   2\n",
       "2             536870912  29\n",
       "3            2147483648  31\n",
       "4            8589934592  33\n",
       "5   1152921504606846976  60\n",
       "6   9223372036854775808  63\n",
       "7  36893488147419103232  65"
      ]
     },
     "execution_count": 6,
     "metadata": {},
     "output_type": "execute_result"
    }
   ],
   "source": [
    "df = pd.DataFrame(dict(a=[1,2, 2**29, 2**31, 2**33, 2**60, 2**63, 2**65],\n",
    "                       b=[1,2,    29,    31,    33,    60,    63,    65]))\n",
    "df"
   ]
  },
  {
   "cell_type": "code",
   "execution_count": 7,
   "id": "1b995e4a-8c61-4acb-909f-80c0a502b710",
   "metadata": {
    "tags": []
   },
   "outputs": [
    {
     "data": {
      "text/plain": [
       "a    object\n",
       "b     int64\n",
       "dtype: object"
      ]
     },
     "execution_count": 7,
     "metadata": {},
     "output_type": "execute_result"
    }
   ],
   "source": [
    "df.dtypes"
   ]
  },
  {
   "cell_type": "code",
   "execution_count": 10,
   "id": "c19acbfc-bc1d-4f91-91b3-a88159886427",
   "metadata": {
    "tags": []
   },
   "outputs": [
    {
     "data": {
      "application/vnd.jupyter.widget-view+json": {
       "model_id": "b8580eda0c5d4dc485027111809cbb5b",
       "version_major": 2,
       "version_minor": 0
      },
      "text/plain": [
       "BuckarooWidget(commandConfig={'argspecs': {'dropcol': [None], 'safeint': [None], 'fillna': [[3, 'fillVal', 'ty…"
      ]
     },
     "execution_count": 10,
     "metadata": {},
     "output_type": "execute_result"
    }
   ],
   "source": [
    "import buckaroo\n",
    "bw = buckaroo.BuckarooWidget(\n",
    "    df,    autoType=False, showCommands=False)\n",
    "bw"
   ]
  },
  {
   "cell_type": "code",
   "execution_count": 11,
   "id": "3c15e14a-53be-4699-a4c5-1538704ae987",
   "metadata": {
    "tags": []
   },
   "outputs": [
    {
     "data": {
      "application/vnd.jupyter.widget-view+json": {
       "model_id": "350469e3964d4bf18a1bf9ccf3f7078e",
       "version_major": 2,
       "version_minor": 0
      },
      "text/plain": [
       "BuckarooWidget(commandConfig={'argspecs': {'dropcol': [None], 'safeint': [None], 'fillna': [[3, 'fillVal', 'ty…"
      ]
     },
     "execution_count": 11,
     "metadata": {},
     "output_type": "execute_result"
    }
   ],
   "source": [
    "bw = buckaroo.BuckarooWidget(\n",
    "    df,    autoType=True, showCommands=False)\n",
    "bw"
   ]
  },
  {
   "cell_type": "code",
   "execution_count": 15,
   "id": "420a49fd-a4a3-4ed0-af14-d282f778b3e4",
   "metadata": {
    "tags": []
   },
   "outputs": [
    {
     "data": {
      "application/vnd.jupyter.widget-view+json": {
       "model_id": "b6929348a44a45d09aa9de7a93243e22",
       "version_major": 2,
       "version_minor": 0
      },
      "text/plain": [
       "BuckarooWidget(commandConfig={'argspecs': {'dropcol': [None], 'safeint': [None], 'fillna': [[3, 'fillVal', 'ty…"
      ]
     },
     "execution_count": 15,
     "metadata": {},
     "output_type": "execute_result"
    }
   ],
   "source": [
    "bw = buckaroo.BuckarooWidget(\n",
    "    pd.DataFrame(dict(a=[1, 999_999_999_999_999_999], b=['a','b'])),    autoType=True, showCommands=False)\n",
    "bw"
   ]
  },
  {
   "cell_type": "code",
   "execution_count": 16,
   "id": "43a9f490-ab7d-4577-92fc-259501c644b5",
   "metadata": {
    "tags": []
   },
   "outputs": [
    {
     "data": {
      "text/plain": [
       "{'schema': {'fields': [{'name': 'index'}, {'name': 'a'}, {'name': 'b'}]},\n",
       " 'data': [{'index': 0, 'a': 1, 'b': 'a'},\n",
       "  {'index': 1, 'a': 999999999999999999, 'b': 'b'}],\n",
       " 'table_hints': {'a': {'is_numeric': True,\n",
       "   'is_integer': True,\n",
       "   'min_digits': 1,\n",
       "   'max_digits': 19,\n",
       "   'histogram': [{'name': 1, 'cat_pop': 50.0},\n",
       "    {'name': 999999999999999999, 'cat_pop': 50.0},\n",
       "    {'name': 'longtail', 'unique': 100.0}]},\n",
       "  'b': {'is_numeric': False,\n",
       "   'is_integer': False,\n",
       "   'min_digits': None,\n",
       "   'max_digits': None,\n",
       "   'histogram': [{'name': 'a', 'cat_pop': 50.0},\n",
       "    {'name': 'b', 'cat_pop': 50.0},\n",
       "    {'name': 'longtail', 'unique': 100.0}]}}}"
      ]
     },
     "execution_count": 16,
     "metadata": {},
     "output_type": "execute_result"
    }
   ],
   "source": [
    "bw.origDf"
   ]
  },
  {
   "cell_type": "code",
   "execution_count": 24,
   "id": "13f23ebf-18f7-4158-ad7c-d2c51538f40c",
   "metadata": {
    "tags": []
   },
   "outputs": [
    {
     "ename": "ZeroDivisionError",
     "evalue": "division by zero",
     "output_type": "error",
     "traceback": [
      "\u001b[0;31m---------------------------------------------------------------------------\u001b[0m",
      "\u001b[0;31mZeroDivisionError\u001b[0m                         Traceback (most recent call last)",
      "Cell \u001b[0;32mIn[24], line 1\u001b[0m\n\u001b[0;32m----> 1\u001b[0m \u001b[38;5;241;43m1\u001b[39;49m\u001b[38;5;241;43m/\u001b[39;49m\u001b[38;5;241;43m0\u001b[39;49m\n",
      "\u001b[0;31mZeroDivisionError\u001b[0m: division by zero"
     ]
    }
   ],
   "source": [
    "1/0"
   ]
  },
  {
   "cell_type": "code",
   "execution_count": 25,
   "id": "245cb2c6-2c0c-4452-9bdc-be522d5480c5",
   "metadata": {
    "tags": []
   },
   "outputs": [],
   "source": [
    "import numpy as np"
   ]
  },
  {
   "cell_type": "code",
   "execution_count": null,
   "id": "905925f4-834c-4393-ba8e-912f5ae92364",
   "metadata": {},
   "outputs": [],
   "source": []
  },
  {
   "cell_type": "code",
   "execution_count": 23,
   "id": "fc6edddd-8ecc-41e3-afd7-fd6e520eddae",
   "metadata": {
    "tags": []
   },
   "outputs": [
    {
     "data": {
      "application/vnd.jupyter.widget-view+json": {
       "model_id": "bfe46df9d6054f169f002a3aaa5be97e",
       "version_major": 2,
       "version_minor": 0
      },
      "text/plain": [
       "BuckarooWidget(commandConfig={'argspecs': {'dropcol': [None], 'safeint': [None], 'fillna': [[3, 'fillVal', 'ty…"
      ]
     },
     "execution_count": 23,
     "metadata": {},
     "output_type": "execute_result"
    }
   ],
   "source": [
    "bw = buckaroo.BuckarooWidget(pd.DataFrame(dict(a=['a', '', ' '], b=[1,2,3])), showCommands=False)\n",
    "bw"
   ]
  },
  {
   "cell_type": "code",
   "execution_count": 21,
   "id": "53507044-370b-42ce-b3db-a8504f3e286d",
   "metadata": {
    "tags": []
   },
   "outputs": [
    {
     "data": {
      "text/plain": [
       "{'schema': {'fields': [{'name': 'index'}, {'name': 'a'}, {'name': 'b'}]},\n",
       " 'data': [{'index': 0, 'a': 'a', 'b': 1},\n",
       "  {'index': 1, 'a': None, 'b': 2},\n",
       "  {'index': 2, 'a': ' ', 'b': 3}],\n",
       " 'table_hints': {'a': {'is_numeric': False,\n",
       "   'is_integer': False,\n",
       "   'min_digits': None,\n",
       "   'max_digits': None,\n",
       "   'histogram': [{'name': 'a', 'cat_pop': 33.0},\n",
       "    {'name': ' ', 'cat_pop': 33.0},\n",
       "    {'name': 'longtail', 'unique': 67.0},\n",
       "    {'name': 'NA', 'NA': 33.0}]},\n",
       "  'b': {'is_numeric': True,\n",
       "   'is_integer': True,\n",
       "   'min_digits': 1,\n",
       "   'max_digits': 1,\n",
       "   'histogram': [{'name': 1, 'cat_pop': 33.0},\n",
       "    {'name': 2, 'cat_pop': 33.0},\n",
       "    {'name': 3, 'cat_pop': 33.0},\n",
       "    {'name': 'longtail', 'unique': 100.0}]}}}"
      ]
     },
     "execution_count": 21,
     "metadata": {},
     "output_type": "execute_result"
    }
   ],
   "source": [
    "bw.origDf"
   ]
  },
  {
   "cell_type": "code",
   "execution_count": null,
   "id": "6ba4eb31-9fd6-44bb-9fc4-089d7676ac54",
   "metadata": {},
   "outputs": [],
   "source": []
  }
 ],
 "metadata": {
  "kernelspec": {
   "display_name": "Python 3 (ipykernel)",
   "language": "python",
   "name": "python3"
  },
  "language_info": {
   "codemirror_mode": {
    "name": "ipython",
    "version": 3
   },
   "file_extension": ".py",
   "mimetype": "text/x-python",
   "name": "python",
   "nbconvert_exporter": "python",
   "pygments_lexer": "ipython3",
   "version": "3.11.5"
  }
 },
 "nbformat": 4,
 "nbformat_minor": 5
}
