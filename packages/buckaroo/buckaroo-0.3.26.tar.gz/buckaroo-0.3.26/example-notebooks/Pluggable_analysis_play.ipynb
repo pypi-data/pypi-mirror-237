{
 "cells": [
  {
   "cell_type": "code",
   "execution_count": 1,
   "id": "74d59b5b-2c2d-4559-9169-f9dcb5c32528",
   "metadata": {
    "tags": []
   },
   "outputs": [],
   "source": [
    "import numpy as np\n",
    "import pandas as pd\n",
    "import buckaroo"
   ]
  },
  {
   "cell_type": "code",
   "execution_count": 2,
   "id": "3dd03c37-d6f7-4312-9798-cc45f96238fb",
   "metadata": {
    "tags": []
   },
   "outputs": [],
   "source": [
    "num_df = pd.DataFrame({'a':[111_111,  77_777, 777_777, 1_000_000, 2_111_111, 1_235_999],\n",
    "                       'b':[111_111, 555_555,       0,    28_123,   482_388,     5_666]})\n",
    "base_w = buckaroo.BuckarooWidget(num_df, showCommands=False)"
   ]
  },
  {
   "cell_type": "code",
   "execution_count": 3,
   "id": "a3fa17a8-c880-4603-92da-e45f1df48378",
   "metadata": {
    "tags": []
   },
   "outputs": [
    {
     "data": {
      "text/plain": [
       "'num_df'"
      ]
     },
     "execution_count": 3,
     "metadata": {},
     "output_type": "execute_result"
    }
   ],
   "source": [
    "from buckaroo.analysis_management import get_df_name\n",
    "get_df_name(num_df)"
   ]
  },
  {
   "cell_type": "code",
   "execution_count": 4,
   "id": "818aef25-7768-4066-b757-c5211ee9a8f2",
   "metadata": {
    "tags": []
   },
   "outputs": [
    {
     "name": "stdout",
     "output_type": "stream",
     "text": [
      "Unit tests failed\n",
      "errors on original dataframe\n",
      "#Reproduction code\n",
      "#--------------------------------------------------------------------------------\n",
      "from buckaroo.analysis_management import PERVERSE_DF\n",
      "Variance.summary(PERVERSE_DF['all_nan'], pd.Series({'mean': np.nan, }), PERVERSE_DF['all_nan']) # boolean value of NA is ambiguous\n",
      "Variance.summary(PERVERSE_DF['all_false'], pd.Series({'mean': np.nan, }), PERVERSE_DF['all_false']) # boolean value of NA is ambiguous\n",
      "Variance.summary(PERVERSE_DF['all_True'], pd.Series({'mean': np.nan, }), PERVERSE_DF['all_True']) # boolean value of NA is ambiguous\n",
      "Variance.summary(PERVERSE_DF['mixed_bool'], pd.Series({'mean': np.nan, }), PERVERSE_DF['mixed_bool']) # boolean value of NA is ambiguous\n",
      "Variance.summary(PERVERSE_DF['mixed_float'], pd.Series({'mean': np.nan, }), PERVERSE_DF['mixed_float']) # boolean value of NA is ambiguous\n",
      "Variance.summary(PERVERSE_DF['float'], pd.Series({'mean': 0.5, }), PERVERSE_DF['float']) # boolean value of NA is ambiguous\n",
      "Variance.summary(PERVERSE_DF['int'], pd.Series({'mean': 8.0, }), PERVERSE_DF['int']) # boolean value of NA is ambiguous\n",
      "Variance.summary(PERVERSE_DF['negative'], pd.Series({'mean': -1.0, }), PERVERSE_DF['negative']) # boolean value of NA is ambiguous\n",
      "Variance.summary(PERVERSE_DF['UInt32'], pd.Series({'mean': 5.0, }), PERVERSE_DF['UInt32']) # boolean value of NA is ambiguous\n",
      "Variance.summary(num_df['a'], pd.Series({'mean': 885629.1666666666, }), num_df['a']) # boolean value of NA is ambiguous\n",
      "Variance.summary(num_df['b'], pd.Series({'mean': 197140.5, }), num_df['b']) # boolean value of NA is ambiguous\n"
     ]
    }
   ],
   "source": [
    "import buckaroo\n",
    "from buckaroo.pluggable_analysis_framework import (ColAnalysis)\n",
    "w = buckaroo.BuckarooWidget(num_df, showCommands=False)\n",
    "class Variance(ColAnalysis):\n",
    "    provides_summary = [\"variance\"]\n",
    "    requires_summary = [\"mean\"]\n",
    "    #quiet = True\n",
    "    \n",
    "    @staticmethod\n",
    "    def summary(sampled_ser, summary_ser, ser):\n",
    "        mean = summary_ser.get('mean', False)\n",
    "        arr = ser.to_numpy()\n",
    "        #toggle SIMULATED_BUG to easily see behavior with and without a bug\n",
    "        SIMULATED_BUG = True\n",
    "        if SIMULATED_BUG:\n",
    "            if mean in [pd.NA, np.nan, False]:\n",
    "                return dict(variance=\"NA\")\n",
    "        else:\n",
    "            if mean is pd.NA or mean is np.nan or mean is False:\n",
    "                return dict(variance=\"NA\")\n",
    "        if mean and pd.api.types.is_integer_dtype(ser):\n",
    "            return dict(variance=np.mean((arr - mean)**2))\n",
    "        elif mean and pd.api.types.is_float_dtype(ser):\n",
    "            return dict(variance=np.mean((arr - mean)**2))\n",
    "        return dict(variance=\"NA\")\n",
    "    \n",
    "    summary_stats_display = [\n",
    "        'dtype', 'length', 'nan_count', 'distinct_count', 'empty_count',\n",
    "        'empty_per', 'unique_per', 'nan_per', \n",
    "        'is_numeric', 'is_integer', 'is_datetime',\n",
    "        'mode', 'min', 'max', 'mean', \n",
    "        # we must add variance to the list of summary_stats_display, otherwise our new stat won't be displayed\n",
    "        'variance']\n",
    "\n",
    "#Variance.summary(PERVERSE_DF['all_nan'], pd.Series({'mean': np.nan, }), PERVERSE_DF['all_nan'])\n",
    "#Variance.summary(PERVERSE_DF['UInt8None'], pd.Series({'mean': pd.NA, }), PERVERSE_DF['UInt8None'])\n",
    "w.add_analysis(Variance)"
   ]
  },
  {
   "cell_type": "code",
   "execution_count": 6,
   "id": "cd1e397e-efcf-4cf1-b7ae-735304fc9a43",
   "metadata": {
    "tags": []
   },
   "outputs": [
    {
     "name": "stdout",
     "output_type": "stream",
     "text": [
      "Unit tests failed\n",
      "errors on original dataframe\n",
      "#Reproduction code\n",
      "#--------------------------------------------------------------------------------\n",
      "from buckaroo.analysis_management import PERVERSE_DF\n",
      "Variance.summary(PERVERSE_DF['all_nan'], pd.Series({'mean': np.nan, }), PERVERSE_DF['all_nan']) # boolean value of NA is ambiguous\n",
      "Variance.summary(PERVERSE_DF['all_false'], pd.Series({'mean': np.nan, }), PERVERSE_DF['all_false']) # boolean value of NA is ambiguous\n",
      "Variance.summary(PERVERSE_DF['all_True'], pd.Series({'mean': np.nan, }), PERVERSE_DF['all_True']) # boolean value of NA is ambiguous\n",
      "Variance.summary(PERVERSE_DF['mixed_bool'], pd.Series({'mean': np.nan, }), PERVERSE_DF['mixed_bool']) # boolean value of NA is ambiguous\n",
      "Variance.summary(PERVERSE_DF['mixed_float'], pd.Series({'mean': np.nan, }), PERVERSE_DF['mixed_float']) # boolean value of NA is ambiguous\n",
      "Variance.summary(PERVERSE_DF['float'], pd.Series({'mean': 0.5, }), PERVERSE_DF['float']) # boolean value of NA is ambiguous\n",
      "Variance.summary(PERVERSE_DF['int'], pd.Series({'mean': 8.0, }), PERVERSE_DF['int']) # boolean value of NA is ambiguous\n",
      "Variance.summary(PERVERSE_DF['negative'], pd.Series({'mean': -1.0, }), PERVERSE_DF['negative']) # boolean value of NA is ambiguous\n",
      "Variance.summary(PERVERSE_DF['UInt32'], pd.Series({'mean': 5.0, }), PERVERSE_DF['UInt32']) # boolean value of NA is ambiguous\n",
      "Variance.summary(num_df['a'], pd.Series({'mean': 885629.1666666666, }), num_df['a']) # boolean value of NA is ambiguous\n",
      "Variance.summary(num_df['b'], pd.Series({'mean': 197140.5, }), num_df['b']) # boolean value of NA is ambiguous\n"
     ]
    }
   ],
   "source": [
    "w = buckaroo.BuckarooWidget(num_df, showCommands=False)\n",
    "class Variance(ColAnalysis):\n",
    "    provides_summary = [\"variance\"]\n",
    "    requires_summary = [\"mean\"]\n",
    "    quiet = False\n",
    "    \n",
    "    @staticmethod\n",
    "    def summary(sampled_ser, summary_ser, ser):\n",
    "        mean = summary_ser.get('mean', False)\n",
    "        arr = ser.to_numpy()\n",
    "        #toggle SIMULATED_BUG to easily see behavior with and without a bug\n",
    "        SIMULATED_BUG = True\n",
    "        if SIMULATED_BUG:\n",
    "            if mean in [pd.NA, np.nan, False]:\n",
    "                return dict(variance=\"NA\")\n",
    "        else:\n",
    "            if mean is pd.NA or mean is np.nan or mean is False:\n",
    "                return dict(variance=\"NA\")\n",
    "        if mean and pd.api.types.is_integer_dtype(ser):\n",
    "            return dict(variance=np.mean((arr - mean)**2))\n",
    "        elif mean and pd.api.types.is_float_dtype(ser):\n",
    "            return dict(variance=np.mean((arr - mean)**2))\n",
    "        return dict(variance=\"NA\")\n",
    "    \n",
    "    summary_stats_display = [\n",
    "        'dtype', 'length', 'nan_count', 'distinct_count', 'empty_count',\n",
    "        'empty_per', 'unique_per', 'nan_per', \n",
    "        'is_numeric', 'is_integer', 'is_datetime',\n",
    "        'mode', 'min', 'max', 'mean', \n",
    "        # we must add variance to the list of summary_stats_display, otherwise our new stat won't be displayed\n",
    "        'variance']\n",
    "\n",
    "#Variance.summary(PERVERSE_DF['all_nan'], pd.Series({'mean': np.nan, }), PERVERSE_DF['all_nan'])\n",
    "#Variance.summary(PERVERSE_DF['UInt8None'], pd.Series({'mean': pd.NA, }), PERVERSE_DF['UInt8None'])\n",
    "w.add_analysis(Variance)"
   ]
  },
  {
   "cell_type": "code",
   "execution_count": null,
   "id": "c5e8e996-40a5-44e4-b04e-079abe699cce",
   "metadata": {
    "tags": []
   },
   "outputs": [],
   "source": [
    "from buckaroo.analysis_management import PERVERSE_DF\n",
    "Variance.summary(PERVERSE_DF['UInt32'], pd.Series({'mean': 5.0, }), PERVERSE_DF['UInt32'])"
   ]
  },
  {
   "cell_type": "code",
   "execution_count": null,
   "id": "5ae1d6a3-fc32-41b3-9bfc-324d00ef8fe4",
   "metadata": {
    "tags": []
   },
   "outputs": [],
   "source": [
    "import sys"
   ]
  },
  {
   "cell_type": "code",
   "execution_count": null,
   "id": "86b833e4-0c15-4690-833d-c0431521f0f7",
   "metadata": {
    "tags": []
   },
   "outputs": [],
   "source": [
    "sys._getframe(40)"
   ]
  },
  {
   "cell_type": "code",
   "execution_count": null,
   "id": "31b9b69f-b23f-4da2-8104-3021f124d764",
   "metadata": {
    "tags": []
   },
   "outputs": [],
   "source": [
    "from buckaroo.analysis_management import get_df_name\n",
    "get_df_name(num_df)"
   ]
  },
  {
   "cell_type": "code",
   "execution_count": null,
   "id": "a5ec2cc0-b3f6-46a0-b370-f9a092ad5e53",
   "metadata": {
    "tags": []
   },
   "outputs": [],
   "source": [
    "from buckaroo.analysis_management import PERVERSE_DF\n",
    "w2 = buckaroo.BuckarooWidget(PERVERSE_DF)\n",
    "w.add_analysis(Variance)"
   ]
  },
  {
   "cell_type": "code",
   "execution_count": null,
   "id": "566a9f3a-d0bf-4d56-a7ee-235805401913",
   "metadata": {},
   "outputs": [],
   "source": [
    "num_df"
   ]
  },
  {
   "cell_type": "code",
   "execution_count": null,
   "id": "575a699b-44cc-4a9b-b2c5-6165640647a5",
   "metadata": {
    "tags": []
   },
   "outputs": [],
   "source": [
    "pd.DataFrame({'str_only':[\"asdf\", \"bar\", \"baz\"]})"
   ]
  },
  {
   "cell_type": "code",
   "execution_count": null,
   "id": "0a43da3f-dc33-41a2-a53b-bc92aec70c0d",
   "metadata": {
    "tags": []
   },
   "outputs": [],
   "source": [
    "single_col = pd.DataFrame({'a':[1,2,3]})"
   ]
  },
  {
   "cell_type": "code",
   "execution_count": null,
   "id": "4fec0119-26b2-4c33-aef8-aa7345124dd9",
   "metadata": {
    "tags": []
   },
   "outputs": [],
   "source": [
    "multiple_cols = pd.DataFrame(single_col , columns=['a', 'other'])"
   ]
  },
  {
   "cell_type": "code",
   "execution_count": null,
   "id": "fd9b3e4c-9f3b-4a50-ac70-cd3fecd670d7",
   "metadata": {
    "tags": []
   },
   "outputs": [],
   "source": [
    "multiple_cols"
   ]
  },
  {
   "cell_type": "code",
   "execution_count": null,
   "id": "6033e75b-2b4e-426b-bf84-fb4932ff5670",
   "metadata": {
    "tags": []
   },
   "outputs": [],
   "source": [
    "import buckaroo\n",
    "from buckaroo.pluggable_analysis_framework import (ColAnalysis)\n",
    "w = buckaroo.BuckarooWidget(num_df, showCommands=False)\n",
    "class Variance(ColAnalysis):\n",
    "    provides_summary = [\"variance\"]\n",
    "    requires_summary = [\"mean\"]\n",
    "    quiet = True\n",
    "    \n",
    "    @staticmethod\n",
    "    def summary(sampled_ser, summary_ser, ser):\n",
    "        mean = summary_ser.get('mean', False)\n",
    "        arr = ser.to_numpy()\n",
    "        #toggle SIMULATED_BUG to easily see behavior with and without a bug\n",
    "        SIMULATED_BUG = True\n",
    "        if SIMULATED_BUG:\n",
    "            if mean in [pd.NA, np.nan, False]:\n",
    "                return dict(variance=\"NA\")\n",
    "        else:\n",
    "            if mean is pd.NA or mean is np.nan or mean is False:\n",
    "                return dict(variance=\"NA\")\n",
    "        if mean and pd.api.types.is_integer_dtype(ser):\n",
    "            return dict(variance=np.mean((arr - mean)**2))\n",
    "        elif mean and pd.api.types.is_float_dtype(ser):\n",
    "            return dict(variance=np.mean((arr - mean)**2))\n",
    "        return dict(variance=\"NA\")\n",
    "    \n",
    "    summary_stats_display = [\n",
    "        'dtype', 'length', 'nan_count', 'distinct_count', 'empty_count',\n",
    "        'empty_per', 'unique_per', 'nan_per', \n",
    "        'is_numeric', 'is_integer', 'is_datetime',\n",
    "        'mode', 'min', 'max', 'mean', \n",
    "        # we must add variance to the list of summary_stats_display, otherwise our new stat won't be displayed\n",
    "        'variance']\n",
    "\n",
    "#Variance.summary(PERVERSE_DF['all_nan'], pd.Series({'mean': np.nan, }), PERVERSE_DF['all_nan'])\n",
    "#Variance.summary(PERVERSE_DF['UInt8None'], pd.Series({'mean': pd.NA, }), PERVERSE_DF['UInt8None'])\n",
    "w.add_analysis(Variance)"
   ]
  },
  {
   "cell_type": "code",
   "execution_count": null,
   "id": "4b3d542a-0095-4b72-a61f-d47e1d3e5874",
   "metadata": {},
   "outputs": [],
   "source": []
  }
 ],
 "metadata": {
  "kernelspec": {
   "display_name": "Python 3 (ipykernel)",
   "language": "python",
   "name": "python3"
  },
  "language_info": {
   "codemirror_mode": {
    "name": "ipython",
    "version": 3
   },
   "file_extension": ".py",
   "mimetype": "text/x-python",
   "name": "python",
   "nbconvert_exporter": "python",
   "pygments_lexer": "ipython3",
   "version": "3.11.5"
  }
 },
 "nbformat": 4,
 "nbformat_minor": 5
}
