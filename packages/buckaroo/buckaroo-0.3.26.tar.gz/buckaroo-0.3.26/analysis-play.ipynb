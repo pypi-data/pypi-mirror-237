{
 "cells": [
  {
   "cell_type": "code",
   "execution_count": 1,
   "id": "d60e35d6-747c-45c4-8399-2ce15fb0ebd5",
   "metadata": {},
   "outputs": [
    {
     "name": "stderr",
     "output_type": "stream",
     "text": [
      "test_cycle (buckaroo.pluggable_analysis_framework.TestOrderAnalysis.test_cycle) ... ok\n",
      "test_default_order (buckaroo.pluggable_analysis_framework.TestOrderAnalysis.test_default_order) ... ok\n",
      "test_multiple_provides (buckaroo.pluggable_analysis_framework.TestOrderAnalysis.test_multiple_provides) ... ok\n",
      "test_no_route (buckaroo.pluggable_analysis_framework.TestOrderAnalysis.test_no_route) ... ok\n",
      "\n",
      "----------------------------------------------------------------------\n",
      "Ran 4 tests in 0.002s\n",
      "\n",
      "OK\n"
     ]
    }
   ],
   "source": [
    "import pandas as pd\n",
    "from buckaroo import pluggable_analysis_framework as paf\n",
    "from buckaroo.analysis import (TypingStats, DefaultSummaryStats)"
   ]
  },
  {
   "cell_type": "code",
   "execution_count": 2,
   "id": "f21ae60e-b2ec-42a3-8b85-4c103b6931c9",
   "metadata": {},
   "outputs": [],
   "source": [
    "df = pd.read_csv('/Users/paddy/code/citibike-play/2014-01 - Citi Bike trip data.csv')"
   ]
  },
  {
   "cell_type": "code",
   "execution_count": 3,
   "id": "b32beab8-0279-4734-a6d0-f2e66f2b78e6",
   "metadata": {},
   "outputs": [
    {
     "data": {
      "application/vnd.jupyter.widget-view+json": {
       "model_id": "a0f77fce60c642e192233d3f3f651528",
       "version_major": 2,
       "version_minor": 0
      },
      "text/plain": [
       "BuckarooWidget(commandConfig={'argspecs': {'dropcol': [None], 'to_datetime': [None], 'safeint': [None], 'filln…"
      ]
     },
     "metadata": {},
     "output_type": "display_data"
    }
   ],
   "source": [
    "ap = paf.AnalsysisPipeline([TypingStats, DefaultSummaryStats])\n",
    "ap.produce_summary_dataframe(df)"
   ]
  },
  {
   "cell_type": "code",
   "execution_count": 19,
   "id": "83703f10-9c43-4da6-95f6-1889b37f2ffe",
   "metadata": {},
   "outputs": [
    {
     "data": {
      "application/vnd.jupyter.widget-view+json": {
       "model_id": "90b0fd220cfd49bca32fc29317c4ab85",
       "version_major": 2,
       "version_minor": 0
      },
      "text/plain": [
       "BuckarooWidget(commandConfig={'argspecs': {'dropcol': [None], 'to_datetime': [None], 'safeint': [None], 'filln…"
      ]
     },
     "metadata": {},
     "output_type": "display_data"
    }
   ],
   "source": [
    "ap = paf.AnalsysisPipeline([TypingStats, DefaultSummaryStats])\n",
    "class Foo(paf.ColAnalysis):\n",
    "    provided_summary = [\n",
    "        'foo',]\n",
    "    requires_summary = ['length']\n",
    "\n",
    "    @staticmethod\n",
    "    def summary(sampled_ser, summary_ser, ser):\n",
    "        return dict(foo=8)\n",
    "ap.add_analysis(Foo)\n",
    "sdf = ap.produce_summary_dataframe(df)\n",
    "sdf"
   ]
  },
  {
   "cell_type": "code",
   "execution_count": 24,
   "id": "ebb3b8ed-ca29-4d54-9430-095e9c2b8eb2",
   "metadata": {},
   "outputs": [
    {
     "data": {
      "text/plain": [
       "15"
      ]
     },
     "execution_count": 24,
     "metadata": {},
     "output_type": "execute_result"
    }
   ],
   "source": [
    "len(sdf['tripduration'])"
   ]
  },
  {
   "cell_type": "code",
   "execution_count": 22,
   "id": "1b954784-90af-410e-bc57-b91c48ff85dd",
   "metadata": {},
   "outputs": [
    {
     "data": {
      "text/plain": [
       "8"
      ]
     },
     "execution_count": 22,
     "metadata": {},
     "output_type": "execute_result"
    }
   ],
   "source": [
    "sdf.loc['foo']['tripduration'] == 8"
   ]
  },
  {
   "cell_type": "code",
   "execution_count": 17,
   "id": "20c51c4d-70b9-4e1c-830a-d144ef1c8399",
   "metadata": {},
   "outputs": [
    {
     "data": {
      "application/vnd.jupyter.widget-view+json": {
       "model_id": "24a2e8dbcae84c2683b5c25ec3aa9db8",
       "version_major": 2,
       "version_minor": 0
      },
      "text/plain": [
       "BuckarooWidget(commandConfig={'argspecs': {'dropcol': [None], 'to_datetime': [None], 'safeint': [None], 'filln…"
      ]
     },
     "metadata": {},
     "output_type": "display_data"
    }
   ],
   "source": [
    "class Foo(paf.ColAnalysis):\n",
    "    provided_summary = [\n",
    "        'foo',]\n",
    "    requires_summary = ['length']\n",
    "\n",
    "    @staticmethod\n",
    "    def summary(sampled_ser, summary_ser, ser):\n",
    "        return dict(bar=9)\n",
    "ap.add_analysis(Foo)\n",
    "ap.produce_summary_dataframe(df)"
   ]
  },
  {
   "cell_type": "code",
   "execution_count": 18,
   "id": "4e2d78ee-c2e9-419b-8a89-40410e3b221a",
   "metadata": {},
   "outputs": [
    {
     "data": {
      "application/vnd.jupyter.widget-view+json": {
       "model_id": "b7809bc7e39a416598d02a173f7c0836",
       "version_major": 2,
       "version_minor": 0
      },
      "text/plain": [
       "BuckarooWidget(commandConfig={'argspecs': {'dropcol': [None], 'to_datetime': [None], 'safeint': [None], 'filln…"
      ]
     },
     "metadata": {},
     "output_type": "display_data"
    }
   ],
   "source": [
    "class Foo(paf.ColAnalysis):\n",
    "    provided_summary = [\n",
    "        'mode',]\n",
    "    requires_summary = []\n",
    "\n",
    "    @staticmethod\n",
    "    def summary(sampled_ser, summary_ser, ser):\n",
    "        return dict(mode=10)\n",
    "ap.add_analysis(Foo)\n",
    "ap.produce_summary_dataframe(df)"
   ]
  },
  {
   "cell_type": "code",
   "execution_count": 12,
   "id": "ccc522d3-ee69-4060-bfd1-100a3c4e0e98",
   "metadata": {},
   "outputs": [
    {
     "data": {
      "text/plain": [
       "1955     2635\n",
       "1954     2663\n",
       "1991     3075\n",
       "1956     3246\n",
       "1957     3272\n",
       "1959     3891\n",
       "1961     4121\n",
       "1958     4425\n",
       "1960     4762\n",
       "1962     5244\n",
       "1965     5552\n",
       "1966     5845\n",
       "1964     6054\n",
       "1963     6151\n",
       "1968     6309\n",
       "1967     6794\n",
       "1990     6856\n",
       "1973     6857\n",
       "1975     6939\n",
       "1972     7115\n",
       "1971     7202\n",
       "\\N       7254\n",
       "1976     7593\n",
       "1969     7671\n",
       "1977     8171\n",
       "1974     8212\n",
       "1989     8425\n",
       "1970     8460\n",
       "1987     9410\n",
       "1978     9554\n",
       "1986    10062\n",
       "1988    10146\n",
       "1979    10255\n",
       "1980    10463\n",
       "1982    10856\n",
       "1981    11210\n",
       "1985    11544\n",
       "1984    11903\n",
       "1983    11973\n",
       "Name: birth year, dtype: int64"
      ]
     },
     "execution_count": 12,
     "metadata": {},
     "output_type": "execute_result"
    }
   ],
   "source": [
    "df['birth year'].value_counts().sort_values()[40:]"
   ]
  },
  {
   "cell_type": "code",
   "execution_count": 13,
   "id": "413a86e9-6956-4110-9624-b4229595de68",
   "metadata": {},
   "outputs": [
    {
     "data": {
      "text/plain": [
       "Subscriber    293146\n",
       "Customer        7254\n",
       "Name: usertype, dtype: int64"
      ]
     },
     "execution_count": 13,
     "metadata": {},
     "output_type": "execute_result"
    }
   ],
   "source": [
    "df['usertype'].value_counts()"
   ]
  },
  {
   "cell_type": "code",
   "execution_count": 25,
   "id": "0228a864-1dc7-43a1-a525-bc10b906db92",
   "metadata": {},
   "outputs": [
    {
     "data": {
      "text/plain": [
       "{'schema': {'fields': [{'name': 'index', 'type': 'string'}],\n",
       "  'primaryKey': ['index'],\n",
       "  'pandas_version': '1.4.0'},\n",
       " 'data': []}"
      ]
     },
     "execution_count": 25,
     "metadata": {},
     "output_type": "execute_result"
    }
   ],
   "source": [
    "import json\n",
    "empty_df = pd.DataFrame({})\n",
    "json.loads(empty_df.to_json(orient='table', indent=2))"
   ]
  },
  {
   "cell_type": "code",
   "execution_count": null,
   "id": "c954d998-fd8b-43ff-b06a-e9ead9de6907",
   "metadata": {},
   "outputs": [],
   "source": []
  }
 ],
 "metadata": {
  "kernelspec": {
   "display_name": "Python 3 (ipykernel)",
   "language": "python",
   "name": "python3"
  },
  "language_info": {
   "codemirror_mode": {
    "name": "ipython",
    "version": 3
   },
   "file_extension": ".py",
   "mimetype": "text/x-python",
   "name": "python",
   "nbconvert_exporter": "python",
   "pygments_lexer": "ipython3",
   "version": "3.11.3"
  }
 },
 "nbformat": 4,
 "nbformat_minor": 5
}
