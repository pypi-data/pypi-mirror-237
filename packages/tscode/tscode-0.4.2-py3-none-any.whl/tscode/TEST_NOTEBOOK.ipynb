{
 "cells": [
  {
   "cell_type": "code",
   "execution_count": 1,
   "metadata": {},
   "outputs": [
    {
     "name": "stdout",
     "output_type": "stream",
     "text": [
      "38 116 154\n"
     ]
    }
   ],
   "source": [
    "from tscode.utils import read_xyz, graphize, scramble_check, write_xyz\n",
    "import os\n",
    "\n",
    "os.chdir('/mnt/c/Users/Nick/Desktop/winscp_temp')\n",
    "\n",
    "mol1 = read_xyz('MsNO2.xyz')\n",
    "mol2 = read_xyz('propip.xyz')\n",
    "mol3 = read_xyz('maybe_scrambled.xyz')\n",
    "print(len(mol1.atomcoords[0]), len(mol2.atomcoords[0]),len(mol3.atomcoords[0]))"
   ]
  },
  {
   "cell_type": "code",
   "execution_count": 2,
   "metadata": {},
   "outputs": [
    {
     "name": "stdout",
     "output_type": "stream",
     "text": [
      "38 116 154\n"
     ]
    }
   ],
   "source": [
    "graph1 = graphize(mol1.atomcoords[0], mol1.atomnos)\n",
    "graph2 = graphize(mol2.atomcoords[0], mol2.atomnos)\n",
    "graph3 = graphize(mol3.atomcoords[0], mol3.atomnos)\n",
    "print(len(graph1.nodes), len(graph2.nodes),len(graph3.nodes))"
   ]
  },
  {
   "cell_type": "code",
   "execution_count": 3,
   "metadata": {},
   "outputs": [],
   "source": [
    "import numpy as np"
   ]
  },
  {
   "cell_type": "code",
   "execution_count": 4,
   "metadata": {},
   "outputs": [
    {
     "data": {
      "text/plain": [
       "array([  4,  35,  36, 153,  37, 149])"
      ]
     },
     "execution_count": 4,
     "metadata": {},
     "output_type": "execute_result"
    }
   ],
   "source": [
    "mols_graphs = [graph1, graph2]\n",
    "constrained_indices = np.array([\n",
    "    [4, 35],\n",
    "    [36, 153], [37, 149]])\n",
    "excluded_atoms = constrained_indices.ravel()\n",
    "excluded_atoms"
   ]
  },
  {
   "cell_type": "code",
   "execution_count": 5,
   "metadata": {},
   "outputs": [
    {
     "data": {
      "text/plain": [
       "True"
      ]
     },
     "execution_count": 5,
     "metadata": {},
     "output_type": "execute_result"
    }
   ],
   "source": [
    "from tscode.calculators._xtb import xtb_opt\n",
    "opt_coords, energy, success = xtb_opt(\n",
    "                mol3.atomcoords[0],\n",
    "                # opt_coords,\n",
    "                mol3.atomnos,\n",
    "                # constrained_indices=constrained_indices,\n",
    "                # constrained_distances=[None, 1.6, 1.6],\n",
    "                constrained_indices=[constrained_indices[0]],\n",
    "                constrained_distances=[None,],\n",
    "                method='GFN2-XTB')\n",
    "success"
   ]
  },
  {
   "cell_type": "code",
   "execution_count": 6,
   "metadata": {},
   "outputs": [
    {
     "data": {
      "text/plain": [
       "-162656.01207416796"
      ]
     },
     "execution_count": 6,
     "metadata": {},
     "output_type": "execute_result"
    }
   ],
   "source": [
    "energy"
   ]
  },
  {
   "cell_type": "code",
   "execution_count": 7,
   "metadata": {},
   "outputs": [],
   "source": [
    "bonds = set()\n",
    "for i, graph in enumerate(mols_graphs):\n",
    "\n",
    "    # pos = 0\n",
    "    # while i != 0:\n",
    "    #     pos += len(mols_graphs[i-1].nodes)\n",
    "    #     i -= 1\n",
    "    pos = sum([len(other_graph.nodes) for j, other_graph in enumerate(mols_graphs) if j < i])\n",
    "\n",
    "    for bond in [tuple(sorted((a+pos, b+pos))) for a, b in list(graph.edges) if a != b]:\n",
    "        bonds.add(bond)\n",
    "# creating bond set containing all bonds present in the desired transition state\n",
    "\n",
    "new_bonds = {tuple(sorted((a, b))) for a, b in list(graphize(opt_coords, mol3.atomnos).edges) if a != b}\n",
    "delta_bonds = (bonds | new_bonds) - (bonds & new_bonds)\n",
    "# delta_bonds -= {tuple(sorted(pair)) for pair in constrained_indices}\n",
    "\n",
    "for bond in delta_bonds.copy():\n",
    "    for a in excluded_atoms:\n",
    "        if a in bond:\n",
    "            delta_bonds -= {bond}\n",
    "# removing bonds involving constrained atoms: they are not counted as scrambled bonds\n"
   ]
  },
  {
   "cell_type": "code",
   "execution_count": 8,
   "metadata": {},
   "outputs": [
    {
     "data": {
      "text/plain": [
       "set()"
      ]
     },
     "execution_count": 8,
     "metadata": {},
     "output_type": "execute_result"
    }
   ],
   "source": [
    "delta_bonds"
   ]
  },
  {
   "cell_type": "code",
   "execution_count": 9,
   "metadata": {},
   "outputs": [],
   "source": [
    "with open('optimized.xyz', 'w') as _f:\n",
    "    write_xyz(opt_coords, mol3.atomnos, _f)"
   ]
  },
  {
   "cell_type": "code",
   "execution_count": 3,
   "metadata": {},
   "outputs": [],
   "source": [
    "with open('force_field_refining_tight_constraints.dat', 'r') as f:\n",
    "    data = f.read()"
   ]
  },
  {
   "cell_type": "code",
   "execution_count": 4,
   "metadata": {},
   "outputs": [],
   "source": [
    "lines = [line.split(' : ')[1] for line in data.replace('\\n [', ', [').split('\\n') if len(line.split(' : ')) > 1]"
   ]
  },
  {
   "cell_type": "code",
   "execution_count": 5,
   "metadata": {},
   "outputs": [],
   "source": [
    "lines = [line.replace('[','').replace(',', '').replace(']','').split() for line in lines]"
   ]
  },
  {
   "cell_type": "code",
   "execution_count": 6,
   "metadata": {},
   "outputs": [],
   "source": [
    "lines = [[int(n) for n in line] for line in lines]"
   ]
  },
  {
   "cell_type": "code",
   "execution_count": 7,
   "metadata": {},
   "outputs": [
    {
     "data": {
      "text/plain": [
       "array([[ 36, 153],\n",
       "       [ 37, 149]])"
      ]
     },
     "execution_count": 7,
     "metadata": {},
     "output_type": "execute_result"
    }
   ],
   "source": [
    "ens_constr = np.array([[[l[0], l[1]], [l[2], l[3]]] for l in lines])\n",
    "ens_constr[0]"
   ]
  },
  {
   "cell_type": "code",
   "execution_count": 8,
   "metadata": {},
   "outputs": [
    {
     "name": "stdout",
     "output_type": "stream",
     "text": [
      "3073 3073\n"
     ]
    }
   ],
   "source": [
    "ens_structs = read_xyz('force_field_refining_tight_structures.xyz')\n",
    "print(len(ens_structs.atomcoords), len(ens_constr))"
   ]
  },
  {
   "cell_type": "code",
   "execution_count": 11,
   "metadata": {},
   "outputs": [
    {
     "data": {
      "text/plain": [
       "(array([521., 287., 434., 393., 256., 189., 360., 321., 241.,  71.]),\n",
       " array([-0.13143273,  1.72435417,  3.58014108,  5.43592798,  7.29171489,\n",
       "         9.14750179, 11.0032887 , 12.8590756 , 14.71486251, 16.57064941,\n",
       "        18.42643632]),\n",
       " <BarContainer object of 10 artists>)"
      ]
     },
     "execution_count": 11,
     "metadata": {},
     "output_type": "execute_result"
    },
    {
     "data": {
      "image/png": "[encoded data removed]",
      "text/plain": [
       "<Figure size 640x480 with 1 Axes>"
      ]
     },
     "metadata": {},
     "output_type": "display_data"
    }
   ],
   "source": [
    "from tscode.utils import norm_of\n",
    "import matplotlib.pyplot as plt\n",
    "errors = []\n",
    "for constraint, structure in zip(ens_constr, ens_structs.atomcoords):\n",
    "    (a, b), (c, d) = constraint\n",
    "    d1 = norm_of(\n",
    "        structure[a]-\n",
    "        structure[b]\n",
    "    ) - 1.6\n",
    "    d2 = norm_of(\n",
    "        structure[c]-\n",
    "        structure[d]\n",
    "    ) - 1.6\n",
    "    errors.append(d1+d2)\n",
    "plt.hist(errors)"
   ]
  },
  {
   "cell_type": "markdown",
   "metadata": {},
   "source": [
    "## LOADING EMBEDDER"
   ]
  },
  {
   "cell_type": "code",
   "execution_count": 4,
   "metadata": {},
   "outputs": [],
   "source": [
    "os.chdir('multiembed_test')"
   ]
  },
  {
   "cell_type": "code",
   "execution_count": 9,
   "metadata": {},
   "outputs": [],
   "source": [
    "import pickle\n",
    "\n",
    "with open('force_field_refining_tight_runembedding.pickle', 'rb') as f:\n",
    "    d = pickle.load(f)"
   ]
  },
  {
   "cell_type": "markdown",
   "metadata": {},
   "source": [
    "## LOW MEMORY SIMILARITY PRUNING"
   ]
  },
  {
   "cell_type": "code",
   "execution_count": 2,
   "metadata": {},
   "outputs": [],
   "source": [
    "from tscode.python_functions import rmsd_and_max\n",
    "import numpy as np\n",
    "from tscode.utils import read_xyz\n",
    "import networkx as nx"
   ]
  },
  {
   "cell_type": "code",
   "execution_count": 3,
   "metadata": {},
   "outputs": [],
   "source": [
    "from memory_profiler import profile\n",
    "\n",
    "# @profile\n",
    "def prune_conformers_rmsd(structures, atomnos, max_rmsd=0.25, max_delta=None, verbose=False):\n",
    "    '''\n",
    "    Removes similar structures by repeatedly grouping them into k\n",
    "    subgroups and removing similar ones. A cache is present to avoid\n",
    "    repeating RMSD computations.\n",
    "    \n",
    "    Similarity occurs for structures with both RMSD < max_rmsd and\n",
    "    maximum deviation < max_delta.\n",
    "    '''\n",
    "\n",
    "    max_delta = (max_rmsd * 2) if max_delta is None else max_delta\n",
    "\n",
    "    heavy_atoms = (atomnos != 1)\n",
    "    heavy_structures = np.array([structure[heavy_atoms] for structure in structures])\n",
    "\n",
    "    cache_set = set()\n",
    "    final_mask = np.ones(structures.shape[0], dtype=bool)\n",
    "    \n",
    "    for k in (5e5, 2e5, 1e5, 5e4, 2e4, 1e4,\n",
    "              5000, 2000, 1000, 500, 200, 100,\n",
    "              50, 20, 10, 5, 2, 1):\n",
    "\n",
    "        num_active_str = np.count_nonzero(final_mask)\n",
    "        \n",
    "        if k == 1 or 5*k < num_active_str:\n",
    "        # proceed only of there are at least five structures per group\n",
    "\n",
    "            if verbose:      \n",
    "                print(f'Working on subgroups with k={k} ({num_active_str} candidates left) {\" \"*10}', end='\\r')\n",
    "\n",
    "            d = int(len(structures) // k)\n",
    "\n",
    "            for step in range(int(k)):\n",
    "            # operating on each of the k subdivisions of the array\n",
    "                if step == k-1:\n",
    "                    _l = len(range(d*step, num_active_str))\n",
    "                else:\n",
    "                    _l = len(range(d*step, int(d*(step+1))))\n",
    "\n",
    "                similarity_mat = np.zeros((_l, _l))\n",
    "\n",
    "                for i_rel in range(_l):\n",
    "                    for j_rel in range(i_rel+1,_l):\n",
    "\n",
    "                        i_abs = i_rel+(d*step)\n",
    "                        j_abs = j_rel+(d*step)\n",
    "\n",
    "                        if (i_abs, j_abs) not in cache_set:\n",
    "                        # if we have already performed the comparison,\n",
    "                        # structures were not similar and we can skip them\n",
    "\n",
    "                            rmsd, max_dev = rmsd_and_max(heavy_structures[i_abs],\n",
    "                                                         heavy_structures[j_abs])\n",
    "\n",
    "                            if rmsd < max_rmsd and max_dev < max_delta:\n",
    "                                similarity_mat[i_rel,j_rel] = 1\n",
    "                                break\n",
    "\n",
    "                for i_rel, j_rel in zip(*np.where(similarity_mat == False)):\n",
    "                    i_abs = i_rel+(d*step)\n",
    "                    j_abs = j_rel+(d*step)\n",
    "                    cache_set.add((i_abs, j_abs))\n",
    "                    # adding indices of structures that are considered equal,\n",
    "                    # so as not to repeat computing their RMSD\n",
    "                    # Their index accounts for their position in the initial\n",
    "                    # array (absolute index)\n",
    "\n",
    "                matches = [(i,j) for i,j in zip(*np.where(similarity_mat))]\n",
    "                g = nx.Graph(matches)\n",
    "\n",
    "                subgraphs = [g.subgraph(c) for c in nx.connected_components(g)]\n",
    "                groups = [tuple(graph.nodes) for graph in subgraphs]\n",
    "\n",
    "                best_of_cluster = [group[0] for group in groups]\n",
    "                # of each cluster, keep the first structure\n",
    "\n",
    "                rejects_sets = [set(a) - {b} for a, b in zip(groups, best_of_cluster)]\n",
    "                rejects = []\n",
    "                for s in rejects_sets:\n",
    "                    for i in s:\n",
    "                        rejects.append(i)\n",
    "\n",
    "                for i in rejects:\n",
    "                    abs_index = i + d*step\n",
    "                    final_mask[abs_index] = 0\n",
    "\n",
    "    return structures[final_mask], final_mask\n",
    "\n",
    "# @profile\n",
    "def lowmem_prune_conformers_rmsd(structures, atomnos, max_rmsd=0.25, max_delta=None, verbose=False):\n",
    "    '''\n",
    "    Removes similar structures by repeatedly grouping them into k\n",
    "    subgroups and removing similar ones. A cache is present to avoid\n",
    "    repeating RMSD computations.\n",
    "    \n",
    "    Similarity occurs for structures with both RMSD < max_rmsd and\n",
    "    maximum deviation < max_delta.\n",
    "    '''\n",
    "\n",
    "    max_delta = (max_rmsd * 2) if max_delta is None else max_delta\n",
    "\n",
    "    heavy_atoms = (atomnos != 1)\n",
    "    heavy_structures = np.array([structure[heavy_atoms] for structure in structures])\n",
    "\n",
    "    cache_set = set()\n",
    "    final_mask = np.ones(structures.shape[0], dtype=bool)\n",
    "    \n",
    "    for k in (5e5, 2e5, 1e5, 5e4, 2e4, 1e4,\n",
    "              5000, 2000, 1000, 500, 200, 100,\n",
    "              50, 20, 10, 5, 2, 1):\n",
    "\n",
    "        num_active_str = np.count_nonzero(final_mask)\n",
    "        \n",
    "        if k == 1 or 5*k < num_active_str:\n",
    "        # proceed only of there are at least five structures per group\n",
    "\n",
    "            if verbose:      \n",
    "                print(f'Working on subgroups with k={k} ({num_active_str} candidates left) {\" \"*10}', end='\\r')\n",
    "\n",
    "            d = int(len(structures) // k)\n",
    "\n",
    "            for step in range(int(k)):\n",
    "            # operating on each of the k subdivisions of the array\n",
    "                if step == k-1:\n",
    "                    _l = len(range(d*step, num_active_str))\n",
    "                else:\n",
    "                    _l = len(range(d*step, int(d*(step+1))))\n",
    "\n",
    "                # similarity_mat = np.zeros((_l, _l))\n",
    "                matches = set()\n",
    "\n",
    "                for i_rel in range(_l):\n",
    "                    for j_rel in range(i_rel+1,_l):\n",
    "\n",
    "                        i_abs = i_rel+(d*step)\n",
    "                        j_abs = j_rel+(d*step)\n",
    "\n",
    "                        if (i_abs, j_abs) not in cache_set:\n",
    "                        # if we have already performed the comparison,\n",
    "                        # structures were not similar and we can skip them\n",
    "\n",
    "                            rmsd, max_dev = rmsd_and_max(heavy_structures[i_abs],\n",
    "                                                         heavy_structures[j_abs])\n",
    "\n",
    "                            if rmsd < max_rmsd and max_dev < max_delta:\n",
    "                                # similarity_mat[i_rel,j_rel] = 1\n",
    "                                matches.add((i_rel, j_rel))\n",
    "                                break\n",
    "\n",
    "                            else:\n",
    "                                i_abs = i_rel+(d*step)\n",
    "                                j_abs = j_rel+(d*step)\n",
    "                                cache_set.add((i_abs, j_abs))\n",
    "                # for i_rel, j_rel in zip(*np.where(similarity_mat == False)):\n",
    "                    # i_abs = i_rel+(d*step)\n",
    "                    # j_abs = j_rel+(d*step)\n",
    "                    # cache_set.add((i_abs, j_abs))\n",
    "                    # adding indices of structures that are considered equal,\n",
    "                    # so as not to repeat computing their RMSD\n",
    "                    # Their index accounts for their position in the initial\n",
    "                    # array (absolute index)\n",
    "\n",
    "                # matches = [(i,j) for i,j in zip(*np.where(similarity_mat))]\n",
    "                g = nx.Graph(matches)\n",
    "\n",
    "                subgraphs = [g.subgraph(c) for c in nx.connected_components(g)]\n",
    "                groups = [tuple(graph.nodes) for graph in subgraphs]\n",
    "\n",
    "                best_of_cluster = [group[0] for group in groups]\n",
    "                # of each cluster, keep the first structure\n",
    "\n",
    "                rejects_sets = [set(a) - {b} for a, b in zip(groups, best_of_cluster)]\n",
    "                rejects = []\n",
    "                for s in rejects_sets:\n",
    "                    for i in s:\n",
    "                        rejects.append(i)\n",
    "\n",
    "                for i in rejects:\n",
    "                    abs_index = i + d*step\n",
    "                    final_mask[abs_index] = 0\n",
    "\n",
    "    return structures[final_mask], final_mask\n"
   ]
  },
  {
   "cell_type": "code",
   "execution_count": 4,
   "metadata": {},
   "outputs": [
    {
     "data": {
      "text/plain": [
       "(100, 154, 3)"
      ]
     },
     "execution_count": 4,
     "metadata": {},
     "output_type": "execute_result"
    }
   ],
   "source": [
    "data = read_xyz('/mnt/c/Users/Nick/Desktop/Computations/debug/restart.xyz')\n",
    "data.atomcoords.shape"
   ]
  },
  {
   "cell_type": "code",
   "execution_count": 39,
   "metadata": {},
   "outputs": [
    {
     "data": {
      "text/plain": [
       "False"
      ]
     },
     "execution_count": 39,
     "metadata": {},
     "output_type": "execute_result"
    }
   ],
   "source": [
    "_, mask1 = prune_conformers_rmsd(data.atomcoords, data.atomnos, 1.5)\n",
    "_, mask2 = lowmem_prune_conformers_rmsd(data.atomcoords, data.atomnos, 1.5)\n",
    "np.all(mask1 == mask2)"
   ]
  },
  {
   "cell_type": "code",
   "execution_count": 49,
   "metadata": {},
   "outputs": [
    {
     "name": "stderr",
     "output_type": "stream",
     "text": [
      "UsageError: Cell magic `%%memit` not found.\n"
     ]
    }
   ],
   "source": [
    "%%timeit\n",
    "_, mask1 = prune_conformers_rmsd(data.atomcoords, data.atomnos, 0.25)"
   ]
  },
  {
   "cell_type": "code",
   "execution_count": 48,
   "metadata": {},
   "outputs": [
    {
     "name": "stdout",
     "output_type": "stream",
     "text": [
      "213 ms ± 27.5 ms per loop (mean ± std. dev. of 7 runs, 1 loop each)\n"
     ]
    }
   ],
   "source": [
    "%%timeit\n",
    "_, mask2 = lowmem_prune_conformers_rmsd(data.atomcoords, data.atomnos, 0.25)"
   ]
  },
  {
   "cell_type": "code",
   "execution_count": 40,
   "metadata": {},
   "outputs": [
    {
     "data": {
      "text/plain": [
       "(array([ 9, 36, 47, 49, 52]),)"
      ]
     },
     "execution_count": 40,
     "metadata": {},
     "output_type": "execute_result"
    }
   ],
   "source": [
    "np.where(mask1 != mask2)"
   ]
  },
  {
   "cell_type": "code",
   "execution_count": 23,
   "metadata": {},
   "outputs": [
    {
     "data": {
      "text/plain": [
       "5"
      ]
     },
     "execution_count": 23,
     "metadata": {},
     "output_type": "execute_result"
    }
   ],
   "source": [
    "np.count_nonzero(mask1 != mask2)"
   ]
  },
  {
   "cell_type": "code",
   "execution_count": 33,
   "metadata": {},
   "outputs": [
    {
     "name": "stdout",
     "output_type": "stream",
     "text": [
      "0 1\n",
      "0 2\n",
      "1 0\n",
      "1 2\n",
      "2 0\n",
      "2 1\n",
      "2 2\n"
     ]
    },
    {
     "data": {
      "text/plain": [
       "array([[1., 0., 0.],\n",
       "       [0., 1., 0.],\n",
       "       [0., 0., 0.]])"
      ]
     },
     "execution_count": 33,
     "metadata": {},
     "output_type": "execute_result"
    }
   ],
   "source": [
    "similarity_mat = np.zeros((3,3))\n",
    "similarity_mat[0,0] = 1\n",
    "similarity_mat[1,1] = 1\n",
    "for i_rel, j_rel in zip(*np.where(similarity_mat == False)):\n",
    "    print(i_rel, j_rel)\n",
    "similarity_mat"
   ]
  },
  {
   "cell_type": "code",
   "execution_count": 10,
   "metadata": {},
   "outputs": [],
   "source": [
    "%load_ext memory_profiler"
   ]
  },
  {
   "cell_type": "code",
   "execution_count": 8,
   "metadata": {},
   "outputs": [
    {
     "data": {
      "text/plain": [
       "(27000, 154, 3)"
      ]
     },
     "execution_count": 8,
     "metadata": {},
     "output_type": "execute_result"
    }
   ],
   "source": [
    "structs = np.concatenate([data.atomcoords for _ in range(270)])\n",
    "np.random.shuffle(structs)\n",
    "structs.shape"
   ]
  },
  {
   "cell_type": "code",
   "execution_count": 27,
   "metadata": {},
   "outputs": [
    {
     "name": "stdout",
     "output_type": "stream",
     "text": [
      "peak memory: 499.14 MiB, increment: 239.43 MiB\n"
     ]
    }
   ],
   "source": [
    "%%memit\n",
    "_, mask1 = prune_conformers_rmsd(structs, data.atomnos, 0.25)"
   ]
  },
  {
   "cell_type": "code",
   "execution_count": 11,
   "metadata": {},
   "outputs": [
    {
     "name": "stdout",
     "output_type": "stream",
     "text": [
      "peak memory: 922.76 MiB, increment: 594.05 MiB\n"
     ]
    }
   ],
   "source": [
    "%%memit\n",
    "_, mask2 = lowmem_prune_conformers_rmsd(structs, data.atomnos, 0.25)"
   ]
  },
  {
   "cell_type": "code",
   "execution_count": 4,
   "metadata": {},
   "outputs": [
    {
     "name": "stdout",
     "output_type": "stream",
     "text": [
      "working with 80 structs\n",
      "working with 160 structs\n",
      "working with 240 structs\n",
      "working with 320 structs\n",
      "working with 400 structs\n",
      "working with 480 structs\n",
      "working with 560 structs\n",
      "working with 640 structs\n",
      "working with 720 structs\n",
      "working with 800 structs\n"
     ]
    }
   ],
   "source": [
    "from memory_profiler import memory_usage\n",
    "import matplotlib.pyplot as plt\n",
    "\n",
    "mem1, mem2, n_structs = [], [], []\n",
    "for mult in range(1,11):\n",
    "\n",
    "    structs = np.concatenate([data.atomcoords for _ in range(mult)])\n",
    "    structures = np.random.shuffle(structs)\n",
    "    n_structs.append(len(structs))\n",
    "    print(f\"working with {len(structs)} structs\")\n",
    "    mem1.append(max(memory_usage(\n",
    "                (\n",
    "                  prune_conformers_rmsd,\n",
    "                  (structs,\n",
    "                  data.atomnos,\n",
    "                  0.25)\n",
    "                )\n",
    "                  )))\n",
    "                \n",
    "    mem2.append(max(memory_usage(\n",
    "                (\n",
    "                  lowmem_prune_conformers_rmsd,\n",
    "                  (structs,\n",
    "                  data.atomnos,\n",
    "                  0.25)\n",
    "                )\n",
    "                  ))) "
   ]
  },
  {
   "cell_type": "code",
   "execution_count": 5,
   "metadata": {},
   "outputs": [
    {
     "data": {
      "text/plain": [
       "<matplotlib.legend.Legend at 0x7f336f4406a0>"
      ]
     },
     "execution_count": 5,
     "metadata": {},
     "output_type": "execute_result"
    },
    {
     "data": {
      "image/png": "[encoded data removed]",
      "text/plain": [
       "<Figure size 640x480 with 1 Axes>"
      ]
     },
     "metadata": {},
     "output_type": "display_data"
    }
   ],
   "source": [
    "plt.plot(n_structs, mem1, label='Old function', color='blue')\n",
    "plt.plot(n_structs, mem2, label='New Function', color='red')\n",
    "plt.legend()"
   ]
  },
  {
   "cell_type": "code",
   "execution_count": 4,
   "metadata": {},
   "outputs": [
    {
     "data": {
      "text/plain": [
       "(80, 154, 3)"
      ]
     },
     "execution_count": 4,
     "metadata": {},
     "output_type": "execute_result"
    }
   ],
   "source": [
    "from temp_profiling_funcs import prune_conformers_rmsd, lowmem_prune_conformers_rmsd\n",
    "from tscode.utils import read_xyz\n",
    "import numpy as np\n",
    "\n",
    "data = read_xyz('/mnt/c/Users/Nick/Desktop/Computations/debug/restart2.xyz')\n",
    "data.atomcoords.shape"
   ]
  },
  {
   "cell_type": "code",
   "execution_count": 5,
   "metadata": {},
   "outputs": [
    {
     "name": "stdout",
     "output_type": "stream",
     "text": [
      "Filename: /home/Coding/TSCoDe/tscode/temp_profiling_funcs.py\n",
      "\n",
      "Line #    Mem usage    Increment  Occurrences   Line Contents\n",
      "=============================================================\n",
      "     6    242.6 MiB    242.6 MiB           1   @profile\n",
      "     7                                         def prune_conformers_rmsd(structures, atomnos, max_rmsd=0.25, max_delta=None, verbose=False):\n",
      "     8                                             '''\n",
      "     9                                             Removes similar structures by repeatedly grouping them into k\n",
      "    10                                             subgroups and removing similar ones. A cache is present to avoid\n",
      "    11                                             repeating RMSD computations.\n",
      "    12                                             \n",
      "    13                                             Similarity occurs for structures with both RMSD < max_rmsd and\n",
      "    14                                             maximum deviation < max_delta.\n",
      "    15                                             '''\n",
      "    16                                         \n",
      "    17    242.6 MiB      0.0 MiB           1       max_delta = (max_rmsd * 2) if max_delta is None else max_delta\n",
      "    18                                         \n",
      "    19    242.6 MiB      0.0 MiB           1       heavy_atoms = (atomnos != 1)\n",
      "    20    244.2 MiB      1.6 MiB         803       heavy_structures = np.array([structure[heavy_atoms] for structure in structures])\n",
      "    21                                         \n",
      "    22    244.2 MiB      0.0 MiB           1       cache_set = set()\n",
      "    23    244.2 MiB      0.0 MiB           1       final_mask = np.ones(structures.shape[0], dtype=bool)\n",
      "    24                                             \n",
      "    25    280.8 MiB      0.0 MiB          19       for k in (5e5, 2e5, 1e5, 5e4, 2e4, 1e4,\n",
      "    26                                                       5000, 2000, 1000, 500, 200, 100,\n",
      "    27                                                       50, 20, 10, 5, 2, 1):\n",
      "    28                                         \n",
      "    29    280.8 MiB      0.0 MiB          18           num_active_str = np.count_nonzero(final_mask)\n",
      "    30                                                 \n",
      "    31    280.8 MiB      0.0 MiB          18           if k == 1 or 5*k < num_active_str:\n",
      "    32                                                 # proceed only of there are at least five structures per group\n",
      "    33                                         \n",
      "    34    280.8 MiB      0.0 MiB           7               if verbose:      \n",
      "    35                                                         print(f'Working on subgroups with k={k} ({num_active_str} candidates left) {\" \"*10}', end='\\r')\n",
      "    36                                         \n",
      "    37    280.8 MiB      0.0 MiB           7               d = int(len(structures) // k)\n",
      "    38                                         \n",
      "    39    280.8 MiB      0.0 MiB         195               for step in range(int(k)):\n",
      "    40                                                     # operating on each of the k subdivisions of the array\n",
      "    41    280.8 MiB      0.0 MiB         188                   if step == k-1:\n",
      "    42    280.8 MiB      0.0 MiB           7                       _l = len(range(d*step, num_active_str))\n",
      "    43                                                         else:\n",
      "    44    263.8 MiB      0.0 MiB         181                       _l = len(range(d*step, int(d*(step+1))))\n",
      "    45                                         \n",
      "    46    280.8 MiB      0.0 MiB         188                   similarity_mat = np.zeros((_l, _l))\n",
      "    47                                         \n",
      "    48    280.8 MiB      0.0 MiB        4812                   for i_rel in range(_l):\n",
      "    49    280.8 MiB      0.0 MiB      151000                       for j_rel in range(i_rel+1,_l):\n",
      "    50                                         \n",
      "    51    280.8 MiB      0.0 MiB      147240                           i_abs = i_rel+(d*step)\n",
      "    52    280.8 MiB      0.0 MiB      147240                           j_abs = j_rel+(d*step)\n",
      "    53                                         \n",
      "    54    280.8 MiB      0.0 MiB      147240                           if (i_abs, j_abs) not in cache_set:\n",
      "    55                                                                 # if we have already performed the comparison,\n",
      "    56                                                                 # structures were not similar and we can skip them\n",
      "    57                                         \n",
      "    58    280.8 MiB      0.6 MiB      109168                               rmsd, max_dev = rmsd_and_max(heavy_structures[i_abs],\n",
      "    59    280.8 MiB      0.0 MiB       54584                                                            heavy_structures[j_abs])\n",
      "    60                                         \n",
      "    61    280.8 MiB      0.0 MiB       54584                               if rmsd < max_rmsd and max_dev < max_delta:\n",
      "    62    280.8 MiB      0.0 MiB         864                                   similarity_mat[i_rel,j_rel] = 1\n",
      "    63    280.8 MiB      0.0 MiB         864                                   break\n",
      "    64                                         \n",
      "    65    282.9 MiB -104730.9 MiB      452700                   for i_rel, j_rel in zip(*np.where(similarity_mat == False)):\n",
      "    66    282.9 MiB -104754.5 MiB      452512                       i_abs = i_rel+(d*step)\n",
      "    67    282.9 MiB -104753.0 MiB      452512                       j_abs = j_rel+(d*step)\n",
      "    68    282.9 MiB -104744.6 MiB      452512                       cache_set.add((i_abs, j_abs))\n",
      "    69                                                             # adding indices of structures that are considered equal,\n",
      "    70                                                             # so as not to repeat computing their RMSD\n",
      "    71                                                             # Their index accounts for their position in the initial\n",
      "    72                                                             # array (absolute index)\n",
      "    73                                         \n",
      "    74    280.8 MiB     -6.5 MiB        1428                   matches = [(i,j) for i,j in zip(*np.where(similarity_mat))]\n",
      "    75    280.8 MiB      0.3 MiB         188                   g = nx.Graph(matches)\n",
      "    76                                         \n",
      "    77    280.8 MiB      0.8 MiB        1124                   subgraphs = [g.subgraph(c) for c in nx.connected_components(g)]\n",
      "    78    280.8 MiB      0.0 MiB        1124                   groups = [tuple(graph.nodes) for graph in subgraphs]\n",
      "    79                                         \n",
      "    80    280.8 MiB      0.0 MiB        1124                   best_of_cluster = [group[0] for group in groups]\n",
      "    81                                                         # of each cluster, keep the first structure\n",
      "    82                                         \n",
      "    83    280.8 MiB      0.0 MiB        1124                   rejects_sets = [set(a) - {b} for a, b in zip(groups, best_of_cluster)]\n",
      "    84    280.8 MiB      0.0 MiB         188                   rejects = []\n",
      "    85    280.8 MiB      0.0 MiB         748                   for s in rejects_sets:\n",
      "    86    280.8 MiB      0.0 MiB        1424                       for i in s:\n",
      "    87    280.8 MiB      0.0 MiB         864                           rejects.append(i)\n",
      "    88                                         \n",
      "    89    280.8 MiB      0.0 MiB        1052                   for i in rejects:\n",
      "    90    280.8 MiB      0.0 MiB         864                       abs_index = i + d*step\n",
      "    91    280.8 MiB      0.0 MiB         864                       final_mask[abs_index] = 0\n",
      "    92                                         \n",
      "    93    280.8 MiB      0.0 MiB           1       return structures[final_mask], final_mask\n",
      "\n",
      "\n"
     ]
    }
   ],
   "source": [
    "\n",
    "structs = np.concatenate([data.atomcoords for _ in range(10)])\n",
    "_, mask1 = prune_conformers_rmsd(structs, data.atomnos, 0.25)"
   ]
  }
 ],
 "metadata": {
  "kernelspec": {
   "display_name": "tscode",
   "language": "python",
   "name": "python3"
  },
  "language_info": {
   "codemirror_mode": {
    "name": "ipython",
    "version": 3
   },
   "file_extension": ".py",
   "mimetype": "text/x-python",
   "name": "python",
   "nbconvert_exporter": "python",
   "pygments_lexer": "ipython3",
   "version": "3.8.18"
  }
 },
 "nbformat": 4,
 "nbformat_minor": 2
}
