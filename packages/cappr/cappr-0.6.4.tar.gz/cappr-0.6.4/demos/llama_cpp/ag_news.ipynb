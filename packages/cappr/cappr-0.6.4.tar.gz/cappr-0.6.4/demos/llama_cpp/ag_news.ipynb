{
  "cells": [
    {
      "cell_type": "markdown",
      "metadata": {
        "id": "onOeCT_HbGMC"
      },
      "source": [
        "In its current form, you must run this notebook on a GPU. A T4 is sufficient. It's free\n",
        "on [Google\n",
        "Colab](https://stackoverflow.com/questions/62596466/how-can-i-run-notebooks-of-a-github-project-in-google-colab/67344477#67344477).\n",
        "You can technically run this notebook on a CPU (with minor adjustments), but then it'll\n",
        "take hours. We'll be running the model 1,500 times!\n",
        "\n",
        "**Description**: for a [4 GB 4-bit Llama 2 chat\n",
        "model](https://huggingface.co/TheBloke/Llama-2-7b-Chat-GGUF/blob/main/llama-2-7b-chat.Q4_0.gguf)\n",
        "and the [AG news](https://huggingface.co/datasets/ag_news) classification task, this\n",
        "notebook demonstrates that CAPPr gets you +5% absolute accuracy, though at some cost in runtime. Note that this dataset is kind of a strawman b/c it's probably trivial to solve w/ a handful of labeled examples. Still, I think it's useful as a benchmark.\n",
        "\n",
        "**Contamination notice**: I don't know whether Llama 2 was trained on any AG news data. If\n",
        "it was, but there's no interaction between the method (CAPPr vs text generation) and\n",
        "training, then the difference between performances can be studied.\n",
        "\n",
        "**Estimated run time**: ~20 min."
      ]
    },
    {
      "cell_type": "markdown",
      "metadata": {
        "id": "5H2cqyOvbGMT"
      },
      "source": [
        "[Install packages](#install-packages)\n",
        "\n",
        "[Download model](#download-model)\n",
        "\n",
        "[Utils](#utils)\n",
        "\n",
        "[Load data](#load-data)\n",
        "\n",
        "[Text generation](#text-generation)\n",
        "\n",
        "[Text generation (Multiple Choice)](#text-generation-multiple-choice)\n",
        "\n",
        "[CAPPr](#cappr)"
      ]
    },
    {
      "cell_type": "markdown",
      "metadata": {
        "id": "3edTvevkoCCR"
      },
      "source": [
        "# Install packages"
      ]
    },
    {
      "cell_type": "markdown",
      "metadata": {
        "id": "3_-mtmZuccEf"
      },
      "source": [
        "For CPU, just do\n",
        "\n",
        "```\n",
        "!pip install llama-cpp-python\n",
        "```"
      ]
    },
    {
      "cell_type": "markdown",
      "metadata": {
        "id": "4Heya6HkdJyE"
      },
      "source": [
        "For GPU (ty [this comment](https://github.com/ggerganov/llama.cpp/issues/128#issuecomment-1604696753)):"
      ]
    },
    {
      "cell_type": "code",
      "execution_count": null,
      "metadata": {
        "id": "KuyxVtifKFeS"
      },
      "outputs": [],
      "source": [
        "!CMAKE_ARGS=\"-DLLAMA_CUBLAS=on\" FORCE_CMAKE=1 pip install llama-cpp-python"
      ]
    },
    {
      "cell_type": "markdown",
      "metadata": {
        "id": "6H2ukkr1cy6Z"
      },
      "source": [
        "I'm gonna install `cappr` from source b/c sometimes I use this notebook to statistically\n",
        "gut check code changes.\n",
        "\n",
        "I'll also install the `demos` extras for NLP datasets.\n",
        "\n",
        "In your local env, you'd just do:\n",
        "\n",
        "```\n",
        "pip install \"cappr[llama-cpp]\"\n",
        "```"
      ]
    },
    {
      "cell_type": "code",
      "execution_count": null,
      "metadata": {
        "id": "NicJ2-6Hcump"
      },
      "outputs": [],
      "source": [
        "!pip install \"cappr[demos] @ git+https://github.com/kddubey/cappr.git\""
      ]
    },
    {
      "cell_type": "markdown",
      "metadata": {
        "id": "A22iSuqGVtr7"
      },
      "source": [
        "# Download model"
      ]
    },
    {
      "cell_type": "markdown",
      "metadata": {
        "id": "RTx6xWlXfVWN"
      },
      "source": [
        "The model is a [4 GB 4-bit Llama 2 chat\n",
        "model](https://huggingface.co/TheBloke/Llama-2-7b-Chat-GGUF/blob/main/llama-2-7b-chat.Q4_0.gguf) with 7B parameters."
      ]
    },
    {
      "cell_type": "code",
      "execution_count": 3,
      "metadata": {
        "colab": {
          "base_uri": "https://localhost:8080/"
        },
        "id": "fkMaqHovEo_1",
        "outputId": "4e5d917b-5b62-4952-d3e6-e7c50fe0dac5"
      },
      "outputs": [
        {
          "name": "stdout",
          "output_type": "stream",
          "text": [
            "downloading https://huggingface.co/TheBloke/Llama-2-7b-Chat-GGUF/resolve/main/llama-2-7b-chat.Q4_0.gguf to /root/.cache/huggingface/hub/tmpt3w0cugx\n",
            "Downloading (…)-2-7b-chat.Q4_0.gguf: 100% 3.83G/3.83G [01:52<00:00, 33.9MB/s]\n",
            "Storing https://huggingface.co/TheBloke/Llama-2-7b-Chat-GGUF/resolve/main/llama-2-7b-chat.Q4_0.gguf in local_dir at ./llama-2-7b-chat.Q4_0.gguf (not cached).\n",
            "./llama-2-7b-chat.Q4_0.gguf\n"
          ]
        }
      ],
      "source": [
        "!huggingface-cli download \\\n",
        "TheBloke/Llama-2-7b-Chat-GGUF \\\n",
        "llama-2-7b-chat.Q4_0.gguf \\\n",
        "--local-dir . \\\n",
        "--local-dir-use-symlinks False"
      ]
    },
    {
      "cell_type": "code",
      "execution_count": 1,
      "metadata": {
        "id": "UC6fONZlV1XF"
      },
      "outputs": [],
      "source": [
        "model_path = \"./llama-2-7b-chat.Q4_0.gguf\""
      ]
    },
    {
      "cell_type": "code",
      "execution_count": 2,
      "metadata": {
        "id": "WNW0Cz1sbGMX"
      },
      "outputs": [],
      "source": [
        "from __future__ import annotations\n",
        "from string import ascii_uppercase as alphabet\n",
        "from typing import Collection, Sequence\n",
        "\n",
        "import datasets\n",
        "import pandas as pd\n",
        "from tqdm.auto import tqdm\n",
        "\n",
        "from llama_cpp import Llama\n",
        "\n",
        "from cappr.llama_cpp import classify"
      ]
    },
    {
      "cell_type": "code",
      "execution_count": 3,
      "metadata": {
        "colab": {
          "base_uri": "https://localhost:8080/"
        },
        "id": "xegEtmskckgp",
        "outputId": "4289162f-8fc6-4c6e-a8fe-b15861b1cb99"
      },
      "outputs": [
        {
          "data": {
            "text/plain": [
              "-1"
            ]
          },
          "execution_count": 3,
          "metadata": {},
          "output_type": "execute_result"
        }
      ],
      "source": [
        "import torch\n",
        "n_gpu_layers = -1 if torch.cuda.is_available() else 0\n",
        "n_gpu_layers"
      ]
    },
    {
      "cell_type": "code",
      "execution_count": 4,
      "metadata": {
        "colab": {
          "base_uri": "https://localhost:8080/"
        },
        "id": "q-JyALQPE-c1",
        "outputId": "e907bf1a-61cf-4e41-d9c9-ef529b109c5e"
      },
      "outputs": [
        {
          "name": "stderr",
          "output_type": "stream",
          "text": [
            "AVX = 1 | AVX2 = 1 | AVX512 = 0 | AVX512_VBMI = 0 | AVX512_VNNI = 0 | FMA = 1 | NEON = 0 | ARM_FMA = 0 | F16C = 1 | FP16_VA = 0 | WASM_SIMD = 0 | BLAS = 1 | SSE3 = 1 | SSSE3 = 1 | VSX = 0 | \n"
          ]
        }
      ],
      "source": [
        "model = Llama(model_path=model_path, logits_all=True, n_gpu_layers=n_gpu_layers)"
      ]
    },
    {
      "cell_type": "markdown",
      "metadata": {
        "id": "OcCXl84vbGMd"
      },
      "source": [
        "# Load data"
      ]
    },
    {
      "cell_type": "code",
      "execution_count": 5,
      "metadata": {
        "id": "NDauFakI6E9n"
      },
      "outputs": [],
      "source": [
        "DATASET_NAME = \"ag_news\""
      ]
    },
    {
      "cell_type": "code",
      "execution_count": 6,
      "metadata": {
        "id": "0WayD0g5bGMj"
      },
      "outputs": [],
      "source": [
        "_df = pd.DataFrame(datasets.load_dataset(DATASET_NAME, split=\"train\"))"
      ]
    },
    {
      "cell_type": "code",
      "execution_count": 7,
      "metadata": {
        "colab": {
          "base_uri": "https://localhost:8080/",
          "height": 206
        },
        "id": "775AXSrh6E9o",
        "outputId": "1dc1cc7d-c024-46b9-edac-7880e5b6d3d3"
      },
      "outputs": [
        {
          "data": {
            "text/html": [
              "\n",
              "  <div id=\"df-d04d4631-a3e3-4244-a8a3-e1c1b30dae64\" class=\"colab-df-container\">\n",
              "    <div>\n",
              "<style scoped>\n",
              "    .dataframe tbody tr th:only-of-type {\n",
              "        vertical-align: middle;\n",
              "    }\n",
              "\n",
              "    .dataframe tbody tr th {\n",
              "        vertical-align: top;\n",
              "    }\n",
              "\n",
              "    .dataframe thead th {\n",
              "        text-align: right;\n",
              "    }\n",
              "</style>\n",
              "<table border=\"1\" class=\"dataframe\">\n",
              "  <thead>\n",
              "    <tr style=\"text-align: right;\">\n",
              "      <th></th>\n",
              "      <th>text</th>\n",
              "      <th>label</th>\n",
              "    </tr>\n",
              "  </thead>\n",
              "  <tbody>\n",
              "    <tr>\n",
              "      <th>0</th>\n",
              "      <td>Wall St. Bears Claw Back Into the Black (Reute...</td>\n",
              "      <td>2</td>\n",
              "    </tr>\n",
              "    <tr>\n",
              "      <th>1</th>\n",
              "      <td>Carlyle Looks Toward Commercial Aerospace (Reu...</td>\n",
              "      <td>2</td>\n",
              "    </tr>\n",
              "    <tr>\n",
              "      <th>2</th>\n",
              "      <td>Oil and Economy Cloud Stocks' Outlook (Reuters...</td>\n",
              "      <td>2</td>\n",
              "    </tr>\n",
              "    <tr>\n",
              "      <th>3</th>\n",
              "      <td>Iraq Halts Oil Exports from Main Southern Pipe...</td>\n",
              "      <td>2</td>\n",
              "    </tr>\n",
              "    <tr>\n",
              "      <th>4</th>\n",
              "      <td>Oil prices soar to all-time record, posing new...</td>\n",
              "      <td>2</td>\n",
              "    </tr>\n",
              "  </tbody>\n",
              "</table>\n",
              "</div>\n",
              "    <div class=\"colab-df-buttons\">\n",
              "\n",
              "  <div class=\"colab-df-container\">\n",
              "    <button class=\"colab-df-convert\" onclick=\"convertToInteractive('df-d04d4631-a3e3-4244-a8a3-e1c1b30dae64')\"\n",
              "            title=\"Convert this dataframe to an interactive table.\"\n",
              "            style=\"display:none;\">\n",
              "\n",
              "  <svg xmlns=\"http://www.w3.org/2000/svg\" height=\"24px\" viewBox=\"0 -960 960 960\">\n",
              "    <path d=\"M120-120v-720h720v720H120Zm60-500h600v-160H180v160Zm220 220h160v-160H400v160Zm0 220h160v-160H400v160ZM180-400h160v-160H180v160Zm440 0h160v-160H620v160ZM180-180h160v-160H180v160Zm440 0h160v-160H620v160Z\"/>\n",
              "  </svg>\n",
              "    </button>\n",
              "\n",
              "  <style>\n",
              "    .colab-df-container {\n",
              "      display:flex;\n",
              "      gap: 12px;\n",
              "    }\n",
              "\n",
              "    .colab-df-convert {\n",
              "      background-color: #E8F0FE;\n",
              "      border: none;\n",
              "      border-radius: 50%;\n",
              "      cursor: pointer;\n",
              "      display: none;\n",
              "      fill: #1967D2;\n",
              "      height: 32px;\n",
              "      padding: 0 0 0 0;\n",
              "      width: 32px;\n",
              "    }\n",
              "\n",
              "    .colab-df-convert:hover {\n",
              "      background-color: #E2EBFA;\n",
              "      box-shadow: 0px 1px 2px rgba(60, 64, 67, 0.3), 0px 1px 3px 1px rgba(60, 64, 67, 0.15);\n",
              "      fill: #174EA6;\n",
              "    }\n",
              "\n",
              "    .colab-df-buttons div {\n",
              "      margin-bottom: 4px;\n",
              "    }\n",
              "\n",
              "    [theme=dark] .colab-df-convert {\n",
              "      background-color: #3B4455;\n",
              "      fill: #D2E3FC;\n",
              "    }\n",
              "\n",
              "    [theme=dark] .colab-df-convert:hover {\n",
              "      background-color: #434B5C;\n",
              "      box-shadow: 0px 1px 3px 1px rgba(0, 0, 0, 0.15);\n",
              "      filter: drop-shadow(0px 1px 2px rgba(0, 0, 0, 0.3));\n",
              "      fill: #FFFFFF;\n",
              "    }\n",
              "  </style>\n",
              "\n",
              "    <script>\n",
              "      const buttonEl =\n",
              "        document.querySelector('#df-d04d4631-a3e3-4244-a8a3-e1c1b30dae64 button.colab-df-convert');\n",
              "      buttonEl.style.display =\n",
              "        google.colab.kernel.accessAllowed ? 'block' : 'none';\n",
              "\n",
              "      async function convertToInteractive(key) {\n",
              "        const element = document.querySelector('#df-d04d4631-a3e3-4244-a8a3-e1c1b30dae64');\n",
              "        const dataTable =\n",
              "          await google.colab.kernel.invokeFunction('convertToInteractive',\n",
              "                                                    [key], {});\n",
              "        if (!dataTable) return;\n",
              "\n",
              "        const docLinkHtml = 'Like what you see? Visit the ' +\n",
              "          '<a target=\"_blank\" href=https://colab.research.google.com/notebooks/data_table.ipynb>data table notebook</a>'\n",
              "          + ' to learn more about interactive tables.';\n",
              "        element.innerHTML = '';\n",
              "        dataTable['output_type'] = 'display_data';\n",
              "        await google.colab.output.renderOutput(dataTable, element);\n",
              "        const docLink = document.createElement('div');\n",
              "        docLink.innerHTML = docLinkHtml;\n",
              "        element.appendChild(docLink);\n",
              "      }\n",
              "    </script>\n",
              "  </div>\n",
              "\n",
              "\n",
              "<div id=\"df-2608c0dc-7ac6-433c-80c8-4e92c9f402e6\">\n",
              "  <button class=\"colab-df-quickchart\" onclick=\"quickchart('df-2608c0dc-7ac6-433c-80c8-4e92c9f402e6')\"\n",
              "            title=\"Suggest charts.\"\n",
              "            style=\"display:none;\">\n",
              "\n",
              "<svg xmlns=\"http://www.w3.org/2000/svg\" height=\"24px\"viewBox=\"0 0 24 24\"\n",
              "     width=\"24px\">\n",
              "    <g>\n",
              "        <path d=\"M19 3H5c-1.1 0-2 .9-2 2v14c0 1.1.9 2 2 2h14c1.1 0 2-.9 2-2V5c0-1.1-.9-2-2-2zM9 17H7v-7h2v7zm4 0h-2V7h2v10zm4 0h-2v-4h2v4z\"/>\n",
              "    </g>\n",
              "</svg>\n",
              "  </button>\n",
              "\n",
              "<style>\n",
              "  .colab-df-quickchart {\n",
              "      --bg-color: #E8F0FE;\n",
              "      --fill-color: #1967D2;\n",
              "      --hover-bg-color: #E2EBFA;\n",
              "      --hover-fill-color: #174EA6;\n",
              "      --disabled-fill-color: #AAA;\n",
              "      --disabled-bg-color: #DDD;\n",
              "  }\n",
              "\n",
              "  [theme=dark] .colab-df-quickchart {\n",
              "      --bg-color: #3B4455;\n",
              "      --fill-color: #D2E3FC;\n",
              "      --hover-bg-color: #434B5C;\n",
              "      --hover-fill-color: #FFFFFF;\n",
              "      --disabled-bg-color: #3B4455;\n",
              "      --disabled-fill-color: #666;\n",
              "  }\n",
              "\n",
              "  .colab-df-quickchart {\n",
              "    background-color: var(--bg-color);\n",
              "    border: none;\n",
              "    border-radius: 50%;\n",
              "    cursor: pointer;\n",
              "    display: none;\n",
              "    fill: var(--fill-color);\n",
              "    height: 32px;\n",
              "    padding: 0;\n",
              "    width: 32px;\n",
              "  }\n",
              "\n",
              "  .colab-df-quickchart:hover {\n",
              "    background-color: var(--hover-bg-color);\n",
              "    box-shadow: 0 1px 2px rgba(60, 64, 67, 0.3), 0 1px 3px 1px rgba(60, 64, 67, 0.15);\n",
              "    fill: var(--button-hover-fill-color);\n",
              "  }\n",
              "\n",
              "  .colab-df-quickchart-complete:disabled,\n",
              "  .colab-df-quickchart-complete:disabled:hover {\n",
              "    background-color: var(--disabled-bg-color);\n",
              "    fill: var(--disabled-fill-color);\n",
              "    box-shadow: none;\n",
              "  }\n",
              "\n",
              "  .colab-df-spinner {\n",
              "    border: 2px solid var(--fill-color);\n",
              "    border-color: transparent;\n",
              "    border-bottom-color: var(--fill-color);\n",
              "    animation:\n",
              "      spin 1s steps(1) infinite;\n",
              "  }\n",
              "\n",
              "  @keyframes spin {\n",
              "    0% {\n",
              "      border-color: transparent;\n",
              "      border-bottom-color: var(--fill-color);\n",
              "      border-left-color: var(--fill-color);\n",
              "    }\n",
              "    20% {\n",
              "      border-color: transparent;\n",
              "      border-left-color: var(--fill-color);\n",
              "      border-top-color: var(--fill-color);\n",
              "    }\n",
              "    30% {\n",
              "      border-color: transparent;\n",
              "      border-left-color: var(--fill-color);\n",
              "      border-top-color: var(--fill-color);\n",
              "      border-right-color: var(--fill-color);\n",
              "    }\n",
              "    40% {\n",
              "      border-color: transparent;\n",
              "      border-right-color: var(--fill-color);\n",
              "      border-top-color: var(--fill-color);\n",
              "    }\n",
              "    60% {\n",
              "      border-color: transparent;\n",
              "      border-right-color: var(--fill-color);\n",
              "    }\n",
              "    80% {\n",
              "      border-color: transparent;\n",
              "      border-right-color: var(--fill-color);\n",
              "      border-bottom-color: var(--fill-color);\n",
              "    }\n",
              "    90% {\n",
              "      border-color: transparent;\n",
              "      border-bottom-color: var(--fill-color);\n",
              "    }\n",
              "  }\n",
              "</style>\n",
              "\n",
              "  <script>\n",
              "    async function quickchart(key) {\n",
              "      const quickchartButtonEl =\n",
              "        document.querySelector('#' + key + ' button');\n",
              "      quickchartButtonEl.disabled = true;  // To prevent multiple clicks.\n",
              "      quickchartButtonEl.classList.add('colab-df-spinner');\n",
              "      try {\n",
              "        const charts = await google.colab.kernel.invokeFunction(\n",
              "            'suggestCharts', [key], {});\n",
              "      } catch (error) {\n",
              "        console.error('Error during call to suggestCharts:', error);\n",
              "      }\n",
              "      quickchartButtonEl.classList.remove('colab-df-spinner');\n",
              "      quickchartButtonEl.classList.add('colab-df-quickchart-complete');\n",
              "    }\n",
              "    (() => {\n",
              "      let quickchartButtonEl =\n",
              "        document.querySelector('#df-2608c0dc-7ac6-433c-80c8-4e92c9f402e6 button');\n",
              "      quickchartButtonEl.style.display =\n",
              "        google.colab.kernel.accessAllowed ? 'block' : 'none';\n",
              "    })();\n",
              "  </script>\n",
              "</div>\n",
              "    </div>\n",
              "  </div>\n"
            ],
            "text/plain": [
              "                                                text  label\n",
              "0  Wall St. Bears Claw Back Into the Black (Reute...      2\n",
              "1  Carlyle Looks Toward Commercial Aerospace (Reu...      2\n",
              "2  Oil and Economy Cloud Stocks' Outlook (Reuters...      2\n",
              "3  Iraq Halts Oil Exports from Main Southern Pipe...      2\n",
              "4  Oil prices soar to all-time record, posing new...      2"
            ]
          },
          "execution_count": 7,
          "metadata": {},
          "output_type": "execute_result"
        }
      ],
      "source": [
        "_df.head()"
      ]
    },
    {
      "cell_type": "markdown",
      "metadata": {
        "id": "NAO-IYK46E9o"
      },
      "source": [
        "Ensure your dataframe passes these checks"
      ]
    },
    {
      "cell_type": "code",
      "execution_count": 8,
      "metadata": {
        "id": "WbqzhUx_6E9o"
      },
      "outputs": [],
      "source": [
        "assert len(set(_df.index)) == len(_df)\n",
        "assert \"text\" in _df.columns\n",
        "assert \"label\" in _df.columns"
      ]
    },
    {
      "cell_type": "code",
      "execution_count": 9,
      "metadata": {
        "id": "TuF8Wpf66E9p"
      },
      "outputs": [],
      "source": [
        "_df[\"text\"] = _df[\"text\"].astype(str)\n",
        "_df[\"label\"] = _df[\"label\"].astype(int)"
      ]
    },
    {
      "cell_type": "code",
      "execution_count": 10,
      "metadata": {
        "colab": {
          "base_uri": "https://localhost:8080/"
        },
        "id": "AlOIxn66bGMm",
        "outputId": "a267727c-e960-4777-f086-69a18c092615"
      },
      "outputs": [
        {
          "data": {
            "text/plain": [
              "120000"
            ]
          },
          "execution_count": 10,
          "metadata": {},
          "output_type": "execute_result"
        }
      ],
      "source": [
        "len(_df)"
      ]
    },
    {
      "cell_type": "markdown",
      "metadata": {
        "id": "V7-ldgr0EJQb"
      },
      "source": [
        "We don't need that much data to compare methods. We'll (stratify) sample a couple hundred of them."
      ]
    },
    {
      "cell_type": "code",
      "execution_count": 11,
      "metadata": {
        "colab": {
          "base_uri": "https://localhost:8080/"
        },
        "id": "8UYnBCHtbGNH",
        "outputId": "f78deec3-e245-4519-c053-62a2039a0823"
      },
      "outputs": [
        {
          "data": {
            "text/plain": [
              "0    0.25\n",
              "1    0.25\n",
              "2    0.25\n",
              "3    0.25\n",
              "Name: label, dtype: float64"
            ]
          },
          "execution_count": 11,
          "metadata": {},
          "output_type": "execute_result"
        }
      ],
      "source": [
        "_df[\"label\"].value_counts(normalize=True).sort_index()"
      ]
    },
    {
      "cell_type": "markdown",
      "metadata": {
        "id": "d7YkpFoz6E9r"
      },
      "source": [
        "Is the default context, 512, sufficient? Let's see how many characters (not tokens)\n",
        "there are in this dataset."
      ]
    },
    {
      "cell_type": "code",
      "execution_count": 12,
      "metadata": {
        "colab": {
          "base_uri": "https://localhost:8080/"
        },
        "id": "LyMUcrlH6E9r",
        "outputId": "3c54bdb5-cf06-442c-d2b4-f549453ce0ef"
      },
      "outputs": [
        {
          "data": {
            "text/plain": [
              "count    120000.000000\n",
              "mean        236.477525\n",
              "std          66.509741\n",
              "min         100.000000\n",
              "25%         196.000000\n",
              "50%         232.000000\n",
              "75%         266.000000\n",
              "max        1012.000000\n",
              "Name: text, dtype: float64"
            ]
          },
          "execution_count": 12,
          "metadata": {},
          "output_type": "execute_result"
        }
      ],
      "source": [
        "_df[\"text\"].str.len().describe()"
      ]
    },
    {
      "cell_type": "code",
      "execution_count": 13,
      "metadata": {
        "id": "O0je-oIO6E9r"
      },
      "outputs": [],
      "source": [
        "def stratified_sample(\n",
        "    df: pd.DataFrame, sample_size: int, random_state: int = None\n",
        ") -> pd.DataFrame:\n",
        "    # let's not worry about not exactly returning a df w/ size sample_size for\n",
        "    # now. it's nbd for this experiment\n",
        "    num_labels = len(set(df[\"label\"]))\n",
        "    num_obs_per_label = int(sample_size / num_labels)\n",
        "\n",
        "    def label_sampler(df_label: pd.DataFrame) -> pd.DataFrame:\n",
        "        return df_label.sample(num_obs_per_label, random_state=random_state)\n",
        "\n",
        "    return df.groupby(\"label\", group_keys=False).apply(label_sampler)"
      ]
    },
    {
      "cell_type": "code",
      "execution_count": 14,
      "metadata": {
        "id": "7sPJENiKBQVt"
      },
      "outputs": [],
      "source": [
        "sample_size = 500\n",
        "random_state = 3459"
      ]
    },
    {
      "cell_type": "code",
      "execution_count": 15,
      "metadata": {
        "id": "fE5MwarY6E9r"
      },
      "outputs": [],
      "source": [
        "df = stratified_sample(_df, sample_size=sample_size, random_state=random_state)"
      ]
    },
    {
      "cell_type": "code",
      "execution_count": 16,
      "metadata": {
        "colab": {
          "base_uri": "https://localhost:8080/"
        },
        "id": "SZAyTEO_DsYB",
        "outputId": "ada9a760-1bcf-4049-e919-a6e0ec0894ff"
      },
      "outputs": [
        {
          "data": {
            "text/plain": [
              "0    0.25\n",
              "1    0.25\n",
              "2    0.25\n",
              "3    0.25\n",
              "Name: label, dtype: float64"
            ]
          },
          "execution_count": 16,
          "metadata": {},
          "output_type": "execute_result"
        }
      ],
      "source": [
        "df[\"label\"].value_counts(normalize=True).sort_index()"
      ]
    },
    {
      "cell_type": "code",
      "execution_count": 17,
      "metadata": {
        "id": "jsnZuCft-XNH"
      },
      "outputs": [],
      "source": [
        "news_categories = (\"world\", \"sports\", \"business\", \"science\")"
      ]
    },
    {
      "cell_type": "code",
      "execution_count": 18,
      "metadata": {
        "id": "tPePXRDPBctp"
      },
      "outputs": [],
      "source": [
        "llama_chat_template = \"\"\"\n",
        "<s>[INST] <<SYS>>\n",
        "{system_prompt}\n",
        "<</SYS>>\n",
        "\n",
        "{user_message} [/INST]\n",
        "\"\"\".lstrip(\n",
        "    \"\\n\"\n",
        ")"
      ]
    },
    {
      "cell_type": "markdown",
      "metadata": {
        "id": "qgNUWO0ZbGNv"
      },
      "source": [
        "# Text generation"
      ]
    },
    {
      "cell_type": "code",
      "execution_count": 19,
      "metadata": {
        "colab": {
          "base_uri": "https://localhost:8080/"
        },
        "id": "7RUrWpZNbGN1",
        "outputId": "84c1a712-7443-470d-d0ab-bde6e1ad17a4"
      },
      "outputs": [
        {
          "name": "stdout",
          "output_type": "stream",
          "text": [
            "<s>[INST] <<SYS>>\n",
            "Identify the news topic which the text belongs to. The news topics are: world, sports, business, and science. Respond only with the correct topic.\n",
            "<</SYS>>\n",
            "\n",
            "The following text was taken from a news article:\n",
            "\"Strong Quake Hits Japan's Hokkaido, 11 Hurt (Reuters) Reuters - A strong earthquake with a preliminary\\magnitude of 7.1 hit a wide area of Japan's northernmost main\\island of Hokkaido early on Monday, the Japan Meteorological\\Agency said.\"\n",
            "\n",
            "Identify the topic which the text belongs to. [/INST]\n",
            "\n"
          ]
        }
      ],
      "source": [
        "def prompt_chat(text: str):\n",
        "    return (\n",
        "        f'The following text was taken from a news article:\\n\"{text}\"\\n\\n'\n",
        "        \"Identify the topic which the text belongs to.\"\n",
        "    )\n",
        "\n",
        "system_prompt_chat = (\n",
        "    \"Identify the news topic which the text belongs to. The news topics are: \"\n",
        "    \"world, sports, business, and science. \"\n",
        "    \"Respond only with the correct topic.\"\n",
        ")\n",
        "\n",
        "df[\"prompt_chat\"] = [\n",
        "    llama_chat_template.format(\n",
        "        system_prompt=system_prompt_chat,\n",
        "        user_message=prompt_chat(text)\n",
        "    )\n",
        "    for text in df[\"text\"]\n",
        "]\n",
        "\n",
        "print(df[\"prompt_chat\"].iloc[0])"
      ]
    },
    {
      "cell_type": "markdown",
      "metadata": {
        "id": "_OaEEYAbrVf7"
      },
      "source": [
        "Generate completions"
      ]
    },
    {
      "cell_type": "code",
      "execution_count": null,
      "metadata": {
        "id": "V1J5uu1wjGsH"
      },
      "outputs": [],
      "source": [
        "model.reset()\n",
        "completions = []\n",
        "for _prompt in tqdm(df[\"prompt_chat\"], total=len(df), desc=\"Sampling\"):\n",
        "    response = model(_prompt, max_tokens=20, temperature=0)\n",
        "    completion = response[\"choices\"][0][\"text\"]\n",
        "    completions.append(completion)"
      ]
    },
    {
      "cell_type": "markdown",
      "metadata": {
        "id": "EUziWyvGISQj"
      },
      "source": [
        "Inspect completions"
      ]
    },
    {
      "cell_type": "code",
      "execution_count": 21,
      "metadata": {
        "colab": {
          "base_uri": "https://localhost:8080/"
        },
        "id": "oMtKqqdPlggb",
        "outputId": "2b41b3ed-c260-4760-8204-2a36972bad41"
      },
      "outputs": [
        {
          "data": {
            "text/plain": [
              "37       The text belongs to the topic of \"World\".\n",
              "146                                         Sports\n",
              "192                                       Business\n",
              "56     The text belongs to the \"world\" news topic.\n",
              "484         The text belongs to the \"world\" topic.\n",
              "32                                           World\n",
              "80     The text belongs to the \"world\" news topic.\n",
              "243     The text belongs to the topic of \"Sports\".\n",
              "425       The text belongs to the \"science\" topic.\n",
              "428                                        Science\n",
              "dtype: object"
            ]
          },
          "execution_count": 21,
          "metadata": {},
          "output_type": "execute_result"
        }
      ],
      "source": [
        "pd.Series(completions).sample(10)"
      ]
    },
    {
      "cell_type": "markdown",
      "metadata": {
        "id": "izyq3REq7w84"
      },
      "source": [
        "When you're doing text generation, you often have to write this sort of data-dependent and model-dependent function. For this prompt and the AG news task, it's pretty trivial."
      ]
    },
    {
      "cell_type": "code",
      "execution_count": 22,
      "metadata": {
        "id": "NR4DkFgm4KhJ"
      },
      "outputs": [],
      "source": [
        "def process_completion(\n",
        "    completion: str,\n",
        "    class_names: Sequence[str],\n",
        "    default=-1,\n",
        ") -> int:\n",
        "    for i, name in enumerate(class_names):\n",
        "        if name in completion.lower():\n",
        "            return i\n",
        "    return default"
      ]
    },
    {
      "cell_type": "code",
      "execution_count": 23,
      "metadata": {
        "id": "9UnausK74XjN"
      },
      "outputs": [],
      "source": [
        "pred_classes_text_gen = [\n",
        "    process_completion(completion, news_categories)\n",
        "    for completion in completions\n",
        "]"
      ]
    },
    {
      "cell_type": "markdown",
      "metadata": {
        "id": "SA-Mxvf841lv"
      },
      "source": [
        "How many of the completions could be mapped to a label?"
      ]
    },
    {
      "cell_type": "code",
      "execution_count": 24,
      "metadata": {
        "colab": {
          "base_uri": "https://localhost:8080/"
        },
        "id": "Sua4kuar4bAJ",
        "outputId": "9992a76a-1030-4e55-bb00-189023a00d47"
      },
      "outputs": [
        {
          "data": {
            "text/plain": [
              "0.982"
            ]
          },
          "execution_count": 24,
          "metadata": {},
          "output_type": "execute_result"
        }
      ],
      "source": [
        "(pd.Series(pred_classes_text_gen) != -1).mean()"
      ]
    },
    {
      "cell_type": "markdown",
      "metadata": {
        "id": "N9SYb7poB1xt"
      },
      "source": [
        "What do invalid completions look like?"
      ]
    },
    {
      "cell_type": "code",
      "execution_count": 25,
      "metadata": {
        "colab": {
          "base_uri": "https://localhost:8080/"
        },
        "id": "vBST78rwB3Mj",
        "outputId": "83c70dbc-5f2d-4da2-bb89-0e144367e058"
      },
      "outputs": [
        {
          "data": {
            "text/plain": [
              "29     The text belongs to the \"Politics\" or \"Governm...\n",
              "46     The text belongs to the \"Politics\" or \"Governm...\n",
              "86       The text belongs to the \"law\" or \"legal\" topic.\n",
              "92     The text belongs to the \"Politics\" or \"Governm...\n",
              "107    The text belongs to the \"Politics\" or \"Governm...\n",
              "270    The text belongs to the \"Politics\" or \"Governm...\n",
              "396    The text belongs to the \"health\" or \"medical\" ...\n",
              "467    The text belongs to the topic of \"Technology\" ...\n",
              "472              The text belongs to the \"Health\" topic.\n",
              "dtype: object"
            ]
          },
          "execution_count": 25,
          "metadata": {},
          "output_type": "execute_result"
        }
      ],
      "source": [
        "pd.Series(completions)[(pd.Series(pred_classes_text_gen) == -1)]"
      ]
    },
    {
      "cell_type": "markdown",
      "metadata": {
        "id": "7oJHEEg2HT-K"
      },
      "source": [
        "Hmm methinks that it's not fair to figure out how to map these to an existing news category, because the mapping function is dependent on the *observed* mistakes."
      ]
    },
    {
      "cell_type": "markdown",
      "metadata": {
        "id": "HwBK97kYAuqi"
      },
      "source": [
        "How accurate are the predictions?"
      ]
    },
    {
      "cell_type": "code",
      "execution_count": 26,
      "metadata": {
        "colab": {
          "base_uri": "https://localhost:8080/"
        },
        "id": "zsMAayo04gWC",
        "outputId": "7088af12-d0ca-4416-e740-6b29dc7d8901"
      },
      "outputs": [
        {
          "data": {
            "text/plain": [
              "0.704"
            ]
          },
          "execution_count": 26,
          "metadata": {},
          "output_type": "execute_result"
        }
      ],
      "source": [
        "(pred_classes_text_gen == df['label']).mean()"
      ]
    },
    {
      "cell_type": "markdown",
      "metadata": {
        "id": "oBi3m4QnAIG0"
      },
      "source": [
        "# Text generation (Multiple Choice)"
      ]
    },
    {
      "cell_type": "markdown",
      "metadata": {
        "id": "7hl-KVY1Hneg"
      },
      "source": [
        "A strawman is to use multiple choice. This prompt is the best I could do."
      ]
    },
    {
      "cell_type": "code",
      "execution_count": 27,
      "metadata": {
        "colab": {
          "base_uri": "https://localhost:8080/"
        },
        "id": "y9bJ5KEeAJq6",
        "outputId": "b489eaab-a82b-4792-c7b1-f4d5d42fbc03"
      },
      "outputs": [
        {
          "name": "stdout",
          "output_type": "stream",
          "text": [
            "<s>[INST] <<SYS>>\n",
            "Identify the news topic which the text belongs to. The news categories are: world, sports, business, and science. Each topic is identified by a letter: A, B, C, or D, respectively.\n",
            "Respond only with the letter corresponding to the correct news topic.\n",
            "<</SYS>>\n",
            "\n",
            "The following text was taken from a news article:\n",
            "\"Strong Quake Hits Japan's Hokkaido, 11 Hurt (Reuters) Reuters - A strong earthquake with a preliminary\\magnitude of 7.1 hit a wide area of Japan's northernmost main\\island of Hokkaido early on Monday, the Japan Meteorological\\Agency said.\"\n",
            "\n",
            "Identify the news topic which the text belongs to:\n",
            "A. world\n",
            "B. sports\n",
            "C. business\n",
            "D. science\n",
            "\n",
            "Answer A, B, C, or D. [/INST]\n",
            "\n"
          ]
        }
      ],
      "source": [
        "def multiple_choice(*choices) -> str:\n",
        "    if len(choices) > len(alphabet):\n",
        "        raise ValueError(\"There are more choices than letters.\")\n",
        "    letters_and_choices = [\n",
        "        f\"{letter}. {choice}\" for letter, choice in zip(alphabet, choices)\n",
        "    ]\n",
        "    return \"\\n\".join(letters_and_choices)\n",
        "\n",
        "\n",
        "def prompt_mc(text: str):\n",
        "    mc = multiple_choice(*news_categories)\n",
        "    return (\n",
        "        f'The following text was taken from a news article:\\n\"{text}\"\\n\\n'\n",
        "        \"Identify the news topic which the text belongs to:\\n\"\n",
        "        f\"{mc}\\n\\n\"\n",
        "        \"Answer A, B, C, or D.\"\n",
        "    )\n",
        "\n",
        "system_prompt_mc = (\n",
        "    \"Identify the news topic which the text belongs to. The news categories are: \"\n",
        "    \"world, sports, business, and science. Each topic is identified by a letter: \"\n",
        "    \"A, B, C, or D, respectively.\\n\"\n",
        "    \"Respond only with the letter corresponding to the correct news topic.\"\n",
        ")\n",
        "\n",
        "df[\"prompt_chat_mc\"] = [\n",
        "    llama_chat_template.format(\n",
        "        system_prompt=system_prompt_mc,\n",
        "        user_message=prompt_mc(text),\n",
        "    )\n",
        "    for text in df[\"text\"]\n",
        "]\n",
        "\n",
        "print(df[\"prompt_chat_mc\"].iloc[0])"
      ]
    },
    {
      "cell_type": "code",
      "execution_count": null,
      "metadata": {
        "id": "hhRduSRIBGLD"
      },
      "outputs": [],
      "source": [
        "model.reset()\n",
        "completions_mc = []\n",
        "for _prompt in tqdm(df[\"prompt_chat_mc\"], total=len(df), desc=\"Sampling\"):\n",
        "    response = model(_prompt, max_tokens=15, temperature=0)\n",
        "    completion_mc = response[\"choices\"][0][\"text\"]\n",
        "    completions_mc.append(completion_mc)"
      ]
    },
    {
      "cell_type": "code",
      "execution_count": 29,
      "metadata": {
        "colab": {
          "base_uri": "https://localhost:8080/"
        },
        "id": "tX_tUWpVJuah",
        "outputId": "6d4dfef0-f9a0-4ef9-db50-7bd21383d3f3"
      },
      "outputs": [
        {
          "data": {
            "text/plain": [
              "462     The text belongs to the news topic \"B\" - sports.\n",
              "96     The news topic that the text belongs to is:\\nA...\n",
              "154    The text belongs to the news topic of \"sports\"...\n",
              "318    The text belongs to the news topic \"business\" ...\n",
              "417     The text belongs to the news topic \"B\" - sports.\n",
              "211    The text belongs to the news topic of \"sports\"...\n",
              "66     The news topic that the text belongs to is:\\nD...\n",
              "228    The text belongs to the news topic of \"sports\"...\n",
              "489     The text belongs to the news topic \"D. science\".\n",
              "74     The text belongs to the news topic \"world\", so...\n",
              "dtype: object"
            ]
          },
          "execution_count": 29,
          "metadata": {},
          "output_type": "execute_result"
        }
      ],
      "source": [
        "pd.Series(completions_mc).sample(10)"
      ]
    },
    {
      "cell_type": "code",
      "execution_count": 30,
      "metadata": {
        "id": "6HskBdr7A71w"
      },
      "outputs": [],
      "source": [
        "def process_completion_mc(\n",
        "    completion: str,\n",
        "    class_chars: Sequence[str],\n",
        "    class_names: Sequence[str],\n",
        "    default=-1,\n",
        ") -> int:\n",
        "    for i, name in enumerate(class_names):\n",
        "        if name in completion.lower():\n",
        "            return i\n",
        "    for i, char in enumerate(class_chars):\n",
        "        if char in completion:  # need to retain uppercase\n",
        "            return i\n",
        "    return default"
      ]
    },
    {
      "cell_type": "code",
      "execution_count": 31,
      "metadata": {
        "id": "ztbXvVPvCa2F"
      },
      "outputs": [],
      "source": [
        "pred_classes_text_gen_mc = [\n",
        "    process_completion_mc(\n",
        "        completion_mc,\n",
        "        class_chars=alphabet[:len(news_categories)],\n",
        "        class_names=news_categories\n",
        "    )\n",
        "    for completion_mc in completions_mc\n",
        "]"
      ]
    },
    {
      "cell_type": "markdown",
      "metadata": {
        "id": "7X7UzcfsDMsG"
      },
      "source": [
        "How many of the sampled completions could be mapped to a label?"
      ]
    },
    {
      "cell_type": "code",
      "execution_count": 32,
      "metadata": {
        "colab": {
          "base_uri": "https://localhost:8080/"
        },
        "id": "2HgujpcCDNAm",
        "outputId": "3ec0aaa5-547a-48d3-9183-9922fdc2cb81"
      },
      "outputs": [
        {
          "data": {
            "text/plain": [
              "0.998"
            ]
          },
          "execution_count": 32,
          "metadata": {},
          "output_type": "execute_result"
        }
      ],
      "source": [
        "(pd.Series(pred_classes_text_gen_mc) != -1).mean()"
      ]
    },
    {
      "cell_type": "markdown",
      "metadata": {
        "id": "43zUjdH5LK-y"
      },
      "source": [
        "Accuracy:"
      ]
    },
    {
      "cell_type": "code",
      "execution_count": 33,
      "metadata": {
        "colab": {
          "base_uri": "https://localhost:8080/"
        },
        "id": "JqjrTdh5C3RQ",
        "outputId": "74d1ced4-a1a8-4e2d-bd5b-1e2278ab41f1"
      },
      "outputs": [
        {
          "data": {
            "text/plain": [
              "0.622"
            ]
          },
          "execution_count": 33,
          "metadata": {},
          "output_type": "execute_result"
        }
      ],
      "source": [
        "(pred_classes_text_gen_mc == df['label']).mean()"
      ]
    },
    {
      "cell_type": "code",
      "execution_count": 34,
      "metadata": {
        "colab": {
          "base_uri": "https://localhost:8080/"
        },
        "id": "Q3yQCKRAtPjO",
        "outputId": "f8a13a04-b044-491f-b619-578d42a719a9"
      },
      "outputs": [
        {
          "data": {
            "text/plain": [
              "205"
            ]
          },
          "execution_count": 34,
          "metadata": {},
          "output_type": "execute_result"
        }
      ],
      "source": [
        "model.n_tokens"
      ]
    },
    {
      "cell_type": "markdown",
      "metadata": {
        "id": "j9uNeCwut4aM"
      },
      "source": [
        "We'll need to reset the model before CAPPr."
      ]
    },
    {
      "cell_type": "markdown",
      "metadata": {
        "id": "wHgGqHrKbGNe"
      },
      "source": [
        "# CAPPr"
      ]
    },
    {
      "cell_type": "code",
      "execution_count": 35,
      "metadata": {
        "id": "vtwoUC7XxRBy"
      },
      "outputs": [],
      "source": [
        "prompt_prefix = (\n",
        "    \"Every news article can be categorized as either world, sports, business, or \"\n",
        "    \"science.\\n\"\n",
        "    \"The following text was taken from a news article:\"\n",
        ")"
      ]
    },
    {
      "cell_type": "code",
      "execution_count": 36,
      "metadata": {
        "id": "yI3VoPvq6E90"
      },
      "outputs": [],
      "source": [
        "def prompt(text: str):\n",
        "    return (\n",
        "        f'\\n\"{text}\"\\n\\n'\n",
        "        \"The topic which the text belongs to is\"\n",
        "    )"
      ]
    },
    {
      "cell_type": "code",
      "execution_count": 37,
      "metadata": {
        "id": "CMDfwSnx6E90"
      },
      "outputs": [],
      "source": [
        "df[\"prompt\"] = [prompt(text) for text in df[\"text\"]]"
      ]
    },
    {
      "cell_type": "code",
      "execution_count": 38,
      "metadata": {
        "colab": {
          "base_uri": "https://localhost:8080/"
        },
        "id": "N6wkJ0Jjxrq0",
        "outputId": "f6aa0901-f908-4c89-d078-99f60d55c364"
      },
      "outputs": [
        {
          "name": "stdout",
          "output_type": "stream",
          "text": [
            "Every news article can be categorized as either world, sports, business, or science.\n",
            "The following text was taken from a news article:\n",
            "\"Strong Quake Hits Japan's Hokkaido, 11 Hurt (Reuters) Reuters - A strong earthquake with a preliminary\\magnitude of 7.1 hit a wide area of Japan's northernmost main\\island of Hokkaido early on Monday, the Japan Meteorological\\Agency said.\"\n",
            "\n",
            "The topic which the text belongs to is\n"
          ]
        }
      ],
      "source": [
        "print(prompt_prefix + df[\"prompt\"].iloc[0])"
      ]
    },
    {
      "cell_type": "code",
      "execution_count": 39,
      "metadata": {
        "colab": {
          "base_uri": "https://localhost:8080/",
          "height": 49,
          "referenced_widgets": [
            "fe28ae1a7176444aa9e5fead8b3a429f",
            "f1699dc70ba84341a3ace264f0565971",
            "c3eef0670955493b8cfd75a606f0695e",
            "b5b940e6b43d4bf5b1620ac8442416ef",
            "ab435475dae24cba9be7809ee6003166",
            "46bdf8c9e4eb487593728a4fef9ebe1b",
            "0e279f77da0a47ee8d36d6968e827c93",
            "7dd29e969ed94945b54e9c119039b267",
            "666de6f16ef943e9b10637d15d49d8c2",
            "ae20893be65e48a2898758aa8104371d",
            "23207ff982644501a357b4616e198990"
          ]
        },
        "id": "2mMYomd06E91",
        "outputId": "73166034-0f76-4305-ca30-c2a414413e8c"
      },
      "outputs": [
        {
          "data": {
            "application/vnd.jupyter.widget-view+json": {
              "model_id": "fe28ae1a7176444aa9e5fead8b3a429f",
              "version_major": 2,
              "version_minor": 0
            },
            "text/plain": [
              "conditional log-probs:   0%|          | 0/500 [00:00<?, ?it/s]"
            ]
          },
          "metadata": {},
          "output_type": "display_data"
        }
      ],
      "source": [
        "with classify.cache(model, prompt_prefix):\n",
        "    pred_probs = classify.predict_proba(\n",
        "        prompts=df[\"prompt\"],\n",
        "        completions=news_categories,\n",
        "        model=model,\n",
        "        reset_model=False,\n",
        "    )"
      ]
    },
    {
      "cell_type": "code",
      "execution_count": 40,
      "metadata": {
        "colab": {
          "base_uri": "https://localhost:8080/"
        },
        "id": "QVxgmQkwbGNr",
        "outputId": "7cb457b0-4a09-4230-90b0-354dd4c4556f"
      },
      "outputs": [
        {
          "data": {
            "text/plain": [
              "0.754"
            ]
          },
          "execution_count": 40,
          "metadata": {},
          "output_type": "execute_result"
        }
      ],
      "source": [
        "(pred_probs.argmax(axis=1) == df[\"label\"]).mean()"
      ]
    },
    {
      "cell_type": "markdown",
      "metadata": {
        "id": "s--ejh5Jpjix"
      },
      "source": [
        "Alternatively, you could use `os.path.commonprefix` to extract `prompt_prefix` from a complete set of prompts."
      ]
    },
    {
      "cell_type": "code",
      "execution_count": 41,
      "metadata": {
        "id": "KAxPtePszBnN"
      },
      "outputs": [],
      "source": [
        "import os"
      ]
    },
    {
      "cell_type": "code",
      "execution_count": 42,
      "metadata": {
        "id": "NvCf7BTuzD6J"
      },
      "outputs": [],
      "source": [
        "prompts = [prompt_prefix + prompt for prompt in df[\"prompt\"]]"
      ]
    },
    {
      "cell_type": "code",
      "execution_count": 43,
      "metadata": {
        "colab": {
          "base_uri": "https://localhost:8080/"
        },
        "id": "AjKWQDfqzjJg",
        "outputId": "c6c24097-7245-49d2-baa5-8893a444afd9"
      },
      "outputs": [
        {
          "name": "stdout",
          "output_type": "stream",
          "text": [
            "67.4 µs ± 18.7 µs per loop (mean ± std. dev. of 7 runs, 10000 loops each)\n"
          ]
        }
      ],
      "source": [
        "%timeit os.path.commonprefix(prompts)"
      ]
    },
    {
      "cell_type": "code",
      "execution_count": 44,
      "metadata": {
        "colab": {
          "base_uri": "https://localhost:8080/",
          "height": 53
        },
        "id": "cb0zy-lKzpXs",
        "outputId": "26c649f8-9ba8-455a-f4a4-5f38920db0c9"
      },
      "outputs": [
        {
          "data": {
            "application/vnd.google.colaboratory.intrinsic+json": {
              "type": "string"
            },
            "text/plain": [
              "'Every news article can be categorized as either world, sports, business, or science.\\nThe following text was taken from a news article:\\n\"'"
            ]
          },
          "execution_count": 44,
          "metadata": {},
          "output_type": "execute_result"
        }
      ],
      "source": [
        "os.path.commonprefix(prompts)"
      ]
    }
  ],
  "metadata": {
    "accelerator": "GPU",
    "colab": {
      "gpuType": "T4",
      "provenance": [],
      "toc_visible": true
    },
    "kernelspec": {
      "display_name": "Python 3",
      "name": "python3"
    },
    "language_info": {
      "codemirror_mode": {
        "name": "ipython",
        "version": 3
      },
      "file_extension": ".py",
      "mimetype": "text/x-python",
      "name": "python",
      "nbconvert_exporter": "python",
      "pygments_lexer": "ipython3",
      "version": "3.11.5"
    },
    "orig_nbformat": 4,
    "vscode": {
      "interpreter": {
        "hash": "68daa88f78f5c448099edb3a6d3dee27486a6add8824ae1cbe4c903ef8faec70"
      }
    },
    "widgets": {
      "application/vnd.jupyter.widget-state+json": {
        "0e279f77da0a47ee8d36d6968e827c93": {
          "model_module": "@jupyter-widgets/controls",
          "model_module_version": "1.5.0",
          "model_name": "DescriptionStyleModel",
          "state": {
            "_model_module": "@jupyter-widgets/controls",
            "_model_module_version": "1.5.0",
            "_model_name": "DescriptionStyleModel",
            "_view_count": null,
            "_view_module": "@jupyter-widgets/base",
            "_view_module_version": "1.2.0",
            "_view_name": "StyleView",
            "description_width": ""
          }
        },
        "23207ff982644501a357b4616e198990": {
          "model_module": "@jupyter-widgets/controls",
          "model_module_version": "1.5.0",
          "model_name": "DescriptionStyleModel",
          "state": {
            "_model_module": "@jupyter-widgets/controls",
            "_model_module_version": "1.5.0",
            "_model_name": "DescriptionStyleModel",
            "_view_count": null,
            "_view_module": "@jupyter-widgets/base",
            "_view_module_version": "1.2.0",
            "_view_name": "StyleView",
            "description_width": ""
          }
        },
        "46bdf8c9e4eb487593728a4fef9ebe1b": {
          "model_module": "@jupyter-widgets/base",
          "model_module_version": "1.2.0",
          "model_name": "LayoutModel",
          "state": {
            "_model_module": "@jupyter-widgets/base",
            "_model_module_version": "1.2.0",
            "_model_name": "LayoutModel",
            "_view_count": null,
            "_view_module": "@jupyter-widgets/base",
            "_view_module_version": "1.2.0",
            "_view_name": "LayoutView",
            "align_content": null,
            "align_items": null,
            "align_self": null,
            "border": null,
            "bottom": null,
            "display": null,
            "flex": null,
            "flex_flow": null,
            "grid_area": null,
            "grid_auto_columns": null,
            "grid_auto_flow": null,
            "grid_auto_rows": null,
            "grid_column": null,
            "grid_gap": null,
            "grid_row": null,
            "grid_template_areas": null,
            "grid_template_columns": null,
            "grid_template_rows": null,
            "height": null,
            "justify_content": null,
            "justify_items": null,
            "left": null,
            "margin": null,
            "max_height": null,
            "max_width": null,
            "min_height": null,
            "min_width": null,
            "object_fit": null,
            "object_position": null,
            "order": null,
            "overflow": null,
            "overflow_x": null,
            "overflow_y": null,
            "padding": null,
            "right": null,
            "top": null,
            "visibility": null,
            "width": null
          }
        },
        "666de6f16ef943e9b10637d15d49d8c2": {
          "model_module": "@jupyter-widgets/controls",
          "model_module_version": "1.5.0",
          "model_name": "ProgressStyleModel",
          "state": {
            "_model_module": "@jupyter-widgets/controls",
            "_model_module_version": "1.5.0",
            "_model_name": "ProgressStyleModel",
            "_view_count": null,
            "_view_module": "@jupyter-widgets/base",
            "_view_module_version": "1.2.0",
            "_view_name": "StyleView",
            "bar_color": null,
            "description_width": ""
          }
        },
        "7dd29e969ed94945b54e9c119039b267": {
          "model_module": "@jupyter-widgets/base",
          "model_module_version": "1.2.0",
          "model_name": "LayoutModel",
          "state": {
            "_model_module": "@jupyter-widgets/base",
            "_model_module_version": "1.2.0",
            "_model_name": "LayoutModel",
            "_view_count": null,
            "_view_module": "@jupyter-widgets/base",
            "_view_module_version": "1.2.0",
            "_view_name": "LayoutView",
            "align_content": null,
            "align_items": null,
            "align_self": null,
            "border": null,
            "bottom": null,
            "display": null,
            "flex": null,
            "flex_flow": null,
            "grid_area": null,
            "grid_auto_columns": null,
            "grid_auto_flow": null,
            "grid_auto_rows": null,
            "grid_column": null,
            "grid_gap": null,
            "grid_row": null,
            "grid_template_areas": null,
            "grid_template_columns": null,
            "grid_template_rows": null,
            "height": null,
            "justify_content": null,
            "justify_items": null,
            "left": null,
            "margin": null,
            "max_height": null,
            "max_width": null,
            "min_height": null,
            "min_width": null,
            "object_fit": null,
            "object_position": null,
            "order": null,
            "overflow": null,
            "overflow_x": null,
            "overflow_y": null,
            "padding": null,
            "right": null,
            "top": null,
            "visibility": null,
            "width": null
          }
        },
        "ab435475dae24cba9be7809ee6003166": {
          "model_module": "@jupyter-widgets/base",
          "model_module_version": "1.2.0",
          "model_name": "LayoutModel",
          "state": {
            "_model_module": "@jupyter-widgets/base",
            "_model_module_version": "1.2.0",
            "_model_name": "LayoutModel",
            "_view_count": null,
            "_view_module": "@jupyter-widgets/base",
            "_view_module_version": "1.2.0",
            "_view_name": "LayoutView",
            "align_content": null,
            "align_items": null,
            "align_self": null,
            "border": null,
            "bottom": null,
            "display": null,
            "flex": null,
            "flex_flow": null,
            "grid_area": null,
            "grid_auto_columns": null,
            "grid_auto_flow": null,
            "grid_auto_rows": null,
            "grid_column": null,
            "grid_gap": null,
            "grid_row": null,
            "grid_template_areas": null,
            "grid_template_columns": null,
            "grid_template_rows": null,
            "height": null,
            "justify_content": null,
            "justify_items": null,
            "left": null,
            "margin": null,
            "max_height": null,
            "max_width": null,
            "min_height": null,
            "min_width": null,
            "object_fit": null,
            "object_position": null,
            "order": null,
            "overflow": null,
            "overflow_x": null,
            "overflow_y": null,
            "padding": null,
            "right": null,
            "top": null,
            "visibility": null,
            "width": null
          }
        },
        "ae20893be65e48a2898758aa8104371d": {
          "model_module": "@jupyter-widgets/base",
          "model_module_version": "1.2.0",
          "model_name": "LayoutModel",
          "state": {
            "_model_module": "@jupyter-widgets/base",
            "_model_module_version": "1.2.0",
            "_model_name": "LayoutModel",
            "_view_count": null,
            "_view_module": "@jupyter-widgets/base",
            "_view_module_version": "1.2.0",
            "_view_name": "LayoutView",
            "align_content": null,
            "align_items": null,
            "align_self": null,
            "border": null,
            "bottom": null,
            "display": null,
            "flex": null,
            "flex_flow": null,
            "grid_area": null,
            "grid_auto_columns": null,
            "grid_auto_flow": null,
            "grid_auto_rows": null,
            "grid_column": null,
            "grid_gap": null,
            "grid_row": null,
            "grid_template_areas": null,
            "grid_template_columns": null,
            "grid_template_rows": null,
            "height": null,
            "justify_content": null,
            "justify_items": null,
            "left": null,
            "margin": null,
            "max_height": null,
            "max_width": null,
            "min_height": null,
            "min_width": null,
            "object_fit": null,
            "object_position": null,
            "order": null,
            "overflow": null,
            "overflow_x": null,
            "overflow_y": null,
            "padding": null,
            "right": null,
            "top": null,
            "visibility": null,
            "width": null
          }
        },
        "b5b940e6b43d4bf5b1620ac8442416ef": {
          "model_module": "@jupyter-widgets/controls",
          "model_module_version": "1.5.0",
          "model_name": "HTMLModel",
          "state": {
            "_dom_classes": [],
            "_model_module": "@jupyter-widgets/controls",
            "_model_module_version": "1.5.0",
            "_model_name": "HTMLModel",
            "_view_count": null,
            "_view_module": "@jupyter-widgets/controls",
            "_view_module_version": "1.5.0",
            "_view_name": "HTMLView",
            "description": "",
            "description_tooltip": null,
            "layout": "IPY_MODEL_ae20893be65e48a2898758aa8104371d",
            "placeholder": "​",
            "style": "IPY_MODEL_23207ff982644501a357b4616e198990",
            "value": " 500/500 [04:03&lt;00:00,  2.22it/s]"
          }
        },
        "c3eef0670955493b8cfd75a606f0695e": {
          "model_module": "@jupyter-widgets/controls",
          "model_module_version": "1.5.0",
          "model_name": "FloatProgressModel",
          "state": {
            "_dom_classes": [],
            "_model_module": "@jupyter-widgets/controls",
            "_model_module_version": "1.5.0",
            "_model_name": "FloatProgressModel",
            "_view_count": null,
            "_view_module": "@jupyter-widgets/controls",
            "_view_module_version": "1.5.0",
            "_view_name": "ProgressView",
            "bar_style": "success",
            "description": "",
            "description_tooltip": null,
            "layout": "IPY_MODEL_7dd29e969ed94945b54e9c119039b267",
            "max": 500,
            "min": 0,
            "orientation": "horizontal",
            "style": "IPY_MODEL_666de6f16ef943e9b10637d15d49d8c2",
            "value": 500
          }
        },
        "f1699dc70ba84341a3ace264f0565971": {
          "model_module": "@jupyter-widgets/controls",
          "model_module_version": "1.5.0",
          "model_name": "HTMLModel",
          "state": {
            "_dom_classes": [],
            "_model_module": "@jupyter-widgets/controls",
            "_model_module_version": "1.5.0",
            "_model_name": "HTMLModel",
            "_view_count": null,
            "_view_module": "@jupyter-widgets/controls",
            "_view_module_version": "1.5.0",
            "_view_name": "HTMLView",
            "description": "",
            "description_tooltip": null,
            "layout": "IPY_MODEL_46bdf8c9e4eb487593728a4fef9ebe1b",
            "placeholder": "​",
            "style": "IPY_MODEL_0e279f77da0a47ee8d36d6968e827c93",
            "value": "conditional log-probs: 100%"
          }
        },
        "fe28ae1a7176444aa9e5fead8b3a429f": {
          "model_module": "@jupyter-widgets/controls",
          "model_module_version": "1.5.0",
          "model_name": "HBoxModel",
          "state": {
            "_dom_classes": [],
            "_model_module": "@jupyter-widgets/controls",
            "_model_module_version": "1.5.0",
            "_model_name": "HBoxModel",
            "_view_count": null,
            "_view_module": "@jupyter-widgets/controls",
            "_view_module_version": "1.5.0",
            "_view_name": "HBoxView",
            "box_style": "",
            "children": [
              "IPY_MODEL_f1699dc70ba84341a3ace264f0565971",
              "IPY_MODEL_c3eef0670955493b8cfd75a606f0695e",
              "IPY_MODEL_b5b940e6b43d4bf5b1620ac8442416ef"
            ],
            "layout": "IPY_MODEL_ab435475dae24cba9be7809ee6003166"
          }
        }
      }
    }
  },
  "nbformat": 4,
  "nbformat_minor": 0
}
